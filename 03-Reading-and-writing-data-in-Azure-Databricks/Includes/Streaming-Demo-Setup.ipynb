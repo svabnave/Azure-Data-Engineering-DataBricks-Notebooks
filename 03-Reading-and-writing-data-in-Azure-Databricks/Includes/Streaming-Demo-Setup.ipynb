{
 "cells": [
  {
   "cell_type": "code",
   "execution_count": 0,
   "metadata": {
    "application/vnd.databricks.v1+cell": {
     "cellMetadata": {
      "byteLimit": 2048000,
      "rowLimit": 10000
     },
     "inputWidgets": {},
     "nuid": "c1c1c3c1-4d57-412b-bc7c-56df422c402a",
     "showTitle": false,
     "title": ""
    }
   },
   "outputs": [],
   "source": [
    "%python\n",
    "from pyspark.sql.functions import col\n",
    "from pyspark.sql.types import StringType, DoubleType, LongType\n",
    "\n",
    "dbutils.fs.rm(userhome + \"/streaming-demo\", True)\n",
    "\n",
    "activityDataDF = (spark.read\n",
    "                  .json(\"/mnt/training/definitive-guide/data/activity-data-with-geo.json/\"))\n",
    "\n",
    "tempJson = spark.createDataFrame(activityDataDF.toJSON(), StringType()).withColumnRenamed(\"value\", \"body\")\n",
    "\n",
    "tempJson.write.mode(\"overwrite\").format(\"delta\").save(userhome + \"/streaming-demo\")\n",
    "\n",
    "activityStreamDF = (spark.readStream\n",
    "  .format(\"delta\")\n",
    "  .option(\"maxFilesPerTrigger\", 1)\n",
    "  .load(userhome + \"/streaming-demo\")\n",
    ")"
   ]
  }
 ],
 "metadata": {
  "application/vnd.databricks.v1+notebook": {
   "dashboards": [],
   "language": "python",
   "notebookMetadata": {
    "pythonIndentUnit": 4
   },
   "notebookName": "Streaming-Demo-Setup",
   "widgets": {}
  }
 },
 "nbformat": 4,
 "nbformat_minor": 0
}

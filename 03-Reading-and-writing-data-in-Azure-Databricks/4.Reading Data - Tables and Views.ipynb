{
 "cells": [
  {
   "cell_type": "markdown",
   "metadata": {
    "application/vnd.databricks.v1+cell": {
     "cellMetadata": {
      "byteLimit": 2048000,
      "rowLimit": 10000
     },
     "inputWidgets": {},
     "nuid": "e9cac146-ab85-4649-99e3-55f5feb2bfca",
     "showTitle": false,
     "title": ""
    }
   },
   "source": [
    "# Reading Data - Tables and Views\n",
    "\n",
    "**Technical Accomplishments:**\n",
    "* Demonstrate how to pre-register data sources in Azure Databricks.\n",
    "* Introduce temporary views over files.\n",
    "* Read data from tables/views.\n",
    "* Regarding `printRecordsPerPartition(..)`, it \n",
    "  * converts the specified `DataFrame` to an RDD\n",
    "  * counts the number of records in each partition\n",
    "  * prints the results to the console."
   ]
  },
  {
   "cell_type": "markdown",
   "metadata": {
    "application/vnd.databricks.v1+cell": {
     "cellMetadata": {
      "byteLimit": 2048000,
      "rowLimit": 10000
     },
     "inputWidgets": {},
     "nuid": "f357f081-d89e-4bb5-96a8-0d01a9aea98b",
     "showTitle": false,
     "title": ""
    }
   },
   "source": [
    "##![Spark Logo Tiny](https://files.training.databricks.com/images/105/logo_spark_tiny.png) Getting Started\n",
    "\n",
    "Run the following cell to configure our \"classroom.\""
   ]
  },
  {
   "cell_type": "code",
   "execution_count": 0,
   "metadata": {
    "application/vnd.databricks.v1+cell": {
     "cellMetadata": {
      "byteLimit": 2048000,
      "rowLimit": 10000
     },
     "inputWidgets": {},
     "nuid": "3b6f898e-72c3-4e1e-bf17-be0479fc15c7",
     "showTitle": false,
     "title": ""
    }
   },
   "outputs": [
    {
     "output_type": "display_data",
     "data": {
      "text/html": [
       "Initialized classroom variables & functions..."
      ]
     },
     "metadata": {
      "application/vnd.databricks.v1+output": {
       "addedWidgets": {},
       "arguments": {},
       "data": "Initialized classroom variables & functions...",
       "datasetInfos": [],
       "metadata": {
        "isDbfsCommandResult": false
       },
       "removedWidgets": [],
       "textData": null,
       "type": "htmlSandbox"
      }
     },
     "output_type": "display_data"
    },
    {
     "output_type": "display_data",
     "data": {
      "text/html": [
       "Mounted datasets to <b>/mnt/training</b> from <b>wasbs://training@dbtrainwesteurope.blob.core.windows.net/<b>"
      ]
     },
     "metadata": {
      "application/vnd.databricks.v1+output": {
       "addedWidgets": {},
       "arguments": {},
       "data": "Mounted datasets to <b>/mnt/training</b> from <b>wasbs://training@dbtrainwesteurope.blob.core.windows.net/<b>",
       "datasetInfos": [],
       "metadata": {
        "isDbfsCommandResult": false
       },
       "removedWidgets": [],
       "textData": null,
       "type": "htmlSandbox"
      }
     },
     "output_type": "display_data"
    }
   ],
   "source": [
    "%run \"./Includes/Classroom-Setup\""
   ]
  },
  {
   "cell_type": "code",
   "execution_count": 0,
   "metadata": {
    "application/vnd.databricks.v1+cell": {
     "cellMetadata": {
      "byteLimit": 2048000,
      "rowLimit": 10000
     },
     "inputWidgets": {},
     "nuid": "3781eed4-352d-4cd3-8a8e-3b9a8676a39c",
     "showTitle": false,
     "title": ""
    }
   },
   "outputs": [
    {
     "output_type": "stream",
     "name": "stdout",
     "output_type": "stream",
     "text": [
      "/mnt/training/ has been unmounted.\n"
     ]
    },
    {
     "output_type": "display_data",
     "data": {
      "text/html": [
       "Created user-specific database"
      ]
     },
     "metadata": {
      "application/vnd.databricks.v1+output": {
       "addedWidgets": {},
       "arguments": {},
       "data": "Created user-specific database",
       "datasetInfos": [],
       "metadata": {
        "isDbfsCommandResult": false
       },
       "removedWidgets": [],
       "textData": null,
       "type": "htmlSandbox"
      }
     },
     "output_type": "display_data"
    },
    {
     "output_type": "display_data",
     "data": {
      "text/html": [
       "Using the database <b style=\"color:green\">vishal_abnave_borregaard_com_db</b>."
      ]
     },
     "metadata": {
      "application/vnd.databricks.v1+output": {
       "addedWidgets": {},
       "arguments": {},
       "data": "Using the database <b style=\"color:green\">vishal_abnave_borregaard_com_db</b>.",
       "datasetInfos": [],
       "metadata": {
        "isDbfsCommandResult": false
       },
       "removedWidgets": [],
       "textData": null,
       "type": "htmlSandbox"
      }
     },
     "output_type": "display_data"
    }
   ],
   "source": [
    "# Mount \"/mnt/training\" again using \"%run \"./Includes/Dataset-Mounts-New\"\" if it is failed in \"./Includes/Classroom-Setup\"\n",
    "try:\n",
    "    files = dbutils.fs.ls(\"/mnt/training\")\n",
    "except:\n",
    "    dbutils.fs.unmount('/mnt/training/')\n"
   ]
  },
  {
   "cell_type": "code",
   "execution_count": 0,
   "metadata": {
    "application/vnd.databricks.v1+cell": {
     "cellMetadata": {
      "byteLimit": 2048000,
      "rowLimit": 10000
     },
     "inputWidgets": {},
     "nuid": "88b60479-35c2-49a0-a6b5-1ce0503e0a1c",
     "showTitle": false,
     "title": ""
    }
   },
   "outputs": [
    {
     "output_type": "display_data",
     "data": {
      "text/html": [
       "All done!"
      ]
     },
     "metadata": {
      "application/vnd.databricks.v1+output": {
       "addedWidgets": {},
       "arguments": {},
       "data": "All done!",
       "datasetInfos": [],
       "metadata": {},
       "removedWidgets": [],
       "textData": null,
       "type": "htmlSandbox"
      }
     },
     "output_type": "display_data"
    }
   ],
   "source": [
    "%run \"./Includes/Dataset-Mounts-New\""
   ]
  },
  {
   "cell_type": "code",
   "execution_count": 0,
   "metadata": {
    "application/vnd.databricks.v1+cell": {
     "cellMetadata": {
      "byteLimit": 2048000,
      "rowLimit": 10000
     },
     "inputWidgets": {},
     "nuid": "fdbeb9ae-befc-4c1e-ae0d-d15a0efd39df",
     "showTitle": false,
     "title": ""
    }
   },
   "outputs": [
    {
     "output_type": "stream",
     "name": "stdout",
     "output_type": "stream",
     "text": [
      "Datasets are mounted\n"
     ]
    },
    {
     "output_type": "display_data",
     "data": {
      "text/html": [
       "\n",
       "<div>Declared various utility methods:</div>\n",
       "<li>Declared <b style=\"color:green\">printRecordsPerPartition(<i>df:DataFrame</i>)</b> for diagnostics</li>\n",
       "<li>Declared <b style=\"color:green\">computeFileStats(<i>path:String</i>)</b> returns <b style=\"color:green\">(count:Long, bytes:Long)</b> for diagnostics</li>\n",
       "<li>Declared <b style=\"color:green\">tracker</b> for benchmarking</li>\n",
       "<li>Declared <b style=\"color:green\">cacheAs(<i>df:DataFrame, name:String, level:StorageLevel</i>)</b> for better debugging</li>\n",
       "<li>Declared <b style=\"color:green\">benchmarkCount(<i>lambda:DataFrame</i>)</b> returns <b style=\"color:green\">(df:DataFrame, total:Long, duration:Long)</b> for diagnostics</li>\n",
       "<li>Declared <b style=\"color:green\">untilStreamIsReady(<i>name:String</i>)</b> to control workflow</li>\n",
       "<br/>\n",
       "<div>All done!</div>\n"
      ]
     },
     "metadata": {
      "application/vnd.databricks.v1+output": {
       "addedWidgets": {},
       "arguments": {},
       "data": "\n<div>Declared various utility methods:</div>\n<li>Declared <b style=\"color:green\">printRecordsPerPartition(<i>df:DataFrame</i>)</b> for diagnostics</li>\n<li>Declared <b style=\"color:green\">computeFileStats(<i>path:String</i>)</b> returns <b style=\"color:green\">(count:Long, bytes:Long)</b> for diagnostics</li>\n<li>Declared <b style=\"color:green\">tracker</b> for benchmarking</li>\n<li>Declared <b style=\"color:green\">cacheAs(<i>df:DataFrame, name:String, level:StorageLevel</i>)</b> for better debugging</li>\n<li>Declared <b style=\"color:green\">benchmarkCount(<i>lambda:DataFrame</i>)</b> returns <b style=\"color:green\">(df:DataFrame, total:Long, duration:Long)</b> for diagnostics</li>\n<li>Declared <b style=\"color:green\">untilStreamIsReady(<i>name:String</i>)</b> to control workflow</li>\n<br/>\n<div>All done!</div>\n",
       "datasetInfos": [],
       "metadata": {
        "isDbfsCommandResult": false
       },
       "removedWidgets": [],
       "textData": null,
       "type": "htmlSandbox"
      }
     },
     "output_type": "display_data"
    }
   ],
   "source": [
    "%run \"./Includes/Utility-Methods\""
   ]
  },
  {
   "cell_type": "markdown",
   "metadata": {
    "application/vnd.databricks.v1+cell": {
     "cellMetadata": {
      "byteLimit": 2048000,
      "rowLimit": 10000
     },
     "inputWidgets": {},
     "nuid": "0e6ae65a-a737-4087-b08d-8fe577dcbb02",
     "showTitle": false,
     "title": ""
    }
   },
   "source": [
    "##![Spark Logo Tiny](https://files.training.databricks.com/images/105/logo_spark_tiny.png) Registering Tables in Databricks\n",
    "\n",
    "So far we've seen purely programmatic methods for reading in data.\n",
    "\n",
    "Databricks allows us to \"register\" the equivalent of \"tables\" so that they can be easily accessed by all users. \n",
    "\n",
    "It also allows us to specify configuration settings such as secret keys, tokens, username & passwords, etc without exposing that information to all users."
   ]
  },
  {
   "cell_type": "markdown",
   "metadata": {
    "application/vnd.databricks.v1+cell": {
     "cellMetadata": {
      "byteLimit": 2048000,
      "rowLimit": 10000
     },
     "inputWidgets": {},
     "nuid": "15414cba-8747-4b0b-b7d2-a50d0a78fb76",
     "showTitle": false,
     "title": ""
    }
   },
   "source": [
    "## Register a Table/View\n",
    "* Databrick's UI has built in support for working with a number of different data sources\n",
    "* New ones are being added regularly\n",
    "* In our case we are going to upload the file <a href=\"http://files.training.databricks.com/static/data/pageviews_by_second_example.tsv\">pageviews_by_second_example.tsv</a>\n",
    "* .. and then use the UI to create a table."
   ]
  },
  {
   "cell_type": "markdown",
   "metadata": {
    "application/vnd.databricks.v1+cell": {
     "cellMetadata": {
      "byteLimit": 2048000,
      "rowLimit": 10000
     },
     "inputWidgets": {},
     "nuid": "cbe306da-1272-4f5b-a07b-9872234db8f7",
     "showTitle": false,
     "title": ""
    }
   },
   "source": [
    "There are several benefits to this strategy:\n",
    "* Once setup, it never has to be done again\n",
    "* It is available for any user on the platform (permissions permitting)\n",
    "* Minimizes exposure of credentials\n",
    "* No real overhead to reading the schema (no infer-schema)\n",
    "* Easier to advertise available datasets to other users"
   ]
  },
  {
   "cell_type": "markdown",
   "metadata": {
    "application/vnd.databricks.v1+cell": {
     "cellMetadata": {
      "byteLimit": 2048000,
      "rowLimit": 10000
     },
     "inputWidgets": {},
     "nuid": "d6dae9ce-0355-4b8f-a320-48624f20660c",
     "showTitle": false,
     "title": ""
    }
   },
   "source": [
    "## Follow these steps to register a new Table\n",
    "\n",
    "**NOTE:** *It may be easiest for you to duplicate this browser tab so you can refer back to these steps.*\n",
    "\n",
    "1. Download the [pageviews_by_second_example.tsv](http://files.training.databricks.com/static/data/pageviews_by_second_example.tsv) file to your computer.\n",
    "2. Select **Data** in the left-hand menu.\n",
    "3. Select the database with your username.\n",
    "4. Select **Add Data** to create a new Table.\n",
    "\n",
    "  ![The Data menu item and Add Data button are both highlighted.](https://databricksdemostore.blob.core.windows.net/images/03-de-learning-path/data-add-data.png)\n",
    "\n",
    "5. In the Create New Table form, make sure **Upload File** is selected, then click on browse and select the [pageviews_by_second_example.tsv](http://files.training.databricks.com/static/data/pageviews_by_second_example.tsv) file is highlighted, or drag and drop it into the File box.\n",
    "6. Select **Create Table with UI**.\n",
    "\n",
    "  ![The previously listed form options are shown.](https://databricksdemostore.blob.core.windows.net/images/03-de-learning-path/create-new-table-1.png)\n",
    "\n",
    "7. Select your cluster, then select **Preview Table**.\n",
    "8. Under **Create in Database**, select the database with your username in the list. It is **important** that you do not skip this step. You can find the database name in the output of `cell 3` above.\n",
    "9. Select **Create Table**.\n",
    "\n",
    "  ![The previously listed form options are shown.](https://databricksdemostore.blob.core.windows.net/images/03-de-learning-path/create-new-table-2.png)"
   ]
  },
  {
   "cell_type": "markdown",
   "metadata": {
    "application/vnd.databricks.v1+cell": {
     "cellMetadata": {
      "byteLimit": 2048000,
      "rowLimit": 10000
     },
     "inputWidgets": {},
     "nuid": "8af18717-fd4c-42c2-8ba6-0e96f864b4f0",
     "showTitle": false,
     "title": ""
    }
   },
   "source": [
    "##![Spark Logo Tiny](https://files.training.databricks.com/images/105/logo_spark_tiny.png) Reading from a Table/View\n",
    "\n",
    "We can now read in the \"table\" **pageviews_by_seconds_example** as a `DataFrame` with one simple command (and then print the schema):"
   ]
  },
  {
   "cell_type": "code",
   "execution_count": 0,
   "metadata": {
    "application/vnd.databricks.v1+cell": {
     "cellMetadata": {
      "byteLimit": 2048000,
      "rowLimit": 10000
     },
     "inputWidgets": {},
     "nuid": "9a1a1247-7bcb-4020-812c-7aaffda60570",
     "showTitle": false,
     "title": ""
    }
   },
   "outputs": [
    {
     "output_type": "stream",
     "name": "stdout",
     "output_type": "stream",
     "text": [
      "root\n |-- timestamp: timestamp (nullable = true)\n |-- site: string (nullable = true)\n |-- requests: long (nullable = true)\n\n"
     ]
    }
   ],
   "source": [
    "# pageviewsBySecondsExampleDF = spark.read.table(\"wikipedia_pageviews_by_second_example_tsv\")\n",
    "pageviewsBySecondsExampleDF = spark.read.table(\"default.pageviews_by_second_example\")\n",
    "\n",
    "pageviewsBySecondsExampleDF.printSchema()"
   ]
  },
  {
   "cell_type": "markdown",
   "metadata": {
    "application/vnd.databricks.v1+cell": {
     "cellMetadata": {
      "byteLimit": 2048000,
      "rowLimit": 10000
     },
     "inputWidgets": {},
     "nuid": "93fb662e-9db3-4200-b1f2-86b326c7ec93",
     "showTitle": false,
     "title": ""
    }
   },
   "source": [
    "And of course we can now view that data as well:"
   ]
  },
  {
   "cell_type": "code",
   "execution_count": 0,
   "metadata": {
    "application/vnd.databricks.v1+cell": {
     "cellMetadata": {
      "byteLimit": 2048000,
      "rowLimit": 10000
     },
     "inputWidgets": {},
     "nuid": "fda645cc-09c2-4b64-a120-cc1f4b982d12",
     "showTitle": false,
     "title": ""
    }
   },
   "outputs": [
    {
     "output_type": "display_data",
     "data": {
      "text/html": [
       "<style scoped>\n",
       "  .table-result-container {\n",
       "    max-height: 300px;\n",
       "    overflow: auto;\n",
       "  }\n",
       "  table, th, td {\n",
       "    border: 1px solid black;\n",
       "    border-collapse: collapse;\n",
       "  }\n",
       "  th, td {\n",
       "    padding: 5px;\n",
       "  }\n",
       "  th {\n",
       "    text-align: left;\n",
       "  }\n",
       "</style><div class='table-result-container'><table class='table-result'><thead style='background-color: white'><tr><th>timestamp</th><th>site</th><th>requests</th></tr></thead><tbody><tr><td>2015-03-16T00:09:55.000+0000</td><td>mobile</td><td>1595</td></tr><tr><td>2015-03-16T00:10:39.000+0000</td><td>mobile</td><td>1544</td></tr><tr><td>2015-03-16T00:19:39.000+0000</td><td>desktop</td><td>2460</td></tr><tr><td>2015-03-16T00:38:11.000+0000</td><td>desktop</td><td>2237</td></tr><tr><td>2015-03-16T00:42:40.000+0000</td><td>mobile</td><td>1656</td></tr><tr><td>2015-03-16T00:52:24.000+0000</td><td>desktop</td><td>2452</td></tr><tr><td>2015-03-16T00:54:16.000+0000</td><td>mobile</td><td>1654</td></tr><tr><td>2015-03-16T01:18:11.000+0000</td><td>mobile</td><td>1720</td></tr><tr><td>2015-03-16T01:30:32.000+0000</td><td>desktop</td><td>2288</td></tr><tr><td>2015-03-16T01:32:24.000+0000</td><td>mobile</td><td>1609</td></tr><tr><td>2015-03-16T01:42:08.000+0000</td><td>desktop</td><td>2341</td></tr><tr><td>2015-03-16T01:45:53.000+0000</td><td>mobile</td><td>1704</td></tr><tr><td>2015-03-16T01:55:37.000+0000</td><td>desktop</td><td>2554</td></tr><tr><td>2015-03-16T01:57:29.000+0000</td><td>mobile</td><td>1825</td></tr><tr><td>2015-03-16T02:03:16.000+0000</td><td>desktop</td><td>2492</td></tr><tr><td>2015-03-16T02:10:32.000+0000</td><td>mobile</td><td>1667</td></tr><tr><td>2015-03-16T02:16:45.000+0000</td><td>desktop</td><td>2452</td></tr><tr><td>2015-03-16T02:19:32.000+0000</td><td>desktop</td><td>2412</td></tr><tr><td>2015-03-16T02:20:16.000+0000</td><td>desktop</td><td>2350</td></tr><tr><td>2015-03-16T02:22:08.000+0000</td><td>mobile</td><td>1802</td></tr><tr><td>2015-03-16T02:33:45.000+0000</td><td>desktop</td><td>2462</td></tr><tr><td>2015-03-16T02:35:37.000+0000</td><td>mobile</td><td>1580</td></tr><tr><td>2015-03-16T03:00:16.000+0000</td><td>mobile</td><td>1703</td></tr><tr><td>2015-03-16T03:06:29.000+0000</td><td>desktop</td><td>2476</td></tr><tr><td>2015-03-16T03:13:45.000+0000</td><td>mobile</td><td>1548</td></tr><tr><td>2015-03-16T03:19:58.000+0000</td><td>desktop</td><td>2265</td></tr><tr><td>2015-03-16T03:25:01.000+0000</td><td>desktop</td><td>2341</td></tr><tr><td>2015-03-16T03:38:30.000+0000</td><td>desktop</td><td>2198</td></tr><tr><td>2015-03-16T03:52:43.000+0000</td><td>desktop</td><td>2283</td></tr><tr><td>2015-03-16T03:57:22.000+0000</td><td>mobile</td><td>1410</td></tr><tr><td>2015-03-16T04:03:29.000+0000</td><td>mobile</td><td>1360</td></tr><tr><td>2015-03-16T04:16:58.000+0000</td><td>mobile</td><td>1383</td></tr><tr><td>2015-03-16T04:22:01.000+0000</td><td>mobile</td><td>1413</td></tr><tr><td>2015-03-16T04:28:14.000+0000</td><td>desktop</td><td>2374</td></tr><tr><td>2015-03-16T04:30:51.000+0000</td><td>desktop</td><td>2177</td></tr><tr><td>2015-03-16T04:35:30.000+0000</td><td>mobile</td><td>1265</td></tr><tr><td>2015-03-16T04:42:27.000+0000</td><td>desktop</td><td>2152</td></tr><tr><td>2015-03-16T04:47:06.000+0000</td><td>mobile</td><td>1391</td></tr><tr><td>2015-03-16T04:55:56.000+0000</td><td>desktop</td><td>2211</td></tr><tr><td>2015-03-16T05:06:22.000+0000</td><td>desktop</td><td>2105</td></tr><tr><td>2015-03-16T05:08:14.000+0000</td><td>mobile</td><td>1218</td></tr><tr><td>2015-03-16T05:10:51.000+0000</td><td>mobile</td><td>1208</td></tr><tr><td>2015-03-16T05:19:51.000+0000</td><td>desktop</td><td>2180</td></tr><tr><td>2015-03-16T05:20:35.000+0000</td><td>desktop</td><td>2238</td></tr><tr><td>2015-03-16T05:22:27.000+0000</td><td>mobile</td><td>1206</td></tr><tr><td>2015-03-16T05:35:56.000+0000</td><td>mobile</td><td>1134</td></tr><tr><td>2015-03-16T06:00:35.000+0000</td><td>mobile</td><td>1050</td></tr><tr><td>2015-03-16T06:09:35.000+0000</td><td>desktop</td><td>2224</td></tr><tr><td>2015-03-16T06:10:19.000+0000</td><td>desktop</td><td>2295</td></tr><tr><td>2015-03-16T06:23:48.000+0000</td><td>desktop</td><td>2020</td></tr><tr><td>2015-03-16T06:42:20.000+0000</td><td>desktop</td><td>2027</td></tr><tr><td>2015-03-16T06:44:12.000+0000</td><td>mobile</td><td>976</td></tr><tr><td>2015-03-16T06:57:41.000+0000</td><td>mobile</td><td>894</td></tr><tr><td>2015-03-16T07:01:56.000+0000</td><td>desktop</td><td>2211</td></tr><tr><td>2015-03-16T07:03:48.000+0000</td><td>mobile</td><td>916</td></tr><tr><td>2015-03-16T07:22:20.000+0000</td><td>mobile</td><td>977</td></tr><tr><td>2015-03-16T07:32:04.000+0000</td><td>desktop</td><td>2515</td></tr><tr><td>2015-03-16T07:45:33.000+0000</td><td>desktop</td><td>2155</td></tr><tr><td>2015-03-16T07:47:25.000+0000</td><td>mobile</td><td>878</td></tr><tr><td>2015-03-16T07:57:09.000+0000</td><td>desktop</td><td>2286</td></tr><tr><td>2015-03-16T08:06:41.000+0000</td><td>desktop</td><td>2227</td></tr><tr><td>2015-03-16T08:12:04.000+0000</td><td>mobile</td><td>948</td></tr><tr><td>2015-03-16T08:18:17.000+0000</td><td>desktop</td><td>2113</td></tr><tr><td>2015-03-16T08:20:54.000+0000</td><td>desktop</td><td>2227</td></tr><tr><td>2015-03-16T08:25:33.000+0000</td><td>mobile</td><td>881</td></tr><tr><td>2015-03-16T08:37:09.000+0000</td><td>mobile</td><td>876</td></tr><tr><td>2015-03-16T08:45:59.000+0000</td><td>desktop</td><td>2255</td></tr><tr><td>2015-03-16T08:51:02.000+0000</td><td>desktop</td><td>2339</td></tr><tr><td>2015-03-16T09:03:41.000+0000</td><td>mobile</td><td>839</td></tr><tr><td>2015-03-16T09:09:54.000+0000</td><td>desktop</td><td>2389</td></tr><tr><td>2015-03-16T09:10:38.000+0000</td><td>desktop</td><td>2411</td></tr><tr><td>2015-03-16T09:15:17.000+0000</td><td>mobile</td><td>866</td></tr><tr><td>2015-03-16T09:28:46.000+0000</td><td>mobile</td><td>867</td></tr><tr><td>2015-03-16T09:42:59.000+0000</td><td>mobile</td><td>863</td></tr><tr><td>2015-03-16T09:54:15.000+0000</td><td>desktop</td><td>2635</td></tr><tr><td>2015-03-16T10:02:50.000+0000</td><td>mobile</td><td>863</td></tr><tr><td>2015-03-16T10:14:26.000+0000</td><td>mobile</td><td>974</td></tr><tr><td>2015-03-16T10:27:55.000+0000</td><td>mobile</td><td>863</td></tr><tr><td>2015-03-16T10:39:11.000+0000</td><td>desktop</td><td>2391</td></tr><tr><td>2015-03-16T10:53:24.000+0000</td><td>desktop</td><td>2236</td></tr><tr><td>2015-03-16T10:58:03.000+0000</td><td>mobile</td><td>1088</td></tr><tr><td>2015-03-16T11:19:11.000+0000</td><td>mobile</td><td>1039</td></tr><tr><td>2015-03-16T11:31:32.000+0000</td><td>desktop</td><td>2538</td></tr><tr><td>2015-03-16T11:33:24.000+0000</td><td>mobile</td><td>981</td></tr><tr><td>2015-03-16T11:43:08.000+0000</td><td>desktop</td><td>2619</td></tr><tr><td>2015-03-16T11:46:53.000+0000</td><td>mobile</td><td>961</td></tr><tr><td>2015-03-16T11:56:37.000+0000</td><td>desktop</td><td>2647</td></tr><tr><td>2015-03-16T11:58:29.000+0000</td><td>mobile</td><td>1042</td></tr><tr><td>2015-03-16T12:07:03.000+0000</td><td>desktop</td><td>2588</td></tr><tr><td>2015-03-16T12:11:32.000+0000</td><td>mobile</td><td>988</td></tr><tr><td>2015-03-16T12:21:16.000+0000</td><td>desktop</td><td>2663</td></tr><tr><td>2015-03-16T12:23:08.000+0000</td><td>mobile</td><td>1141</td></tr><tr><td>2015-03-16T12:34:45.000+0000</td><td>desktop</td><td>2576</td></tr><tr><td>2015-03-16T12:36:37.000+0000</td><td>mobile</td><td>1037</td></tr><tr><td>2015-03-16T13:01:16.000+0000</td><td>mobile</td><td>1124</td></tr><tr><td>2015-03-16T13:07:29.000+0000</td><td>desktop</td><td>2871</td></tr><tr><td>2015-03-16T13:14:45.000+0000</td><td>mobile</td><td>1071</td></tr><tr><td>2015-03-16T13:26:01.000+0000</td><td>desktop</td><td>3211</td></tr><tr><td>2015-03-16T13:39:30.000+0000</td><td>desktop</td><td>2943</td></tr><tr><td>2015-03-16T13:43:01.000+0000</td><td>desktop</td><td>3200</td></tr></tbody></table></div>"
      ]
     },
     "metadata": {
      "application/vnd.databricks.v1+output": {
       "addedWidgets": {},
       "aggData": [],
       "aggError": "",
       "aggOverflow": false,
       "aggSchema": [],
       "aggSeriesLimitReached": false,
       "aggType": "",
       "arguments": {},
       "columnCustomDisplayInfos": {},
       "data": [
        [
         "2015-03-16T00:09:55.000+0000",
         "mobile",
         1595
        ],
        [
         "2015-03-16T00:10:39.000+0000",
         "mobile",
         1544
        ],
        [
         "2015-03-16T00:19:39.000+0000",
         "desktop",
         2460
        ],
        [
         "2015-03-16T00:38:11.000+0000",
         "desktop",
         2237
        ],
        [
         "2015-03-16T00:42:40.000+0000",
         "mobile",
         1656
        ],
        [
         "2015-03-16T00:52:24.000+0000",
         "desktop",
         2452
        ],
        [
         "2015-03-16T00:54:16.000+0000",
         "mobile",
         1654
        ],
        [
         "2015-03-16T01:18:11.000+0000",
         "mobile",
         1720
        ],
        [
         "2015-03-16T01:30:32.000+0000",
         "desktop",
         2288
        ],
        [
         "2015-03-16T01:32:24.000+0000",
         "mobile",
         1609
        ],
        [
         "2015-03-16T01:42:08.000+0000",
         "desktop",
         2341
        ],
        [
         "2015-03-16T01:45:53.000+0000",
         "mobile",
         1704
        ],
        [
         "2015-03-16T01:55:37.000+0000",
         "desktop",
         2554
        ],
        [
         "2015-03-16T01:57:29.000+0000",
         "mobile",
         1825
        ],
        [
         "2015-03-16T02:03:16.000+0000",
         "desktop",
         2492
        ],
        [
         "2015-03-16T02:10:32.000+0000",
         "mobile",
         1667
        ],
        [
         "2015-03-16T02:16:45.000+0000",
         "desktop",
         2452
        ],
        [
         "2015-03-16T02:19:32.000+0000",
         "desktop",
         2412
        ],
        [
         "2015-03-16T02:20:16.000+0000",
         "desktop",
         2350
        ],
        [
         "2015-03-16T02:22:08.000+0000",
         "mobile",
         1802
        ],
        [
         "2015-03-16T02:33:45.000+0000",
         "desktop",
         2462
        ],
        [
         "2015-03-16T02:35:37.000+0000",
         "mobile",
         1580
        ],
        [
         "2015-03-16T03:00:16.000+0000",
         "mobile",
         1703
        ],
        [
         "2015-03-16T03:06:29.000+0000",
         "desktop",
         2476
        ],
        [
         "2015-03-16T03:13:45.000+0000",
         "mobile",
         1548
        ],
        [
         "2015-03-16T03:19:58.000+0000",
         "desktop",
         2265
        ],
        [
         "2015-03-16T03:25:01.000+0000",
         "desktop",
         2341
        ],
        [
         "2015-03-16T03:38:30.000+0000",
         "desktop",
         2198
        ],
        [
         "2015-03-16T03:52:43.000+0000",
         "desktop",
         2283
        ],
        [
         "2015-03-16T03:57:22.000+0000",
         "mobile",
         1410
        ],
        [
         "2015-03-16T04:03:29.000+0000",
         "mobile",
         1360
        ],
        [
         "2015-03-16T04:16:58.000+0000",
         "mobile",
         1383
        ],
        [
         "2015-03-16T04:22:01.000+0000",
         "mobile",
         1413
        ],
        [
         "2015-03-16T04:28:14.000+0000",
         "desktop",
         2374
        ],
        [
         "2015-03-16T04:30:51.000+0000",
         "desktop",
         2177
        ],
        [
         "2015-03-16T04:35:30.000+0000",
         "mobile",
         1265
        ],
        [
         "2015-03-16T04:42:27.000+0000",
         "desktop",
         2152
        ],
        [
         "2015-03-16T04:47:06.000+0000",
         "mobile",
         1391
        ],
        [
         "2015-03-16T04:55:56.000+0000",
         "desktop",
         2211
        ],
        [
         "2015-03-16T05:06:22.000+0000",
         "desktop",
         2105
        ],
        [
         "2015-03-16T05:08:14.000+0000",
         "mobile",
         1218
        ],
        [
         "2015-03-16T05:10:51.000+0000",
         "mobile",
         1208
        ],
        [
         "2015-03-16T05:19:51.000+0000",
         "desktop",
         2180
        ],
        [
         "2015-03-16T05:20:35.000+0000",
         "desktop",
         2238
        ],
        [
         "2015-03-16T05:22:27.000+0000",
         "mobile",
         1206
        ],
        [
         "2015-03-16T05:35:56.000+0000",
         "mobile",
         1134
        ],
        [
         "2015-03-16T06:00:35.000+0000",
         "mobile",
         1050
        ],
        [
         "2015-03-16T06:09:35.000+0000",
         "desktop",
         2224
        ],
        [
         "2015-03-16T06:10:19.000+0000",
         "desktop",
         2295
        ],
        [
         "2015-03-16T06:23:48.000+0000",
         "desktop",
         2020
        ],
        [
         "2015-03-16T06:42:20.000+0000",
         "desktop",
         2027
        ],
        [
         "2015-03-16T06:44:12.000+0000",
         "mobile",
         976
        ],
        [
         "2015-03-16T06:57:41.000+0000",
         "mobile",
         894
        ],
        [
         "2015-03-16T07:01:56.000+0000",
         "desktop",
         2211
        ],
        [
         "2015-03-16T07:03:48.000+0000",
         "mobile",
         916
        ],
        [
         "2015-03-16T07:22:20.000+0000",
         "mobile",
         977
        ],
        [
         "2015-03-16T07:32:04.000+0000",
         "desktop",
         2515
        ],
        [
         "2015-03-16T07:45:33.000+0000",
         "desktop",
         2155
        ],
        [
         "2015-03-16T07:47:25.000+0000",
         "mobile",
         878
        ],
        [
         "2015-03-16T07:57:09.000+0000",
         "desktop",
         2286
        ],
        [
         "2015-03-16T08:06:41.000+0000",
         "desktop",
         2227
        ],
        [
         "2015-03-16T08:12:04.000+0000",
         "mobile",
         948
        ],
        [
         "2015-03-16T08:18:17.000+0000",
         "desktop",
         2113
        ],
        [
         "2015-03-16T08:20:54.000+0000",
         "desktop",
         2227
        ],
        [
         "2015-03-16T08:25:33.000+0000",
         "mobile",
         881
        ],
        [
         "2015-03-16T08:37:09.000+0000",
         "mobile",
         876
        ],
        [
         "2015-03-16T08:45:59.000+0000",
         "desktop",
         2255
        ],
        [
         "2015-03-16T08:51:02.000+0000",
         "desktop",
         2339
        ],
        [
         "2015-03-16T09:03:41.000+0000",
         "mobile",
         839
        ],
        [
         "2015-03-16T09:09:54.000+0000",
         "desktop",
         2389
        ],
        [
         "2015-03-16T09:10:38.000+0000",
         "desktop",
         2411
        ],
        [
         "2015-03-16T09:15:17.000+0000",
         "mobile",
         866
        ],
        [
         "2015-03-16T09:28:46.000+0000",
         "mobile",
         867
        ],
        [
         "2015-03-16T09:42:59.000+0000",
         "mobile",
         863
        ],
        [
         "2015-03-16T09:54:15.000+0000",
         "desktop",
         2635
        ],
        [
         "2015-03-16T10:02:50.000+0000",
         "mobile",
         863
        ],
        [
         "2015-03-16T10:14:26.000+0000",
         "mobile",
         974
        ],
        [
         "2015-03-16T10:27:55.000+0000",
         "mobile",
         863
        ],
        [
         "2015-03-16T10:39:11.000+0000",
         "desktop",
         2391
        ],
        [
         "2015-03-16T10:53:24.000+0000",
         "desktop",
         2236
        ],
        [
         "2015-03-16T10:58:03.000+0000",
         "mobile",
         1088
        ],
        [
         "2015-03-16T11:19:11.000+0000",
         "mobile",
         1039
        ],
        [
         "2015-03-16T11:31:32.000+0000",
         "desktop",
         2538
        ],
        [
         "2015-03-16T11:33:24.000+0000",
         "mobile",
         981
        ],
        [
         "2015-03-16T11:43:08.000+0000",
         "desktop",
         2619
        ],
        [
         "2015-03-16T11:46:53.000+0000",
         "mobile",
         961
        ],
        [
         "2015-03-16T11:56:37.000+0000",
         "desktop",
         2647
        ],
        [
         "2015-03-16T11:58:29.000+0000",
         "mobile",
         1042
        ],
        [
         "2015-03-16T12:07:03.000+0000",
         "desktop",
         2588
        ],
        [
         "2015-03-16T12:11:32.000+0000",
         "mobile",
         988
        ],
        [
         "2015-03-16T12:21:16.000+0000",
         "desktop",
         2663
        ],
        [
         "2015-03-16T12:23:08.000+0000",
         "mobile",
         1141
        ],
        [
         "2015-03-16T12:34:45.000+0000",
         "desktop",
         2576
        ],
        [
         "2015-03-16T12:36:37.000+0000",
         "mobile",
         1037
        ],
        [
         "2015-03-16T13:01:16.000+0000",
         "mobile",
         1124
        ],
        [
         "2015-03-16T13:07:29.000+0000",
         "desktop",
         2871
        ],
        [
         "2015-03-16T13:14:45.000+0000",
         "mobile",
         1071
        ],
        [
         "2015-03-16T13:26:01.000+0000",
         "desktop",
         3211
        ],
        [
         "2015-03-16T13:39:30.000+0000",
         "desktop",
         2943
        ],
        [
         "2015-03-16T13:43:01.000+0000",
         "desktop",
         3200
        ]
       ],
       "datasetInfos": [],
       "dbfsResultPath": null,
       "isJsonSchema": true,
       "metadata": {},
       "overflow": false,
       "plotOptions": {
        "customPlotOptions": {},
        "displayType": "table",
        "pivotAggregation": null,
        "pivotColumns": null,
        "xColumns": null,
        "yColumns": null
       },
       "removedWidgets": [],
       "schema": [
        {
         "metadata": "{}",
         "name": "timestamp",
         "type": "\"timestamp\""
        },
        {
         "metadata": "{}",
         "name": "site",
         "type": "\"string\""
        },
        {
         "metadata": "{}",
         "name": "requests",
         "type": "\"long\""
        }
       ],
       "type": "table"
      }
     },
     "output_type": "display_data"
    }
   ],
   "source": [
    "display(pageviewsBySecondsExampleDF)"
   ]
  },
  {
   "cell_type": "markdown",
   "metadata": {
    "application/vnd.databricks.v1+cell": {
     "cellMetadata": {
      "byteLimit": 2048000,
      "rowLimit": 10000
     },
     "inputWidgets": {},
     "nuid": "85870c17-247f-45cc-a5b3-277e5e1ffb9a",
     "showTitle": false,
     "title": ""
    }
   },
   "source": [
    "### Review: Reading from Tables\n",
    "* No job is executed - the schema is stored in the table definition on Databricks.\n",
    "* The data types shown here are those we defined when we registered the table.\n",
    "* In our case, the file was uploaded to Databricks and is stored on the DBFS.\n",
    "  * If we used JDBC, it would open the connection to the database and read it in.\n",
    "  * If we used an object store (like what is backing the DBFS), it would read the data from source.\n",
    "* The \"registration\" of the table simply makes future access, or access by multiple users easier.\n",
    "* The users of the notebook cannot see username and passwords, secret keys, tokens, etc."
   ]
  },
  {
   "cell_type": "markdown",
   "metadata": {
    "application/vnd.databricks.v1+cell": {
     "cellMetadata": {
      "byteLimit": 2048000,
      "rowLimit": 10000
     },
     "inputWidgets": {},
     "nuid": "28fed888-e4a5-469e-8607-672eed1f39dc",
     "showTitle": false,
     "title": ""
    }
   },
   "source": [
    "Let's take a look at some of the other details of the `DataFrame` we just created for comparison sake."
   ]
  },
  {
   "cell_type": "code",
   "execution_count": 0,
   "metadata": {
    "application/vnd.databricks.v1+cell": {
     "cellMetadata": {
      "byteLimit": 2048000,
      "rowLimit": 10000
     },
     "inputWidgets": {},
     "nuid": "6394637a-5e63-47f8-8f89-d3341027cec0",
     "showTitle": false,
     "title": ""
    }
   },
   "outputs": [
    {
     "output_type": "stream",
     "name": "stdout",
     "output_type": "stream",
     "text": [
      "Partitions: 1\nPer-Partition Counts\n#1: 100\n--------------------------------------------------------------------------------\n"
     ]
    }
   ],
   "source": [
    "print(\"Partitions: \" + str(pageviewsBySecondsExampleDF.rdd.getNumPartitions()))\n",
    "printRecordsPerPartition(pageviewsBySecondsExampleDF)\n",
    "print(\"-\"*80)"
   ]
  },
  {
   "cell_type": "markdown",
   "metadata": {
    "application/vnd.databricks.v1+cell": {
     "cellMetadata": {
      "byteLimit": 2048000,
      "rowLimit": 10000
     },
     "inputWidgets": {},
     "nuid": "ae69b78a-0b83-46c5-8843-a09aca4aa9f7",
     "showTitle": false,
     "title": ""
    }
   },
   "source": [
    "##![Spark Logo Tiny](https://files.training.databricks.com/images/105/logo_spark_tiny.png) Temporary Views\n",
    "\n",
    "Tables that are loadable by the call `spark.read.table(..)` are also accessible through the SQL APIs.\n",
    "\n",
    "For example, we already used Databricks to expose **pageviews_by_second_example_tsv** as a table/view."
   ]
  },
  {
   "cell_type": "code",
   "execution_count": 0,
   "metadata": {
    "application/vnd.databricks.v1+cell": {
     "cellMetadata": {
      "byteLimit": 2048000,
      "implicitDf": true,
      "rowLimit": 10000
     },
     "inputWidgets": {},
     "nuid": "27233e93-bfa7-4d9e-8882-d8185699929f",
     "showTitle": false,
     "title": ""
    }
   },
   "outputs": [
    {
     "output_type": "display_data",
     "data": {
      "text/html": [
       "<style scoped>\n",
       "  .table-result-container {\n",
       "    max-height: 300px;\n",
       "    overflow: auto;\n",
       "  }\n",
       "  table, th, td {\n",
       "    border: 1px solid black;\n",
       "    border-collapse: collapse;\n",
       "  }\n",
       "  th, td {\n",
       "    padding: 5px;\n",
       "  }\n",
       "  th {\n",
       "    text-align: left;\n",
       "  }\n",
       "</style><div class='table-result-container'><table class='table-result'><thead style='background-color: white'><tr><th>timestamp</th><th>site</th><th>requests</th></tr></thead><tbody><tr><td>2015-03-16T00:09:55.000+0000</td><td>mobile</td><td>1595</td></tr><tr><td>2015-03-16T00:10:39.000+0000</td><td>mobile</td><td>1544</td></tr><tr><td>2015-03-16T00:19:39.000+0000</td><td>desktop</td><td>2460</td></tr><tr><td>2015-03-16T00:38:11.000+0000</td><td>desktop</td><td>2237</td></tr><tr><td>2015-03-16T00:42:40.000+0000</td><td>mobile</td><td>1656</td></tr></tbody></table></div>"
      ]
     },
     "metadata": {
      "application/vnd.databricks.v1+output": {
       "addedWidgets": {},
       "aggData": [],
       "aggError": "",
       "aggOverflow": false,
       "aggSchema": [],
       "aggSeriesLimitReached": false,
       "aggType": "",
       "arguments": {},
       "columnCustomDisplayInfos": {},
       "data": [
        [
         "2015-03-16T00:09:55.000+0000",
         "mobile",
         1595
        ],
        [
         "2015-03-16T00:10:39.000+0000",
         "mobile",
         1544
        ],
        [
         "2015-03-16T00:19:39.000+0000",
         "desktop",
         2460
        ],
        [
         "2015-03-16T00:38:11.000+0000",
         "desktop",
         2237
        ],
        [
         "2015-03-16T00:42:40.000+0000",
         "mobile",
         1656
        ]
       ],
       "datasetInfos": [],
       "dbfsResultPath": null,
       "isJsonSchema": true,
       "metadata": {},
       "overflow": false,
       "plotOptions": {
        "customPlotOptions": {},
        "displayType": "table",
        "pivotAggregation": null,
        "pivotColumns": null,
        "xColumns": null,
        "yColumns": null
       },
       "removedWidgets": [],
       "schema": [
        {
         "metadata": "{}",
         "name": "timestamp",
         "type": "\"timestamp\""
        },
        {
         "metadata": "{}",
         "name": "site",
         "type": "\"string\""
        },
        {
         "metadata": "{}",
         "name": "requests",
         "type": "\"long\""
        }
       ],
       "type": "table"
      }
     },
     "output_type": "display_data"
    }
   ],
   "source": [
    "%sql\n",
    "select * from default.pageviews_by_second_example limit(5)"
   ]
  },
  {
   "cell_type": "markdown",
   "metadata": {
    "application/vnd.databricks.v1+cell": {
     "cellMetadata": {
      "byteLimit": 2048000,
      "rowLimit": 10000
     },
     "inputWidgets": {},
     "nuid": "d00d0631-3a04-4921-808a-fe1d90a86573",
     "showTitle": false,
     "title": ""
    }
   },
   "source": [
    "You can also take an existing `DataFrame` and register it as a view exposing it as a table to the SQL API.\n",
    "\n",
    "If you recall from earlier, we have an instance called `parquetDF`.\n",
    "\n",
    "We can create a [temporary] view with this call..."
   ]
  },
  {
   "cell_type": "code",
   "execution_count": 0,
   "metadata": {
    "application/vnd.databricks.v1+cell": {
     "cellMetadata": {
      "byteLimit": 2048000,
      "rowLimit": 10000
     },
     "inputWidgets": {},
     "nuid": "538533c7-5d9c-49db-8e4b-8d82744c12cc",
     "showTitle": false,
     "title": ""
    }
   },
   "outputs": [],
   "source": [
    "# create a DataFrame from a parquet file\n",
    "parquetFile = \"/mnt/training/wikipedia/pagecounts/staging_parquet_en_only_clean/\"\n",
    "parquetDF = spark.read.parquet(parquetFile)\n",
    "\n",
    "# create a temporary view from the resulting DataFrame\n",
    "parquetDF.createOrReplaceTempView(\"parquet_table\")"
   ]
  },
  {
   "cell_type": "markdown",
   "metadata": {
    "application/vnd.databricks.v1+cell": {
     "cellMetadata": {
      "byteLimit": 2048000,
      "rowLimit": 10000
     },
     "inputWidgets": {},
     "nuid": "1cff0cf4-fa95-4363-88fe-071de6c3650f",
     "showTitle": false,
     "title": ""
    }
   },
   "source": [
    "And now we can use the SQL API to reference that same `DataFrame` as the table **parquet_table**."
   ]
  },
  {
   "cell_type": "code",
   "execution_count": 0,
   "metadata": {
    "application/vnd.databricks.v1+cell": {
     "cellMetadata": {
      "byteLimit": 2048000,
      "implicitDf": true,
      "rowLimit": 10000
     },
     "inputWidgets": {},
     "nuid": "f58a30db-6258-4822-b9b7-2860805b31b2",
     "showTitle": false,
     "title": ""
    }
   },
   "outputs": [
    {
     "output_type": "display_data",
     "data": {
      "text/html": [
       "<style scoped>\n",
       "  .table-result-container {\n",
       "    max-height: 300px;\n",
       "    overflow: auto;\n",
       "  }\n",
       "  table, th, td {\n",
       "    border: 1px solid black;\n",
       "    border-collapse: collapse;\n",
       "  }\n",
       "  th, td {\n",
       "    padding: 5px;\n",
       "  }\n",
       "  th {\n",
       "    text-align: left;\n",
       "  }\n",
       "</style><div class='table-result-container'><table class='table-result'><thead style='background-color: white'><tr><th>project</th><th>article</th><th>requests</th><th>bytes_served</th></tr></thead><tbody><tr><td>en</td><td>Main_Page</td><td>865692</td><td>0</td></tr><tr><td>en.m</td><td>Main_Page</td><td>176949</td><td>0</td></tr><tr><td>en</td><td>Special:Search</td><td>76231</td><td>0</td></tr><tr><td>en.m</td><td>Donald_Trump</td><td>59847</td><td>0</td></tr><tr><td>en</td><td>Midas</td><td>55210</td><td>0</td></tr></tbody></table></div>"
      ]
     },
     "metadata": {
      "application/vnd.databricks.v1+output": {
       "addedWidgets": {},
       "aggData": [],
       "aggError": "",
       "aggOverflow": false,
       "aggSchema": [],
       "aggSeriesLimitReached": false,
       "aggType": "",
       "arguments": {},
       "columnCustomDisplayInfos": {},
       "data": [
        [
         "en",
         "Main_Page",
         865692,
         0
        ],
        [
         "en.m",
         "Main_Page",
         176949,
         0
        ],
        [
         "en",
         "Special:Search",
         76231,
         0
        ],
        [
         "en.m",
         "Donald_Trump",
         59847,
         0
        ],
        [
         "en",
         "Midas",
         55210,
         0
        ]
       ],
       "datasetInfos": [],
       "dbfsResultPath": null,
       "isJsonSchema": true,
       "metadata": {},
       "overflow": false,
       "plotOptions": {
        "customPlotOptions": {},
        "displayType": "table",
        "pivotAggregation": null,
        "pivotColumns": null,
        "xColumns": null,
        "yColumns": null
       },
       "removedWidgets": [],
       "schema": [
        {
         "metadata": "{}",
         "name": "project",
         "type": "\"string\""
        },
        {
         "metadata": "{}",
         "name": "article",
         "type": "\"string\""
        },
        {
         "metadata": "{}",
         "name": "requests",
         "type": "\"integer\""
        },
        {
         "metadata": "{}",
         "name": "bytes_served",
         "type": "\"long\""
        }
       ],
       "type": "table"
      }
     },
     "output_type": "display_data"
    }
   ],
   "source": [
    "%sql\n",
    "select * from parquet_table order by requests desc limit(5)"
   ]
  },
  {
   "cell_type": "markdown",
   "metadata": {
    "application/vnd.databricks.v1+cell": {
     "cellMetadata": {
      "byteLimit": 2048000,
      "rowLimit": 10000
     },
     "inputWidgets": {},
     "nuid": "875e1a22-a347-4d25-bfe0-ae55faee8d7c",
     "showTitle": false,
     "title": ""
    }
   },
   "source": [
    "** *Note #1:* ** *The method createOrReplaceTempView(..) is bound to the SparkSession meaning it will be discarded once the session ends.*\n",
    "\n",
    "** *Note #2:* ** On the other hand, the method createOrReplaceGlobalTempView(..) is bound to the spark application.*\n",
    "\n",
    "*Or to put that another way, I can use createOrReplaceTempView(..) in this notebook only. However, I can call createOrReplaceGlobalTempView(..) in this notebook and then access it from another.*"
   ]
  },
  {
   "cell_type": "markdown",
   "metadata": {
    "application/vnd.databricks.v1+cell": {
     "cellMetadata": {
      "byteLimit": 2048000,
      "rowLimit": 10000
     },
     "inputWidgets": {},
     "nuid": "3039a3a8-1772-495a-b15f-bbfce646127c",
     "showTitle": false,
     "title": ""
    }
   },
   "source": [
    "## Next steps\n",
    "\n",
    "Start the next lesson, [Writing Data]($./5.Writing%20Data)"
   ]
  }
 ],
 "metadata": {
  "application/vnd.databricks.v1+notebook": {
   "dashboards": [],
   "language": "python",
   "notebookMetadata": {
    "mostRecentlyExecutedCommandWithImplicitDF": {
     "commandId": 545192420101932,
     "dataframes": [
      "_sqldf"
     ]
    },
    "pythonIndentUnit": 4
   },
   "notebookName": "4.Reading Data - Tables and Views",
   "widgets": {}
  }
 },
 "nbformat": 4,
 "nbformat_minor": 0
}

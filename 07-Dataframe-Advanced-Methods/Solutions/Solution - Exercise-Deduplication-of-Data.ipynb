{
 "cells": [
  {
   "cell_type": "markdown",
   "metadata": {
    "application/vnd.databricks.v1+cell": {
     "cellMetadata": {
      "byteLimit": 2048000,
      "rowLimit": 10000
     },
     "inputWidgets": {},
     "nuid": "5747383b-41bd-4c01-adb5-effae25939f1",
     "showTitle": false,
     "title": ""
    }
   },
   "source": [
    "# Lab Exercise Solution\n",
    "## De-Duping Data"
   ]
  },
  {
   "cell_type": "markdown",
   "metadata": {
    "application/vnd.databricks.v1+cell": {
     "cellMetadata": {
      "byteLimit": 2048000,
      "rowLimit": 10000
     },
     "inputWidgets": {},
     "nuid": "a9d8c5c5-b971-4b0c-962b-9c20c35b2739",
     "showTitle": false,
     "title": ""
    }
   },
   "source": [
    "-sandbox\n",
    "##![Spark Logo Tiny](https://files.training.databricks.com/images/105/logo_spark_tiny.png) Instructions\n",
    "\n",
    "In this exercise, we're doing ETL on a file we've received from some customer. That file contains data about people, including:\n",
    "\n",
    "* first, middle and last names\n",
    "* gender\n",
    "* birth date\n",
    "* Social Security number\n",
    "* salary\n",
    "\n",
    "But, as is unfortunately common in data we get from this customer, the file contains some duplicate records. Worse:\n",
    "\n",
    "* In some of the records, the names are mixed case (e.g., \"Carol\"), while in others, they are uppercase (e.g., \"CAROL\"). \n",
    "* The Social Security numbers aren't consistent, either. Some of them are hyphenated (e.g., \"992-83-4829\"), while others are missing hyphens (\"992834829\").\n",
    "\n",
    "The name fields are guaranteed to match, if you disregard character case, and the birth dates will also match. (The salaries will match, as well,\n",
    "and the Social Security Numbers *would* match, if they were somehow put in the same format).\n",
    "\n",
    "Your job is to remove the duplicate records. The specific requirements of your job are:\n",
    "\n",
    "* Remove duplicates. It doesn't matter which record you keep; it only matters that you keep one of them.\n",
    "* Preserve the data format of the columns. For example, if you write the first name column in all lower-case, you haven't met this requirement.\n",
    "* Write the result as a Parquet file, as designated by *destFile*.\n",
    "* The final Parquet \"file\" must contain 8 part files (8 files ending in \".parquet\").\n",
    "\n",
    "<img alt=\"Hint\" title=\"Hint\" style=\"vertical-align: text-bottom; position: relative; height:1.75em; top:0.3em\" src=\"https://files.training.databricks.com/static/images/icon-light-bulb.svg\"/>&nbsp;**Hint:** The initial dataset contains 103,000 records.<br/>\n",
    "The de-duplicated result haves 100,000 records."
   ]
  },
  {
   "cell_type": "markdown",
   "metadata": {
    "application/vnd.databricks.v1+cell": {
     "cellMetadata": {
      "byteLimit": 2048000,
      "rowLimit": 10000
     },
     "inputWidgets": {},
     "nuid": "f07ad1b0-8317-483a-8639-75e2ca548377",
     "showTitle": false,
     "title": ""
    }
   },
   "source": [
    "##![Spark Logo Tiny](https://files.training.databricks.com/images/105/logo_spark_tiny.png) Getting Started\n",
    "\n",
    "Run the following cell to configure our \"classroom.\""
   ]
  },
  {
   "cell_type": "code",
   "execution_count": 0,
   "metadata": {
    "application/vnd.databricks.v1+cell": {
     "cellMetadata": {
      "byteLimit": 2048000,
      "rowLimit": 10000
     },
     "inputWidgets": {},
     "nuid": "161844cf-fae2-4308-9ef9-fad115b0ec93",
     "showTitle": false,
     "title": ""
    }
   },
   "outputs": [
    {
     "output_type": "display_data",
     "data": {
      "text/html": [
       "Initialized classroom variables & functions..."
      ]
     },
     "metadata": {
      "application/vnd.databricks.v1+output": {
       "addedWidgets": {},
       "arguments": {},
       "data": "Initialized classroom variables & functions...",
       "datasetInfos": [],
       "metadata": {
        "isDbfsCommandResult": false
       },
       "removedWidgets": [],
       "textData": null,
       "type": "htmlSandbox"
      }
     },
     "output_type": "display_data"
    }
   ],
   "source": [
    "%run \"../Includes/Classroom-Setup\""
   ]
  },
  {
   "cell_type": "code",
   "execution_count": 0,
   "metadata": {
    "application/vnd.databricks.v1+cell": {
     "cellMetadata": {
      "byteLimit": 2048000,
      "rowLimit": 10000
     },
     "inputWidgets": {},
     "nuid": "4ef3fd43-2daa-4d28-8f6d-169ebbdfad99",
     "showTitle": false,
     "title": ""
    }
   },
   "outputs": [
    {
     "output_type": "stream",
     "name": "stdout",
     "output_type": "stream",
     "text": [
      "/mnt/training/ has been unmounted.\n"
     ]
    },
    {
     "output_type": "display_data",
     "data": {
      "text/html": [
       "Mounted datasets to <b>/mnt/training</b> from <b>wasbs://training@dbtrainwesteurope.blob.core.windows.net/<b>"
      ]
     },
     "metadata": {
      "application/vnd.databricks.v1+output": {
       "addedWidgets": {},
       "arguments": {},
       "data": "Mounted datasets to <b>/mnt/training</b> from <b>wasbs://training@dbtrainwesteurope.blob.core.windows.net/<b>",
       "datasetInfos": [],
       "metadata": {
        "isDbfsCommandResult": false
       },
       "removedWidgets": [],
       "textData": null,
       "type": "htmlSandbox"
      }
     },
     "output_type": "display_data"
    }
   ],
   "source": [
    "# Mount \"/mnt/training\" again using \"%run \"./Includes/Dataset-Mounts-New\"\" if it is failed in \"./Includes/Classroom-Setup\"\n",
    "try:\n",
    "    files = dbutils.fs.ls(\"/mnt/training\")\n",
    "except:\n",
    "    dbutils.fs.unmount('/mnt/training/')\n"
   ]
  },
  {
   "cell_type": "code",
   "execution_count": 0,
   "metadata": {
    "application/vnd.databricks.v1+cell": {
     "cellMetadata": {
      "byteLimit": 2048000,
      "rowLimit": 10000
     },
     "inputWidgets": {},
     "nuid": "a7944b80-9975-4a94-8b3f-1c3195396e02",
     "showTitle": false,
     "title": ""
    }
   },
   "outputs": [
    {
     "output_type": "display_data",
     "data": {
      "text/html": [
       "Created user-specific database"
      ]
     },
     "metadata": {
      "application/vnd.databricks.v1+output": {
       "addedWidgets": {},
       "arguments": {},
       "data": "Created user-specific database",
       "datasetInfos": [],
       "metadata": {
        "isDbfsCommandResult": false
       },
       "removedWidgets": [],
       "textData": null,
       "type": "htmlSandbox"
      }
     },
     "output_type": "display_data"
    },
    {
     "output_type": "display_data",
     "data": {
      "text/html": [
       "Using the database <b style=\"color:green\">vishal_abnave_borregaard_com_db</b>."
      ]
     },
     "metadata": {
      "application/vnd.databricks.v1+output": {
       "addedWidgets": {},
       "arguments": {},
       "data": "Using the database <b style=\"color:green\">vishal_abnave_borregaard_com_db</b>.",
       "datasetInfos": [],
       "metadata": {
        "isDbfsCommandResult": false
       },
       "removedWidgets": [],
       "textData": null,
       "type": "htmlSandbox"
      }
     },
     "output_type": "display_data"
    },
    {
     "output_type": "display_data",
     "data": {
      "text/html": [
       "All done!"
      ]
     },
     "metadata": {},
     "output_type": "display_data"
    }
   ],
   "source": [
    "%run \"../Includes/Dataset-Mounts-New\""
   ]
  },
  {
   "cell_type": "code",
   "execution_count": 0,
   "metadata": {
    "application/vnd.databricks.v1+cell": {
     "cellMetadata": {
      "byteLimit": 2048000,
      "rowLimit": 10000
     },
     "inputWidgets": {},
     "nuid": "c3f92d14-f5da-4b8b-a405-9b79549e28dd",
     "showTitle": false,
     "title": ""
    }
   },
   "outputs": [
    {
     "output_type": "stream",
     "name": "stdout",
     "output_type": "stream",
     "text": [
      "Datasets are mounted\n"
     ]
    },
    {
     "output_type": "display_data",
     "data": {
      "text/html": [
       "\n",
       "  <div>Initializing lab environment:</div>\n",
       "  <li>Declared <b style=\"color:green\">clearYourResults(<i>passedOnly:Boolean=true</i>)</b></li>\n",
       "  <li>Declared <b style=\"color:green\">validateYourSchema(<i>what:String, df:DataFrame, expColumnName:String, expColumnType:String</i>)</b></li>\n",
       "  <li>Declared <b style=\"color:green\">validateYourAnswer(<i>what:String, expectedHash:Int, answer:Any</i>)</b></li>\n",
       "  <li>Declared <b style=\"color:green\">summarizeYourResults()</b></li>\n",
       "  <li>Declared <b style=\"color:green\">logYourTest(<i>path:String, name:String, value:Double</i>)</b></li>\n",
       "  <li>Declared <b style=\"color:green\">loadYourTestResults(<i>path:String</i>)</b> returns <b style=\"color:green\">DataFrame</b></li>\n",
       "  <li>Declared <b style=\"color:green\">loadYourTestMap(<i>path:String</i>)</b> returns <b style=\"color:green\">Map[String,Double]</b></li>\n"
      ]
     },
     "metadata": {
      "application/vnd.databricks.v1+output": {
       "addedWidgets": {},
       "arguments": {},
       "data": "\n  <div>Initializing lab environment:</div>\n  <li>Declared <b style=\"color:green\">clearYourResults(<i>passedOnly:Boolean=true</i>)</b></li>\n  <li>Declared <b style=\"color:green\">validateYourSchema(<i>what:String, df:DataFrame, expColumnName:String, expColumnType:String</i>)</b></li>\n  <li>Declared <b style=\"color:green\">validateYourAnswer(<i>what:String, expectedHash:Int, answer:Any</i>)</b></li>\n  <li>Declared <b style=\"color:green\">summarizeYourResults()</b></li>\n  <li>Declared <b style=\"color:green\">logYourTest(<i>path:String, name:String, value:Double</i>)</b></li>\n  <li>Declared <b style=\"color:green\">loadYourTestResults(<i>path:String</i>)</b> returns <b style=\"color:green\">DataFrame</b></li>\n  <li>Declared <b style=\"color:green\">loadYourTestMap(<i>path:String</i>)</b> returns <b style=\"color:green\">Map[String,Double]</b></li>\n",
       "datasetInfos": [],
       "metadata": {
        "isDbfsCommandResult": false
       },
       "removedWidgets": [],
       "textData": null,
       "type": "htmlSandbox"
      }
     },
     "output_type": "display_data"
    }
   ],
   "source": [
    "%run \"../Includes/Initialize-Labs\""
   ]
  },
  {
   "cell_type": "markdown",
   "metadata": {
    "application/vnd.databricks.v1+cell": {
     "cellMetadata": {
      "byteLimit": 2048000,
      "rowLimit": 10000
     },
     "inputWidgets": {},
     "nuid": "6aa0b5fa-8004-4504-b126-a3e08cbf2f72",
     "showTitle": false,
     "title": ""
    }
   },
   "source": [
    "##![Spark Logo Tiny](https://files.training.databricks.com/images/105/logo_spark_tiny.png) Hints\n",
    "\n",
    "* Use the <a href=\"http://spark.apache.org/docs/latest/api/python/index.html\" target=\"_blank\">API docs</a>. Specifically, you might find \n",
    "  <a href=\"http://spark.apache.org/docs/latest/api/python/pyspark.sql.html#pyspark.sql.DataFrame\" target=\"_blank\">DataFrame</a> and\n",
    "  <a href=\"http://spark.apache.org/docs/latest/api/python/pyspark.sql.html#module-pyspark.sql.functions\" target=\"_blank\">functions</a> to be helpful.\n",
    "* It's helpful to look at the file first, so you can check the format. `dbutils.fs.head()` (or just `%fs head`) is a big help here."
   ]
  },
  {
   "cell_type": "code",
   "execution_count": 0,
   "metadata": {
    "application/vnd.databricks.v1+cell": {
     "cellMetadata": {
      "byteLimit": 2048000,
      "rowLimit": 10000
     },
     "inputWidgets": {},
     "nuid": "65052322-8cbe-459e-b9d4-43a24d239959",
     "showTitle": false,
     "title": ""
    }
   },
   "outputs": [
    {
     "output_type": "stream",
     "name": "stdout",
     "output_type": "stream",
     "text": [
      "[Truncated to first 65536 bytes]\nfirstName:middleName:lastName:gender:birthDate:salary:ssn\nEmanuel:Wallace:Panton:M:1988-03-04:101255:935-90-7627\nEloisa:Rubye:Cayouette:F:2000-06-20:204031:935-89-9009\nCathi:Svetlana:Prins:F:2012-12-22:35895:959-30-7957\nMitchel:Andres:Mozdzierz:M:1966-05-06:55108:989-27-8093\nAngla:Melba:Hartzheim:F:1938-07-26:13199:935-27-4276\nRachel:Marlin:Borremans:F:1923-02-23:67070:996-41-8616\nCatarina:Phylicia:Dominic:F:1969-09-29:201021:999-84-8888\nAntione:Randy:Hamacher:M:2004-03-05:271486:917-96-3554\nMadaline:Shawanda:Piszczek:F:1996-03-17:183944:963-87-9974\nLuciano:Norbert:Sarcone:M:1962-12-14:73069:909-96-1669\nNewton:Jose:Piacente:M:1969-11-05:264422:967-61-8575\nGretta:Jennefer:Dipinto:F:1921-10-28:118497:907-49-2510\nJenni:Janella:Mcquiston:F:1969-07-11:137418:932-55-7164\nMalena:Apryl:Kings:F:1980-01-08:98204:934-48-2334\nWilly:Russell:Merker:M:1967-10-10:41026:992-83-4829\nJami:Allen:Mulkerin:F:1958-08-08:236024:934-86-4126\nFernando:Lowell:Zebell:M:1955-07-03:246516:951-57-6196\nGarnet:Helaine:Edghill:F:1985-05-15:97125:979-42-4409\nSiu:Cherrie:Lechelt:F:2012-07-24:148331:906-85-3202\nRandal:Osvaldo:Torma:M:2013-12-17:275086:982-68-6906\nMyles:Stuart:Miskell:M:1928-05-17:280726:992-89-2715\nConrad:Donnie:Piatkowski:M:1920-11-17:59935:916-33-7831\nDarcel:Fleta:Czyrnik:F:1994-09-05:99641:995-95-8909\nJuliane:Hallie:Vuillemot:F:1972-01-11:203415:950-17-2657\nCordia:Estella:Scheiber:F:1924-03-13:214853:965-74-4739\nBryon:Isiah:Nazario:M:2002-02-26:201478:963-38-1755\nAlex:Gilbert:Trigueros:M:1990-12-30:271591:999-60-3232\nIrwin:Rene:Zalesky:M:1931-06-20:122599:974-53-6387\nDeandre:Brent:Bailor:M:1954-08-07:93429:920-78-9780\nCheree:Dorethea:Anspaugh:F:1985-01-17:278860:961-36-6578\nZachariah:Harris:Reemer:M:1924-12-16:238892:944-32-3013\nSee:Sharen:Howryla:F:1979-12-30:169570:925-12-1644\nMozella:Necole:Giannakopoulo:F:1993-08-24:40880:980-93-4844\nDavid:Tracy:Delatrinidad:M:1932-01-26:85003:993-37-2066\nMichel:Loren:Sandoz:M:1925-05-04:270046:948-56-4284\nGraham:Denny:Apresa:M:1966-07-14:209118:928-67-3592\nKattie:Sammie:Ercek:F:2002-07-26:211993:996-32-1564\nShaunna:Kathlene:Amunrud:F:1965-07-01:234090:916-53-6216\nLeeann:Madeleine:Clater:F:1976-10-26:100705:946-41-7003\nGarry:Lino:Galm:M:1934-08-14:168769:994-29-1678\nShelly:Marhta:Krenzke:F:1915-05-08:270492:967-71-8565\nShantelle:Zoe:Spicher:F:1952-12-11:183419:989-79-8274\nYessenia:Lucina:Fred:F:1967-04-21:131376:990-95-7077\nDel:Maynard:Dzurnak:M:1960-01-31:276319:938-46-9967\nMaximina:Kirsten:Barranco:F:2004-11-05:257482:938-70-3631\nShasta:Bette:Licausi:F:2006-05-26:273311:929-84-1247\nWendell:Bud:Landi:M:2012-03-06:61215:987-95-9502\nSabine:Petronila:Lambertson:F:1937-03-31:274044:916-95-8546\nLeonard:Filiberto:Sellberg:M:1982-05-25:264070:965-65-6038\nDemetrice:Flossie:Schehr:F:1958-03-16:245090:990-42-7824\nReyes:Gilberto:Schlabs:M:1997-07-11:252679:906-83-6847\nBernard:Reggie:Coache:M:1960-06-23:53020:941-56-6401\nLavette:Elouise:Riedinger:F:1950-11-21:51371:913-81-9468\nEdmund:Nicolas:Majocka:M:1974-05-26:298673:921-55-7816\nDeana:Marcie:Malle:F:2011-06-24:15388:973-52-9173\nClaudio:Leopoldo:Ealand:M:1916-01-14:158319:929-61-6825\nLucretia:Divina:Parnell:F:2011-05-30:41054:963-43-3135\nMyrtis:Yaeko:Maciarello:F:1941-11-16:191903:996-58-7685\nCordie:Cara:Sheilds:F:2007-02-08:219449:950-98-5411\nMichell:Corinne:Himmelspach:F:1968-02-27:154658:905-67-9613\nMajor:Shawn:Garay:M:1934-12-18:79152:904-49-5993\nAndrew:Darnell:Kniceley:M:1966-09-02:25955:987-26-4880\nShasta:Floria:Messineo:F:2008-02-23:30339:925-83-2833\nMadalene:Arline:Vanholland:F:1945-05-14:47734:977-68-6192\nClare:So:Bieker:F:1922-04-07:14603:922-40-9560\nAudrey:Lorrine:Sprewell:F:1932-10-25:283164:997-53-7925\nARLEN:HAYDEN:CARVILL:M:1986-05-24:66754:918339442\nMaybelle:Honey:Jolicoeur:F:1923-02-10:239772:902-46-1282\nDarwin:Cedric:Gompf:M:1954-03-19:152991:926-88-9050\nJonelle:Maryam:Berkstresser:F:1944-11-17:253619:935-62-7974\nLynsey:Marcelina:Dagrella:F:1969-03-01:209989:978-42-7296\nRobert:Jessie:Anaya:M:1922-09-30:136381:956-53-6437\nMax:Fletcher:Hoople:M:1996-04-08:205848:953-50-6974\nCORNELIUS:NORMAN:LITTERAL:M:1931-12-19:244663:904721924\nTemika:Tabetha:Krolikowski:F:1924-02-07:82498:994-27-4063\nFritz:Louis:Wechselblatt:M:2000-01-16:154897:972-28-2152\nElouise:Eun:Quiet:F:1997-06-15:20152:963-25-6361\nJenniffer:Mika:Hollowell:F:1979-12-27:293462:941-95-4384\nEdwin:Fritz:Ehresman:M:1959-10-02:236463:919-39-5692\nBarry:Colby:Zidzik:M:1998-12-09:206651:927-27-9653\nAlmeda:Alishia:Airth:F:1974-03-21:51512:938-43-3006\nDarleen:Sharron:Matthews:F:1971-03-05:118422:965-56-2290\nGarrett:Freeman:Records:M:1967-01-24:221687:919-65-9079\nSarina:France:Memmo:F:1962-03-03:88475:968-97-7178\nMarsha:Roselyn:Sorbo:F:1999-09-13:91894:946-59-2346\nHilda:Sunny:Boehner:F:1952-02-24:130766:926-35-7508\nElicia:Lakeshia:Swentzel:F:1990-12-03:34074:907-20-7781\nCyril:Dalton:Groom:M:2010-09-18:68006:987-58-4363\nJimmie:Lawrence:Woodward:M:1968-05-12:37514:984-63-5828\nKelsie:Cassandra:Rozman:F:1955-09-14:144209:937-37-4674\nBlair:Darnell:Angton:M:1963-03-18:54239:972-56-5352\nErick:Gaylord:Luallen:M:2001-03-10:195364:982-97-1174\nLucas:Dino:Maw:M:1939-06-23:181173:954-79-9625\nDino:Frank:Petrucelli:M:1979-11-25:60266:966-73-8544\nTommie:Rob:Chounlapane:M:1918-07-26:35002:910-22-5705\nBea:Mallie:Loperena:F:1996-05-24:172887:955-29-4616\nDebora:Kayleen:Berczel:F:1974-11-04:198482:974-52-7615\nObdulia:Marylin:Leemow:F:1934-12-26:91920:964-35-1540\nGarret:Ricky:Neifert:M:1973-10-08:223061:944-34-9864\nMose:Micheal:Rawling:M:1924-10-14:53447:926-61-2609\nCarmina:Angelic:Nuesca:F:1977-05-20:142958:951-56-1923\nBob:Efren:Parga:M:1932-01-04:248063:999-78-6792\nStephania:Shirley:Maines:F:1970-02-08:33733:931-32-5509\nCami:Josefine:Neat:F:1945-04-18:231234:985-46-8325\nDarcy:Morgan:Barkley:F:1973-11-04:153645:916-24-1139\nCecille:Xiao:Fatchett:F:1966-06-23:39688:981-44-6596\nAwilda:Reta:Bonds:F:2004-10-30:24254:960-42-3200\nJames:Jerrold:Wolma:M:2006-01-25:154974:973-72-3674\nClaud:Freeman:Bihari:M:1973-02-16:207536:919-53-6084\nBillie:Ezekiel:Followell:M:1982-12-06:224666:913-59-2510\nAdelia:Latonya:Urlaub:F:2001-03-23:136907:919-67-3521\nLynwood:Randell:Byous:M:1964-10-21:39977:965-93-8390\nRoni:Emmie:Turso:F:1969-06-10:43049:980-22-7509\nSheilah:Trudi:Lilleberg:F:1956-03-24:191697:993-33-5586\nMalvina:Lanette:Hartness:F:1940-08-14:177745:908-66-7175\nRochell:Nicola:Huh:F:1925-12-27:110966:936-84-6765\nLucia:Pearly:Scobee:F:1964-05-15:230949:913-63-6237\nJONATHAN:JULIAN:CAZORLA:M:1915-05-20:266457:959878516\nMarvin:Devon:Robin:M:1962-07-18:26662:993-24-1711\nKami:Lorrine:Schaper:F:1998-08-04:135446:997-28-1564\nKasi:Winnie:Buzza:F:1981-09-07:104711:981-82-9401\nLuann:Elsa:Ibsen:F:1936-02-21:195235:942-89-1746\nGwyn:Nichol:Waltemath:F:1934-07-09:297958:923-88-6201\nVincenzo:Tim:Nealon:M:1977-07-03:255390:934-21-2608\nDenver:Shon:Caho:M:1971-12-17:27360:921-25-7131\nJess:Frederic:Vankammen:M:1942-10-02:107405:983-28-5981\nHarvey:Claudio:Maitland:M:1946-07-31:195280:986-79-6027\nMohammad:Chad:Cardle:M:1985-04-21:92744:927-17-9121\nMargarette:Vasiliki:Bacerra:F:2011-03-16:54334:984-23-2965\nEMORY:GARRETT:BISARRA:M:1929-07-21:39437:975422585\nMonty:Josiah:Picciuto:M:1940-10-14:140628:930-59-7861\nDon:Roger:Soll:M:1971-07-21:123428:946-35-9195\nBrendon:Guy:Angelillo:M:1940-07-11:127761:958-93-3385\nMaxwell:Byron:Iacobucci:M:1948-02-24:215373:972-12-9005\nDung:Marylyn:Trethewey:F:1943-10-15:235863:945-85-7157\nGabriel:Sterling:Coplen:M:1947-09-25:89873:945-18-1963\nAlmeda:Lizzie:Lecomte:F:1994-09-22:179411:923-93-1226\nDarrick:Sanford:Neef:M:1919-12-16:225795:985-15-5842\nScarlett:Georgina:Backues:F:2004-01-24:139585:962-10-8796\nElma:Liane:Mcclatchey:F:2015-02-03:25532:900-72-1168\nPerry:August:Gerbig:M:1981-04-24:175376:988-20-4806\nKathlene:Renea:Churley:F:1954-09-26:21242:929-37-1499\nWillene:Kandi:Jackowiak:F:1990-10-24:32163:910-11-9710\nSheldon:Grover:Wixted:M:1921-06-06:73662:948-83-5840\nJenna:Marybelle:Fredrikson:F:1944-12-06:163537:998-99-8395\nViola:Elisa:Gares:F:1986-07-11:169002:966-57-2566\nRozanne:Daniell:Warhurst:F:1979-01-03:162928:923-55-6208\nDelmar:Herman:Kostiv:M:1965-12-10:165513:974-69-9877\nPorter:Alfonso:Mccelland:M:1994-04-12:93678:971-37-8804\nReuben:Zachariah:Wagle:M:1925-04-25:291830:977-40-1724\nDominick:David:Walner:M:1977-10-21:58894:944-42-5417\nTyson:Jefferson:Gemes:M:1918-01-30:20988:924-51-8570\nShanna:Lorine:Alberti:F:1958-05-19:233998:949-42-2448\nTambra:Robbi:Ballog:F:1948-02-27:199000:961-97-1552\nEvan:Florentino:Glaviano:M:1998-01-10:110165:929-31-4982\nElizbeth:Shasta:Tuggie:F:1991-02-14:40847:990-45-2792\nGreg:Benjamin:Trevillian:M:1968-04-25:252528:990-82-8264\nJan:Refugio:Nute:M:2014-07-20:85729:959-83-9540\nMelodee:Filomena:Heckathorn:F:1999-06-24:192223:996-39-9023\nHershel:Hubert:Formaggioni:M:1916-09-03:106615:970-86-9535\nYing:Cheyenne:Vanhoozer:F:1931-09-16:115686:946-62-8432\nCherise:Shena:Munshower:F:1945-09-07:91582:986-22-3991\nJeffery:Lloyd:Redgate:M:2006-08-31:218520:926-95-7766\nLindsay:Dion:Meserole:M:1941-05-17:43387:995-32-3127\nHeike:Milissa:Baro:F:1942-03-07:60024:948-17-5120\nJaqueline:Daphine:Wienberg:F:2007-12-19:69488:985-41-9187\nReed:Jerold:Cheeseboro:M:1932-11-10:246455:914-21-3953\nKendrick:Chad:Whittenton:M:1957-05-26:220977:980-74-8567\nLeonie:Vera:Grudzien:F:2002-09-16:169398:913-55-5184\nTemika:Nichol:Dauphin:F:1994-09-24:149527:979-81-4055\nDuane:Colin:Sharrett:M:1986-12-16:265193:988-55-7731\nSantos:Timothy:Gnoza:M:2006-12-14:95172:940-91-7130\nMargurite:Wynona:Lanosga:F:1926-05-12:242087:972-21-3250\nCharlie:Maryanne:Higgenbottom:F:1953-01-03:96209:945-24-4618\nFlorencio:Kevin:Pasek:M:2003-01-14:119507:913-55-8343\nJamee:Cristy:Kron:F:1947-08-12:178475:940-35-2361\nBlair:Reed:Fede:M:1957-08-17:53401:901-45-2498\nShelba:Reagan:Coffell:F:1995-05-17:192606:942-87-4388\nSonny:Mickey:Fabacher:M:2006-01-01:192611:948-18-3053\nYasmine:Sherlene:Harcus:F:1918-04-29:167953:905-30-8611\nRubin:Anthony:Bazzle:M:1976-08-27:217866:966-69-6456\nEthan:Rene:Hohstadt:M:1961-09-18:12432:965-88-7623\nValentine:Millard:Pellissier:M:1932-05-24:87925:974-39-3514\nTerrence:Clint:Chad:M:1985-01-31:135569:960-24-3850\nVesta:Joyce:Varenhorst:F:2006-01-09:126011:924-20-8221\nTasia:Aracely:Mulliner:F:2011-03-24:226979:956-92-1033\nHeath:Sheldon:Tillery:M:1946-08-09:154378:947-74-3837\nLYNDA:BERNEICE:KLEY:F:1966-06-19:76999:932799801\nMalia:Elease:Viscia:F:1992-10-25:85311:931-19-5423\nLouis:Ferdinand:Sturgell:M:1941-09-30:74181:953-44-2021\nMaya:Crissy:Honzel:F:1969-01-16:244644:938-60-5790\nYoshiko:Leonor:Onyeagu:F:1932-06-23:191722:960-26-5924\nSergio:Billie:Selman:M:1921-08-19:142241:958-70-9141\nVenice:Sophie:Rolek:F:1982-11-05:292706:949-89-1731\nKathleen:Iona:Kibby:F:1982-04-07:46017:992-18-6118\nShelby:Herbert:Men:M:1936-02-18:269165:992-49-5448\nZelda:Shalonda:Dorschner:F:1936-06-20:213221:927-64-6781\nAlan:Britt:Zakarian:M:1957-03-03:244377:918-49-8692\nTHOMASINE:SHARAN:PONO:F:1930-08-27:15815:910327375\nFlora:Gisela:Chacon:F:1987-07-21:286900:910-55-9569\nLuz:Deloras:Minassian:F:1976-11-12:180748:955-61-8296\nDominique:Berniece:Dinuzzo:F:1952-08-01:247433:970-37-8770\nAnisa:Eura:Bingaman:F:1974-06-24:202343:974-72-6756\nNikole:Lynelle:Dolven:F:1954-10-07:124399:948-16-5886\nHerman:Dudley:Claar:M:1999-07-25:128160:949-60-8249\nWade:Jefferey:Buttars:M:1968-10-18:254530:970-73-3800\nWally:Cruz:Escalona:M:1961-05-13:183779:942-75-3451\nElfreda:Dagmar:Douyette:F:1955-08-05:64840:998-87-4937\nMoriah:Goldie:Koehn:F:2012-01-15:168664:999-24-3966\nBertram:Ken:Sarcone:M:2012-01-17:215216:967-47-3488\nMadie:Daria:Markevich:F:1985-06-19:115162:955-26-7828\nJules:Gustavo:Salmonson:M:1949-12-17:202018:948-23-7046\nAustin:Richard:Muskett:M:1926-11-23:32670:995-34-4031\nRob:Pierre:Drumheiser:M:1937-01-31:47615:993-29-5527\nNathaniel:Reinaldo:Tyszko:M:1924-03-26:12707:938-88-2750\nDebbie:Hailey:Corriveau:F:1956-04-27:97352:993-74-7479\nHarris:Heriberto:Burleson:M:1932-06-07:230115:977-89-8893\nLita:Keesha:Casten:F:1983-04-04:279849:957-59-8591\nFrederic:Guadalupe:Sobrino:M:1927-04-27:45961:996-57-9672\nJc:Cole:Imada:M:1987-03-26:153831:921-17-3836\nDrucilla:Renata:Stager:F:1977-12-22:63470:994-42-9469\nShelby:Alysa:Kurpinski:F:1944-08-26:165203:940-34-6842\nRichard:Oren:Papetti:M:1958-05-21:178495:902-42-1859\nFred:Erin:Fleitman:M:1915-08-13:269940:945-19-4695\nNoella:Vida:Hefty:F:1938-07-28:70902:969-31-6834\nCheri:Nelle:Pesenti:F:1951-01-09:223090:930-42-9304\nMauricio:Seth:Campillo:M:1958-05-22:293466:970-82-9161\nLavinia:Amy:Bramlette:F:1947-01-23:266924:908-96-9743\nBelva:Ma:Schorn:F:1997-01-07:98313:994-25-8708\nOzell:Bridget:Teaff:F:1984-04-30:31205:924-50-5347\nAngel:Cyril:Mccrumb:M:1983-01-17:197055:979-94-7995\nGregory:Harvey:Carbajal:M:2011-07-25:139518:937-44-2271\nDelisa:Donella:Illig:F:1940-06-08:173977:977-51-3766\nSheldon:Kory:Chrysler:M:1965-09-22:36904:968-35-4549\nJoline:Annmarie:Payment:F:1954-01-17:184955:943-22-3421\nBenedict:Colby:Diani:M:1964-01-12:82062:902-78-9595\nCristopher:Sid:Northan:M:1917-12-13:252512:997-25-1109\nIlene:Jerica:Amabile:F:1955-01-29:50401:997-17-9474\nPamila:Tiera:Franzone:F:1965-08-13:130877:975-37-7577\nLai:Hermina:Puffenberger:F:1955-11-12:72210:910-91-8134\nChi:Benton:Britcher:M:1979-07-27:159778:994-96-5537\nPam:Brandie:Binns:F:2001-08-16:161184:967-70-1498\nNoriko:Mariana:Vrbka:F:2012-12-14:133439:988-39-4246\nVanesa:Sana:Kimbrel:F:1927-05-06:17768:923-67-7509\nChrystal:Renea:Meisner:F:1981-06-26:192257:954-33-4755\nWilbert:Johnny:Hazelett:M:1981-08-02:216671:997-82-7781\nCole:Homer:Arvidson:M:1948-03-19:60212:977-81-3749\nIsaiah:Rogelio:Pflum:M:1943-04-10:172376:992-73-1930\nLacey:Leigha:Meranto:F:1916-04-14:10125:953-10-1377\nJaimee:Lanora:Ciarrocchi:F:2010-05-31:292872:969-80-9160\nMila:Maureen:Eisenhart:F:2010-06-24:91112:929-62-2582\nHershel:Ty:Wakeling:M:1940-06-19:196627:978-15-8473\nDee:Boyd:Bonier:M:1966-09-22:229408:967-33-2132\nBrooks:Max:Ona:M:1998-12-28:293552:963-13-9788\nBrian:Renato:Bucholtz:M:1947-12-01:285620:923-25-8279\nJonathon:Leon:Sherles:M:1954-12-31:33123:990-26-7511\nAdolph:Alex:Chulla:M:1974-09-01:124862:923-54-8251\nDarius:Thad:Sissell:M:1980-05-27:121631:979-28-5938\nMyong:Daryl:Unglaub:F:1962-07-11:235945:902-23-4394\nLashaun:Pauletta:Harcus:F:2014-02-23:291112:922-29-4618\nJewell:Marcie:Pallotta:F:1946-07-09:35544:939-31-7158\nToby:Leroy:Prather:M:2004-09-19:224953:915-92-5382\nFannie:Porsche:Gaddie:F:1928-10-08:164744:915-40-9763\nTad:Joe:Paladini:M:1998-03-24:275999:940-74-2428\nMyron:Jan:Woolem:M:1928-09-19:261695:952-15-5774\nBoyd:Barton:Sabourin:M:1983-12-19:170095:926-28-2732\nAvelina:Maisie:Bodford:F:1922-02-22:225113:968-16-7334\nRutha:Yolande:Gilding:F:1945-07-27:139347:926-40-6601\nChantal:Dorcas:Whisler:F:2014-09-20:162385:923-57-2300\nAllyson:Tricia:Koeck:F:1973-03-08:19940:951-85-6557\nEdwina:Claudia:Charpentier:F:2004-03-28:235837:947-80-8117\nAlberta:Rasheeda:Rodiguez:F:1950-07-28:181624:934-71-7063\nThomas:Jay:Pforr:M:1946-06-10:11991:926-25-8360\nArturo:Art:Galow:M:1971-07-10:296665:921-12-7008\nDamion:Normand:Muslim:M:1920-10-15:26498:965-56-7224\nDelphine:Lelah:Stmichel:F:1921-09-14:169938:903-10-6132\nJacqualine:Meredith:Micciche:F:1929-05-25:150033:935-71-3384\nPalmer:Ray:Lecznar:M:2008-08-22:166652:982-66-6760\nRoxane:Sheila:Trevithick:F:1940-02-20:298298:938-54-4256\nBerniece:Kori:Sachetti:F:1995-08-31:175680:998-46-7198\nRolf:Lyman:Zaritsky:M:1992-06-25:29920:987-22-4665\nArchie:Galen:Browning:M:1926-09-06:218368:927-22-2799\nBert:Jonah:Kallin:M:1947-11-30:143649:977-51-9861\nHayley:Aleta:Sterger:F:1923-10-29:247027:938-32-3185\nDavis:Quincy:Shiyou:M:1929-05-31:102736:970-61-1091\nLory:Kimberlie:Chevalier:F:2011-03-05:159533:900-82-7532\nJeanette:Criselda:Veitz:F:1974-11-29:16378:949-11-4966\nRaelene:Sigrid:Grimard:F:1981-08-26:131520:963-34-6229\nElbert:Sid:Savell:M:1941-02-06:26180:968-22-3460\nLogan:Mario:Drozdowski:M:1944-05-15:110934:902-76-7626\nEmory:Charlie:Oberhausen:M:1966-01-29:123028:935-64-9929\nRaul:Augustus:Lefave:M:1951-09-07:108961:959-75-8086\nShawnna:Johnie:Pinales:F:1934-10-09:285693:989-51-5744\nCamilla:Lorenza:Jeremiah:F:1952-09-24:97233:905-39-8564\nBritni:Eryn:Sahu:F:1963-12-09:62083:964-58-4191\nBrooks:Jay:Bakowski:M:2001-09-26:228160:666-89-8783\nDotty:Bailey:Mozee:F:1963-06-08:290287:910-21-2759\nMarcelo:Milan:Sciuto:M:1928-10-08:121761:942-42-2062\nRobt:Weston:Shebby:M:1992-03-11:230956:955-18-5428\nWallace:Abdul:Domingue:M:1951-10-13:227673:914-90-3243\nVeronika:Rosaline:Amato:F:2005-07-20:72726:977-47-1427\nJarred:Len:Kraig:M:1968-08-30:91110:994-91-4125\nSherita:Delaine:Zomberg:F:1998-09-17:167979:931-34-4793\nJefferey:Stephen:Kunkel:M:1987-03-11:170030:666-11-2631\nMichale:Irwin:Molchan:M:1951-12-22:127782:972-96-3312\nCedrick:Gayle:Zweier:M:1983-01-07:75146:998-34-4764\nKarrie:Anika:Alwardt:F:1975-01-09:132825:932-26-1032\nLuetta:Eula:Satter:F:1961-06-24:76697:984-71-8218\nShad:Kasey:Crenwelge:M:1941-04-08:19853:954-70-6471\nViola:Barbar:Coskey:F:1966-12-16:228075:958-37-5173\nDewey:Pablo:Entz:M:2002-02-14:94001:954-25-8039\nTerrence:Giovanni:Bergeaux:M:1984-04-08:57741:929-15-8253\nStanley:Ronny:Creel:M:1994-01-22:284758:978-23-2755\nHelene:Nicolette:Gunsolus:F:1920-09-18:125852:956-12-7516\nShirleen:Karole:Dolle:F:1961-02-10:253778:966-45-6047\nJarrett:Silas:Sodano:M:1972-09-20:191024:933-68-8577\nEddie:Heath:Pritzker:M:1950-03-31:211632:960-62-5357\nKaren:Alisa:Schrameck:F:1915-11-29:160450:948-19-9406\nEsmeralda:Beverly:Argo:F:1994-02-12:167532:908-94-8341\nTandy:Margaret:Cologie:F:1932-07-05:262641:939-36-6585\nKatheryn:Carrie:Mahar:F:1921-04-06:172915:925-36-2763\nTaylor:Palmer:Reposa:M:1971-12-16:263964:908-15-6441\nNicolas:Virgilio:Konen:M:1925-08-19:299065:951-23-6625\nMargarite:Marinda:Santulli:F:1933-11-25:144710:975-66-8601\nValentine:Eric:Adame:M:1932-12-09:50534:968-31-9332\nEldon:Billy:Godfray:M:1956-03-18:78283:986-16-4576\nDwight:Roger:Guintanilla:M:1987-12-18:234186:974-51-8132\nJamie:Courtney:Hollow:M:2012-05-29:32655:954-86-6134\nElmer:Jesse:Dicocco:M:1919-12-27:27091:905-27-3648\nCARON:KATHLINE:REISCH:F:1925-02-19:208041:931684815\nLela:Otelia:Zaccagnini:F:1930-02-27:297392:979-62-1058\nRubin:Roger:Engroff:M:2008-06-04:76107:988-48-9570\nDomonique:Melita:Gollin:F:1954-05-30:12623:975-75-9305\nGrady:Eusebio:Ayars:M:1933-12-03:192293:915-31-4135\nCedric:Mac:Wilber:M:1926-09-18:83157:966-98-8939\nFrancesca:Aisha:Martines:F:2010-08-20:78218:972-17-9683\nDiamond:Micki:Tiemeyer:F:1967-05-26:73802:900-94-4158\nSon:Eliseo:Guajardo:M:1990-10-17:231409:989-39-7895\nAlda:Mafalda:Binstock:F:1963-08-17:193279:957-25-3339\nDorcas:Lenita:Soldeo:F:1987-06-24:80529:983-75-1398\nBelen:Luetta:Sewell:F:1993-03-23:180905:950-47-3704\nOdessa:Cristal:Dumas:F:2006-02-17:164941:906-40-9420\nDwight:Ross:Shewbridge:M:1980-05-08:279767:969-90-2884\nBarbra:Manuela:Viverette:F:1926-03-19:115798:949-13-6730\nSCOT:RICKIE:STOTHARD:M:1987-11-07:285417:915778765\nCinda:Golda:Engholm:F:2006-10-24:223509:991-55-1135\nTamisha:Youlanda:Silloway:F:1926-10-17:287128:959-27-8811\nJaleesa:Tequila:Elmblad:F:1962-07-13:209833:940-94-9902\nMarcy:Florentina:Gaber:F:1953-05-10:289416:980-64-6798\nLeonel:Valentin:Wolinski:M:1997-11-19:293301:924-14-4393\nAlfred:Zack:Carnohan:M:1991-04-29:286840:934-80-4710\nChi:Henry:Elgas:M:1969-11-11:289058:990-21-9263\nDarrin:Titus:Schoenfelder:M:1962-12-08:127983:921-22-9395\nARDELL:MARLYN:FAST:F:1945-04-28:175635:911999762\nRema:Kala:Ponciano:F:2013-05-12:209888:960-44-5421\nAthena:Kandi:Troup:F:1971-11-24:211149:955-75-3288\nEMOGENE:SHAWNA:CHESTER:F:1938-07-17:130085:949735778\nBeckie:Rosalie:Cwik:F:1995-02-19:80046:905-98-7211\nRosella:Alexia:But:F:2013-01-03:223437:930-41-1220\nGene:Jason:Harapat:M:2006-02-02:101127:915-83-3083\nAlexis:Deandre:Brocklehurst:M:1932-02-07:153212:908-81-9294\nLeslie:Dante:Staudinger:M:1956-03-10:75006:915-66-4534\nDona:Tanesha:Gaseoma:F:1979-06-12:94326:986-18-4209\nGregorio:Forrest:Gumpert:M:1983-11-30:191979:928-84-1440\nVirgilio:Nelson:Friday:M:1915-04-17:252704:981-24-4227\nDarla:Hermelinda:Serrao:F:2007-08-23:35107:999-87-3110\nCyril:Otis:Thane:M:2001-05-17:20386:951-11-8307\nJanise:Kylee:Branscomb:F:2011-05-07:126359:907-31-5623\nIra:Tyree:Mcennis:M:1926-06-18:66811:910-95-7983\nLavona:Beth:Reitema:F:1930-04-01:111506:946-50-5522\nArturo:Hai:Buras:M:1954-06-06:93443:904-35-3802\nSirena:Nicolle:Colas:F:1976-12-04:206910:923-52-4399\nAlmeda:Bebe:Park:F:1948-03-03:138889:956-33-7214\nBenedict:Edwardo:Dannhaus:M:1985-06-03:285049:953-60-8682\nGraig:Rico:Rowse:M:1939-04-21:206131:997-96-3497\nSherly:Kym:Grumney:F:1984-09-08:251050:937-81-8534\nSabine:Cameron:Laurie:F:1960-08-22:150464:996-54-6307\nJamey:Tracy:Cinalli:M:1953-11-10:148529:939-76-2489\nAmanda:Kaley:Choute:F:1962-12-22:273952:929-87-4650\nRolande:Kelly:Colston:F:1991-09-26:75592:979-39-1948\nTodd:Sylvester:Jenny:M:1921-11-25:92378:972-14-9409\nMonte:Doyle:Bissett:M:2004-05-23:289831:930-24-2376\nKristie:Aliza:Griggers:F:1953-02-27:44182:666-89-7936\nShayne:Numbers:Helsel:M:1943-09-25:140317:919-24-2132\nColumbus:Cody:Weesner:M:1933-12-03:41077:939-52-7350\nSilas:Hipolito:Roanhorse:M:1991-07-30:232402:906-60-8193\nRandall:Glen:Ellegood:M:1994-12-15:121491:945-71-6380\nJohnathon:Kirby:Kotecki:M:1953-04-03:181867:972-95-8272\nNoble:Vito:Horn:M:1986-12-07:154812:909-41-9433\nMarjorie:Dara:Cuadras:F:2007-04-09:128373:948-71-5894\nBetsey:Bok:Standefer:F:1979-09-08:238583:904-86-3711\nWilda:Mira:Pullara:F:2010-11-26:217468:921-37-1803\nRoxanna:Margaretta:Chasteen:F:1957-06-29:161307:971-21-7545\nVeronika:Ardith:Terrones:F:1920-04-29:269455:934-51-4958\nDorian:Sid:Desfosses:M:1979-11-23:245579:922-62-1250\nSharita:Sherron:Smedley:F:1998-06-07:281979:984-47-2067\nRenee:Lucy:Hullinger:F:1971-11-22:155308:914-63-9423\nDarrel:Ashley:Gama:M:1950-04-23:191490:930-41-8108\nCharita:Katelin:Hookfin:F:2007-07-30:189272:978-16-7905\nTierra:Shemeka:Birenbaum:F:1984-08-31:81709:995-95-6056\nJoanne:Jeanine:Lighthill:F:1961-11-09:130995:991-47-6903\nLashonda:Nga:Kendricks:F:1970-08-28:18958:966-24-8984\nNoelle:Savannah:Paaske:F:1923-05-11:66494:950-88-3465\nChung:Brandon:Scotty:M:1949-09-10:185612:949-87-4493\nJoshua:Chester:Nurse:M:1942-01-25:202148:971-42-4294\nMelvina:Tobie:Hegan:F:2008-09-22:110047:963-66-4217\nTien:Christia:Ahhee:F:1933-09-04:126497:990-39-1931\nIdell:Melda:Myers:F:1951-06-16:178606:907-32-6463\nBoyce:Luke:Mcgrapth:M:1997-05-04:195226:916-91-4133\nCarolyn:Tamika:Ownbey:F:1963-02-01:268837:900-41-4016\nPercy:Valentin:Therres:M:1952-04-06:58925:942-88-9450\nKeli:Cicely:Surman:F:1949-05-03:27249:962-84-3224\nStefan:Armando:Synder:M:1919-07-28:126358:961-52-2721\nJamar:Domenic:Rellama:M:2003-09-20:109953:930-75-9656\nMorris:Forest:Cawley:M:1931-06-25:145142:935-17-6525\nDon:Moses:Hosley:M:1978-12-24:294615:951-50-8037\nKris:Damion:Fagundes:M:1963-08-03:112215:992-58-6458\nOctavio:Carmen:Binsfeld:M:1990-08-08:90948:934-90-9534\nGussie:Ivory:Mccaster:F:1968-12-29:124602:901-55-1287\nJerold:Thad:Posso:M:1999-03-06:246754:941-88-8266\nAmbrose:Mauro:Schmoldt:M:1964-09-29:99394:914-53-3874\nGerry:Fredric:Heriford:M:1971-08-19:231384:986-72-5170\nDeangelo:Maximo:Seier:M:1942-08-04:157521:953-56-9345\nDarrick:Charles:Tagaban:M:1949-08-20:257150:995-37-2376\nElizabeth:Beatris:Brostoff:F:2015-03-21:237386:951-37-7016\nEpifania:Cortney:Wickson:F:1981-12-17:181104:925-21-4720\nBrunilda:Christine:Botto:F:1944-10-13:167785:959-97-7061\nBrooke:Jaleesa:Lemert:F:1975-08-16:159499:909-66-3152\nSamira:Jacki:Warth:F:1991-04-15:187717:966-87-9428\nGRANVILLE:VICENTE:MININGER:M:1986-01-11:166532:952239996\nJovita:Ebonie:Dippel:F:1932-03-11:121873:993-97-9382\nCarolynn:Myrtie:Keator:F:1997-06-08:128571:957-21-2772\nSharika:Tama:Wycuff:F:1917-10-31:91834:900-45-7892\nLaraine:Collen:Chouinard:F:1956-10-23:126954:956-57-4277\nLuis:Zack:Pokswinski:M:1937-08-15:254028:974-16-4303\nJarrod:Danial:Viramontes:M:2011-03-21:41843:995-86-5116\nMila:Coleen:Lidke:F:2008-05-19:117047:905-59-4531\nRoger:Ike:Deglow:M:2007-10-10:98472:965-79-1100\nMardell:Roselia:Speakman:F:1955-09-05:117367:928-36-5210\nMalcolm:Leland:Martinis:M:1997-08-30:118433:998-74-8572\nNikole:Camellia:Gstohl:F:1957-11-09:296889:991-29-7200\nLowell:Ruben:Gislason:M:1927-04-10:61454:928-19-1287\nMamie:Cicely:Labeots:F:1995-05-06:288371:914-13-5398\nDean:Chauncey:Burts:M:1995-09-30:240641:913-89-3788\nBrant:Mariano:Campanella:M:1980-09-11:228390:929-74-6180\nCarmen:Mauro:Rayno:M:1966-02-23:62708:939-27-7557\nLavina:Armandina:Burzlaff:F:1967-09-11:171189:995-82-9398\nLida:Nakisha:Vuolo:F:1995-07-11:242352:952-14-7214\nConrad:Jayson:Durrah:M:1974-01-15:24345:995-95-8400\nRandy:Darrick:Leemaster:M:1970-02-03:87813:941-77-7157\nMarcelo:Virgil:Rajas:M:2000-01-29:199916:977-50-9252\nMarcellus:Guadalupe:Dellaporta:M:2006-03-22:280826:950-66-5135\nMallory:Lashandra:Seliga:F:1939-12-03:82638:954-30-2430\nRodrigo:Pat:Eckis:M:2009-05-24:101923:919-69-9092\nJEN:BREE:GREDER:F:1987-12-11:47096:976495465\nNed:Antony:Macke:M:2000-06-17:88946:934-85-5073\nTory:Frances:Boomhower:M:1935-03-17:248088:962-62-2141\nChase:Tommie:Knight:M:1965-04-13:38377:940-55-3362\nDean:Neil:Ratti:M:1947-08-10:136482:951-52-6186\nDeshawn:Elijah:Pettyjohn:M:1964-07-28:291625:932-16-8339\nColette:Regina:Rumberger:F:1965-09-04:198481:902-98-9549\nAli:Elliot:Rav:M:1937-08-12:66481:952-84-6116\nJerry:Tyrone:Mckoy:M:2006-08-23:60389:984-53-1471\nMaxwell:Ezra:Buttke:M:1947-10-21:13104:988-67-6029\nLeonila:Veronique:Sabellico:F:1924-09-21:192772:939-96-8836\nEugena:Venus:P\n\n*** WARNING: max output size exceeded, skipping output. ***\n\nFlemming:M:2000-10-04:101831:927-84-4906\nMickie:Jenise:Corkins:F:1939-08-13:165446:910-26-1410\nDorsey:Wilburn:Thonen:M:1918-06-21:220328:937-13-6208\nBritany:Rebecka:Fortes:F:1955-03-19:102839:989-57-6533\nUrsula:Ramonita:Gottsch:F:1925-04-12:194869:917-37-7866\nLUCILA:EMMA:VIRGA:F:1989-12-05:139082:931479619\nHarland:Trent:Gavell:M:1951-06-26:272404:965-92-7310\nMaegan:Janelle:Rulon:F:1999-07-01:91911:907-24-5307\nSung:Jamaal:Gerstle:M:1973-08-29:47241:975-87-1151\nValery:Cleotilde:Berdux:F:1954-02-04:77771:981-78-3204\nDenver:Bruno:Ospina:M:1952-12-17:143822:666-59-3554\nJessie:Kristian:Prindiville:F:2009-08-09:91913:901-22-5698\nAlyssa:Sabine:Knoeppel:F:2002-02-27:149152:904-71-5562\nSparkle:Carin:Desiderio:F:1926-11-16:289075:986-39-8049\nStacie:Melinda:Boyarski:F:1993-07-31:187115:915-52-5036\nMae:Kendall:Lavezzo:F:1959-07-19:103694:938-15-1956\nNewton:Boris:Delsol:M:1953-07-15:106555:999-81-9588\nBrooks:Jordon:Gabrysch:M:1979-11-30:281699:955-69-3221\nRamon:Ezekiel:Lorber:M:1979-02-06:209689:980-61-4579\nJayson:Willie:Naik:M:1985-09-06:290352:973-51-6641\nVenita:Rochell:Catania:F:1998-09-17:127327:666-60-3866\nNadene:Leila:Cortijo:F:1943-08-24:182686:981-43-2546\nKeneth:Dewey:Brians:M:1928-07-20:275134:915-26-3076\nLiane:Leatha:Topper:F:1963-01-18:183045:908-94-1578\nAnnemarie:Kaycee:Bora:F:1995-08-31:175351:928-70-4350\nAshton:Armandina:Bonita:F:2013-03-23:219894:914-94-4872\nRobbyn:Janee:Newfield:F:1924-02-14:195926:936-97-4859\nBrad:Rusty:Bressi:M:1976-02-21:204081:937-30-2601\nBernadine:Moira:Carollo:F:2000-06-23:26431:966-76-1352\nJaneen:Pilar:Francies:F:2009-03-22:111782:947-80-3298\nFerdinand:Deshawn:Boulton:M:1965-12-11:49431:925-19-6776\nKera:Florencia:Demorizi:F:1966-10-20:212809:955-22-3661\nMyrtis:Mariann:Ameigh:F:1959-01-25:138402:902-79-7939\nGeorge:Darren:Wauneka:M:1941-04-14:290267:927-86-1848\nSabrina:Arlene:Dare:F:1945-11-13:243654:968-42-6498\nErvin:Brooks:Hellweg:M:1926-11-24:172056:962-91-1353\nNoah:Walker:Ariyoshi:M:1956-05-16:289184:993-67-4753\nAretha:Nisha:Betzner:F:1965-08-17:270216:992-88-4430\nGregg:Santiago:Juncaj:M:1927-12-13:266036:942-55-1416\nJohnathan:Melvin:Sprayberry:M:1962-06-20:56898:913-72-6896\nBruno:Marty:Mciwraith:M:1992-06-29:134166:985-85-6476\nCleopatra:Tashina:Scruton:F:1986-11-18:16638:959-60-3783\nHarlan:Fidel:Lanteigne:M:1944-10-14:29539:961-53-9096\nMartha:Dora:Cushingberry:F:1966-06-01:248870:933-85-8953\nIrene:Caroline:Parman:F:1975-08-10:230870:985-98-1056\nLanie:Cristen:Miskovich:F:2011-04-17:178596:914-46-3355\nDEEDRA:CORY:MAGLAUGHLIN:F:1931-04-18:273223:962463793\nRichie:Curt:Haag:M:2004-11-29:163941:973-54-6965\nBuster:James:Malahan:M:1987-02-06:190408:939-59-2144\nJere:Willian:Laster:M:1950-07-12:228526:994-63-3116\nSaundra:Matha:Ruiloba:F:1932-11-01:131390:999-58-5165\nShaneka:Dortha:Alcosiba:F:1958-05-21:243360:920-97-4899\nDarline:Darcel:Lins:F:1989-03-23:165407:921-56-7785\nCleora:Alene:Huberman:F:1946-10-13:103696:916-67-4834\nRayford:Tommy:Auchmoody:M:2008-10-09:102111:981-56-6000\nBilly:Dwayne:Lanfor:M:1936-11-12:13707:956-89-2526\nGail:Doug:Locks:M:1959-06-20:140173:935-89-5649\nElmo:Marcelino:Galson:M:1949-02-09:84900:921-60-6188\nIsidro:Ollie:Boleyn:M:1928-08-16:294341:961-69-3372\nClaudine:Juliet:Cloughly:F:2011-06-28:298378:925-15-3080\nTracey:Graig:Bonanni:M:1918-06-30:295539:967-63-8998\nCamille:Brandy:Duttry:F:1962-07-06:73448:975-73-7169\nMagdalen:Yael:Nickoley:F:1961-09-25:20485:934-33-2780\nIvan:Herbert:Anderegg:M:1917-05-08:79457:970-66-7739\nNathanael:Jimmie:Reha:M:1997-04-27:258358:919-16-5051\nDel:Alec:Lynds:M:1989-11-12:183621:997-80-5543\nAlfonzo:Jarred:Strate:M:2013-07-09:51905:987-64-7975\nDenis:Elwood:Eshmon:M:1927-11-20:244281:902-98-4386\nErika:Arie:Stefanick:F:1953-01-27:289783:917-46-5492\nFern:Joan:Varty:F:1976-11-04:193111:924-13-4676\nMonte:Charley:Reagor:M:1960-03-06:161156:983-58-2984\nRosita:Chrissy:Grubaugh:F:1991-05-18:252766:931-28-6163\nFairy:Debbie:Capaccino:F:1991-03-17:97088:972-83-9294\nRoderick:Jorge:Adens:M:1966-04-17:134610:970-18-2766\nDarwin:Weston:Dupar:M:1936-01-07:270527:989-76-5937\nSyble:Loralee:Youngren:F:2012-08-13:129780:981-10-1015\nGwenda:Lula:Turcott:F:1974-09-09:69457:970-98-9952\nDarryl:Felton:Mueller:M:1975-04-15:50797:996-21-1417\nTabetha:Genie:Gallante:F:1926-12-10:138016:903-89-6557\nJanuary:Dara:Locklin:F:1994-03-17:90153:984-18-2798\nGarfield:Chance:Presas:M:2004-09-29:182519:919-67-8894\nDanyelle:Loura:Neto:F:1991-12-16:35565:937-23-6966\nVicente:Efrain:Schmeisser:M:2005-12-18:193147:953-66-6779\nRenaldo:Jeffery:Gosser:M:1980-06-05:276355:990-97-7500\nKenneth:Deandre:Reyner:M:1941-10-31:159545:975-10-6365\nAUDRIE:JOANN:DETTORRE:F:1924-10-22:183400:909166947\nElena:Ligia:Lime:F:1953-05-12:36610:926-30-8942\nIvory:Garland:Hirpara:M:1980-10-02:235394:955-32-7990\nBrant:Marcel:Prosperie:M:1981-08-18:80705:987-50-5439\nSydney:Burl:Yarrell:M:1977-12-31:123088:980-42-4065\nKandra:Josefina:Saleado:F:1936-05-30:224195:945-52-9161\nDorothy:Heather:Biewald:F:1939-05-29:171391:963-63-3808\nEarnest:Cletus:Jarboe:M:1932-07-20:223012:959-27-8926\nEboni:Delphine:Saffell:F:1951-10-02:135359:992-45-4129\nRonnie:Fredric:Guyette:M:1968-06-16:80070:994-77-4966\nCarlyn:Leeanna:Wythe:F:1929-04-24:261083:903-11-9081\nBilly:Hong:Usack:M:1936-08-27:53636:992-78-6928\nCharity:Sherlyn:Ankrum:F:1988-09-20:137210:964-48-3694\nGinette:Elsie:Stoneberger:F:2010-09-07:124046:976-13-3946\nRenate:Neta:Truont:F:1915-06-21:130781:952-15-1041\nDirk:Elisha:Begum:M:1973-09-12:209207:996-61-7463\nCarlyn:Gary:Simbeck:F:1980-05-07:254249:919-46-5099\nElias:Clifton:Messey:M:1949-07-21:246764:945-19-9938\nRebecca:Genny:Opal:F:1980-09-16:129188:969-29-6750\nCollin:Dion:Jungen:M:1930-07-16:124419:957-66-7016\nDevin:Ashley:Dibacco:M:2014-01-15:212964:938-92-9541\nLeeanna:Andree:Bertus:F:1974-12-12:80771:964-86-5920\nCorey:Madeline:Winkelmann:F:1979-12-17:295211:916-21-6455\nTamiko:Tameka:Mildenstein:F:1963-11-27:38517:949-91-6152\nTimmy:Kraig:Billiar:M:1948-02-16:166473:990-84-5489\nAdalberto:Lacy:Mengarelli:M:1991-12-26:281692:979-64-3480\nDannie:Lacy:Buscemi:M:1984-04-22:209305:918-51-3389\nDonnell:Jefferson:Bavier:M:1916-05-29:229420:920-11-2390\nHoracio:Leonard:Boehne:M:1988-09-09:172319:960-86-2843\nQuentin:Cesar:Mchugh:M:1974-09-13:213198:906-17-8041\nNatalia:Leanora:Scriven:F:1997-07-22:100329:945-53-9089\nAudria:Latisha:Byczek:F:1945-06-26:123463:911-69-8714\nKHADIJAH:JAUNITA:LASZLO:F:1968-01-15:26014:928357472\nCory:Dominic:Gabrial:M:1994-02-22:125375:975-94-7248\nKIMBERLIE:SANTINA:VANASTEN:F:2003-11-18:67185:904341928\nMel:Giovanni:Poltorak:M:1950-12-03:56685:942-19-5717\nRetha:Latoya:Kolthoff:F:2014-07-25:250400:925-67-8889\nParis:Korey:Rallison:M:1948-09-13:56315:966-79-4122\nNelle:Roxana:Hinnen:F:1935-12-22:20944:982-46-3336\nAndres:Rhett:Weirick:M:2010-12-26:29995:916-78-5234\nBea:Shawna:Olney:F:1929-12-22:247768:988-52-7699\nAdolfo:Robbie:Ennen:M:1974-10-21:152321:977-95-8227\nKarina:Mitzie:Hanley:F:1936-02-27:184484:940-12-6447\nClelia:Annelle:Pirre:F:1942-06-16:234584:949-68-3836\nTabetha:Lauryn:Harlow:F:1999-12-16:108330:978-20-8984\nWillian:Rico:Blowe:M:1933-02-24:225273:945-75-9852\nScottie:Rudolf:Godbout:M:1960-07-01:263799:960-13-9505\nTruman:Dee:Ferreyra:M:1961-09-12:32519:994-76-9035\nLouis:Bryon:Tharrington:M:1953-02-16:204469:906-31-5228\nShirley:Inocencia:Excell:F:1970-01-31:248064:946-59-8363\nCarmen:Erin:Olynger:M:1951-09-21:199308:907-41-8142\nKena:Lynna:Heinold:F:1960-07-16:268246:959-23-2846\nCharlott:Beth:Stutts:F:1916-08-30:299079:901-28-7722\nDiego:Cristopher:Beulah:M:1953-03-19:219166:904-22-3169\nVanda:Elvia:Herskovits:F:1967-05-06:89811:902-89-4242\nBerry:Horace:Raine:M:1955-01-20:150135:952-43-5452\nTed:Jonah:Stephenson:M:1991-03-03:151820:993-87-5979\nStanton:Maxwell:Schuch:M:1978-05-07:220253:961-51-4072\nSol:Thad:Korman:M:1917-08-18:279136:995-64-7338\nMarcos:Carey:Haushalter:M:1919-07-14:220403:957-62-2787\nLea:Elvera:Kotek:F:1934-06-30:220894:995-43-8820\nOrpha:Danyell:Samantha:F:1946-03-03:36348:925-32-2839\nElden:Dana:Lattig:M:1967-03-11:264076:987-71-3852\nSommer:Branda:Marolf:F:1927-08-01:78802:925-16-9620\nElias:Dominique:Fesus:M:1923-03-28:237688:958-63-3359\nHerminia:Jackelyn:Gala:F:1948-10-16:222482:997-22-3232\nFernanda:Jane:Macbeth:F:1994-08-02:189359:939-49-3016\nArdith:Odilia:Hurde:F:1922-12-25:70193:981-19-5503\nJed:Erick:Reinard:M:1958-02-17:134245:948-47-2159\nKristofer:Zachary:Kortkamp:M:1980-03-29:240759:951-45-9829\nTarra:Valery:Vail:F:2012-03-30:81420:903-88-1117\nNorene:Mistie:Anakalea:F:1946-04-27:186896:977-53-8371\nKaran:Lila:Manson:F:1995-05-05:128276:906-69-1943\nSiobhan:Corrin:Bartrop:F:1934-02-11:170626:988-97-4732\nConrad:Laurence:Lebeaux:M:1986-05-05:215581:983-27-5134\nMavis:Aurelia:Pfaffinger:F:1934-10-11:274931:940-46-6959\nSaul:Efren:Pullam:M:1929-05-08:132160:905-82-7414\nOlin:Johnathan:Gobin:M:1963-08-02:233710:955-16-9009\nGretta:Retha:Napps:F:1960-08-18:199846:946-85-1658\nLes:Chas:Dunne:M:1977-09-06:158177:961-84-2979\nMafalda:Margeret:Gioffre:F:1993-07-05:284868:900-14-8327\nValentine:Clifton:Piening:M:1950-11-22:222267:906-33-4566\nLauretta:Shawnda:Colombe:F:1994-01-23:151865:955-26-4390\nTawana:Salena:Manzanilla:F:1971-11-20:60548:989-51-1112\nLucas:Thad:Mccurtain:M:1945-11-25:132463:914-99-2501\nDemarcus:Sean:Trausch:M:2014-02-07:83494:974-32-9725\nSantos:Kasey:Kolle:M:1988-01-03:298031:957-12-8163\nNormand:Floyd:Tietje:M:1956-06-21:47947:944-14-4345\nBrandy:Elana:Hakala:F:2015-01-05:280101:989-86-1263\nSherlene:Debbie:Kaloudis:F:2007-03-15:158198:958-25-3741\nMarcela:Chris:Wrenn:F:1930-04-03:251170:952-70-7697\nGROVER:DELMAR:MINSON:M:1976-10-12:119305:666764730\nFonda:Irena:Paget:F:1961-06-02:47796:920-43-5379\nLowell:Sherman:Bondroff:M:1957-05-16:293248:996-55-1269\nMitchel:David:Schapp:M:1995-07-13:64622:934-72-4881\nLeann:Hermina:Oppenheim:F:1962-01-22:197108:919-12-9695\nGrant:Cyril:Gradney:M:1942-12-21:126973:922-55-9841\nFritz:Len:Hoesly:M:1991-10-10:273720:990-18-5637\nBethany:Kristel:Cannan:F:1920-05-24:166552:958-93-6745\nPatrica:Brittney:Jennison:F:1962-03-10:216165:993-53-7803\nManuel:Lester:Wormley:M:1985-09-15:29869:964-19-4455\nAurea:Darline:Voegeli:F:1942-05-10:171164:956-76-8847\nJayson:Donald:Maresh:M:1934-11-29:87804:982-55-9197\nLinn:Shela:Schmier:F:1955-08-01:216566:970-18-1346\nAbigail:Meghan:Delp:F:1953-01-02:45330:923-22-5410\nEdgardo:Benjamin:Kosters:M:1999-05-06:172738:979-64-4752\nMartin:Edmund:Cogswell:M:1930-05-21:19149:990-21-6669\nFatima:Melita:Piermont:F:1995-10-15:35848:980-47-6891\nMatthew:Zachery:Hassler:M:1926-11-25:205813:994-42-4653\nGavin:Quinn:Murzyn:M:2005-06-23:296990:998-82-9934\nTerri:Tamica:Franich:F:1920-12-19:15449:905-70-5059\nZandra:Ethelene:Trumbore:F:1995-09-07:98836:946-88-1372\nTeofila:Eulah:Jett:F:1967-06-20:80872:927-73-1570\nFritz:Sang:Hail:M:1926-01-01:293653:970-92-5911\nTERRENCE:JAE:ALLERMAN:M:1933-02-12:132100:952327784\nYang:Jayme:Barco:F:1981-10-25:281733:998-57-8714\nNick:Jesus:Mcphie:M:1919-06-02:263306:903-56-4683\nBarney:Todd:Laster:M:1979-06-09:193460:957-46-5626\nAlicia:Maya:Coletta:F:1990-06-20:58953:998-18-9746\nJarred:Dario:Lohmiller:M:2001-07-02:108399:961-38-7286\nHanh:Janetta:Jerrel:F:1929-05-09:151333:935-19-1087\nSherry:Gena:Leemow:F:1948-04-16:30391:957-58-1268\nAmada:Elli:Syphard:F:1915-02-28:184463:929-25-7783\nEmanuel:Major:Ozburn:M:1981-03-08:167784:947-70-3650\nVickey:Exie:Gubbins:F:1919-09-24:36472:996-60-6153\nBirdie:Luise:Cozort:F:1950-12-06:37329:940-45-1500\nMilan:Moises:Jaroski:M:1996-02-20:288589:900-39-5519\nKarena:Myrl:Naki:F:1975-04-17:235639:923-59-5431\nRoni:Patria:Hudek:F:1991-06-25:164405:915-40-1188\nNoma:Soon:Lanka:F:2003-11-12:180365:904-87-6292\nKelley:Stuart:Loeschner:M:1975-11-02:222901:986-53-5302\nClaudie:Georgina:Rackers:F:2001-01-04:158269:967-33-3087\nKorey:Stacey:Schimler:M:1960-10-31:178323:981-44-6972\nShakita:Crista:Smeltzer:F:1957-03-31:287486:998-32-3350\nYolando:Rosamond:Dejaeger:F:1963-03-04:179273:917-60-6125\nThaddeus:Stacy:Holubar:M:1946-03-15:17009:979-22-1967\nAmalia:Adina:Zoglmann:F:1982-05-26:90282:981-22-4249\nReda:Concha:Fetherolf:F:1930-07-31:36765:971-85-6669\nShalon:Cristin:Stimac:F:1921-09-08:35047:937-34-4405\nMoses:Cordell:Wick:M:1915-01-02:87050:900-54-2401\nJoaquin:Clint:Tredennick:M:1968-02-13:47418:905-94-9042\nKenya:Rebecca:Colicchio:F:2011-03-05:276402:934-17-3039\nVicente:Matt:Macconaghy:M:1959-07-16:224942:986-62-1762\nKizzie:Jene:Feickert:F:2009-05-10:284587:973-47-7568\nDenice:Estela:Lechliter:F:1915-09-26:202439:952-47-7774\nShanelle:Ria:Balas:F:1935-04-15:169683:916-59-7328\nMai:Ngan:Quillan:F:1933-06-12:178666:945-94-7306\nEsperanza:Misha:Sedler:F:1968-06-08:265831:989-59-9356\nScot:Elwood:Simper:M:1923-05-19:185805:942-53-8942\nPatricia:Luetta:Menden:F:1946-02-16:177612:973-58-8254\nAgnus:Theodora:Skeesick:F:1928-05-27:227267:938-39-6537\nEstelle:Jammie:Nichter:F:1947-10-27:194228:951-70-8862\nFrancoise:Lizbeth:Coburn:F:1940-02-17:85476:987-80-5902\nPalmira:Chris:Iverson:F:1969-11-28:157779:957-22-8564\nAndrea:Rigoberto:Odeh:M:1996-05-27:257959:946-80-8050\nWILFORD:PALMER:BESEMER:M:1922-01-22:245223:937506920\nNormand:Deandre:Krylo:M:1998-01-02:98937:929-43-8095\nCecila:Linn:Kinsland:F:2000-03-30:150471:921-61-6038\nZoe:Sherry:Sowa:F:1932-02-21:243213:992-70-8085\nSharri:Teressa:Shedlock:F:1975-03-12:270688:971-95-2617\nEryn:Darcie:Haslinger:F:1986-08-11:260386:934-32-3454\nLillian:Melina:Bethurum:F:2000-07-26:33122:901-64-5476\nHarlan:Elliot:Mendiaz:M:1996-06-19:195171:908-65-5414\nGlen:Len:Hsueh:M:1969-07-12:184821:932-62-7454\nBrenda:Minh:Schlichting:F:1979-03-23:221785:950-66-6868\nJeff:Julius:Day:M:2013-01-09:266378:943-27-4659\nSharika:Misha:Whitsey:F:1948-12-16:225322:983-81-8985\nLinh:Tyra:Schiffelbein:F:1974-03-19:99974:922-86-5653\nLionel:Marcos:Centner:M:1927-11-21:37129:957-79-5652\nLynna:Maggie:Piersiak:F:1925-04-26:177612:902-66-8438\nZackary:Hank:Deveja:M:1996-05-07:164715:957-15-8098\nLovie:Jill:Vondielingen:F:1980-06-11:123228:920-92-6421\nTAMIKO:ASHANTI:CHAVIRA:F:1980-02-24:111525:978891521\nMinerva:Joni:Wells:F:2013-12-17:218016:968-23-9212\nBroderick:Branden:Hoschander:M:1964-06-24:36306:962-30-2648\nTheodora:Mirtha:Stringfellow:F:1966-03-03:49786:919-16-2194\nMathilda:Ilda:Mallinger:F:2008-10-19:44690:907-13-5809\nCorinna:Easter:Kahler:F:2008-12-16:66871:978-18-2160\nLiana:Leesa:Edlow:F:1960-08-12:40989:998-59-7725\nDenna:Joy:Aiona:F:1952-02-14:135863:925-83-7076\nTiny:Keiko:Zanardi:F:1916-07-24:167794:999-46-5444\nCyrus:Royal:Areola:M:1995-12-17:290925:946-95-4528\nDemetrice:Bobbye:Savocchia:F:2003-07-29:146340:985-38-6358\nGustavo:Rudy:Fundenberger:M:1931-03-26:26237:948-97-3335\nCarmelo:Rosendo:Neisius:M:1979-04-02:110343:915-84-5747\nCruz:Alex:Ehmann:M:1958-09-25:85851:983-74-2493\nLanell:Melia:Korby:F:2014-03-23:38357:949-69-9656\nElvis:Quinton:Titch:M:1979-06-30:134356:989-15-5085\nRosemary:Azucena:Shelmon:F:2012-10-22:38275:922-71-4194\nKit:Cathey:Yerico:F:1936-05-05:220038:927-84-4977\nArden:Orlando:Byler:M:1977-07-02:124505:908-55-7026\nJarvis:Wilford:Palinkas:M:1971-12-16:198573:984-15-1697\nClarinda:Christa:Harstad:F:2013-05-06:180470:973-85-3544\nMadelaine:Alex:Mantuano:F:2006-04-24:78805:946-66-1596\nTracy:Hilario:Loosli:M:1995-03-15:86893:982-38-4900\nNicolas:Stefan:Clement:M:1999-04-09:108944:999-57-3960\nTad:Collin:Didomenico:M:1972-07-07:20242:949-11-9664\nErnest:Michael:Rippey:M:1964-01-18:17218:998-94-5302\nWilda:Nellie:Burchette:F:1993-06-14:117591:931-62-9810\nSeema:Eura:Delozier:F:2005-12-08:243999:918-90-7474\nZona:Bula:Pfrommer:F:1957-07-27:48232:987-93-3051\nMaudie:Sharmaine:Glish:F:1932-01-09:158294:980-46-6241\nErich:Man:Trageser:M:1928-06-19:133075:907-11-6850\nFarrah:Carolee:Ferrales:F:1978-08-13:128549:991-89-7685\nDelfina:Sheilah:Ridell:F:1937-12-16:197044:999-25-2275\nRochelle:Leida:Calliste:F:1973-09-12:133103:925-11-8865\nDavid:Lino:Turcotte:M:1932-04-16:165142:963-59-5949\nVanda:Kamala:Haseman:F:1936-04-10:110709:982-75-7088\nValda:Autumn:Melcher:F:1985-06-01:17721:910-61-7069\nZulema:Ming:Orrell:F:1942-08-21:213554:903-21-5959\nChristine:Steffanie:Krzynowek:F:1972-02-18:64272:928-60-3212\nErline:Yasmine:Artola:F:1983-01-07:56916:974-50-2232\nGregg:Eric:Raterman:M:1940-01-03:86431:916-13-4495\nTaylor:Guillermo:Folio:M:1950-12-21:268468:907-71-8161\nReena:Phillis:Twidwell:F:1931-12-26:219405:969-83-7062\nDean:Neal:Mohamed:M:2002-06-18:59506:944-33-8930\nWillodean:Odessa:Biffle:F:1970-10-16:41874:998-13-3168\nWerner:Winfred:Lanterman:M:1948-06-22:229604:977-70-9053\nKenton:Carter:Rexwinkle:M:1977-11-22:233049:938-19-7347\nMel:Vern:Monninger:M:1987-07-14:107282:937-47-7641\nRenaldo:Emile:Dey:M:1965-02-16:72595:923-66-6665\nIrwin:Errol:Fenk:M:1936-10-27:215604:992-21-8435\nSilas:Terrence:Prokes:M:1946-10-17:112841:941-15-2185\nFreddie:Alvina:Hallback:F:1992-07-13:88068:978-34-8517\nWyatt:Brady:Vanduyn:M:1954-01-20:28512:918-72-2716\nMonroe:Pablo:Niehoff:M:1968-05-25:20930:971-59-8781\nAntoinette:Dotty:Machol:F:1987-04-13:68097:966-73-3843\nElvin:Jarred:Wenk:M:1980-07-14:10857:966-68-8659\nDon:Buck:Palen:M:1975-10-11:225054:938-38-8870\nMafalda:Rosalia:Phann:F:1979-01-03:43113:908-68-5365\nMelody:Phyllis:Aljemal:F:1997-04-14:48593:912-15-3667\nKimbra:Carleen:Lubbock:F:2001-08-20:275609:969-71-2496\nSheldon:Mathew:Topolinski:M:1995-05-27:269105:938-40-2998\nNatividad:Valerie:Lesch:F:1947-03-25:132574:935-58-4774\nDemetrius:Prince:Summy:M:1989-08-05:135029:934-51-9675\nMarinda:Buena:Calabro:F:1952-02-07:296023:974-29-9991\nAhmed:Austin:Rubiano:M:1962-02-22:31914:957-72-1368\nAlexis:Ty:Noller:M:1954-11-18:165958:916-10-1425\nLeontine:Celine:Piccuillo:F:1968-08-02:150888:907-88-9877\nKareen:Kina:Pepito:F:1989-11-01:129334:967-83-6137\nWillian:Luke:Thuma:M:1970-11-01:166596:985-35-9120\nMonroe:Nathan:Borgstrom:M:1948-02-05:252598:904-79-4850\nBuck:Shelton:Wolden:M:2007-11-06:249439:959-23-1704\nKirk:Merrill:Pozzuoli:M:1939-06-04:240885:953-73-7289\nCruz:Conrad:Applonie:M:1989-10-19:225072:932-93-8417\nLester:Floyd:Debiase:M:1975-01-03:50092:973-43-7544\nJAN:KASHA:ROBINETT:F:1915-03-27:285444:912946164\nCindie:Christel:Betzen:F:2006-12-09:12575:931-27-7425\nAbe:Son:Greenbaum:M:1935-07-09:21434:968-97-8998\nLarue:Vida:Kellman:F:1934-01-17:223652:960-33-7469\nMarylin:Cyndy:Fonville:F:1988-09-26:61225:948-47-7367\nKazuko:Yajaira:Nellem:F:1943-01-11:152533:907-13-3546\nJordon:Harris:Hoop:M:1929-07-12:67892:916-34-5579\nBrad:Mason:Rodrigues:M:1983-08-02:93301:981-37-4665\nShavonda:Aisha:Tietje:F:1945-08-14:241402:950-55-7705\nAngele:Kathey:Rogacki:F:1929-01-09:147728:993-77-3525\nREFUGIO:ALAN:DOUSSAN:M:1925-05-11:155093:981507241\nAngele:Princess:Zipp:F:1983-04-10:167216:960-19-4409\nRolf:Mike:Gabossi:M:1988-02-21:75578:978-16-2933\nKimber:Jacki:Longs:F:1996-03-17:88738:918-50-4254\nEli:Murray:Sadlow:M:1934-04-10:118915:913-71-2081\nYesenia:Anette:Duitscher:F:2000-02-03:253164:991-50-1993\nTravis:Roman:Fann:M:1961-01-05:77079:914-64-5405\nAlbertina:Stefani:Cavrak:F:2004-04-24:194522:943-29-3146\nDelfina:Seema:Zuleger:F:1962-08-27:286421:901-31-6902\nCarolyn:Jacqui:Hyatte:F:1925-05-16:287382:926-34-7305\nValarie:Deana:Mcelfresh:F:1960-06-28:242590:931-86-9529\nMoshe:Lonnie:Clymore:M:1988-07-11:246124:927-48-6119\nBurl:Stacy:Vent:M:1943-09-08:248473:997-64-2158\nSharan:Lashunda:Szalankiewicz:F:1980-09-24:290395:969-83-4153\nHunter:Jae:Hulsman:M:1975-11-14:170197:946-18-5917\nMinh:Lawanda:Tassin:F:1976-07-16:40829:921-72-7006\nGordon:Aurelio:Gueth:M:1999-04-16:38484:940-40-2189\nBurl:Tyson:Rewenko:M:2006-02-13:82563:998-43-9087\nRosana:Oralia:Unavailable:F:1929-12-16:252445:909-49-7585\nWarner:Billy:Hunsinger:M:1918-05-12:100090:955-70-6028\nBuck:Cary:Wion:M:1956-05-26:288373:994-18-7210\nStacey:Kareem:Strysko:M:1946-02-15:214450:909-39-4592\nGregg:Edmund:Cicchetti:M:1928-10-12:94976:904-81-5828\nRobbie:Gilberto:Auprey:M:1973-08-29:151424:923-79-5699\nEmilee:Shandi:Gillentine:F:2001-09-19:269749:960-54-9060\nMohammed:Russ:Mckibbin:M:1964-03-22:81035:993-30-9568\nJody:Thurman:Malkoski:M:1994-01-16:299348:995-11-5144\nMaida:Remona:Bemrose:F:1961-04-14:39675:961-53-6489\nWally:Brady:Seryak:M:1962-01-01:10506:989-98-5050\nLakeesha:Dena:Marciel:F:1950-07-17:54058:905-32-7903\nGlennie:Alane:Varnes:F:1949-08-06:49961:935-89-6400\nBrandie:Carma:Giacobbe:F:1999-09-01:247964:991-60-8254\nGenna:Willodean:Asamoah:F:1946-07-14:14796:959-21-8617\nTillie:Felica:Blasini:F:1950-01-19:269933:913-31-3187\nClement:Pasquale:Biven:M:1963-05-29:117346:666-40-9717\nElliot:Brendan:Sacane:M:1973-06-02:213718:974-79-2044\nLester:Jamel:Cuoco:M:1917-02-26:37555:997-41-5664\nElroy:Hal:Zuch:M:1984-04-06:151372:944-60-9997\nMarti:Venetta:Volpert:F:1954-05-17:280499:987-20-6933\nKrysta:Risa:General:F:1954-05-25:175829:944-29-5706\nOlga:Rosy:Linwood:F:1994-07-02:279519:935-16-5499\nAilene:Roselee:Forcade:F:1926-09-06:143337:984-48-2586\nShad:Dorsey:Tillou:M:1961-09-11:257785:956-27-7927\nLanora:Sun:Diedrich:F:2015-04-16:26308:986-40-8770\nEugenio:Silas:Hoogendoorn:M:2012-03-08:61570:915-95-5402\nHarley:Ivory:Pompa:M:1945-05-24:239159:934-91-8518\nAshlee:Flor:Seepersaud:F:2013-04-21:259959:976-36-5267\nDominick:Burton:Villarreal:M:1945-01-24:47271:923-50-3548\nKaran:Eunice:Schamp:F:2004-09-18:286652:917-98-5383\nAbel:Tobias:Braggs:M:2008-08-08:72055:989-88-5893\nHeidi:Amie:Baison:F:2001-07-30:151363:981-22-8654\nJuliane:Lizette:Mildenhall:F:1931-06-25:73612:937-93-5672\nAnika:Marshall:Edwin:F:1980-03-28:101055:960-56-4111\nRickey:Eusebio:Remey:M:1968-11-05:27218:931-99-6609\nDomingo:Anderson:Villalovos:M:2012-07-03:76851:999-79-1172\nWoodrow:Elroy:Supnet:M:1948-10-04:107674:936-90-2731\nAbe:Sherman:Osby:M:1972-01-04:154714:976-84-1452\nElizabet:Karin:Clattenburg:F:1932-02-27:265470:986-74-5047\nJacqulyn:Shantae:Glaspie:F:2007-08-15:143505:901-74-1679\nJack:Roberto:Defir:M:2012-11-10:286813:946-74-6720\nKathe:Kayleigh:Ritzie:F:1948-04-27:164314:955-34-2732\nKathaleen:Joanna:Shimizu:F:1940-09-22:239551:666-21-6079\nMelvin:Les:Yearwood:M:1994-10-18:242120:997-39-4329\nKelly:Hyman:Kendrix:M:2012-06-16:57040:951-21-3167\nJoy:Nichol:Bendas:F:1933-06-01:240785:905-15-3496\nJulio:Adalberto:Kroc:M:1920-01-17:151781:948-49-5118\nGiovanni:Oswaldo:Gosselin:M:1931-07-18:213905:995-32-6483\nWilliam:Jared:Cianciulli:M:1939-09-18:28651:974-23-7883\nRyan:Bruce:Noye:M:1958-04-16:104699:929-27-9179\nPARKER:MELVIN:MARTINEA:M:1934-05-17:48971:984569507\nLogan:Heike:Demesa:F:1976-04-08:142400:980-62-4825\nDinorah:Sally:Palu:F:1933-07-08:228359:956-34-9308\nNapoleon:Jerome:Eeds:M:1952-11-16:60230:990-88-5493\nRupert:Randy:Subijano:M:1965-09-13:123613:911-40-9433\nStephan:Napoleon:Gloeckner:M:1998-07-25:17037:958-20-7026\nDusti:Sylvie:Fritch:F:1983-05-07:120032:906-99-9106\nYoshie:Calandra:Tompson:F:1975-01-07:82507:917-58-9043\nTerra:Gabriella:Uhler:F:1970-08-22:251384:901-43-1310\nLionel:Delmer:Nahmias:M:1993-08-08:238247:924-87-1766\nEarle:Wes:Casto:M:1977-02-11:102093:957-50-6785\nMertie:Jeraldine:Pietzsch:F:1943-06-24:86709:905-45-9584\nDeangelo:Felipe:Whitledge:M:1923-09-14:47605:928-22-3600\nIrving:Reggie:Dorvil:M:1951-11-26:261720:937-76-3750\nJonathan:Jonathon:Karlsen:M:1974-01-11:123094:992-96-6461\nAnya:Phylicia:Soileau:F:1915-04-19:165565:953-13-3751\nDelta:Tamra:Patuto:F:1989-04-26:138453:982-97-8384\nSari:Laureen:Lillibridge:F:1943-11-12:133813:955-52-8147\nDario:Ignacio:Speidell:M:1975-11-06:118465:956-63-6138\nBerry:Ike:Bevard:M:2010-09-02:17232:972-69-8283\nAnisa:Gerri:Henningson:F:1981-05-30:224237:910-22-9688\nTherese:Vena:Tiemens:F:1947-11-27:16376:992-20-1576\nKasi:Faviola:Kolin:F:1990-04-28:208645:903-17-8868\nSanto:Wiley:Mcnany:M:2007-06-05:190285:915-15-7359\nDelmar:Carmen:Mearns:M:1962-05-18:36693:943-49-2675\nRandy:Jerome:Bousman:M:1966-08-16:255899:944-92-2869\nJudie:Denyse:Amentler:F:1953-03-25:56001:953-77-3286\nMose:Quincy:Roder:M:1920-11-07:85442:972-77-5076\nBilly:Garrett:Lamarche:M:2000-08-16:297328:937-35-8713\nFrances:Israel:Bonato:M:1947-09-19:84705:998-65-3686\nSELINA:MARCIA:MUSTY:F:1977-06-01:290967:962202955\nShane:Mohammed:Aumann:M:1980-01-28:124727:907-14-7286\nErwin:Jamel:Oginski:M:2004-08-11:138805:906-89-6522\nGabriella:Kaitlyn:Stratakos:F:1933-10-10:290039:958-84-1597\nIsaias:Porter:Tretheway:M:2010-03-29:43635:996-51-7006\nShaun:Columbus:Patil:M:1967-10-14:218418:912-34-6751\nRicky:Richard:Andon:M:1974-10-17:60015:994-29-7248\nJennefer:Adela:Hanback:F:1969-11-21:192409:945-14-1770\nGrant:Pedro:Gastineau:M:1952-03-15:185675:980-59-5139\nAnamaria:Caroyln:Minihan:F:1948-01-15:111866:997-98-8484\nRickie:Roman:Moret:M:1985-05-06:282451:959-84-9533\nAssunta:Eve:Meigs:F:1968-11-25:227655:996-30-9209\nRuss:Danilo:Wisseh:M:1957-01-26:156485:986-65-3418\nMaribel:Lolita:Schulenberg:F:1924-09-25:10344:958-80-8982\nDessie:Marivel:Umbaugh:F:1994-09-27:200266:900-88-9736\nMimi:Almeda:Wakley:F:1964-02-19:169328:989-62-6548\nGarfield:Salvador:Swantek:M:1935-10-02:222555:994-61-5642\nLeon:Merlin:Nevins:M:1959-06-30:50692:980-48-9184\nKristi:Alejandrina:Guill:F:1928-10-21:150199:972-57-1273\nSALLEY:CATALINA:BARNICLE:F:1946-12-09:78555:902407159\nCharley:Irvin:Lussier:M:1966-10-20:191368:919-96-4151\nMoises:Milton:Dunleavy:M:2010-05-04:253563:909-21-8881\nTakisha:Elisha:Hillebrano:F:1968-01-13:89052:953-70-5814\nLuther:Weston:Duchatellier:M:1937-05-01:239242:920-96-8708\nArnoldo:Victor:Brewen:M:2011-09-26:41795:954-81-3722\nDuane:Arnulfo:Barnas:M:2006-12-07:73958:909-62-3922\nJacques:Terrell:Posas:M:2000-05-18:156446:901-26-9335\nRodolfo:Rosario:Baris:M:1922-12-05:114292:944-16-8986\nFreeman:Dario:Dagrella:M:2001-12-27:44505:965-57-2682\nAsa:Hyman:Chagnon:M:1\n"
     ]
    }
   ],
   "source": [
    "# ANSWER\n",
    "\n",
    "sourceFile = \"dbfs:/mnt/training/dataframes/people-with-dups.txt\"\n",
    "\n",
    "dbutils.fs.mkdirs(userhome)\n",
    "destFile = userhome + \"/people.parquet\"\n",
    "\n",
    "# In case it already exists\n",
    "dbutils.fs.rm(destFile, True)\n",
    "\n",
    "# First, let's see what the file looks like.\n",
    "print(dbutils.fs.head(sourceFile))"
   ]
  },
  {
   "cell_type": "code",
   "execution_count": 0,
   "metadata": {
    "application/vnd.databricks.v1+cell": {
     "cellMetadata": {
      "byteLimit": 2048000,
      "rowLimit": 10000
     },
     "inputWidgets": {},
     "nuid": "7f619c2d-2a64-4a36-8bdf-5aa97c8a6707",
     "showTitle": false,
     "title": ""
    }
   },
   "outputs": [],
   "source": [
    "# ANSWER\n",
    "\n",
    "# dropDuplicates() will likely introduce a shuffle, so it helps to reduce the number of post-shuffle partitions.\n",
    "spark.conf.set(\"spark.sql.shuffle.partitions\", 8)"
   ]
  },
  {
   "cell_type": "code",
   "execution_count": 0,
   "metadata": {
    "application/vnd.databricks.v1+cell": {
     "cellMetadata": {
      "byteLimit": 2048000,
      "rowLimit": 10000
     },
     "inputWidgets": {},
     "nuid": "09386ce6-5143-4ffd-9a42-a3a6d33621cd",
     "showTitle": false,
     "title": ""
    }
   },
   "outputs": [],
   "source": [
    "# ANSWER\n",
    "\n",
    "# Okay, now we can read this thing.\n",
    "\n",
    "df = (spark\n",
    "    .read\n",
    "    .option(\"header\", \"true\")\n",
    "    .option(\"inferSchema\", \"true\")\n",
    "    .option(\"sep\", \":\")\n",
    "    .csv(sourceFile)\n",
    ")"
   ]
  },
  {
   "cell_type": "code",
   "execution_count": 0,
   "metadata": {
    "application/vnd.databricks.v1+cell": {
     "cellMetadata": {
      "byteLimit": 2048000,
      "rowLimit": 10000
     },
     "inputWidgets": {},
     "nuid": "d51bfa3b-b8a0-4bc4-88a4-d8892df8428c",
     "showTitle": false,
     "title": ""
    }
   },
   "outputs": [],
   "source": [
    "# ANSWER\n",
    "from pyspark.sql.functions import *\n",
    "\n",
    "dedupedDF = (df\n",
    "  .select(col(\"*\"),\n",
    "      lower(col(\"firstName\")).alias(\"lcFirstName\"),\n",
    "      lower(col(\"lastName\")).alias(\"lcLastName\"),\n",
    "      lower(col(\"middleName\")).alias(\"lcMiddleName\"),\n",
    "      translate(col(\"ssn\"), \"-\", \"\").alias(\"ssnNums\")\n",
    "      # regexp_replace(col(\"ssn\"), \"-\", \"\").alias(\"ssnNums\")\n",
    "      # regexp_replace(col(\"ssn\"), \"\"\"^(\\d{3})(\\d{2})(\\d{4})$\"\"\", \"$1-$2-$3\").alias(\"ssnNums\")\n",
    "   )\n",
    "  .dropDuplicates([\"lcFirstName\", \"lcMiddleName\", \"lcLastName\", \"ssnNums\", \"gender\", \"birthDate\", \"salary\"])\n",
    "  .drop(\"lcFirstName\", \"lcMiddleName\", \"lcLastName\", \"ssnNums\")\n",
    ")"
   ]
  },
  {
   "cell_type": "code",
   "execution_count": 0,
   "metadata": {
    "application/vnd.databricks.v1+cell": {
     "cellMetadata": {
      "byteLimit": 2048000,
      "rowLimit": 10000
     },
     "inputWidgets": {},
     "nuid": "d53bc03c-6520-4c2b-8695-2f27b29209af",
     "showTitle": false,
     "title": ""
    }
   },
   "outputs": [
    {
     "output_type": "stream",
     "name": "stdout",
     "output_type": "stream",
     "text": [
      "Total Records: 100,000\n"
     ]
    }
   ],
   "source": [
    "# ANSWER\n",
    "\n",
    "# Now we can save the results. We'll also re-read them and count them, just as a final check.\n",
    "# Just for fun, we'll use the Snappy compression codec. It's not as compact as Gzip, but it's much faster.\n",
    "(dedupedDF.write\n",
    "   .mode(\"overwrite\")\n",
    "   .option(\"compression\", \"snappy\")\n",
    "   .parquet(destFile)\n",
    ")\n",
    "dedupedDF = spark.read.parquet(destFile)\n",
    "print(\"Total Records: {0:,}\".format( dedupedDF.count() ))"
   ]
  },
  {
   "cell_type": "code",
   "execution_count": 0,
   "metadata": {
    "application/vnd.databricks.v1+cell": {
     "cellMetadata": {
      "byteLimit": 2048000,
      "rowLimit": 10000
     },
     "inputWidgets": {},
     "nuid": "9d6d7c4f-a297-4f9f-96e1-6adf91d82653",
     "showTitle": false,
     "title": ""
    }
   },
   "outputs": [
    {
     "output_type": "display_data",
     "data": {
      "text/html": [
       "<style scoped>\n",
       "  .table-result-container {\n",
       "    max-height: 300px;\n",
       "    overflow: auto;\n",
       "  }\n",
       "  table, th, td {\n",
       "    border: 1px solid black;\n",
       "    border-collapse: collapse;\n",
       "  }\n",
       "  th, td {\n",
       "    padding: 5px;\n",
       "  }\n",
       "  th {\n",
       "    text-align: left;\n",
       "  }\n",
       "</style><div class='table-result-container'><table class='table-result'><thead style='background-color: white'><tr><th>path</th><th>name</th><th>size</th><th>modificationTime</th></tr></thead><tbody><tr><td>dbfs:/user/vishal.abnave@borregaard.com/people.parquet/_SUCCESS</td><td>_SUCCESS</td><td>0</td><td>1684687611000</td></tr><tr><td>dbfs:/user/vishal.abnave@borregaard.com/people.parquet/_committed_3768642801439434675</td><td>_committed_3768642801439434675</td><td>624</td><td>1684687611000</td></tr><tr><td>dbfs:/user/vishal.abnave@borregaard.com/people.parquet/_started_3768642801439434675</td><td>_started_3768642801439434675</td><td>0</td><td>1684687610000</td></tr><tr><td>dbfs:/user/vishal.abnave@borregaard.com/people.parquet/part-00000-tid-3768642801439434675-1d9b2ae9-f378-4d2e-8f98-d61ec80df5e1-252-1-c000.snappy.parquet</td><td>part-00000-tid-3768642801439434675-1d9b2ae9-f378-4d2e-8f98-d61ec80df5e1-252-1-c000.snappy.parquet</td><td>408085</td><td>1684687611000</td></tr><tr><td>dbfs:/user/vishal.abnave@borregaard.com/people.parquet/part-00001-tid-3768642801439434675-1d9b2ae9-f378-4d2e-8f98-d61ec80df5e1-253-1-c000.snappy.parquet</td><td>part-00001-tid-3768642801439434675-1d9b2ae9-f378-4d2e-8f98-d61ec80df5e1-253-1-c000.snappy.parquet</td><td>752260</td><td>1684687611000</td></tr><tr><td>dbfs:/user/vishal.abnave@borregaard.com/people.parquet/part-00002-tid-3768642801439434675-1d9b2ae9-f378-4d2e-8f98-d61ec80df5e1-254-1-c000.snappy.parquet</td><td>part-00002-tid-3768642801439434675-1d9b2ae9-f378-4d2e-8f98-d61ec80df5e1-254-1-c000.snappy.parquet</td><td>408748</td><td>1684687611000</td></tr><tr><td>dbfs:/user/vishal.abnave@borregaard.com/people.parquet/part-00003-tid-3768642801439434675-1d9b2ae9-f378-4d2e-8f98-d61ec80df5e1-255-1-c000.snappy.parquet</td><td>part-00003-tid-3768642801439434675-1d9b2ae9-f378-4d2e-8f98-d61ec80df5e1-255-1-c000.snappy.parquet</td><td>748279</td><td>1684687611000</td></tr><tr><td>dbfs:/user/vishal.abnave@borregaard.com/people.parquet/part-00004-tid-3768642801439434675-1d9b2ae9-f378-4d2e-8f98-d61ec80df5e1-256-1-c000.snappy.parquet</td><td>part-00004-tid-3768642801439434675-1d9b2ae9-f378-4d2e-8f98-d61ec80df5e1-256-1-c000.snappy.parquet</td><td>405791</td><td>1684687611000</td></tr><tr><td>dbfs:/user/vishal.abnave@borregaard.com/people.parquet/part-00005-tid-3768642801439434675-1d9b2ae9-f378-4d2e-8f98-d61ec80df5e1-257-1-c000.snappy.parquet</td><td>part-00005-tid-3768642801439434675-1d9b2ae9-f378-4d2e-8f98-d61ec80df5e1-257-1-c000.snappy.parquet</td><td>398710</td><td>1684687611000</td></tr></tbody></table></div>"
      ]
     },
     "metadata": {
      "application/vnd.databricks.v1+output": {
       "addedWidgets": {},
       "aggData": [],
       "aggError": "",
       "aggOverflow": false,
       "aggSchema": [],
       "aggSeriesLimitReached": false,
       "aggType": "",
       "arguments": {},
       "columnCustomDisplayInfos": {},
       "data": [
        [
         "dbfs:/user/vishal.abnave@borregaard.com/people.parquet/_SUCCESS",
         "_SUCCESS",
         0,
         1684687611000
        ],
        [
         "dbfs:/user/vishal.abnave@borregaard.com/people.parquet/_committed_3768642801439434675",
         "_committed_3768642801439434675",
         624,
         1684687611000
        ],
        [
         "dbfs:/user/vishal.abnave@borregaard.com/people.parquet/_started_3768642801439434675",
         "_started_3768642801439434675",
         0,
         1684687610000
        ],
        [
         "dbfs:/user/vishal.abnave@borregaard.com/people.parquet/part-00000-tid-3768642801439434675-1d9b2ae9-f378-4d2e-8f98-d61ec80df5e1-252-1-c000.snappy.parquet",
         "part-00000-tid-3768642801439434675-1d9b2ae9-f378-4d2e-8f98-d61ec80df5e1-252-1-c000.snappy.parquet",
         408085,
         1684687611000
        ],
        [
         "dbfs:/user/vishal.abnave@borregaard.com/people.parquet/part-00001-tid-3768642801439434675-1d9b2ae9-f378-4d2e-8f98-d61ec80df5e1-253-1-c000.snappy.parquet",
         "part-00001-tid-3768642801439434675-1d9b2ae9-f378-4d2e-8f98-d61ec80df5e1-253-1-c000.snappy.parquet",
         752260,
         1684687611000
        ],
        [
         "dbfs:/user/vishal.abnave@borregaard.com/people.parquet/part-00002-tid-3768642801439434675-1d9b2ae9-f378-4d2e-8f98-d61ec80df5e1-254-1-c000.snappy.parquet",
         "part-00002-tid-3768642801439434675-1d9b2ae9-f378-4d2e-8f98-d61ec80df5e1-254-1-c000.snappy.parquet",
         408748,
         1684687611000
        ],
        [
         "dbfs:/user/vishal.abnave@borregaard.com/people.parquet/part-00003-tid-3768642801439434675-1d9b2ae9-f378-4d2e-8f98-d61ec80df5e1-255-1-c000.snappy.parquet",
         "part-00003-tid-3768642801439434675-1d9b2ae9-f378-4d2e-8f98-d61ec80df5e1-255-1-c000.snappy.parquet",
         748279,
         1684687611000
        ],
        [
         "dbfs:/user/vishal.abnave@borregaard.com/people.parquet/part-00004-tid-3768642801439434675-1d9b2ae9-f378-4d2e-8f98-d61ec80df5e1-256-1-c000.snappy.parquet",
         "part-00004-tid-3768642801439434675-1d9b2ae9-f378-4d2e-8f98-d61ec80df5e1-256-1-c000.snappy.parquet",
         405791,
         1684687611000
        ],
        [
         "dbfs:/user/vishal.abnave@borregaard.com/people.parquet/part-00005-tid-3768642801439434675-1d9b2ae9-f378-4d2e-8f98-d61ec80df5e1-257-1-c000.snappy.parquet",
         "part-00005-tid-3768642801439434675-1d9b2ae9-f378-4d2e-8f98-d61ec80df5e1-257-1-c000.snappy.parquet",
         398710,
         1684687611000
        ]
       ],
       "datasetInfos": [],
       "dbfsResultPath": null,
       "isJsonSchema": true,
       "metadata": {},
       "overflow": false,
       "plotOptions": {
        "customPlotOptions": {},
        "displayType": "table",
        "pivotAggregation": null,
        "pivotColumns": null,
        "xColumns": null,
        "yColumns": null
       },
       "removedWidgets": [],
       "schema": [
        {
         "metadata": "{}",
         "name": "path",
         "type": "\"string\""
        },
        {
         "metadata": "{}",
         "name": "name",
         "type": "\"string\""
        },
        {
         "metadata": "{}",
         "name": "size",
         "type": "\"long\""
        },
        {
         "metadata": "{}",
         "name": "modificationTime",
         "type": "\"long\""
        }
       ],
       "type": "table"
      }
     },
     "output_type": "display_data"
    }
   ],
   "source": [
    "# ANSWER\n",
    "\n",
    "display( dbutils.fs.ls(destFile) )"
   ]
  },
  {
   "cell_type": "markdown",
   "metadata": {
    "application/vnd.databricks.v1+cell": {
     "cellMetadata": {
      "byteLimit": 2048000,
      "rowLimit": 10000
     },
     "inputWidgets": {},
     "nuid": "66923911-e54f-47fe-b9ac-92448d9b5ccd",
     "showTitle": false,
     "title": ""
    }
   },
   "source": [
    "##![Spark Logo Tiny](https://s3-us-west-2.amazonaws.com/curriculum-release/images/105/logo_spark_tiny.png) Validate Your Answer\n",
    "\n",
    "At the bare minimum, we can verify that you wrote the parquet file out to **destFile** and that you have the right number of records.\n",
    "\n",
    "Running the following cell to confirm your result:"
   ]
  },
  {
   "cell_type": "code",
   "execution_count": 0,
   "metadata": {
    "application/vnd.databricks.v1+cell": {
     "cellMetadata": {
      "byteLimit": 2048000,
      "rowLimit": 10000
     },
     "inputWidgets": {},
     "nuid": "c62d1c99-53df-4cf8-b149-1419fcc179c3",
     "showTitle": false,
     "title": ""
    }
   },
   "outputs": [
    {
     "output_type": "display_data",
     "data": {
      "text/html": [
       "<style scoped>\n",
       "  .table-result-container {\n",
       "    max-height: 300px;\n",
       "    overflow: auto;\n",
       "  }\n",
       "  table, th, td {\n",
       "    border: 1px solid black;\n",
       "    border-collapse: collapse;\n",
       "  }\n",
       "  th, td {\n",
       "    padding: 5px;\n",
       "  }\n",
       "  th {\n",
       "    text-align: left;\n",
       "  }\n",
       "</style><div class='table-result-container'><table class='table-result'><thead style='background-color: white'><tr><th>path</th><th>name</th><th>size</th><th>modificationTime</th></tr></thead><tbody><tr><td>dbfs:/user/vishal.abnave@borregaard.com/people.parquet/_SUCCESS</td><td>_SUCCESS</td><td>0</td><td>1684687611000</td></tr><tr><td>dbfs:/user/vishal.abnave@borregaard.com/people.parquet/_committed_3768642801439434675</td><td>_committed_3768642801439434675</td><td>624</td><td>1684687611000</td></tr><tr><td>dbfs:/user/vishal.abnave@borregaard.com/people.parquet/_started_3768642801439434675</td><td>_started_3768642801439434675</td><td>0</td><td>1684687610000</td></tr><tr><td>dbfs:/user/vishal.abnave@borregaard.com/people.parquet/part-00000-tid-3768642801439434675-1d9b2ae9-f378-4d2e-8f98-d61ec80df5e1-252-1-c000.snappy.parquet</td><td>part-00000-tid-3768642801439434675-1d9b2ae9-f378-4d2e-8f98-d61ec80df5e1-252-1-c000.snappy.parquet</td><td>408085</td><td>1684687611000</td></tr><tr><td>dbfs:/user/vishal.abnave@borregaard.com/people.parquet/part-00001-tid-3768642801439434675-1d9b2ae9-f378-4d2e-8f98-d61ec80df5e1-253-1-c000.snappy.parquet</td><td>part-00001-tid-3768642801439434675-1d9b2ae9-f378-4d2e-8f98-d61ec80df5e1-253-1-c000.snappy.parquet</td><td>752260</td><td>1684687611000</td></tr><tr><td>dbfs:/user/vishal.abnave@borregaard.com/people.parquet/part-00002-tid-3768642801439434675-1d9b2ae9-f378-4d2e-8f98-d61ec80df5e1-254-1-c000.snappy.parquet</td><td>part-00002-tid-3768642801439434675-1d9b2ae9-f378-4d2e-8f98-d61ec80df5e1-254-1-c000.snappy.parquet</td><td>408748</td><td>1684687611000</td></tr><tr><td>dbfs:/user/vishal.abnave@borregaard.com/people.parquet/part-00003-tid-3768642801439434675-1d9b2ae9-f378-4d2e-8f98-d61ec80df5e1-255-1-c000.snappy.parquet</td><td>part-00003-tid-3768642801439434675-1d9b2ae9-f378-4d2e-8f98-d61ec80df5e1-255-1-c000.snappy.parquet</td><td>748279</td><td>1684687611000</td></tr><tr><td>dbfs:/user/vishal.abnave@borregaard.com/people.parquet/part-00004-tid-3768642801439434675-1d9b2ae9-f378-4d2e-8f98-d61ec80df5e1-256-1-c000.snappy.parquet</td><td>part-00004-tid-3768642801439434675-1d9b2ae9-f378-4d2e-8f98-d61ec80df5e1-256-1-c000.snappy.parquet</td><td>405791</td><td>1684687611000</td></tr><tr><td>dbfs:/user/vishal.abnave@borregaard.com/people.parquet/part-00005-tid-3768642801439434675-1d9b2ae9-f378-4d2e-8f98-d61ec80df5e1-257-1-c000.snappy.parquet</td><td>part-00005-tid-3768642801439434675-1d9b2ae9-f378-4d2e-8f98-d61ec80df5e1-257-1-c000.snappy.parquet</td><td>398710</td><td>1684687611000</td></tr></tbody></table></div>"
      ]
     },
     "metadata": {
      "application/vnd.databricks.v1+output": {
       "addedWidgets": {},
       "aggData": [],
       "aggError": "",
       "aggOverflow": false,
       "aggSchema": [],
       "aggSeriesLimitReached": false,
       "aggType": "",
       "arguments": {},
       "columnCustomDisplayInfos": {},
       "data": [
        [
         "dbfs:/user/vishal.abnave@borregaard.com/people.parquet/_SUCCESS",
         "_SUCCESS",
         0,
         1684687611000
        ],
        [
         "dbfs:/user/vishal.abnave@borregaard.com/people.parquet/_committed_3768642801439434675",
         "_committed_3768642801439434675",
         624,
         1684687611000
        ],
        [
         "dbfs:/user/vishal.abnave@borregaard.com/people.parquet/_started_3768642801439434675",
         "_started_3768642801439434675",
         0,
         1684687610000
        ],
        [
         "dbfs:/user/vishal.abnave@borregaard.com/people.parquet/part-00000-tid-3768642801439434675-1d9b2ae9-f378-4d2e-8f98-d61ec80df5e1-252-1-c000.snappy.parquet",
         "part-00000-tid-3768642801439434675-1d9b2ae9-f378-4d2e-8f98-d61ec80df5e1-252-1-c000.snappy.parquet",
         408085,
         1684687611000
        ],
        [
         "dbfs:/user/vishal.abnave@borregaard.com/people.parquet/part-00001-tid-3768642801439434675-1d9b2ae9-f378-4d2e-8f98-d61ec80df5e1-253-1-c000.snappy.parquet",
         "part-00001-tid-3768642801439434675-1d9b2ae9-f378-4d2e-8f98-d61ec80df5e1-253-1-c000.snappy.parquet",
         752260,
         1684687611000
        ],
        [
         "dbfs:/user/vishal.abnave@borregaard.com/people.parquet/part-00002-tid-3768642801439434675-1d9b2ae9-f378-4d2e-8f98-d61ec80df5e1-254-1-c000.snappy.parquet",
         "part-00002-tid-3768642801439434675-1d9b2ae9-f378-4d2e-8f98-d61ec80df5e1-254-1-c000.snappy.parquet",
         408748,
         1684687611000
        ],
        [
         "dbfs:/user/vishal.abnave@borregaard.com/people.parquet/part-00003-tid-3768642801439434675-1d9b2ae9-f378-4d2e-8f98-d61ec80df5e1-255-1-c000.snappy.parquet",
         "part-00003-tid-3768642801439434675-1d9b2ae9-f378-4d2e-8f98-d61ec80df5e1-255-1-c000.snappy.parquet",
         748279,
         1684687611000
        ],
        [
         "dbfs:/user/vishal.abnave@borregaard.com/people.parquet/part-00004-tid-3768642801439434675-1d9b2ae9-f378-4d2e-8f98-d61ec80df5e1-256-1-c000.snappy.parquet",
         "part-00004-tid-3768642801439434675-1d9b2ae9-f378-4d2e-8f98-d61ec80df5e1-256-1-c000.snappy.parquet",
         405791,
         1684687611000
        ],
        [
         "dbfs:/user/vishal.abnave@borregaard.com/people.parquet/part-00005-tid-3768642801439434675-1d9b2ae9-f378-4d2e-8f98-d61ec80df5e1-257-1-c000.snappy.parquet",
         "part-00005-tid-3768642801439434675-1d9b2ae9-f378-4d2e-8f98-d61ec80df5e1-257-1-c000.snappy.parquet",
         398710,
         1684687611000
        ]
       ],
       "datasetInfos": [],
       "dbfsResultPath": null,
       "isJsonSchema": true,
       "metadata": {},
       "overflow": false,
       "plotOptions": {
        "customPlotOptions": {},
        "displayType": "table",
        "pivotAggregation": null,
        "pivotColumns": null,
        "xColumns": null,
        "yColumns": null
       },
       "removedWidgets": [],
       "schema": [
        {
         "metadata": "{}",
         "name": "path",
         "type": "\"string\""
        },
        {
         "metadata": "{}",
         "name": "name",
         "type": "\"string\""
        },
        {
         "metadata": "{}",
         "name": "size",
         "type": "\"long\""
        },
        {
         "metadata": "{}",
         "name": "modificationTime",
         "type": "\"long\""
        }
       ],
       "type": "table"
      }
     },
     "output_type": "display_data"
    }
   ],
   "source": [
    "files = dbutils.fs.ls(destFile)\n",
    "display(files)"
   ]
  },
  {
   "cell_type": "code",
   "execution_count": 0,
   "metadata": {
    "application/vnd.databricks.v1+cell": {
     "cellMetadata": {
      "byteLimit": 2048000,
      "rowLimit": 10000
     },
     "inputWidgets": {},
     "nuid": "15906691-fa38-4d43-8888-7ab82e68c97f",
     "showTitle": false,
     "title": ""
    }
   },
   "outputs": [
    {
     "output_type": "stream",
     "name": "stdout",
     "output_type": "stream",
     "text": [
      "01 Expected 100000 Records was correct, your answer: 100000\n"
     ]
    },
    {
     "output_type": "display_data",
     "data": {
      "text/html": [
       "<html><body><div style=\"font-weight:bold; font-size:larger; border-bottom: 1px solid #f0f0f0\">Your Answers</div><table style='margin:0'><tr style='font-size:larger; white-space:pre'>\n",
       "                  <td>01 Expected 100000 Records:&nbsp;&nbsp;</td>\n",
       "                  <td style=\"color:green; text-align:center; font-weight:bold\">passed</td>\n",
       "                  <td style=\"white-space:pre; font-family: monospace\">&nbsp;&nbsp;100000</td>\n",
       "                </tr></table></body></html>"
      ]
     },
     "metadata": {},
     "output_type": "display_data"
    }
   ],
   "source": [
    "finalDF = spark.read.parquet(destFile)\n",
    "finalCount = finalDF.count()\n",
    "\n",
    "clearYourResults()\n",
    "validateYourAnswer(\"01 Expected 100000 Records\", 972882115, finalCount)\n",
    "summarizeYourResults()\n"
   ]
  }
 ],
 "metadata": {
  "application/vnd.databricks.v1+notebook": {
   "dashboards": [],
   "language": "python",
   "notebookMetadata": {
    "pythonIndentUnit": 4
   },
   "notebookName": "Solution - Exercise-Deduplication-of-Data",
   "widgets": {}
  }
 },
 "nbformat": 4,
 "nbformat_minor": 0
}

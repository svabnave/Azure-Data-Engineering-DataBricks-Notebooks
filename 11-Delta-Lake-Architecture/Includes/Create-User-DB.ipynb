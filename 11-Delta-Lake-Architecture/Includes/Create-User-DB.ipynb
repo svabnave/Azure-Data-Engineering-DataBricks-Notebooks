{
 "cells": [
  {
   "cell_type": "code",
   "execution_count": 0,
   "metadata": {
    "application/vnd.databricks.v1+cell": {
     "cellMetadata": {
      "byteLimit": 2048000,
      "rowLimit": 10000
     },
     "inputWidgets": {},
     "nuid": "6d804a0f-4760-489b-8f0f-9caebcb95da4",
     "showTitle": false,
     "title": ""
    }
   },
   "outputs": [
    {
     "output_type": "display_data",
     "data": {
      "text/html": [
       "Created user-specific database"
      ]
     },
     "metadata": {
      "application/vnd.databricks.v1+output": {
       "addedWidgets": {},
       "arguments": {},
       "data": "Created user-specific database",
       "datasetInfos": [],
       "metadata": {
        "isDbfsCommandResult": false
       },
       "removedWidgets": [],
       "textData": null,
       "type": "htmlSandbox"
      }
     },
     "output_type": "display_data"
    }
   ],
   "source": [
    "%scala\n",
    "val databaseName = {\n",
    "  val tags = com.databricks.logging.AttributionContext.current.tags\n",
    "  val name = tags.getOrElse(com.databricks.logging.BaseTagDefinitions.TAG_USER, java.util.UUID.randomUUID.toString.replace(\"-\", \"\"))\n",
    "  val username = if (name != \"unknown\") name else dbutils.widgets.get(\"databricksUsername\")\n",
    "  val databaseName   = username.replaceAll(\"[^a-zA-Z0-9]\", \"_\") + \"_db\"\n",
    "  spark.conf.set(\"com.databricks.training.spark.databaseName\", databaseName)\n",
    "  databaseName\n",
    "}\n",
    "\n",
    "displayHTML(s\"Created user-specific database\")"
   ]
  },
  {
   "cell_type": "code",
   "execution_count": 0,
   "metadata": {
    "application/vnd.databricks.v1+cell": {
     "cellMetadata": {
      "byteLimit": 2048000,
      "rowLimit": 10000
     },
     "inputWidgets": {},
     "nuid": "a15d989b-2007-4b8c-9689-92320a3f1643",
     "showTitle": false,
     "title": ""
    }
   },
   "outputs": [
    {
     "output_type": "display_data",
     "data": {
      "text/html": [
       "Using the database <b style=\"color:green\">vishal_abnave_borregaard_com_db</b>."
      ]
     },
     "metadata": {
      "application/vnd.databricks.v1+output": {
       "addedWidgets": {},
       "arguments": {},
       "data": "Using the database <b style=\"color:green\">vishal_abnave_borregaard_com_db</b>.",
       "datasetInfos": [],
       "metadata": {
        "isDbfsCommandResult": false
       },
       "removedWidgets": [],
       "textData": null,
       "type": "htmlSandbox"
      }
     },
     "output_type": "display_data"
    }
   ],
   "source": [
    "%scala\n",
    "spark.sql(\"CREATE DATABASE IF NOT EXISTS `%s`\".format(databaseName))\n",
    "spark.sql(\"USE `%s`\".format(databaseName))\n",
    "\n",
    "displayHTML(\"\"\"Using the database <b style=\"color:green\">%s</b>.\"\"\".format(databaseName))"
   ]
  }
 ],
 "metadata": {
  "application/vnd.databricks.v1+notebook": {
   "dashboards": [],
   "language": "python",
   "notebookMetadata": {
    "pythonIndentUnit": 4
   },
   "notebookName": "Create-User-DB",
   "widgets": {}
  }
 },
 "nbformat": 4,
 "nbformat_minor": 0
}

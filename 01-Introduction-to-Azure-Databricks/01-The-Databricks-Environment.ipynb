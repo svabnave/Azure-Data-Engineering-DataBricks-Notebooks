{
 "cells": [
  {
   "cell_type": "markdown",
   "metadata": {
    "application/vnd.databricks.v1+cell": {
     "cellMetadata": {
      "byteLimit": 2048000,
      "rowLimit": 10000
     },
     "inputWidgets": {},
     "nuid": "e6db0744-7518-4a0b-b66b-39a783af225d",
     "showTitle": false,
     "title": ""
    }
   },
   "source": [
    "# Work with Notebooks\n",
    "\n",
    "**Technical Accomplishments:**\n",
    "- Set the stage for learning on the Databricks platform\n",
    "- Demonstrate how to develop & execute code within a notebook\n",
    "- Introduce the Databricks File System (DBFS)\n",
    "- Introduce `dbutils`\n",
    "- Review the various \"Magic Commands\"\n",
    "- Review various built-in commands that facilitate working with the notebooks"
   ]
  },
  {
   "cell_type": "markdown",
   "metadata": {
    "application/vnd.databricks.v1+cell": {
     "cellMetadata": {
      "byteLimit": 2048000,
      "rowLimit": 10000
     },
     "inputWidgets": {},
     "nuid": "68c2cc4b-00eb-4b2c-b998-4e2567f29ffa",
     "showTitle": false,
     "title": ""
    }
   },
   "source": [
    "### Feeling Lost?\n",
    "The [Databricks Unified Support Portal](https://help.databricks.com/s/) is a great place to search forums and documentation for Databricks and Spark.\n",
    "\n",
    "Databricks also offers [multiple tiers for dedicated support](https://databricks.com/support)."
   ]
  },
  {
   "cell_type": "markdown",
   "metadata": {
    "application/vnd.databricks.v1+cell": {
     "cellMetadata": {
      "byteLimit": 2048000,
      "rowLimit": 10000
     },
     "inputWidgets": {},
     "nuid": "7741e59d-343f-47da-9a0f-e404eaacddfc",
     "showTitle": false,
     "title": ""
    }
   },
   "source": [
    "-sandbox\n",
    "##![Spark Logo Tiny](https://files.training.databricks.com/images/wiki-book/general/logo_spark_tiny.png) Scala, Python, R, SQL\n",
    "\n",
    "* Each notebook is tied to a specific language: **Scala**, **Python**, **SQL** or **R**\n",
    "* Run the cell below using one of the following options:\n",
    "  * **CTRL+ENTER** or **CMD+RETURN**\n",
    "  * **SHIFT+ENTER** or **SHIFT+RETURN** to run the cell and move to the next one\n",
    "  * Using **Run Cell**, **Run All Above** or **Run All Below** as seen here<br/><img style=\"box-shadow: 5px 5px 5px 0px rgba(0,0,0,0.25); border: 1px solid rgba(0,0,0,0.25);\" src=\"https://files.training.databricks.com/images/notebook-cell-run-cmd.png\"/>\n",
    "\n",
    "Feel free to tweak the code below if you like:"
   ]
  },
  {
   "cell_type": "code",
   "execution_count": 0,
   "metadata": {
    "application/vnd.databricks.v1+cell": {
     "cellMetadata": {
      "byteLimit": 2048000,
      "rowLimit": 10000
     },
     "inputWidgets": {},
     "nuid": "23726348-61bb-4882-acef-27c3d0443a39",
     "showTitle": false,
     "title": ""
    }
   },
   "outputs": [
    {
     "output_type": "stream",
     "name": "stdout",
     "output_type": "stream",
     "text": [
      "I'm running Python!\n"
     ]
    }
   ],
   "source": [
    "print(\"I'm running Python!\")"
   ]
  },
  {
   "cell_type": "markdown",
   "metadata": {
    "application/vnd.databricks.v1+cell": {
     "cellMetadata": {
      "byteLimit": 2048000,
      "rowLimit": 10000
     },
     "inputWidgets": {},
     "nuid": "3a1cc1e7-cbe5-4fec-aade-d807f222ab46",
     "showTitle": false,
     "title": ""
    }
   },
   "source": [
    "##![Spark Logo Tiny](https://files.training.databricks.com/images/wiki-book/general/logo_spark_tiny.png) Magic Commands\n",
    "* Magic Commands are specific to the Databricks notebooks\n",
    "* They are very similar to Magic Commands found in comparable notebook products\n",
    "* These are built-in commands that do not apply to the notebook's default language\n",
    "* A single percent (%) symbol at the start of a cell identifies a Magic Commands"
   ]
  },
  {
   "cell_type": "markdown",
   "metadata": {
    "application/vnd.databricks.v1+cell": {
     "cellMetadata": {
      "byteLimit": 2048000,
      "rowLimit": 10000
     },
     "inputWidgets": {},
     "nuid": "385412f6-9f71-456f-a18b-7d0620854750",
     "showTitle": false,
     "title": ""
    }
   },
   "source": [
    "### Magic Command: &percnt;sh\n",
    "For example, **&percnt;sh** allows us to execute shell commands on the driver"
   ]
  },
  {
   "cell_type": "code",
   "execution_count": 0,
   "metadata": {
    "application/vnd.databricks.v1+cell": {
     "cellMetadata": {
      "byteLimit": 2048000,
      "rowLimit": 10000
     },
     "inputWidgets": {},
     "nuid": "ce54c259-256e-46c8-8e23-199af60cd375",
     "showTitle": false,
     "title": ""
    }
   },
   "outputs": [
    {
     "output_type": "stream",
     "name": "stdout",
     "output_type": "stream",
     "text": [
      "  357 ?        00:01:11 java\n  570 ?        00:01:55 java\n"
     ]
    }
   ],
   "source": [
    "%sh ps | grep 'java'"
   ]
  },
  {
   "cell_type": "markdown",
   "metadata": {
    "application/vnd.databricks.v1+cell": {
     "cellMetadata": {
      "byteLimit": 2048000,
      "rowLimit": 10000
     },
     "inputWidgets": {},
     "nuid": "13800c92-c9dd-445f-b285-f5139276e63a",
     "showTitle": false,
     "title": ""
    }
   },
   "source": [
    "### Magic Command: Other Languages\n",
    "Additional Magic Commands allow for the execution of code in languages other than the notebook's default:\n",
    "* **&percnt;python**\n",
    "* **&percnt;scala**\n",
    "* **&percnt;sql**\n",
    "* **&percnt;r**"
   ]
  },
  {
   "cell_type": "code",
   "execution_count": 0,
   "metadata": {
    "application/vnd.databricks.v1+cell": {
     "cellMetadata": {
      "byteLimit": 2048000,
      "rowLimit": 10000
     },
     "inputWidgets": {},
     "nuid": "0a45b800-defa-4158-b49b-e6da6c994f4c",
     "showTitle": false,
     "title": ""
    }
   },
   "outputs": [
    {
     "output_type": "display_data",
     "data": {
      "text/html": [
       "<style scoped>\n",
       "  .ansiout {\n",
       "    display: block;\n",
       "    unicode-bidi: embed;\n",
       "    white-space: pre-wrap;\n",
       "    word-wrap: break-word;\n",
       "    word-break: break-all;\n",
       "    font-family: \"Source Code Pro\", \"Menlo\", monospace;;\n",
       "    font-size: 13px;\n",
       "    color: #555;\n",
       "    margin-left: 4px;\n",
       "    line-height: 19px;\n",
       "  }\n",
       "</style>\n",
       "<div class=\"ansiout\">Hello Scala!\n",
       "</div>"
      ]
     },
     "metadata": {
      "application/vnd.databricks.v1+output": {
       "addedWidgets": {},
       "arguments": {},
       "data": "<div class=\"ansiout\">Hello Scala!\n</div>",
       "datasetInfos": [],
       "metadata": {
        "isDbfsCommandResult": false
       },
       "removedWidgets": [],
       "type": "html"
      }
     },
     "output_type": "display_data"
    }
   ],
   "source": [
    "%scala\n",
    "\n",
    "println(\"Hello Scala!\")"
   ]
  },
  {
   "cell_type": "code",
   "execution_count": 0,
   "metadata": {
    "application/vnd.databricks.v1+cell": {
     "cellMetadata": {
      "byteLimit": 2048000,
      "rowLimit": 10000
     },
     "inputWidgets": {},
     "nuid": "d565c858-9b16-4b05-87bc-07c950d187ec",
     "showTitle": false,
     "title": ""
    }
   },
   "outputs": [
    {
     "output_type": "stream",
     "name": "stdout",
     "output_type": "stream",
     "text": [
      "Hello Python!\n"
     ]
    }
   ],
   "source": [
    "%python\n",
    "\n",
    "print(\"Hello Python!\")"
   ]
  },
  {
   "cell_type": "code",
   "execution_count": 0,
   "metadata": {
    "application/vnd.databricks.v1+cell": {
     "cellMetadata": {
      "byteLimit": 2048000,
      "rowLimit": 10000
     },
     "inputWidgets": {},
     "nuid": "4f2cfc40-abdb-4cfb-8775-e73c101b6522",
     "showTitle": false,
     "title": ""
    }
   },
   "outputs": [
    {
     "output_type": "stream",
     "name": "stdout",
     "output_type": "stream",
     "text": [
      "[1] Hello R!"
     ]
    }
   ],
   "source": [
    "%r\n",
    "\n",
    "print(\"Hello R!\", quote=FALSE)"
   ]
  },
  {
   "cell_type": "code",
   "execution_count": 0,
   "metadata": {
    "application/vnd.databricks.v1+cell": {
     "cellMetadata": {
      "byteLimit": 2048000,
      "implicitDf": true,
      "rowLimit": 10000
     },
     "inputWidgets": {},
     "nuid": "499001e1-121b-4b47-a7e8-c6cd975111d0",
     "showTitle": false,
     "title": ""
    }
   },
   "outputs": [
    {
     "output_type": "display_data",
     "data": {
      "text/html": [
       "<style scoped>\n",
       "  .table-result-container {\n",
       "    max-height: 300px;\n",
       "    overflow: auto;\n",
       "  }\n",
       "  table, th, td {\n",
       "    border: 1px solid black;\n",
       "    border-collapse: collapse;\n",
       "  }\n",
       "  th, td {\n",
       "    padding: 5px;\n",
       "  }\n",
       "  th {\n",
       "    text-align: left;\n",
       "  }\n",
       "</style><div class='table-result-container'><table class='table-result'><thead style='background-color: white'><tr><th>Hello SQL!</th></tr></thead><tbody><tr><td>Hello SQL!</td></tr></tbody></table></div>"
      ]
     },
     "metadata": {
      "application/vnd.databricks.v1+output": {
       "addedWidgets": {},
       "aggData": [],
       "aggError": "",
       "aggOverflow": false,
       "aggSchema": [],
       "aggSeriesLimitReached": false,
       "aggType": "",
       "arguments": {},
       "columnCustomDisplayInfos": {},
       "data": [
        [
         "Hello SQL!"
        ]
       ],
       "datasetInfos": [],
       "dbfsResultPath": null,
       "isJsonSchema": true,
       "metadata": {},
       "overflow": false,
       "plotOptions": {
        "customPlotOptions": {},
        "displayType": "table",
        "pivotAggregation": null,
        "pivotColumns": null,
        "xColumns": null,
        "yColumns": null
       },
       "removedWidgets": [],
       "schema": [
        {
         "metadata": "{}",
         "name": "Hello SQL!",
         "type": "\"string\""
        }
       ],
       "type": "table"
      }
     },
     "output_type": "display_data"
    }
   ],
   "source": [
    "%sql\n",
    "\n",
    "select \"Hello SQL!\""
   ]
  },
  {
   "cell_type": "markdown",
   "metadata": {
    "application/vnd.databricks.v1+cell": {
     "cellMetadata": {
      "byteLimit": 2048000,
      "rowLimit": 10000
     },
     "inputWidgets": {},
     "nuid": "3a648f53-47d0-4fec-8b35-1a8dca11b2b1",
     "showTitle": false,
     "title": ""
    }
   },
   "source": [
    "### Magic Command: &percnt;md\n",
    "\n",
    "Our favorite Magic Command **&percnt;md** allows us to render Markdown in a cell:\n",
    "* Double click this cell to begin editing it\n",
    "* Then hit `Esc` to stop editing\n",
    "\n",
    "# Title One\n",
    "## Title Two\n",
    "### Title Three\n",
    "\n",
    "This is a test of the emergency broadcast system. This is only a test.\n",
    "\n",
    "This is text with a **bold** word in it.\n",
    "\n",
    "This is text with an *italicized* word in it.\n",
    "\n",
    "This is an ordered list\n",
    "0. once\n",
    "0. two\n",
    "0. three\n",
    "\n",
    "This is an unordered list\n",
    "* apples\n",
    "* peaches\n",
    "* bananas\n",
    "\n",
    "Links/Embedded HTML: <a href=\"http://bfy.tw/19zq\" target=\"_blank\">What is Markdown?</a>\n",
    "\n",
    "Images:\n",
    "![Spark Engines](https://files.training.databricks.com/images/Apache-Spark-Logo_TM_200px.png)\n",
    "\n",
    "And of course, tables:\n",
    "\n",
    "| Name  | Age | Sex    |\n",
    "|-------|-----|--------|\n",
    "| Tom   | 32  | Male   |\n",
    "| Mary  | 29  | Female |\n",
    "| Dick  | 73  | Male   |\n",
    "| Sally | 55  | Female |"
   ]
  },
  {
   "cell_type": "markdown",
   "metadata": {
    "application/vnd.databricks.v1+cell": {
     "cellMetadata": {
      "byteLimit": 2048000,
      "rowLimit": 10000
     },
     "inputWidgets": {},
     "nuid": "d2785eda-0134-4cad-b154-a5ab50f1bd7c",
     "showTitle": false,
     "title": ""
    }
   },
   "source": [
    "### Magic Command: &percnt;run\n",
    "* You can run a notebook from another notebook by using the Magic Command **%run**\n",
    "* All variables & functions defined in that other notebook will become available in your current notebook\n",
    "\n",
    "For example, The following cell should fail to execute because the variable `username` has not yet been declared:"
   ]
  },
  {
   "cell_type": "code",
   "execution_count": 0,
   "metadata": {
    "application/vnd.databricks.v1+cell": {
     "cellMetadata": {
      "byteLimit": 2048000,
      "rowLimit": 10000
     },
     "inputWidgets": {},
     "nuid": "8b50b106-1f0f-4bac-90e1-d24008361324",
     "showTitle": false,
     "title": ""
    }
   },
   "outputs": [
    {
     "output_type": "display_data",
     "data": {
      "text/plain": [
       "\u001B[0;31m---------------------------------------------------------------------------\u001B[0m\n",
       "\u001B[0;31mNameError\u001B[0m                                 Traceback (most recent call last)\n",
       "File \u001B[0;32m<command-545192420101519>:1\u001B[0m\n",
       "\u001B[0;32m----> 1\u001B[0m \u001B[38;5;28mprint\u001B[39m(\u001B[38;5;124m\"\u001B[39m\u001B[38;5;124musername: \u001B[39m\u001B[38;5;124m\"\u001B[39m \u001B[38;5;241m+\u001B[39m \u001B[43musername\u001B[49m)\n",
       "\n",
       "\u001B[0;31mNameError\u001B[0m: name 'username' is not defined"
      ]
     },
     "metadata": {
      "application/vnd.databricks.v1+output": {
       "arguments": {},
       "data": "\u001B[0;31m---------------------------------------------------------------------------\u001B[0m\n\u001B[0;31mNameError\u001B[0m                                 Traceback (most recent call last)\nFile \u001B[0;32m<command-545192420101519>:1\u001B[0m\n\u001B[0;32m----> 1\u001B[0m \u001B[38;5;28mprint\u001B[39m(\u001B[38;5;124m\"\u001B[39m\u001B[38;5;124musername: \u001B[39m\u001B[38;5;124m\"\u001B[39m \u001B[38;5;241m+\u001B[39m \u001B[43musername\u001B[49m)\n\n\u001B[0;31mNameError\u001B[0m: name 'username' is not defined",
       "errorSummary": "<span class='ansi-red-fg'>NameError</span>: name 'username' is not defined",
       "errorTraceType": "ansi",
       "metadata": {},
       "type": "ipynbError"
      }
     },
     "output_type": "display_data"
    }
   ],
   "source": [
    "print(\"username: \" + username)"
   ]
  },
  {
   "cell_type": "markdown",
   "metadata": {
    "application/vnd.databricks.v1+cell": {
     "cellMetadata": {
      "byteLimit": 2048000,
      "rowLimit": 10000
     },
     "inputWidgets": {},
     "nuid": "0990efc8-8f67-4a21-a858-a556c94c5685",
     "showTitle": false,
     "title": ""
    }
   },
   "source": [
    "But we can declare it and a handful of other variables and functions buy running this cell:"
   ]
  },
  {
   "cell_type": "code",
   "execution_count": 0,
   "metadata": {
    "application/vnd.databricks.v1+cell": {
     "cellMetadata": {
      "byteLimit": 2048000,
      "rowLimit": 10000
     },
     "inputWidgets": {},
     "nuid": "92f0ba6d-1b57-4cfc-821b-b5a95e27476d",
     "showTitle": false,
     "title": ""
    }
   },
   "outputs": [
    {
     "output_type": "display_data",
     "data": {
      "text/html": [
       "Initialized classroom variables & functions..."
      ]
     },
     "metadata": {
      "application/vnd.databricks.v1+output": {
       "addedWidgets": {},
       "arguments": {},
       "data": "Initialized classroom variables & functions...",
       "datasetInfos": [],
       "metadata": {
        "isDbfsCommandResult": false
       },
       "removedWidgets": [],
       "textData": null,
       "type": "htmlSandbox"
      }
     },
     "output_type": "display_data"
    },
    {
     "output_type": "display_data",
     "data": {
      "text/html": [
       "Mounted datasets to <b>/mnt/training</b> from <b>wasbs://training@dbtrainwesteurope.blob.core.windows.net/<b>"
      ]
     },
     "metadata": {
      "application/vnd.databricks.v1+output": {
       "addedWidgets": {},
       "arguments": {},
       "data": "Mounted datasets to <b>/mnt/training</b> from <b>wasbs://training@dbtrainwesteurope.blob.core.windows.net/<b>",
       "datasetInfos": [],
       "metadata": {
        "isDbfsCommandResult": false
       },
       "removedWidgets": [],
       "textData": null,
       "type": "htmlSandbox"
      }
     },
     "output_type": "display_data"
    },
    {
     "output_type": "display_data",
     "data": {
      "text/html": [
       "Created user-specific database"
      ]
     },
     "metadata": {
      "application/vnd.databricks.v1+output": {
       "addedWidgets": {},
       "arguments": {},
       "data": "Created user-specific database",
       "datasetInfos": [],
       "metadata": {
        "isDbfsCommandResult": false
       },
       "removedWidgets": [],
       "textData": null,
       "type": "htmlSandbox"
      }
     },
     "output_type": "display_data"
    },
    {
     "output_type": "display_data",
     "data": {
      "text/html": [
       "Using the database <b style=\"color:green\">vishal_abnave_borregaard_com_db</b>."
      ]
     },
     "metadata": {
      "application/vnd.databricks.v1+output": {
       "addedWidgets": {},
       "arguments": {},
       "data": "Using the database <b style=\"color:green\">vishal_abnave_borregaard_com_db</b>.",
       "datasetInfos": [],
       "metadata": {
        "isDbfsCommandResult": false
       },
       "removedWidgets": [],
       "textData": null,
       "type": "htmlSandbox"
      }
     },
     "output_type": "display_data"
    },
    {
     "output_type": "display_data",
     "data": {
      "text/html": [
       "All done!"
      ]
     },
     "metadata": {
      "application/vnd.databricks.v1+output": {
       "addedWidgets": {},
       "arguments": {},
       "data": "All done!",
       "datasetInfos": [],
       "metadata": {},
       "removedWidgets": [],
       "textData": null,
       "type": "htmlSandbox"
      }
     },
     "output_type": "display_data"
    }
   ],
   "source": [
    "%run \"./Includes/Classroom-Setup\""
   ]
  },
  {
   "cell_type": "markdown",
   "metadata": {
    "application/vnd.databricks.v1+cell": {
     "cellMetadata": {
      "byteLimit": 2048000,
      "rowLimit": 10000
     },
     "inputWidgets": {},
     "nuid": "4f41701b-30c5-4e10-ac7d-adc0c974c351",
     "showTitle": false,
     "title": ""
    }
   },
   "source": [
    "In this case, the notebook `Classroom Setup` declares the following:\n",
    "  * The variable `username`\n",
    "  * The variable `userhome`\n",
    "  * The function `assertSparkVersion(..)`\n",
    "  * And others..."
   ]
  },
  {
   "cell_type": "code",
   "execution_count": 0,
   "metadata": {
    "application/vnd.databricks.v1+cell": {
     "cellMetadata": {
      "byteLimit": 2048000,
      "rowLimit": 10000
     },
     "inputWidgets": {},
     "nuid": "3e0a04fd-a61d-4140-9bd9-65f28bec16b3",
     "showTitle": false,
     "title": ""
    }
   },
   "outputs": [
    {
     "output_type": "stream",
     "name": "stdout",
     "output_type": "stream",
     "text": [
      "username: vishal.abnave@borregaard.com\nuserhome: dbfs:/user/vishal.abnave@borregaard.com\n"
     ]
    }
   ],
   "source": [
    "print(\"username: \" + username)\n",
    "print(\"userhome: \" + userhome)"
   ]
  },
  {
   "cell_type": "markdown",
   "metadata": {
    "application/vnd.databricks.v1+cell": {
     "cellMetadata": {
      "byteLimit": 2048000,
      "rowLimit": 10000
     },
     "inputWidgets": {},
     "nuid": "9c2a25bd-f4b6-41a5-956d-9f3d4c24f876",
     "showTitle": false,
     "title": ""
    }
   },
   "source": [
    "We will use those variables and functions throughout this class.\n",
    "\n",
    "One of the other things `Classroom Setup` does for us is to mount all the datasets needed for this class into the Databricks File System."
   ]
  },
  {
   "cell_type": "markdown",
   "metadata": {
    "application/vnd.databricks.v1+cell": {
     "cellMetadata": {
      "byteLimit": 2048000,
      "rowLimit": 10000
     },
     "inputWidgets": {},
     "nuid": "fd483ede-70d4-48d0-aa8d-460815edbab5",
     "showTitle": false,
     "title": ""
    }
   },
   "source": [
    "##![Spark Logo Tiny](https://files.training.databricks.com/images/wiki-book/general/logo_spark_tiny.png) Databricks File System - DBFS\n",
    "* DBFS is a layer over a cloud-based object store\n",
    "* Files in DBFS are persisted to the object store\n",
    "* The lifetime of files in the DBFS are **NOT** tied to the lifetime of our cluster"
   ]
  },
  {
   "cell_type": "markdown",
   "metadata": {
    "application/vnd.databricks.v1+cell": {
     "cellMetadata": {
      "byteLimit": 2048000,
      "rowLimit": 10000
     },
     "inputWidgets": {},
     "nuid": "b77e2de8-f719-4fa9-8809-4efc8a5bb246",
     "showTitle": false,
     "title": ""
    }
   },
   "source": [
    "### Mounting Data into DBFS\n",
    "* Mounting other object stores into DBFS gives Databricks users access via the file system\n",
    "* This is just one of many techniques for pulling data into Spark\n",
    "* The datasets needed for this class have already been mounted for us with the call to `%run \"../Includes/Classroom Setup\"`\n",
    "* We will confirm that in just a few minutes"
   ]
  },
  {
   "cell_type": "markdown",
   "metadata": {
    "application/vnd.databricks.v1+cell": {
     "cellMetadata": {
      "byteLimit": 2048000,
      "rowLimit": 10000
     },
     "inputWidgets": {},
     "nuid": "e3271b96-ebde-47dc-bc93-a31e9261ec41",
     "showTitle": false,
     "title": ""
    }
   },
   "source": [
    "See also <a href=\"https://docs.azuredatabricks.net/user-guide/dbfs-databricks-file-system.html\" target=\"_blank\">Databricks File System - DBFS</a>."
   ]
  },
  {
   "cell_type": "markdown",
   "metadata": {
    "application/vnd.databricks.v1+cell": {
     "cellMetadata": {
      "byteLimit": 2048000,
      "rowLimit": 10000
     },
     "inputWidgets": {},
     "nuid": "f0b2c634-b3b6-46f1-9be1-704500ae77cc",
     "showTitle": false,
     "title": ""
    }
   },
   "source": [
    "### Databricks Utilities - dbutils\n",
    "* You can access the DBFS through the Databricks Utilities class (and other file IO routines).\n",
    "* An instance of DBUtils is already declared for us as `dbutils`.\n",
    "* For in-notebook documentation on DBUtils you can execute the command `dbutils.help()`."
   ]
  },
  {
   "cell_type": "markdown",
   "metadata": {
    "application/vnd.databricks.v1+cell": {
     "cellMetadata": {
      "byteLimit": 2048000,
      "rowLimit": 10000
     },
     "inputWidgets": {},
     "nuid": "8d756be3-2c94-4ff6-bce0-d8bae8c354d1",
     "showTitle": false,
     "title": ""
    }
   },
   "source": [
    "See also <a href=\"https://docs.azuredatabricks.net/user-guide/dbutils.html\" target=\"_blank\">Databricks Utilities - dbutils</a>"
   ]
  },
  {
   "cell_type": "code",
   "execution_count": 0,
   "metadata": {
    "application/vnd.databricks.v1+cell": {
     "cellMetadata": {
      "byteLimit": 2048000,
      "rowLimit": 10000
     },
     "inputWidgets": {},
     "nuid": "6e2fb8c4-8f50-46a2-8046-e7e14b9ba3cb",
     "showTitle": false,
     "title": ""
    }
   },
   "outputs": [
    {
     "output_type": "display_data",
     "data": {
      "text/html": [
       "<div class = \"ansiout\">\n",
       "This module provides various utilities for users to interact with the rest of Databricks.\n",
       "  <h3></h3><b>credentials: DatabricksCredentialUtils</b> -> Utilities for interacting with credentials within notebooks<br /><b>data: DataUtils</b> -> Utilities for understanding and interacting with datasets (EXPERIMENTAL)<br /><b>fs: DbfsUtils</b> -> Manipulates the Databricks filesystem (DBFS) from the console<br /><b>jobs: JobsUtils</b> -> Utilities for leveraging jobs features<br /><b>library: LibraryUtils</b> -> Utilities for session isolated libraries<br /><b>meta: MetaUtils</b> -> Methods to hook into the compiler (EXPERIMENTAL)<br /><b>notebook: NotebookUtils</b> -> Utilities for the control flow of a notebook (EXPERIMENTAL)<br /><b>preview: Preview</b> -> Utilities under preview category<br /><b>secrets: SecretUtils</b> -> Provides utilities for leveraging secrets within notebooks<br /><b>widgets: WidgetsUtils</b> -> Methods to create and get bound value of input widgets inside notebooks<br /><br /></div>"
      ]
     },
     "metadata": {
      "application/vnd.databricks.v1+output": {
       "addedWidgets": {},
       "arguments": {},
       "data": "<div class = \"ansiout\">\nThis module provides various utilities for users to interact with the rest of Databricks.\n  <h3></h3><b>credentials: DatabricksCredentialUtils</b> -> Utilities for interacting with credentials within notebooks<br /><b>data: DataUtils</b> -> Utilities for understanding and interacting with datasets (EXPERIMENTAL)<br /><b>fs: DbfsUtils</b> -> Manipulates the Databricks filesystem (DBFS) from the console<br /><b>jobs: JobsUtils</b> -> Utilities for leveraging jobs features<br /><b>library: LibraryUtils</b> -> Utilities for session isolated libraries<br /><b>meta: MetaUtils</b> -> Methods to hook into the compiler (EXPERIMENTAL)<br /><b>notebook: NotebookUtils</b> -> Utilities for the control flow of a notebook (EXPERIMENTAL)<br /><b>preview: Preview</b> -> Utilities under preview category<br /><b>secrets: SecretUtils</b> -> Provides utilities for leveraging secrets within notebooks<br /><b>widgets: WidgetsUtils</b> -> Methods to create and get bound value of input widgets inside notebooks<br /><br /></div>",
       "datasetInfos": [],
       "metadata": {},
       "removedWidgets": [],
       "textData": null,
       "type": "htmlSandbox"
      }
     },
     "output_type": "display_data"
    }
   ],
   "source": [
    "dbutils.help()"
   ]
  },
  {
   "cell_type": "markdown",
   "metadata": {
    "application/vnd.databricks.v1+cell": {
     "cellMetadata": {
      "byteLimit": 2048000,
      "rowLimit": 10000
     },
     "inputWidgets": {},
     "nuid": "e6478f6e-9d6c-427f-bed9-aee9bf562bb4",
     "showTitle": false,
     "title": ""
    }
   },
   "source": [
    "Additional help is available for each sub-utility:\n",
    "* `dbutils.fs.help()`\n",
    "* `dbutils.meta.help()`\n",
    "* `dbutils.notebook.help()`\n",
    "* `dbutils.widgets.help()`\n",
    "\n",
    "Let's take a look at the file system utilities, `dbutils.fs`"
   ]
  },
  {
   "cell_type": "code",
   "execution_count": 0,
   "metadata": {
    "application/vnd.databricks.v1+cell": {
     "cellMetadata": {
      "byteLimit": 2048000,
      "rowLimit": 10000
     },
     "inputWidgets": {},
     "nuid": "2b849e38-8924-4538-8dd6-6f3e77084da6",
     "showTitle": false,
     "title": ""
    }
   },
   "outputs": [
    {
     "output_type": "display_data",
     "data": {
      "text/html": [
       "<div class = \"ansiout\"><b>dbutils.fs</b> provides utilities for working with FileSystems. Most methods in\n",
       "this package can take either a DBFS path (e.g., \"/foo\" or \"dbfs:/foo\"), or\n",
       "another FileSystem URI.\n",
       "\n",
       "For more info about a method, use <b>dbutils.fs.help(\"methodName\")</b>.\n",
       "\n",
       "In notebooks, you can also use the %fs shorthand to access DBFS. The %fs shorthand maps\n",
       "straightforwardly onto dbutils calls. For example, \"%fs head --maxBytes=10000 /file/path\"\n",
       "translates into \"dbutils.fs.head(\"/file/path\", maxBytes = 10000)\".\n",
       "    <h3>mount</h3><b>mount(source: String, mountPoint: String, encryptionType: String = \"\", owner: String = null, extraConfigs: Map = Map.empty[String, String]): boolean</b> -> Mounts the given source directory into DBFS at the given mount point<br /><b>mounts: Seq</b> -> Displays information about what is mounted within DBFS<br /><b>refreshMounts: boolean</b> -> Forces all machines in this cluster to refresh their mount cache, ensuring they receive the most recent information<br /><b>unmount(mountPoint: String): boolean</b> -> Deletes a DBFS mount point<br /><b>updateMount(source: String, mountPoint: String, encryptionType: String = \"\", owner: String = null, extraConfigs: Map = Map.empty[String, String]): boolean</b> -> Similar to mount(), but updates an existing mount point (if present) instead of creating a new one<br /><br /><h3>fsutils</h3><b>cp(from: String, to: String, recurse: boolean = false): boolean</b> -> Copies a file or directory, possibly across FileSystems<br /><b>head(file: String, maxBytes: int = 65536): String</b> -> Returns up to the first 'maxBytes' bytes of the given file as a String encoded in UTF-8<br /><b>ls(dir: String): Seq</b> -> Lists the contents of a directory<br /><b>mkdirs(dir: String): boolean</b> -> Creates the given directory if it does not exist, also creating any necessary parent directories<br /><b>mv(from: String, to: String, recurse: boolean = false): boolean</b> -> Moves a file or directory, possibly across FileSystems<br /><b>put(file: String, contents: String, overwrite: boolean = false): boolean</b> -> Writes the given String out to a file, encoded in UTF-8<br /><b>rm(dir: String, recurse: boolean = false): boolean</b> -> Removes a file or directory<br /><br /></div>"
      ]
     },
     "metadata": {
      "application/vnd.databricks.v1+output": {
       "addedWidgets": {},
       "arguments": {},
       "data": "<div class = \"ansiout\"><b>dbutils.fs</b> provides utilities for working with FileSystems. Most methods in\nthis package can take either a DBFS path (e.g., \"/foo\" or \"dbfs:/foo\"), or\nanother FileSystem URI.\n\nFor more info about a method, use <b>dbutils.fs.help(\"methodName\")</b>.\n\nIn notebooks, you can also use the %fs shorthand to access DBFS. The %fs shorthand maps\nstraightforwardly onto dbutils calls. For example, \"%fs head --maxBytes=10000 /file/path\"\ntranslates into \"dbutils.fs.head(\"/file/path\", maxBytes = 10000)\".\n    <h3>mount</h3><b>mount(source: String, mountPoint: String, encryptionType: String = \"\", owner: String = null, extraConfigs: Map = Map.empty[String, String]): boolean</b> -> Mounts the given source directory into DBFS at the given mount point<br /><b>mounts: Seq</b> -> Displays information about what is mounted within DBFS<br /><b>refreshMounts: boolean</b> -> Forces all machines in this cluster to refresh their mount cache, ensuring they receive the most recent information<br /><b>unmount(mountPoint: String): boolean</b> -> Deletes a DBFS mount point<br /><b>updateMount(source: String, mountPoint: String, encryptionType: String = \"\", owner: String = null, extraConfigs: Map = Map.empty[String, String]): boolean</b> -> Similar to mount(), but updates an existing mount point (if present) instead of creating a new one<br /><br /><h3>fsutils</h3><b>cp(from: String, to: String, recurse: boolean = false): boolean</b> -> Copies a file or directory, possibly across FileSystems<br /><b>head(file: String, maxBytes: int = 65536): String</b> -> Returns up to the first 'maxBytes' bytes of the given file as a String encoded in UTF-8<br /><b>ls(dir: String): Seq</b> -> Lists the contents of a directory<br /><b>mkdirs(dir: String): boolean</b> -> Creates the given directory if it does not exist, also creating any necessary parent directories<br /><b>mv(from: String, to: String, recurse: boolean = false): boolean</b> -> Moves a file or directory, possibly across FileSystems<br /><b>put(file: String, contents: String, overwrite: boolean = false): boolean</b> -> Writes the given String out to a file, encoded in UTF-8<br /><b>rm(dir: String, recurse: boolean = false): boolean</b> -> Removes a file or directory<br /><br /></div>",
       "datasetInfos": [],
       "metadata": {},
       "removedWidgets": [],
       "textData": null,
       "type": "htmlSandbox"
      }
     },
     "output_type": "display_data"
    }
   ],
   "source": [
    "dbutils.fs.help()"
   ]
  },
  {
   "cell_type": "markdown",
   "metadata": {
    "application/vnd.databricks.v1+cell": {
     "cellMetadata": {
      "byteLimit": 2048000,
      "rowLimit": 10000
     },
     "inputWidgets": {},
     "nuid": "b3b52264-f210-40e6-8df5-c9f37fab42ae",
     "showTitle": false,
     "title": ""
    }
   },
   "source": [
    "### dbutils.fs.mounts()\n",
    "* As previously mentioned, all our datasets should already be mounted\n",
    "* We can use `dbutils.fs.mounts()` to verify that assertion\n",
    "* This method returns a collection of `MountInfo` objects, one for each mount"
   ]
  },
  {
   "cell_type": "code",
   "execution_count": 0,
   "metadata": {
    "application/vnd.databricks.v1+cell": {
     "cellMetadata": {
      "byteLimit": 2048000,
      "rowLimit": 10000
     },
     "inputWidgets": {},
     "nuid": "d5f7c290-50d7-4371-9bbe-e701cc9822ed",
     "showTitle": false,
     "title": ""
    }
   },
   "outputs": [
    {
     "output_type": "stream",
     "name": "stdout",
     "output_type": "stream",
     "text": [
      "/mnt/training >> wasbs://training@dbtrainwesteurope.blob.core.windows.net/\n/databricks-datasets >> databricks-datasets\n/databricks/mlflow-tracking >> databricks/mlflow-tracking\n/databricks-results >> databricks-results\n/databricks/mlflow-registry >> databricks/mlflow-registry\n/ >> DatabricksRoot\n--------------------------------------------------------------------------------\n"
     ]
    }
   ],
   "source": [
    "mounts = dbutils.fs.mounts()\n",
    "\n",
    "for mount in mounts:\n",
    "  print(mount.mountPoint + \" >> \" + mount.source)\n",
    "\n",
    "print(\"-\"*80)"
   ]
  },
  {
   "cell_type": "markdown",
   "metadata": {
    "application/vnd.databricks.v1+cell": {
     "cellMetadata": {
      "byteLimit": 2048000,
      "rowLimit": 10000
     },
     "inputWidgets": {},
     "nuid": "028ae6a3-356f-4377-8c4d-6845d372fed7",
     "showTitle": false,
     "title": ""
    }
   },
   "source": [
    "## Mount \"/mnt/training\" again if it is failed in \"./Includes/Classroom-Setup\""
   ]
  },
  {
   "cell_type": "code",
   "execution_count": 0,
   "metadata": {
    "application/vnd.databricks.v1+cell": {
     "cellMetadata": {
      "byteLimit": 2048000,
      "rowLimit": 10000
     },
     "inputWidgets": {},
     "nuid": "9b993751-6b54-4025-9c72-893bd64cc39a",
     "showTitle": false,
     "title": ""
    }
   },
   "outputs": [
    {
     "output_type": "stream",
     "name": "stdout",
     "output_type": "stream",
     "text": [
      "/mnt/training/ has been unmounted.\n"
     ]
    }
   ],
   "source": [
    "try:\n",
    "    files = dbutils.fs.ls(\"/mnt/training\")\n",
    "except:\n",
    "    dbutils.fs.unmount('/mnt/training/')\n"
   ]
  },
  {
   "cell_type": "code",
   "execution_count": 0,
   "metadata": {
    "application/vnd.databricks.v1+cell": {
     "cellMetadata": {
      "byteLimit": 2048000,
      "rowLimit": 10000
     },
     "inputWidgets": {},
     "nuid": "8e9fa3b1-7e39-448a-9841-c141432779da",
     "showTitle": false,
     "title": ""
    }
   },
   "outputs": [],
   "source": [
    "%run \"./Includes/Dataset-Mounts-New\""
   ]
  },
  {
   "cell_type": "markdown",
   "metadata": {
    "application/vnd.databricks.v1+cell": {
     "cellMetadata": {
      "byteLimit": 2048000,
      "rowLimit": 10000
     },
     "inputWidgets": {},
     "nuid": "6bd543bf-25b6-4927-8617-da523066bc0d",
     "showTitle": false,
     "title": ""
    }
   },
   "source": [
    "### dbutils.fs.ls(..)\n",
    "* And now we can use `dbutils.fs.ls(..)` to view the contents of that mount\n",
    "* This method returns a collection of `FileInfo` objects, one for each item in the specified directory"
   ]
  },
  {
   "cell_type": "markdown",
   "metadata": {
    "application/vnd.databricks.v1+cell": {
     "cellMetadata": {
      "byteLimit": 2048000,
      "rowLimit": 10000
     },
     "inputWidgets": {},
     "nuid": "330cc623-328a-4e84-bb9b-8201822c89a4",
     "showTitle": false,
     "title": ""
    }
   },
   "source": [
    "See also <a href=\"https://docs.azuredatabricks.net/api/latest/dbfs.html#dbfsfileinfo\" target=\"_blank\">FileInfo</a>"
   ]
  },
  {
   "cell_type": "code",
   "execution_count": 0,
   "metadata": {
    "application/vnd.databricks.v1+cell": {
     "cellMetadata": {
      "byteLimit": 2048000,
      "rowLimit": 10000
     },
     "inputWidgets": {},
     "nuid": "9bdf6b88-ac44-469b-a199-f0cc38e13746",
     "showTitle": false,
     "title": ""
    }
   },
   "outputs": [
    {
     "output_type": "stream",
     "name": "stdout",
     "output_type": "stream",
     "text": [
      "dbfs:/mnt/training/301/\ndbfs:/mnt/training/Chicago-Crimes-2018.csv\ndbfs:/mnt/training/City-Data.delta/\ndbfs:/mnt/training/City-Data.parquet/\ndbfs:/mnt/training/EDGAR-Log-20170329/\ndbfs:/mnt/training/StatLib/\ndbfs:/mnt/training/UbiqLog4UCI/\ndbfs:/mnt/training/_META/\ndbfs:/mnt/training/adventure-works/\ndbfs:/mnt/training/airbnb/\ndbfs:/mnt/training/airbnb-sf-listings.csv\ndbfs:/mnt/training/asa/\ndbfs:/mnt/training/auto-mpg.csv\ndbfs:/mnt/training/bigrams/\ndbfs:/mnt/training/bikeSharing/\ndbfs:/mnt/training/bostonhousing/\ndbfs:/mnt/training/cancer/\ndbfs:/mnt/training/chest-xray/\ndbfs:/mnt/training/countries/\ndbfs:/mnt/training/crime-data-2016/\ndbfs:/mnt/training/cybersecurity/\ndbfs:/mnt/training/data/\ndbfs:/mnt/training/data-cleansing/\ndbfs:/mnt/training/databricks-blog.json\ndbfs:/mnt/training/databricks-datasets/\ndbfs:/mnt/training/dataframes/\ndbfs:/mnt/training/day-of-week/\ndbfs:/mnt/training/definitive-guide/\ndbfs:/mnt/training/dl/\ndbfs:/mnt/training/ecommerce/\ndbfs:/mnt/training/enb/\ndbfs:/mnt/training/finance-org/\ndbfs:/mnt/training/fraud/\ndbfs:/mnt/training/gaming_data/\ndbfs:/mnt/training/global-sales/\ndbfs:/mnt/training/graphx-demo/\ndbfs:/mnt/training/healthcare/\ndbfs:/mnt/training/healthcare-org/\ndbfs:/mnt/training/initech/\ndbfs:/mnt/training/iot-devices/\ndbfs:/mnt/training/ip-geocode.delta/\ndbfs:/mnt/training/ip-geocode.parquet/\ndbfs:/mnt/training/iris/\ndbfs:/mnt/training/manufacturing-org/\ndbfs:/mnt/training/migration-capstone/\ndbfs:/mnt/training/mini_newsgroups/\ndbfs:/mnt/training/mnist/\ndbfs:/mnt/training/movie-reviews/\ndbfs:/mnt/training/movielens/\ndbfs:/mnt/training/movies/\ndbfs:/mnt/training/online_retail/\ndbfs:/mnt/training/philadelphia-crime-data-2015-ytd.csv\ndbfs:/mnt/training/power-plant/\ndbfs:/mnt/training/purchases.txt\ndbfs:/mnt/training/pv/\ndbfs:/mnt/training/retail-org/\ndbfs:/mnt/training/reviews/\ndbfs:/mnt/training/sensor-data/\ndbfs:/mnt/training/ssn/\ndbfs:/mnt/training/stopwords\ndbfs:/mnt/training/structured-streaming/\ndbfs:/mnt/training/test.log\ndbfs:/mnt/training/tom-sawyer/\ndbfs:/mnt/training/tweets.txt\ndbfs:/mnt/training/twitter/\ndbfs:/mnt/training/wash_dc_crime_incidents_2013.csv\ndbfs:/mnt/training/wash_dc_crime_incidents_2015-10-03-to-2016-10-02.csv\ndbfs:/mnt/training/weather/\ndbfs:/mnt/training/wikipedia/\ndbfs:/mnt/training/wine.parquet/\ndbfs:/mnt/training/word-game-dict.txt\ndbfs:/mnt/training/zip3state.csv\ndbfs:/mnt/training/zips.json\n--------------------------------------------------------------------------------\n"
     ]
    }
   ],
   "source": [
    "files = dbutils.fs.ls(\"/mnt/training\")\n",
    "\n",
    "for fileInfo in files:\n",
    "  print(fileInfo.path)\n",
    "\n",
    "print(\"-\"*80)"
   ]
  },
  {
   "cell_type": "markdown",
   "metadata": {
    "application/vnd.databricks.v1+cell": {
     "cellMetadata": {
      "byteLimit": 2048000,
      "rowLimit": 10000
     },
     "inputWidgets": {},
     "nuid": "3d36abe2-e9aa-49c3-93c1-8ae819fdb50b",
     "showTitle": false,
     "title": ""
    }
   },
   "source": [
    "### display(..)\n",
    "\n",
    "Besides printing each item returned from `dbutils.fs.ls(..)` we can also pass that collection to another Databricks specific command called `display(..)`."
   ]
  },
  {
   "cell_type": "code",
   "execution_count": 0,
   "metadata": {
    "application/vnd.databricks.v1+cell": {
     "cellMetadata": {
      "byteLimit": 2048000,
      "rowLimit": 10000
     },
     "inputWidgets": {},
     "nuid": "3b7882c0-40ca-40c4-a3e7-a143d84625ea",
     "showTitle": false,
     "title": ""
    }
   },
   "outputs": [
    {
     "output_type": "display_data",
     "data": {
      "text/html": [
       "<style scoped>\n",
       "  .table-result-container {\n",
       "    max-height: 300px;\n",
       "    overflow: auto;\n",
       "  }\n",
       "  table, th, td {\n",
       "    border: 1px solid black;\n",
       "    border-collapse: collapse;\n",
       "  }\n",
       "  th, td {\n",
       "    padding: 5px;\n",
       "  }\n",
       "  th {\n",
       "    text-align: left;\n",
       "  }\n",
       "</style><div class='table-result-container'><table class='table-result'><thead style='background-color: white'><tr><th>path</th><th>name</th><th>size</th><th>modificationTime</th></tr></thead><tbody><tr><td>dbfs:/mnt/training/301/</td><td>301/</td><td>0</td><td>1684233651440</td></tr><tr><td>dbfs:/mnt/training/Chicago-Crimes-2018.csv</td><td>Chicago-Crimes-2018.csv</td><td>5201668</td><td>1518562526000</td></tr><tr><td>dbfs:/mnt/training/City-Data.delta/</td><td>City-Data.delta/</td><td>0</td><td>1684233651440</td></tr><tr><td>dbfs:/mnt/training/City-Data.parquet/</td><td>City-Data.parquet/</td><td>0</td><td>1684233651440</td></tr><tr><td>dbfs:/mnt/training/EDGAR-Log-20170329/</td><td>EDGAR-Log-20170329/</td><td>0</td><td>1684233651440</td></tr><tr><td>dbfs:/mnt/training/StatLib/</td><td>StatLib/</td><td>0</td><td>1684233651440</td></tr><tr><td>dbfs:/mnt/training/UbiqLog4UCI/</td><td>UbiqLog4UCI/</td><td>0</td><td>1684233651440</td></tr><tr><td>dbfs:/mnt/training/_META/</td><td>_META/</td><td>0</td><td>1684233651440</td></tr><tr><td>dbfs:/mnt/training/adventure-works/</td><td>adventure-works/</td><td>0</td><td>1684233651440</td></tr><tr><td>dbfs:/mnt/training/airbnb/</td><td>airbnb/</td><td>0</td><td>1684233651440</td></tr><tr><td>dbfs:/mnt/training/airbnb-sf-listings.csv</td><td>airbnb-sf-listings.csv</td><td>764121</td><td>1523643107000</td></tr><tr><td>dbfs:/mnt/training/asa/</td><td>asa/</td><td>0</td><td>1684233651440</td></tr><tr><td>dbfs:/mnt/training/auto-mpg.csv</td><td>auto-mpg.csv</td><td>18045</td><td>1470288528000</td></tr><tr><td>dbfs:/mnt/training/bigrams/</td><td>bigrams/</td><td>0</td><td>1684233651440</td></tr><tr><td>dbfs:/mnt/training/bikeSharing/</td><td>bikeSharing/</td><td>0</td><td>1684233651440</td></tr><tr><td>dbfs:/mnt/training/bostonhousing/</td><td>bostonhousing/</td><td>0</td><td>1684233651440</td></tr><tr><td>dbfs:/mnt/training/cancer/</td><td>cancer/</td><td>0</td><td>1684233651440</td></tr><tr><td>dbfs:/mnt/training/chest-xray/</td><td>chest-xray/</td><td>0</td><td>1684233651440</td></tr><tr><td>dbfs:/mnt/training/countries/</td><td>countries/</td><td>0</td><td>1684233651441</td></tr><tr><td>dbfs:/mnt/training/crime-data-2016/</td><td>crime-data-2016/</td><td>0</td><td>1684233651441</td></tr><tr><td>dbfs:/mnt/training/cybersecurity/</td><td>cybersecurity/</td><td>0</td><td>1684233651441</td></tr><tr><td>dbfs:/mnt/training/data/</td><td>data/</td><td>0</td><td>1684233651441</td></tr><tr><td>dbfs:/mnt/training/data-cleansing/</td><td>data-cleansing/</td><td>0</td><td>1684233651441</td></tr><tr><td>dbfs:/mnt/training/databricks-blog.json</td><td>databricks-blog.json</td><td>3052424</td><td>1502492926000</td></tr><tr><td>dbfs:/mnt/training/databricks-datasets/</td><td>databricks-datasets/</td><td>0</td><td>1684233651441</td></tr><tr><td>dbfs:/mnt/training/dataframes/</td><td>dataframes/</td><td>0</td><td>1684233651441</td></tr><tr><td>dbfs:/mnt/training/day-of-week/</td><td>day-of-week/</td><td>0</td><td>1684233651441</td></tr><tr><td>dbfs:/mnt/training/definitive-guide/</td><td>definitive-guide/</td><td>0</td><td>1684233651441</td></tr><tr><td>dbfs:/mnt/training/dl/</td><td>dl/</td><td>0</td><td>1684233651441</td></tr><tr><td>dbfs:/mnt/training/ecommerce/</td><td>ecommerce/</td><td>0</td><td>1684233651441</td></tr><tr><td>dbfs:/mnt/training/enb/</td><td>enb/</td><td>0</td><td>1684233651441</td></tr><tr><td>dbfs:/mnt/training/finance-org/</td><td>finance-org/</td><td>0</td><td>1684233651441</td></tr><tr><td>dbfs:/mnt/training/fraud/</td><td>fraud/</td><td>0</td><td>1684233651441</td></tr><tr><td>dbfs:/mnt/training/gaming_data/</td><td>gaming_data/</td><td>0</td><td>1684233651441</td></tr><tr><td>dbfs:/mnt/training/global-sales/</td><td>global-sales/</td><td>0</td><td>1684233651441</td></tr><tr><td>dbfs:/mnt/training/graphx-demo/</td><td>graphx-demo/</td><td>0</td><td>1684233651441</td></tr><tr><td>dbfs:/mnt/training/healthcare/</td><td>healthcare/</td><td>0</td><td>1684233651441</td></tr><tr><td>dbfs:/mnt/training/healthcare-org/</td><td>healthcare-org/</td><td>0</td><td>1684233651441</td></tr><tr><td>dbfs:/mnt/training/initech/</td><td>initech/</td><td>0</td><td>1684233651441</td></tr><tr><td>dbfs:/mnt/training/iot-devices/</td><td>iot-devices/</td><td>0</td><td>1684233651441</td></tr><tr><td>dbfs:/mnt/training/ip-geocode.delta/</td><td>ip-geocode.delta/</td><td>0</td><td>1684233651441</td></tr><tr><td>dbfs:/mnt/training/ip-geocode.parquet/</td><td>ip-geocode.parquet/</td><td>0</td><td>1684233651441</td></tr><tr><td>dbfs:/mnt/training/iris/</td><td>iris/</td><td>0</td><td>1684233651441</td></tr><tr><td>dbfs:/mnt/training/manufacturing-org/</td><td>manufacturing-org/</td><td>0</td><td>1684233651441</td></tr><tr><td>dbfs:/mnt/training/migration-capstone/</td><td>migration-capstone/</td><td>0</td><td>1684233651441</td></tr><tr><td>dbfs:/mnt/training/mini_newsgroups/</td><td>mini_newsgroups/</td><td>0</td><td>1684233651441</td></tr><tr><td>dbfs:/mnt/training/mnist/</td><td>mnist/</td><td>0</td><td>1684233651441</td></tr><tr><td>dbfs:/mnt/training/movie-reviews/</td><td>movie-reviews/</td><td>0</td><td>1684233651441</td></tr><tr><td>dbfs:/mnt/training/movielens/</td><td>movielens/</td><td>0</td><td>1684233651441</td></tr><tr><td>dbfs:/mnt/training/movies/</td><td>movies/</td><td>0</td><td>1684233651441</td></tr><tr><td>dbfs:/mnt/training/online_retail/</td><td>online_retail/</td><td>0</td><td>1684233651441</td></tr><tr><td>dbfs:/mnt/training/philadelphia-crime-data-2015-ytd.csv</td><td>philadelphia-crime-data-2015-ytd.csv</td><td>7469462</td><td>1446515668000</td></tr><tr><td>dbfs:/mnt/training/power-plant/</td><td>power-plant/</td><td>0</td><td>1684233651441</td></tr><tr><td>dbfs:/mnt/training/purchases.txt</td><td>purchases.txt</td><td>89437</td><td>1447976591000</td></tr><tr><td>dbfs:/mnt/training/pv/</td><td>pv/</td><td>0</td><td>1684233651441</td></tr><tr><td>dbfs:/mnt/training/retail-org/</td><td>retail-org/</td><td>0</td><td>1684233651441</td></tr><tr><td>dbfs:/mnt/training/reviews/</td><td>reviews/</td><td>0</td><td>1684233651441</td></tr><tr><td>dbfs:/mnt/training/sensor-data/</td><td>sensor-data/</td><td>0</td><td>1684233651441</td></tr><tr><td>dbfs:/mnt/training/ssn/</td><td>ssn/</td><td>0</td><td>1684233651441</td></tr><tr><td>dbfs:/mnt/training/stopwords</td><td>stopwords</td><td>2237</td><td>1470200072000</td></tr><tr><td>dbfs:/mnt/training/structured-streaming/</td><td>structured-streaming/</td><td>0</td><td>1684233651441</td></tr><tr><td>dbfs:/mnt/training/test.log</td><td>test.log</td><td>3973546</td><td>1446637494000</td></tr><tr><td>dbfs:/mnt/training/tom-sawyer/</td><td>tom-sawyer/</td><td>0</td><td>1684233651441</td></tr><tr><td>dbfs:/mnt/training/tweets.txt</td><td>tweets.txt</td><td>24665</td><td>1448392910000</td></tr><tr><td>dbfs:/mnt/training/twitter/</td><td>twitter/</td><td>0</td><td>1684233651441</td></tr><tr><td>dbfs:/mnt/training/wash_dc_crime_incidents_2013.csv</td><td>wash_dc_crime_incidents_2013.csv</td><td>7978101</td><td>1442879884000</td></tr><tr><td>dbfs:/mnt/training/wash_dc_crime_incidents_2015-10-03-to-2016-10-02.csv</td><td>wash_dc_crime_incidents_2015-10-03-to-2016-10-02.csv</td><td>8627868</td><td>1475539541000</td></tr><tr><td>dbfs:/mnt/training/weather/</td><td>weather/</td><td>0</td><td>1684233651441</td></tr><tr><td>dbfs:/mnt/training/wikipedia/</td><td>wikipedia/</td><td>0</td><td>1684233651441</td></tr><tr><td>dbfs:/mnt/training/wine.parquet/</td><td>wine.parquet/</td><td>0</td><td>1684233651441</td></tr><tr><td>dbfs:/mnt/training/word-game-dict.txt</td><td>word-game-dict.txt</td><td>1923517</td><td>1447812561000</td></tr><tr><td>dbfs:/mnt/training/zip3state.csv</td><td>zip3state.csv</td><td>1030</td><td>1447869161000</td></tr><tr><td>dbfs:/mnt/training/zips.json</td><td>zips.json</td><td>3182409</td><td>1447976592000</td></tr></tbody></table></div>"
      ]
     },
     "metadata": {
      "application/vnd.databricks.v1+output": {
       "addedWidgets": {},
       "aggData": [],
       "aggError": "",
       "aggOverflow": false,
       "aggSchema": [],
       "aggSeriesLimitReached": false,
       "aggType": "",
       "arguments": {},
       "columnCustomDisplayInfos": {},
       "data": [
        [
         "dbfs:/mnt/training/301/",
         "301/",
         0,
         1684233651440
        ],
        [
         "dbfs:/mnt/training/Chicago-Crimes-2018.csv",
         "Chicago-Crimes-2018.csv",
         5201668,
         1518562526000
        ],
        [
         "dbfs:/mnt/training/City-Data.delta/",
         "City-Data.delta/",
         0,
         1684233651440
        ],
        [
         "dbfs:/mnt/training/City-Data.parquet/",
         "City-Data.parquet/",
         0,
         1684233651440
        ],
        [
         "dbfs:/mnt/training/EDGAR-Log-20170329/",
         "EDGAR-Log-20170329/",
         0,
         1684233651440
        ],
        [
         "dbfs:/mnt/training/StatLib/",
         "StatLib/",
         0,
         1684233651440
        ],
        [
         "dbfs:/mnt/training/UbiqLog4UCI/",
         "UbiqLog4UCI/",
         0,
         1684233651440
        ],
        [
         "dbfs:/mnt/training/_META/",
         "_META/",
         0,
         1684233651440
        ],
        [
         "dbfs:/mnt/training/adventure-works/",
         "adventure-works/",
         0,
         1684233651440
        ],
        [
         "dbfs:/mnt/training/airbnb/",
         "airbnb/",
         0,
         1684233651440
        ],
        [
         "dbfs:/mnt/training/airbnb-sf-listings.csv",
         "airbnb-sf-listings.csv",
         764121,
         1523643107000
        ],
        [
         "dbfs:/mnt/training/asa/",
         "asa/",
         0,
         1684233651440
        ],
        [
         "dbfs:/mnt/training/auto-mpg.csv",
         "auto-mpg.csv",
         18045,
         1470288528000
        ],
        [
         "dbfs:/mnt/training/bigrams/",
         "bigrams/",
         0,
         1684233651440
        ],
        [
         "dbfs:/mnt/training/bikeSharing/",
         "bikeSharing/",
         0,
         1684233651440
        ],
        [
         "dbfs:/mnt/training/bostonhousing/",
         "bostonhousing/",
         0,
         1684233651440
        ],
        [
         "dbfs:/mnt/training/cancer/",
         "cancer/",
         0,
         1684233651440
        ],
        [
         "dbfs:/mnt/training/chest-xray/",
         "chest-xray/",
         0,
         1684233651440
        ],
        [
         "dbfs:/mnt/training/countries/",
         "countries/",
         0,
         1684233651441
        ],
        [
         "dbfs:/mnt/training/crime-data-2016/",
         "crime-data-2016/",
         0,
         1684233651441
        ],
        [
         "dbfs:/mnt/training/cybersecurity/",
         "cybersecurity/",
         0,
         1684233651441
        ],
        [
         "dbfs:/mnt/training/data/",
         "data/",
         0,
         1684233651441
        ],
        [
         "dbfs:/mnt/training/data-cleansing/",
         "data-cleansing/",
         0,
         1684233651441
        ],
        [
         "dbfs:/mnt/training/databricks-blog.json",
         "databricks-blog.json",
         3052424,
         1502492926000
        ],
        [
         "dbfs:/mnt/training/databricks-datasets/",
         "databricks-datasets/",
         0,
         1684233651441
        ],
        [
         "dbfs:/mnt/training/dataframes/",
         "dataframes/",
         0,
         1684233651441
        ],
        [
         "dbfs:/mnt/training/day-of-week/",
         "day-of-week/",
         0,
         1684233651441
        ],
        [
         "dbfs:/mnt/training/definitive-guide/",
         "definitive-guide/",
         0,
         1684233651441
        ],
        [
         "dbfs:/mnt/training/dl/",
         "dl/",
         0,
         1684233651441
        ],
        [
         "dbfs:/mnt/training/ecommerce/",
         "ecommerce/",
         0,
         1684233651441
        ],
        [
         "dbfs:/mnt/training/enb/",
         "enb/",
         0,
         1684233651441
        ],
        [
         "dbfs:/mnt/training/finance-org/",
         "finance-org/",
         0,
         1684233651441
        ],
        [
         "dbfs:/mnt/training/fraud/",
         "fraud/",
         0,
         1684233651441
        ],
        [
         "dbfs:/mnt/training/gaming_data/",
         "gaming_data/",
         0,
         1684233651441
        ],
        [
         "dbfs:/mnt/training/global-sales/",
         "global-sales/",
         0,
         1684233651441
        ],
        [
         "dbfs:/mnt/training/graphx-demo/",
         "graphx-demo/",
         0,
         1684233651441
        ],
        [
         "dbfs:/mnt/training/healthcare/",
         "healthcare/",
         0,
         1684233651441
        ],
        [
         "dbfs:/mnt/training/healthcare-org/",
         "healthcare-org/",
         0,
         1684233651441
        ],
        [
         "dbfs:/mnt/training/initech/",
         "initech/",
         0,
         1684233651441
        ],
        [
         "dbfs:/mnt/training/iot-devices/",
         "iot-devices/",
         0,
         1684233651441
        ],
        [
         "dbfs:/mnt/training/ip-geocode.delta/",
         "ip-geocode.delta/",
         0,
         1684233651441
        ],
        [
         "dbfs:/mnt/training/ip-geocode.parquet/",
         "ip-geocode.parquet/",
         0,
         1684233651441
        ],
        [
         "dbfs:/mnt/training/iris/",
         "iris/",
         0,
         1684233651441
        ],
        [
         "dbfs:/mnt/training/manufacturing-org/",
         "manufacturing-org/",
         0,
         1684233651441
        ],
        [
         "dbfs:/mnt/training/migration-capstone/",
         "migration-capstone/",
         0,
         1684233651441
        ],
        [
         "dbfs:/mnt/training/mini_newsgroups/",
         "mini_newsgroups/",
         0,
         1684233651441
        ],
        [
         "dbfs:/mnt/training/mnist/",
         "mnist/",
         0,
         1684233651441
        ],
        [
         "dbfs:/mnt/training/movie-reviews/",
         "movie-reviews/",
         0,
         1684233651441
        ],
        [
         "dbfs:/mnt/training/movielens/",
         "movielens/",
         0,
         1684233651441
        ],
        [
         "dbfs:/mnt/training/movies/",
         "movies/",
         0,
         1684233651441
        ],
        [
         "dbfs:/mnt/training/online_retail/",
         "online_retail/",
         0,
         1684233651441
        ],
        [
         "dbfs:/mnt/training/philadelphia-crime-data-2015-ytd.csv",
         "philadelphia-crime-data-2015-ytd.csv",
         7469462,
         1446515668000
        ],
        [
         "dbfs:/mnt/training/power-plant/",
         "power-plant/",
         0,
         1684233651441
        ],
        [
         "dbfs:/mnt/training/purchases.txt",
         "purchases.txt",
         89437,
         1447976591000
        ],
        [
         "dbfs:/mnt/training/pv/",
         "pv/",
         0,
         1684233651441
        ],
        [
         "dbfs:/mnt/training/retail-org/",
         "retail-org/",
         0,
         1684233651441
        ],
        [
         "dbfs:/mnt/training/reviews/",
         "reviews/",
         0,
         1684233651441
        ],
        [
         "dbfs:/mnt/training/sensor-data/",
         "sensor-data/",
         0,
         1684233651441
        ],
        [
         "dbfs:/mnt/training/ssn/",
         "ssn/",
         0,
         1684233651441
        ],
        [
         "dbfs:/mnt/training/stopwords",
         "stopwords",
         2237,
         1470200072000
        ],
        [
         "dbfs:/mnt/training/structured-streaming/",
         "structured-streaming/",
         0,
         1684233651441
        ],
        [
         "dbfs:/mnt/training/test.log",
         "test.log",
         3973546,
         1446637494000
        ],
        [
         "dbfs:/mnt/training/tom-sawyer/",
         "tom-sawyer/",
         0,
         1684233651441
        ],
        [
         "dbfs:/mnt/training/tweets.txt",
         "tweets.txt",
         24665,
         1448392910000
        ],
        [
         "dbfs:/mnt/training/twitter/",
         "twitter/",
         0,
         1684233651441
        ],
        [
         "dbfs:/mnt/training/wash_dc_crime_incidents_2013.csv",
         "wash_dc_crime_incidents_2013.csv",
         7978101,
         1442879884000
        ],
        [
         "dbfs:/mnt/training/wash_dc_crime_incidents_2015-10-03-to-2016-10-02.csv",
         "wash_dc_crime_incidents_2015-10-03-to-2016-10-02.csv",
         8627868,
         1475539541000
        ],
        [
         "dbfs:/mnt/training/weather/",
         "weather/",
         0,
         1684233651441
        ],
        [
         "dbfs:/mnt/training/wikipedia/",
         "wikipedia/",
         0,
         1684233651441
        ],
        [
         "dbfs:/mnt/training/wine.parquet/",
         "wine.parquet/",
         0,
         1684233651441
        ],
        [
         "dbfs:/mnt/training/word-game-dict.txt",
         "word-game-dict.txt",
         1923517,
         1447812561000
        ],
        [
         "dbfs:/mnt/training/zip3state.csv",
         "zip3state.csv",
         1030,
         1447869161000
        ],
        [
         "dbfs:/mnt/training/zips.json",
         "zips.json",
         3182409,
         1447976592000
        ]
       ],
       "datasetInfos": [],
       "dbfsResultPath": null,
       "isJsonSchema": true,
       "metadata": {},
       "overflow": false,
       "plotOptions": {
        "customPlotOptions": {},
        "displayType": "table",
        "pivotAggregation": null,
        "pivotColumns": null,
        "xColumns": null,
        "yColumns": null
       },
       "removedWidgets": [],
       "schema": [
        {
         "metadata": "{}",
         "name": "path",
         "type": "\"string\""
        },
        {
         "metadata": "{}",
         "name": "name",
         "type": "\"string\""
        },
        {
         "metadata": "{}",
         "name": "size",
         "type": "\"long\""
        },
        {
         "metadata": "{}",
         "name": "modificationTime",
         "type": "\"long\""
        }
       ],
       "type": "table"
      }
     },
     "output_type": "display_data"
    }
   ],
   "source": [
    "files = dbutils.fs.ls(\"/mnt/training/\")\n",
    "\n",
    "display(files)"
   ]
  },
  {
   "cell_type": "code",
   "execution_count": 0,
   "metadata": {
    "application/vnd.databricks.v1+cell": {
     "cellMetadata": {
      "byteLimit": 2048000,
      "rowLimit": 10000
     },
     "inputWidgets": {},
     "nuid": "3a9fc78c-b6f1-4494-9e56-c62e8c935c79",
     "showTitle": false,
     "title": ""
    }
   },
   "outputs": [
    {
     "output_type": "display_data",
     "data": {
      "text/html": [
       "<style scoped>\n",
       "  .table-result-container {\n",
       "    max-height: 300px;\n",
       "    overflow: auto;\n",
       "  }\n",
       "  table, th, td {\n",
       "    border: 1px solid black;\n",
       "    border-collapse: collapse;\n",
       "  }\n",
       "  th, td {\n",
       "    padding: 5px;\n",
       "  }\n",
       "  th {\n",
       "    text-align: left;\n",
       "  }\n",
       "</style><div class='table-result-container'><table class='table-result'><thead style='background-color: white'><tr><th>path</th><th>name</th><th>size</th><th>modificationTime</th></tr></thead><tbody><tr><td>dbfs:/mnt/training/301/</td><td>301/</td><td>0</td><td>1684233655341</td></tr><tr><td>dbfs:/mnt/training/Chicago-Crimes-2018.csv</td><td>Chicago-Crimes-2018.csv</td><td>5201668</td><td>1518562526000</td></tr><tr><td>dbfs:/mnt/training/City-Data.delta/</td><td>City-Data.delta/</td><td>0</td><td>1684233655341</td></tr><tr><td>dbfs:/mnt/training/City-Data.parquet/</td><td>City-Data.parquet/</td><td>0</td><td>1684233655341</td></tr><tr><td>dbfs:/mnt/training/EDGAR-Log-20170329/</td><td>EDGAR-Log-20170329/</td><td>0</td><td>1684233655341</td></tr><tr><td>dbfs:/mnt/training/StatLib/</td><td>StatLib/</td><td>0</td><td>1684233655341</td></tr><tr><td>dbfs:/mnt/training/UbiqLog4UCI/</td><td>UbiqLog4UCI/</td><td>0</td><td>1684233655341</td></tr><tr><td>dbfs:/mnt/training/_META/</td><td>_META/</td><td>0</td><td>1684233655341</td></tr><tr><td>dbfs:/mnt/training/adventure-works/</td><td>adventure-works/</td><td>0</td><td>1684233655341</td></tr><tr><td>dbfs:/mnt/training/airbnb/</td><td>airbnb/</td><td>0</td><td>1684233655341</td></tr><tr><td>dbfs:/mnt/training/airbnb-sf-listings.csv</td><td>airbnb-sf-listings.csv</td><td>764121</td><td>1523643107000</td></tr><tr><td>dbfs:/mnt/training/asa/</td><td>asa/</td><td>0</td><td>1684233655341</td></tr><tr><td>dbfs:/mnt/training/auto-mpg.csv</td><td>auto-mpg.csv</td><td>18045</td><td>1470288528000</td></tr><tr><td>dbfs:/mnt/training/bigrams/</td><td>bigrams/</td><td>0</td><td>1684233655341</td></tr><tr><td>dbfs:/mnt/training/bikeSharing/</td><td>bikeSharing/</td><td>0</td><td>1684233655341</td></tr><tr><td>dbfs:/mnt/training/bostonhousing/</td><td>bostonhousing/</td><td>0</td><td>1684233655341</td></tr><tr><td>dbfs:/mnt/training/cancer/</td><td>cancer/</td><td>0</td><td>1684233655341</td></tr><tr><td>dbfs:/mnt/training/chest-xray/</td><td>chest-xray/</td><td>0</td><td>1684233655341</td></tr><tr><td>dbfs:/mnt/training/countries/</td><td>countries/</td><td>0</td><td>1684233655341</td></tr><tr><td>dbfs:/mnt/training/crime-data-2016/</td><td>crime-data-2016/</td><td>0</td><td>1684233655341</td></tr><tr><td>dbfs:/mnt/training/cybersecurity/</td><td>cybersecurity/</td><td>0</td><td>1684233655341</td></tr><tr><td>dbfs:/mnt/training/data/</td><td>data/</td><td>0</td><td>1684233655341</td></tr><tr><td>dbfs:/mnt/training/data-cleansing/</td><td>data-cleansing/</td><td>0</td><td>1684233655341</td></tr><tr><td>dbfs:/mnt/training/databricks-blog.json</td><td>databricks-blog.json</td><td>3052424</td><td>1502492926000</td></tr><tr><td>dbfs:/mnt/training/databricks-datasets/</td><td>databricks-datasets/</td><td>0</td><td>1684233655341</td></tr><tr><td>dbfs:/mnt/training/dataframes/</td><td>dataframes/</td><td>0</td><td>1684233655341</td></tr><tr><td>dbfs:/mnt/training/day-of-week/</td><td>day-of-week/</td><td>0</td><td>1684233655341</td></tr><tr><td>dbfs:/mnt/training/definitive-guide/</td><td>definitive-guide/</td><td>0</td><td>1684233655341</td></tr><tr><td>dbfs:/mnt/training/dl/</td><td>dl/</td><td>0</td><td>1684233655341</td></tr><tr><td>dbfs:/mnt/training/ecommerce/</td><td>ecommerce/</td><td>0</td><td>1684233655341</td></tr><tr><td>dbfs:/mnt/training/enb/</td><td>enb/</td><td>0</td><td>1684233655341</td></tr><tr><td>dbfs:/mnt/training/finance-org/</td><td>finance-org/</td><td>0</td><td>1684233655341</td></tr><tr><td>dbfs:/mnt/training/fraud/</td><td>fraud/</td><td>0</td><td>1684233655341</td></tr><tr><td>dbfs:/mnt/training/gaming_data/</td><td>gaming_data/</td><td>0</td><td>1684233655341</td></tr><tr><td>dbfs:/mnt/training/global-sales/</td><td>global-sales/</td><td>0</td><td>1684233655341</td></tr><tr><td>dbfs:/mnt/training/graphx-demo/</td><td>graphx-demo/</td><td>0</td><td>1684233655341</td></tr><tr><td>dbfs:/mnt/training/healthcare/</td><td>healthcare/</td><td>0</td><td>1684233655342</td></tr><tr><td>dbfs:/mnt/training/healthcare-org/</td><td>healthcare-org/</td><td>0</td><td>1684233655342</td></tr><tr><td>dbfs:/mnt/training/initech/</td><td>initech/</td><td>0</td><td>1684233655342</td></tr><tr><td>dbfs:/mnt/training/iot-devices/</td><td>iot-devices/</td><td>0</td><td>1684233655342</td></tr><tr><td>dbfs:/mnt/training/ip-geocode.delta/</td><td>ip-geocode.delta/</td><td>0</td><td>1684233655342</td></tr><tr><td>dbfs:/mnt/training/ip-geocode.parquet/</td><td>ip-geocode.parquet/</td><td>0</td><td>1684233655342</td></tr><tr><td>dbfs:/mnt/training/iris/</td><td>iris/</td><td>0</td><td>1684233655342</td></tr><tr><td>dbfs:/mnt/training/manufacturing-org/</td><td>manufacturing-org/</td><td>0</td><td>1684233655342</td></tr><tr><td>dbfs:/mnt/training/migration-capstone/</td><td>migration-capstone/</td><td>0</td><td>1684233655342</td></tr><tr><td>dbfs:/mnt/training/mini_newsgroups/</td><td>mini_newsgroups/</td><td>0</td><td>1684233655342</td></tr><tr><td>dbfs:/mnt/training/mnist/</td><td>mnist/</td><td>0</td><td>1684233655342</td></tr><tr><td>dbfs:/mnt/training/movie-reviews/</td><td>movie-reviews/</td><td>0</td><td>1684233655342</td></tr><tr><td>dbfs:/mnt/training/movielens/</td><td>movielens/</td><td>0</td><td>1684233655342</td></tr><tr><td>dbfs:/mnt/training/movies/</td><td>movies/</td><td>0</td><td>1684233655342</td></tr><tr><td>dbfs:/mnt/training/online_retail/</td><td>online_retail/</td><td>0</td><td>1684233655342</td></tr><tr><td>dbfs:/mnt/training/philadelphia-crime-data-2015-ytd.csv</td><td>philadelphia-crime-data-2015-ytd.csv</td><td>7469462</td><td>1446515668000</td></tr><tr><td>dbfs:/mnt/training/power-plant/</td><td>power-plant/</td><td>0</td><td>1684233655342</td></tr><tr><td>dbfs:/mnt/training/purchases.txt</td><td>purchases.txt</td><td>89437</td><td>1447976591000</td></tr><tr><td>dbfs:/mnt/training/pv/</td><td>pv/</td><td>0</td><td>1684233655342</td></tr><tr><td>dbfs:/mnt/training/retail-org/</td><td>retail-org/</td><td>0</td><td>1684233655342</td></tr><tr><td>dbfs:/mnt/training/reviews/</td><td>reviews/</td><td>0</td><td>1684233655342</td></tr><tr><td>dbfs:/mnt/training/sensor-data/</td><td>sensor-data/</td><td>0</td><td>1684233655342</td></tr><tr><td>dbfs:/mnt/training/ssn/</td><td>ssn/</td><td>0</td><td>1684233655342</td></tr><tr><td>dbfs:/mnt/training/stopwords</td><td>stopwords</td><td>2237</td><td>1470200072000</td></tr><tr><td>dbfs:/mnt/training/structured-streaming/</td><td>structured-streaming/</td><td>0</td><td>1684233655342</td></tr><tr><td>dbfs:/mnt/training/test.log</td><td>test.log</td><td>3973546</td><td>1446637494000</td></tr><tr><td>dbfs:/mnt/training/tom-sawyer/</td><td>tom-sawyer/</td><td>0</td><td>1684233655342</td></tr><tr><td>dbfs:/mnt/training/tweets.txt</td><td>tweets.txt</td><td>24665</td><td>1448392910000</td></tr><tr><td>dbfs:/mnt/training/twitter/</td><td>twitter/</td><td>0</td><td>1684233655342</td></tr><tr><td>dbfs:/mnt/training/wash_dc_crime_incidents_2013.csv</td><td>wash_dc_crime_incidents_2013.csv</td><td>7978101</td><td>1442879884000</td></tr><tr><td>dbfs:/mnt/training/wash_dc_crime_incidents_2015-10-03-to-2016-10-02.csv</td><td>wash_dc_crime_incidents_2015-10-03-to-2016-10-02.csv</td><td>8627868</td><td>1475539541000</td></tr><tr><td>dbfs:/mnt/training/weather/</td><td>weather/</td><td>0</td><td>1684233655342</td></tr><tr><td>dbfs:/mnt/training/wikipedia/</td><td>wikipedia/</td><td>0</td><td>1684233655342</td></tr><tr><td>dbfs:/mnt/training/wine.parquet/</td><td>wine.parquet/</td><td>0</td><td>1684233655342</td></tr><tr><td>dbfs:/mnt/training/word-game-dict.txt</td><td>word-game-dict.txt</td><td>1923517</td><td>1447812561000</td></tr><tr><td>dbfs:/mnt/training/zip3state.csv</td><td>zip3state.csv</td><td>1030</td><td>1447869161000</td></tr><tr><td>dbfs:/mnt/training/zips.json</td><td>zips.json</td><td>3182409</td><td>1447976592000</td></tr></tbody></table></div>"
      ]
     },
     "metadata": {
      "application/vnd.databricks.v1+output": {
       "addedWidgets": {},
       "aggData": [],
       "aggError": "",
       "aggOverflow": false,
       "aggSchema": [],
       "aggSeriesLimitReached": false,
       "aggType": "",
       "arguments": {},
       "columnCustomDisplayInfos": {},
       "data": [
        [
         "dbfs:/mnt/training/301/",
         "301/",
         0,
         1684233655341
        ],
        [
         "dbfs:/mnt/training/Chicago-Crimes-2018.csv",
         "Chicago-Crimes-2018.csv",
         5201668,
         1518562526000
        ],
        [
         "dbfs:/mnt/training/City-Data.delta/",
         "City-Data.delta/",
         0,
         1684233655341
        ],
        [
         "dbfs:/mnt/training/City-Data.parquet/",
         "City-Data.parquet/",
         0,
         1684233655341
        ],
        [
         "dbfs:/mnt/training/EDGAR-Log-20170329/",
         "EDGAR-Log-20170329/",
         0,
         1684233655341
        ],
        [
         "dbfs:/mnt/training/StatLib/",
         "StatLib/",
         0,
         1684233655341
        ],
        [
         "dbfs:/mnt/training/UbiqLog4UCI/",
         "UbiqLog4UCI/",
         0,
         1684233655341
        ],
        [
         "dbfs:/mnt/training/_META/",
         "_META/",
         0,
         1684233655341
        ],
        [
         "dbfs:/mnt/training/adventure-works/",
         "adventure-works/",
         0,
         1684233655341
        ],
        [
         "dbfs:/mnt/training/airbnb/",
         "airbnb/",
         0,
         1684233655341
        ],
        [
         "dbfs:/mnt/training/airbnb-sf-listings.csv",
         "airbnb-sf-listings.csv",
         764121,
         1523643107000
        ],
        [
         "dbfs:/mnt/training/asa/",
         "asa/",
         0,
         1684233655341
        ],
        [
         "dbfs:/mnt/training/auto-mpg.csv",
         "auto-mpg.csv",
         18045,
         1470288528000
        ],
        [
         "dbfs:/mnt/training/bigrams/",
         "bigrams/",
         0,
         1684233655341
        ],
        [
         "dbfs:/mnt/training/bikeSharing/",
         "bikeSharing/",
         0,
         1684233655341
        ],
        [
         "dbfs:/mnt/training/bostonhousing/",
         "bostonhousing/",
         0,
         1684233655341
        ],
        [
         "dbfs:/mnt/training/cancer/",
         "cancer/",
         0,
         1684233655341
        ],
        [
         "dbfs:/mnt/training/chest-xray/",
         "chest-xray/",
         0,
         1684233655341
        ],
        [
         "dbfs:/mnt/training/countries/",
         "countries/",
         0,
         1684233655341
        ],
        [
         "dbfs:/mnt/training/crime-data-2016/",
         "crime-data-2016/",
         0,
         1684233655341
        ],
        [
         "dbfs:/mnt/training/cybersecurity/",
         "cybersecurity/",
         0,
         1684233655341
        ],
        [
         "dbfs:/mnt/training/data/",
         "data/",
         0,
         1684233655341
        ],
        [
         "dbfs:/mnt/training/data-cleansing/",
         "data-cleansing/",
         0,
         1684233655341
        ],
        [
         "dbfs:/mnt/training/databricks-blog.json",
         "databricks-blog.json",
         3052424,
         1502492926000
        ],
        [
         "dbfs:/mnt/training/databricks-datasets/",
         "databricks-datasets/",
         0,
         1684233655341
        ],
        [
         "dbfs:/mnt/training/dataframes/",
         "dataframes/",
         0,
         1684233655341
        ],
        [
         "dbfs:/mnt/training/day-of-week/",
         "day-of-week/",
         0,
         1684233655341
        ],
        [
         "dbfs:/mnt/training/definitive-guide/",
         "definitive-guide/",
         0,
         1684233655341
        ],
        [
         "dbfs:/mnt/training/dl/",
         "dl/",
         0,
         1684233655341
        ],
        [
         "dbfs:/mnt/training/ecommerce/",
         "ecommerce/",
         0,
         1684233655341
        ],
        [
         "dbfs:/mnt/training/enb/",
         "enb/",
         0,
         1684233655341
        ],
        [
         "dbfs:/mnt/training/finance-org/",
         "finance-org/",
         0,
         1684233655341
        ],
        [
         "dbfs:/mnt/training/fraud/",
         "fraud/",
         0,
         1684233655341
        ],
        [
         "dbfs:/mnt/training/gaming_data/",
         "gaming_data/",
         0,
         1684233655341
        ],
        [
         "dbfs:/mnt/training/global-sales/",
         "global-sales/",
         0,
         1684233655341
        ],
        [
         "dbfs:/mnt/training/graphx-demo/",
         "graphx-demo/",
         0,
         1684233655341
        ],
        [
         "dbfs:/mnt/training/healthcare/",
         "healthcare/",
         0,
         1684233655342
        ],
        [
         "dbfs:/mnt/training/healthcare-org/",
         "healthcare-org/",
         0,
         1684233655342
        ],
        [
         "dbfs:/mnt/training/initech/",
         "initech/",
         0,
         1684233655342
        ],
        [
         "dbfs:/mnt/training/iot-devices/",
         "iot-devices/",
         0,
         1684233655342
        ],
        [
         "dbfs:/mnt/training/ip-geocode.delta/",
         "ip-geocode.delta/",
         0,
         1684233655342
        ],
        [
         "dbfs:/mnt/training/ip-geocode.parquet/",
         "ip-geocode.parquet/",
         0,
         1684233655342
        ],
        [
         "dbfs:/mnt/training/iris/",
         "iris/",
         0,
         1684233655342
        ],
        [
         "dbfs:/mnt/training/manufacturing-org/",
         "manufacturing-org/",
         0,
         1684233655342
        ],
        [
         "dbfs:/mnt/training/migration-capstone/",
         "migration-capstone/",
         0,
         1684233655342
        ],
        [
         "dbfs:/mnt/training/mini_newsgroups/",
         "mini_newsgroups/",
         0,
         1684233655342
        ],
        [
         "dbfs:/mnt/training/mnist/",
         "mnist/",
         0,
         1684233655342
        ],
        [
         "dbfs:/mnt/training/movie-reviews/",
         "movie-reviews/",
         0,
         1684233655342
        ],
        [
         "dbfs:/mnt/training/movielens/",
         "movielens/",
         0,
         1684233655342
        ],
        [
         "dbfs:/mnt/training/movies/",
         "movies/",
         0,
         1684233655342
        ],
        [
         "dbfs:/mnt/training/online_retail/",
         "online_retail/",
         0,
         1684233655342
        ],
        [
         "dbfs:/mnt/training/philadelphia-crime-data-2015-ytd.csv",
         "philadelphia-crime-data-2015-ytd.csv",
         7469462,
         1446515668000
        ],
        [
         "dbfs:/mnt/training/power-plant/",
         "power-plant/",
         0,
         1684233655342
        ],
        [
         "dbfs:/mnt/training/purchases.txt",
         "purchases.txt",
         89437,
         1447976591000
        ],
        [
         "dbfs:/mnt/training/pv/",
         "pv/",
         0,
         1684233655342
        ],
        [
         "dbfs:/mnt/training/retail-org/",
         "retail-org/",
         0,
         1684233655342
        ],
        [
         "dbfs:/mnt/training/reviews/",
         "reviews/",
         0,
         1684233655342
        ],
        [
         "dbfs:/mnt/training/sensor-data/",
         "sensor-data/",
         0,
         1684233655342
        ],
        [
         "dbfs:/mnt/training/ssn/",
         "ssn/",
         0,
         1684233655342
        ],
        [
         "dbfs:/mnt/training/stopwords",
         "stopwords",
         2237,
         1470200072000
        ],
        [
         "dbfs:/mnt/training/structured-streaming/",
         "structured-streaming/",
         0,
         1684233655342
        ],
        [
         "dbfs:/mnt/training/test.log",
         "test.log",
         3973546,
         1446637494000
        ],
        [
         "dbfs:/mnt/training/tom-sawyer/",
         "tom-sawyer/",
         0,
         1684233655342
        ],
        [
         "dbfs:/mnt/training/tweets.txt",
         "tweets.txt",
         24665,
         1448392910000
        ],
        [
         "dbfs:/mnt/training/twitter/",
         "twitter/",
         0,
         1684233655342
        ],
        [
         "dbfs:/mnt/training/wash_dc_crime_incidents_2013.csv",
         "wash_dc_crime_incidents_2013.csv",
         7978101,
         1442879884000
        ],
        [
         "dbfs:/mnt/training/wash_dc_crime_incidents_2015-10-03-to-2016-10-02.csv",
         "wash_dc_crime_incidents_2015-10-03-to-2016-10-02.csv",
         8627868,
         1475539541000
        ],
        [
         "dbfs:/mnt/training/weather/",
         "weather/",
         0,
         1684233655342
        ],
        [
         "dbfs:/mnt/training/wikipedia/",
         "wikipedia/",
         0,
         1684233655342
        ],
        [
         "dbfs:/mnt/training/wine.parquet/",
         "wine.parquet/",
         0,
         1684233655342
        ],
        [
         "dbfs:/mnt/training/word-game-dict.txt",
         "word-game-dict.txt",
         1923517,
         1447812561000
        ],
        [
         "dbfs:/mnt/training/zip3state.csv",
         "zip3state.csv",
         1030,
         1447869161000
        ],
        [
         "dbfs:/mnt/training/zips.json",
         "zips.json",
         3182409,
         1447976592000
        ]
       ],
       "datasetInfos": [],
       "dbfsResultPath": null,
       "isJsonSchema": true,
       "metadata": {},
       "overflow": false,
       "plotOptions": {
        "customPlotOptions": {},
        "displayType": "table",
        "pivotAggregation": null,
        "pivotColumns": null,
        "xColumns": null,
        "yColumns": null
       },
       "removedWidgets": [],
       "schema": [
        {
         "metadata": "{}",
         "name": "path",
         "type": "\"string\""
        },
        {
         "metadata": "{}",
         "name": "name",
         "type": "\"string\""
        },
        {
         "metadata": "{}",
         "name": "size",
         "type": "\"long\""
        },
        {
         "metadata": "{}",
         "name": "modificationTime",
         "type": "\"long\""
        }
       ],
       "type": "table"
      }
     },
     "output_type": "display_data"
    }
   ],
   "source": [
    "display( dbutils.fs.ls(\"/mnt/training\") )"
   ]
  },
  {
   "cell_type": "code",
   "execution_count": 0,
   "metadata": {
    "application/vnd.databricks.v1+cell": {
     "cellMetadata": {
      "byteLimit": 2048000,
      "rowLimit": 10000
     },
     "inputWidgets": {},
     "nuid": "11fdd7ec-56cb-442e-b450-b24b11bd98c5",
     "showTitle": false,
     "title": ""
    }
   },
   "outputs": [
    {
     "output_type": "stream",
     "name": "stdout",
     "output_type": "stream",
     "text": [
      "Out[20]: [FileInfo(path='dbfs:/mnt/training/301/', name='301/', size=0, modificationTime=1684233656439),\n FileInfo(path='dbfs:/mnt/training/Chicago-Crimes-2018.csv', name='Chicago-Crimes-2018.csv', size=5201668, modificationTime=1518562526000),\n FileInfo(path='dbfs:/mnt/training/City-Data.delta/', name='City-Data.delta/', size=0, modificationTime=1684233656439),\n FileInfo(path='dbfs:/mnt/training/City-Data.parquet/', name='City-Data.parquet/', size=0, modificationTime=1684233656439),\n FileInfo(path='dbfs:/mnt/training/EDGAR-Log-20170329/', name='EDGAR-Log-20170329/', size=0, modificationTime=1684233656439),\n FileInfo(path='dbfs:/mnt/training/StatLib/', name='StatLib/', size=0, modificationTime=1684233656439),\n FileInfo(path='dbfs:/mnt/training/UbiqLog4UCI/', name='UbiqLog4UCI/', size=0, modificationTime=1684233656439),\n FileInfo(path='dbfs:/mnt/training/_META/', name='_META/', size=0, modificationTime=1684233656439),\n FileInfo(path='dbfs:/mnt/training/adventure-works/', name='adventure-works/', size=0, modificationTime=1684233656439),\n FileInfo(path='dbfs:/mnt/training/airbnb/', name='airbnb/', size=0, modificationTime=1684233656439),\n FileInfo(path='dbfs:/mnt/training/airbnb-sf-listings.csv', name='airbnb-sf-listings.csv', size=764121, modificationTime=1523643107000),\n FileInfo(path='dbfs:/mnt/training/asa/', name='asa/', size=0, modificationTime=1684233656439),\n FileInfo(path='dbfs:/mnt/training/auto-mpg.csv', name='auto-mpg.csv', size=18045, modificationTime=1470288528000),\n FileInfo(path='dbfs:/mnt/training/bigrams/', name='bigrams/', size=0, modificationTime=1684233656439),\n FileInfo(path='dbfs:/mnt/training/bikeSharing/', name='bikeSharing/', size=0, modificationTime=1684233656439),\n FileInfo(path='dbfs:/mnt/training/bostonhousing/', name='bostonhousing/', size=0, modificationTime=1684233656439),\n FileInfo(path='dbfs:/mnt/training/cancer/', name='cancer/', size=0, modificationTime=1684233656439),\n FileInfo(path='dbfs:/mnt/training/chest-xray/', name='chest-xray/', size=0, modificationTime=1684233656439),\n FileInfo(path='dbfs:/mnt/training/countries/', name='countries/', size=0, modificationTime=1684233656439),\n FileInfo(path='dbfs:/mnt/training/crime-data-2016/', name='crime-data-2016/', size=0, modificationTime=1684233656439),\n FileInfo(path='dbfs:/mnt/training/cybersecurity/', name='cybersecurity/', size=0, modificationTime=1684233656439),\n FileInfo(path='dbfs:/mnt/training/data/', name='data/', size=0, modificationTime=1684233656439),\n FileInfo(path='dbfs:/mnt/training/data-cleansing/', name='data-cleansing/', size=0, modificationTime=1684233656439),\n FileInfo(path='dbfs:/mnt/training/databricks-blog.json', name='databricks-blog.json', size=3052424, modificationTime=1502492926000),\n FileInfo(path='dbfs:/mnt/training/databricks-datasets/', name='databricks-datasets/', size=0, modificationTime=1684233656439),\n FileInfo(path='dbfs:/mnt/training/dataframes/', name='dataframes/', size=0, modificationTime=1684233656439),\n FileInfo(path='dbfs:/mnt/training/day-of-week/', name='day-of-week/', size=0, modificationTime=1684233656439),\n FileInfo(path='dbfs:/mnt/training/definitive-guide/', name='definitive-guide/', size=0, modificationTime=1684233656439),\n FileInfo(path='dbfs:/mnt/training/dl/', name='dl/', size=0, modificationTime=1684233656439),\n FileInfo(path='dbfs:/mnt/training/ecommerce/', name='ecommerce/', size=0, modificationTime=1684233656439),\n FileInfo(path='dbfs:/mnt/training/enb/', name='enb/', size=0, modificationTime=1684233656439),\n FileInfo(path='dbfs:/mnt/training/finance-org/', name='finance-org/', size=0, modificationTime=1684233656439),\n FileInfo(path='dbfs:/mnt/training/fraud/', name='fraud/', size=0, modificationTime=1684233656439),\n FileInfo(path='dbfs:/mnt/training/gaming_data/', name='gaming_data/', size=0, modificationTime=1684233656439),\n FileInfo(path='dbfs:/mnt/training/global-sales/', name='global-sales/', size=0, modificationTime=1684233656439),\n FileInfo(path='dbfs:/mnt/training/graphx-demo/', name='graphx-demo/', size=0, modificationTime=1684233656439),\n FileInfo(path='dbfs:/mnt/training/healthcare/', name='healthcare/', size=0, modificationTime=1684233656439),\n FileInfo(path='dbfs:/mnt/training/healthcare-org/', name='healthcare-org/', size=0, modificationTime=1684233656439),\n FileInfo(path='dbfs:/mnt/training/initech/', name='initech/', size=0, modificationTime=1684233656439),\n FileInfo(path='dbfs:/mnt/training/iot-devices/', name='iot-devices/', size=0, modificationTime=1684233656439),\n FileInfo(path='dbfs:/mnt/training/ip-geocode.delta/', name='ip-geocode.delta/', size=0, modificationTime=1684233656439),\n FileInfo(path='dbfs:/mnt/training/ip-geocode.parquet/', name='ip-geocode.parquet/', size=0, modificationTime=1684233656439),\n FileInfo(path='dbfs:/mnt/training/iris/', name='iris/', size=0, modificationTime=1684233656439),\n FileInfo(path='dbfs:/mnt/training/manufacturing-org/', name='manufacturing-org/', size=0, modificationTime=1684233656439),\n FileInfo(path='dbfs:/mnt/training/migration-capstone/', name='migration-capstone/', size=0, modificationTime=1684233656439),\n FileInfo(path='dbfs:/mnt/training/mini_newsgroups/', name='mini_newsgroups/', size=0, modificationTime=1684233656439),\n FileInfo(path='dbfs:/mnt/training/mnist/', name='mnist/', size=0, modificationTime=1684233656439),\n FileInfo(path='dbfs:/mnt/training/movie-reviews/', name='movie-reviews/', size=0, modificationTime=1684233656439),\n FileInfo(path='dbfs:/mnt/training/movielens/', name='movielens/', size=0, modificationTime=1684233656439),\n FileInfo(path='dbfs:/mnt/training/movies/', name='movies/', size=0, modificationTime=1684233656439),\n FileInfo(path='dbfs:/mnt/training/online_retail/', name='online_retail/', size=0, modificationTime=1684233656439),\n FileInfo(path='dbfs:/mnt/training/philadelphia-crime-data-2015-ytd.csv', name='philadelphia-crime-data-2015-ytd.csv', size=7469462, modificationTime=1446515668000),\n FileInfo(path='dbfs:/mnt/training/power-plant/', name='power-plant/', size=0, modificationTime=1684233656439),\n FileInfo(path='dbfs:/mnt/training/purchases.txt', name='purchases.txt', size=89437, modificationTime=1447976591000),\n FileInfo(path='dbfs:/mnt/training/pv/', name='pv/', size=0, modificationTime=1684233656439),\n FileInfo(path='dbfs:/mnt/training/retail-org/', name='retail-org/', size=0, modificationTime=1684233656439),\n FileInfo(path='dbfs:/mnt/training/reviews/', name='reviews/', size=0, modificationTime=1684233656439),\n FileInfo(path='dbfs:/mnt/training/sensor-data/', name='sensor-data/', size=0, modificationTime=1684233656439),\n FileInfo(path='dbfs:/mnt/training/ssn/', name='ssn/', size=0, modificationTime=1684233656439),\n FileInfo(path='dbfs:/mnt/training/stopwords', name='stopwords', size=2237, modificationTime=1470200072000),\n FileInfo(path='dbfs:/mnt/training/structured-streaming/', name='structured-streaming/', size=0, modificationTime=1684233656439),\n FileInfo(path='dbfs:/mnt/training/test.log', name='test.log', size=3973546, modificationTime=1446637494000),\n FileInfo(path='dbfs:/mnt/training/tom-sawyer/', name='tom-sawyer/', size=0, modificationTime=1684233656439),\n FileInfo(path='dbfs:/mnt/training/tweets.txt', name='tweets.txt', size=24665, modificationTime=1448392910000),\n FileInfo(path='dbfs:/mnt/training/twitter/', name='twitter/', size=0, modificationTime=1684233656439),\n FileInfo(path='dbfs:/mnt/training/wash_dc_crime_incidents_2013.csv', name='wash_dc_crime_incidents_2013.csv', size=7978101, modificationTime=1442879884000),\n FileInfo(path='dbfs:/mnt/training/wash_dc_crime_incidents_2015-10-03-to-2016-10-02.csv', name='wash_dc_crime_incidents_2015-10-03-to-2016-10-02.csv', size=8627868, modificationTime=1475539541000),\n FileInfo(path='dbfs:/mnt/training/weather/', name='weather/', size=0, modificationTime=1684233656439),\n FileInfo(path='dbfs:/mnt/training/wikipedia/', name='wikipedia/', size=0, modificationTime=1684233656439),\n FileInfo(path='dbfs:/mnt/training/wine.parquet/', name='wine.parquet/', size=0, modificationTime=1684233656439),\n FileInfo(path='dbfs:/mnt/training/word-game-dict.txt', name='word-game-dict.txt', size=1923517, modificationTime=1447812561000),\n FileInfo(path='dbfs:/mnt/training/zip3state.csv', name='zip3state.csv', size=1030, modificationTime=1447869161000),\n FileInfo(path='dbfs:/mnt/training/zips.json', name='zips.json', size=3182409, modificationTime=1447976592000)]"
     ]
    }
   ],
   "source": [
    "dbutils.fs.ls(\"/mnt/training/\")"
   ]
  },
  {
   "cell_type": "markdown",
   "metadata": {
    "application/vnd.databricks.v1+cell": {
     "cellMetadata": {
      "byteLimit": 2048000,
      "rowLimit": 10000
     },
     "inputWidgets": {},
     "nuid": "3018ffb4-a581-4c94-b002-dad1a18de6c6",
     "showTitle": false,
     "title": ""
    }
   },
   "source": [
    "The `display(..)` command is overloaded with a lot of other capabilities:\n",
    "* Presents up to 1000 records.\n",
    "* Exporting data as CSV.\n",
    "* Rendering a multitude of different graphs.\n",
    "* Rendering geo-located data on a world map.\n",
    "\n",
    "And as we will see later, it is also an excellent tool for previewing our data in a notebook."
   ]
  },
  {
   "cell_type": "markdown",
   "metadata": {
    "application/vnd.databricks.v1+cell": {
     "cellMetadata": {
      "byteLimit": 2048000,
      "rowLimit": 10000
     },
     "inputWidgets": {},
     "nuid": "67f96fde-9277-4af4-8834-0d766ae45fbd",
     "showTitle": false,
     "title": ""
    }
   },
   "source": [
    "### Magic Command: &percnt;fs\n",
    "\n",
    "There is at least one more trick for looking at the DBFS.\n",
    "\n",
    "It is a wrapper around `dbutils.fs` and it is the Magic Command known as **&percnt;fs**.\n",
    "\n",
    "The following call is equivalent to the previous call, `display( dbutils.fs.ls(\"/mnt/training\") )` - there is no real difference between the two."
   ]
  },
  {
   "cell_type": "code",
   "execution_count": 0,
   "metadata": {
    "application/vnd.databricks.v1+cell": {
     "cellMetadata": {
      "byteLimit": 2048000,
      "rowLimit": 10000
     },
     "inputWidgets": {},
     "nuid": "07e5f275-ef07-4ef9-8c27-059ccefb2f75",
     "showTitle": false,
     "title": ""
    }
   },
   "outputs": [
    {
     "output_type": "display_data",
     "data": {
      "text/html": [
       "<style scoped>\n",
       "  .table-result-container {\n",
       "    max-height: 300px;\n",
       "    overflow: auto;\n",
       "  }\n",
       "  table, th, td {\n",
       "    border: 1px solid black;\n",
       "    border-collapse: collapse;\n",
       "  }\n",
       "  th, td {\n",
       "    padding: 5px;\n",
       "  }\n",
       "  th {\n",
       "    text-align: left;\n",
       "  }\n",
       "</style><div class='table-result-container'><table class='table-result'><thead style='background-color: white'><tr><th>path</th><th>name</th><th>size</th><th>modificationTime</th></tr></thead><tbody><tr><td>dbfs:/mnt/training/301/</td><td>301/</td><td>0</td><td>1684233658112</td></tr><tr><td>dbfs:/mnt/training/Chicago-Crimes-2018.csv</td><td>Chicago-Crimes-2018.csv</td><td>5201668</td><td>1518562526000</td></tr><tr><td>dbfs:/mnt/training/City-Data.delta/</td><td>City-Data.delta/</td><td>0</td><td>1684233658112</td></tr><tr><td>dbfs:/mnt/training/City-Data.parquet/</td><td>City-Data.parquet/</td><td>0</td><td>1684233658112</td></tr><tr><td>dbfs:/mnt/training/EDGAR-Log-20170329/</td><td>EDGAR-Log-20170329/</td><td>0</td><td>1684233658112</td></tr><tr><td>dbfs:/mnt/training/StatLib/</td><td>StatLib/</td><td>0</td><td>1684233658112</td></tr><tr><td>dbfs:/mnt/training/UbiqLog4UCI/</td><td>UbiqLog4UCI/</td><td>0</td><td>1684233658112</td></tr><tr><td>dbfs:/mnt/training/_META/</td><td>_META/</td><td>0</td><td>1684233658112</td></tr><tr><td>dbfs:/mnt/training/adventure-works/</td><td>adventure-works/</td><td>0</td><td>1684233658112</td></tr><tr><td>dbfs:/mnt/training/airbnb/</td><td>airbnb/</td><td>0</td><td>1684233658112</td></tr><tr><td>dbfs:/mnt/training/airbnb-sf-listings.csv</td><td>airbnb-sf-listings.csv</td><td>764121</td><td>1523643107000</td></tr><tr><td>dbfs:/mnt/training/asa/</td><td>asa/</td><td>0</td><td>1684233658112</td></tr><tr><td>dbfs:/mnt/training/auto-mpg.csv</td><td>auto-mpg.csv</td><td>18045</td><td>1470288528000</td></tr><tr><td>dbfs:/mnt/training/bigrams/</td><td>bigrams/</td><td>0</td><td>1684233658112</td></tr><tr><td>dbfs:/mnt/training/bikeSharing/</td><td>bikeSharing/</td><td>0</td><td>1684233658112</td></tr><tr><td>dbfs:/mnt/training/bostonhousing/</td><td>bostonhousing/</td><td>0</td><td>1684233658112</td></tr><tr><td>dbfs:/mnt/training/cancer/</td><td>cancer/</td><td>0</td><td>1684233658112</td></tr><tr><td>dbfs:/mnt/training/chest-xray/</td><td>chest-xray/</td><td>0</td><td>1684233658112</td></tr><tr><td>dbfs:/mnt/training/countries/</td><td>countries/</td><td>0</td><td>1684233658112</td></tr><tr><td>dbfs:/mnt/training/crime-data-2016/</td><td>crime-data-2016/</td><td>0</td><td>1684233658112</td></tr><tr><td>dbfs:/mnt/training/cybersecurity/</td><td>cybersecurity/</td><td>0</td><td>1684233658112</td></tr><tr><td>dbfs:/mnt/training/data/</td><td>data/</td><td>0</td><td>1684233658112</td></tr><tr><td>dbfs:/mnt/training/data-cleansing/</td><td>data-cleansing/</td><td>0</td><td>1684233658112</td></tr><tr><td>dbfs:/mnt/training/databricks-blog.json</td><td>databricks-blog.json</td><td>3052424</td><td>1502492926000</td></tr><tr><td>dbfs:/mnt/training/databricks-datasets/</td><td>databricks-datasets/</td><td>0</td><td>1684233658112</td></tr><tr><td>dbfs:/mnt/training/dataframes/</td><td>dataframes/</td><td>0</td><td>1684233658112</td></tr><tr><td>dbfs:/mnt/training/day-of-week/</td><td>day-of-week/</td><td>0</td><td>1684233658112</td></tr><tr><td>dbfs:/mnt/training/definitive-guide/</td><td>definitive-guide/</td><td>0</td><td>1684233658112</td></tr><tr><td>dbfs:/mnt/training/dl/</td><td>dl/</td><td>0</td><td>1684233658112</td></tr><tr><td>dbfs:/mnt/training/ecommerce/</td><td>ecommerce/</td><td>0</td><td>1684233658112</td></tr><tr><td>dbfs:/mnt/training/enb/</td><td>enb/</td><td>0</td><td>1684233658112</td></tr><tr><td>dbfs:/mnt/training/finance-org/</td><td>finance-org/</td><td>0</td><td>1684233658112</td></tr><tr><td>dbfs:/mnt/training/fraud/</td><td>fraud/</td><td>0</td><td>1684233658112</td></tr><tr><td>dbfs:/mnt/training/gaming_data/</td><td>gaming_data/</td><td>0</td><td>1684233658112</td></tr><tr><td>dbfs:/mnt/training/global-sales/</td><td>global-sales/</td><td>0</td><td>1684233658112</td></tr><tr><td>dbfs:/mnt/training/graphx-demo/</td><td>graphx-demo/</td><td>0</td><td>1684233658112</td></tr><tr><td>dbfs:/mnt/training/healthcare/</td><td>healthcare/</td><td>0</td><td>1684233658112</td></tr><tr><td>dbfs:/mnt/training/healthcare-org/</td><td>healthcare-org/</td><td>0</td><td>1684233658112</td></tr><tr><td>dbfs:/mnt/training/initech/</td><td>initech/</td><td>0</td><td>1684233658112</td></tr><tr><td>dbfs:/mnt/training/iot-devices/</td><td>iot-devices/</td><td>0</td><td>1684233658112</td></tr><tr><td>dbfs:/mnt/training/ip-geocode.delta/</td><td>ip-geocode.delta/</td><td>0</td><td>1684233658112</td></tr><tr><td>dbfs:/mnt/training/ip-geocode.parquet/</td><td>ip-geocode.parquet/</td><td>0</td><td>1684233658112</td></tr><tr><td>dbfs:/mnt/training/iris/</td><td>iris/</td><td>0</td><td>1684233658112</td></tr><tr><td>dbfs:/mnt/training/manufacturing-org/</td><td>manufacturing-org/</td><td>0</td><td>1684233658112</td></tr><tr><td>dbfs:/mnt/training/migration-capstone/</td><td>migration-capstone/</td><td>0</td><td>1684233658112</td></tr><tr><td>dbfs:/mnt/training/mini_newsgroups/</td><td>mini_newsgroups/</td><td>0</td><td>1684233658112</td></tr><tr><td>dbfs:/mnt/training/mnist/</td><td>mnist/</td><td>0</td><td>1684233658112</td></tr><tr><td>dbfs:/mnt/training/movie-reviews/</td><td>movie-reviews/</td><td>0</td><td>1684233658112</td></tr><tr><td>dbfs:/mnt/training/movielens/</td><td>movielens/</td><td>0</td><td>1684233658112</td></tr><tr><td>dbfs:/mnt/training/movies/</td><td>movies/</td><td>0</td><td>1684233658112</td></tr><tr><td>dbfs:/mnt/training/online_retail/</td><td>online_retail/</td><td>0</td><td>1684233658112</td></tr><tr><td>dbfs:/mnt/training/philadelphia-crime-data-2015-ytd.csv</td><td>philadelphia-crime-data-2015-ytd.csv</td><td>7469462</td><td>1446515668000</td></tr><tr><td>dbfs:/mnt/training/power-plant/</td><td>power-plant/</td><td>0</td><td>1684233658112</td></tr><tr><td>dbfs:/mnt/training/purchases.txt</td><td>purchases.txt</td><td>89437</td><td>1447976591000</td></tr><tr><td>dbfs:/mnt/training/pv/</td><td>pv/</td><td>0</td><td>1684233658112</td></tr><tr><td>dbfs:/mnt/training/retail-org/</td><td>retail-org/</td><td>0</td><td>1684233658112</td></tr><tr><td>dbfs:/mnt/training/reviews/</td><td>reviews/</td><td>0</td><td>1684233658112</td></tr><tr><td>dbfs:/mnt/training/sensor-data/</td><td>sensor-data/</td><td>0</td><td>1684233658112</td></tr><tr><td>dbfs:/mnt/training/ssn/</td><td>ssn/</td><td>0</td><td>1684233658112</td></tr><tr><td>dbfs:/mnt/training/stopwords</td><td>stopwords</td><td>2237</td><td>1470200072000</td></tr><tr><td>dbfs:/mnt/training/structured-streaming/</td><td>structured-streaming/</td><td>0</td><td>1684233658112</td></tr><tr><td>dbfs:/mnt/training/test.log</td><td>test.log</td><td>3973546</td><td>1446637494000</td></tr><tr><td>dbfs:/mnt/training/tom-sawyer/</td><td>tom-sawyer/</td><td>0</td><td>1684233658112</td></tr><tr><td>dbfs:/mnt/training/tweets.txt</td><td>tweets.txt</td><td>24665</td><td>1448392910000</td></tr><tr><td>dbfs:/mnt/training/twitter/</td><td>twitter/</td><td>0</td><td>1684233658112</td></tr><tr><td>dbfs:/mnt/training/wash_dc_crime_incidents_2013.csv</td><td>wash_dc_crime_incidents_2013.csv</td><td>7978101</td><td>1442879884000</td></tr><tr><td>dbfs:/mnt/training/wash_dc_crime_incidents_2015-10-03-to-2016-10-02.csv</td><td>wash_dc_crime_incidents_2015-10-03-to-2016-10-02.csv</td><td>8627868</td><td>1475539541000</td></tr><tr><td>dbfs:/mnt/training/weather/</td><td>weather/</td><td>0</td><td>1684233658112</td></tr><tr><td>dbfs:/mnt/training/wikipedia/</td><td>wikipedia/</td><td>0</td><td>1684233658112</td></tr><tr><td>dbfs:/mnt/training/wine.parquet/</td><td>wine.parquet/</td><td>0</td><td>1684233658112</td></tr><tr><td>dbfs:/mnt/training/word-game-dict.txt</td><td>word-game-dict.txt</td><td>1923517</td><td>1447812561000</td></tr><tr><td>dbfs:/mnt/training/zip3state.csv</td><td>zip3state.csv</td><td>1030</td><td>1447869161000</td></tr><tr><td>dbfs:/mnt/training/zips.json</td><td>zips.json</td><td>3182409</td><td>1447976592000</td></tr></tbody></table></div>"
      ]
     },
     "metadata": {
      "application/vnd.databricks.v1+output": {
       "addedWidgets": {},
       "aggData": [],
       "aggError": "",
       "aggOverflow": false,
       "aggSchema": [],
       "aggSeriesLimitReached": false,
       "aggType": "",
       "arguments": {},
       "columnCustomDisplayInfos": {},
       "data": [
        [
         "dbfs:/mnt/training/301/",
         "301/",
         0,
         1684233658112
        ],
        [
         "dbfs:/mnt/training/Chicago-Crimes-2018.csv",
         "Chicago-Crimes-2018.csv",
         5201668,
         1518562526000
        ],
        [
         "dbfs:/mnt/training/City-Data.delta/",
         "City-Data.delta/",
         0,
         1684233658112
        ],
        [
         "dbfs:/mnt/training/City-Data.parquet/",
         "City-Data.parquet/",
         0,
         1684233658112
        ],
        [
         "dbfs:/mnt/training/EDGAR-Log-20170329/",
         "EDGAR-Log-20170329/",
         0,
         1684233658112
        ],
        [
         "dbfs:/mnt/training/StatLib/",
         "StatLib/",
         0,
         1684233658112
        ],
        [
         "dbfs:/mnt/training/UbiqLog4UCI/",
         "UbiqLog4UCI/",
         0,
         1684233658112
        ],
        [
         "dbfs:/mnt/training/_META/",
         "_META/",
         0,
         1684233658112
        ],
        [
         "dbfs:/mnt/training/adventure-works/",
         "adventure-works/",
         0,
         1684233658112
        ],
        [
         "dbfs:/mnt/training/airbnb/",
         "airbnb/",
         0,
         1684233658112
        ],
        [
         "dbfs:/mnt/training/airbnb-sf-listings.csv",
         "airbnb-sf-listings.csv",
         764121,
         1523643107000
        ],
        [
         "dbfs:/mnt/training/asa/",
         "asa/",
         0,
         1684233658112
        ],
        [
         "dbfs:/mnt/training/auto-mpg.csv",
         "auto-mpg.csv",
         18045,
         1470288528000
        ],
        [
         "dbfs:/mnt/training/bigrams/",
         "bigrams/",
         0,
         1684233658112
        ],
        [
         "dbfs:/mnt/training/bikeSharing/",
         "bikeSharing/",
         0,
         1684233658112
        ],
        [
         "dbfs:/mnt/training/bostonhousing/",
         "bostonhousing/",
         0,
         1684233658112
        ],
        [
         "dbfs:/mnt/training/cancer/",
         "cancer/",
         0,
         1684233658112
        ],
        [
         "dbfs:/mnt/training/chest-xray/",
         "chest-xray/",
         0,
         1684233658112
        ],
        [
         "dbfs:/mnt/training/countries/",
         "countries/",
         0,
         1684233658112
        ],
        [
         "dbfs:/mnt/training/crime-data-2016/",
         "crime-data-2016/",
         0,
         1684233658112
        ],
        [
         "dbfs:/mnt/training/cybersecurity/",
         "cybersecurity/",
         0,
         1684233658112
        ],
        [
         "dbfs:/mnt/training/data/",
         "data/",
         0,
         1684233658112
        ],
        [
         "dbfs:/mnt/training/data-cleansing/",
         "data-cleansing/",
         0,
         1684233658112
        ],
        [
         "dbfs:/mnt/training/databricks-blog.json",
         "databricks-blog.json",
         3052424,
         1502492926000
        ],
        [
         "dbfs:/mnt/training/databricks-datasets/",
         "databricks-datasets/",
         0,
         1684233658112
        ],
        [
         "dbfs:/mnt/training/dataframes/",
         "dataframes/",
         0,
         1684233658112
        ],
        [
         "dbfs:/mnt/training/day-of-week/",
         "day-of-week/",
         0,
         1684233658112
        ],
        [
         "dbfs:/mnt/training/definitive-guide/",
         "definitive-guide/",
         0,
         1684233658112
        ],
        [
         "dbfs:/mnt/training/dl/",
         "dl/",
         0,
         1684233658112
        ],
        [
         "dbfs:/mnt/training/ecommerce/",
         "ecommerce/",
         0,
         1684233658112
        ],
        [
         "dbfs:/mnt/training/enb/",
         "enb/",
         0,
         1684233658112
        ],
        [
         "dbfs:/mnt/training/finance-org/",
         "finance-org/",
         0,
         1684233658112
        ],
        [
         "dbfs:/mnt/training/fraud/",
         "fraud/",
         0,
         1684233658112
        ],
        [
         "dbfs:/mnt/training/gaming_data/",
         "gaming_data/",
         0,
         1684233658112
        ],
        [
         "dbfs:/mnt/training/global-sales/",
         "global-sales/",
         0,
         1684233658112
        ],
        [
         "dbfs:/mnt/training/graphx-demo/",
         "graphx-demo/",
         0,
         1684233658112
        ],
        [
         "dbfs:/mnt/training/healthcare/",
         "healthcare/",
         0,
         1684233658112
        ],
        [
         "dbfs:/mnt/training/healthcare-org/",
         "healthcare-org/",
         0,
         1684233658112
        ],
        [
         "dbfs:/mnt/training/initech/",
         "initech/",
         0,
         1684233658112
        ],
        [
         "dbfs:/mnt/training/iot-devices/",
         "iot-devices/",
         0,
         1684233658112
        ],
        [
         "dbfs:/mnt/training/ip-geocode.delta/",
         "ip-geocode.delta/",
         0,
         1684233658112
        ],
        [
         "dbfs:/mnt/training/ip-geocode.parquet/",
         "ip-geocode.parquet/",
         0,
         1684233658112
        ],
        [
         "dbfs:/mnt/training/iris/",
         "iris/",
         0,
         1684233658112
        ],
        [
         "dbfs:/mnt/training/manufacturing-org/",
         "manufacturing-org/",
         0,
         1684233658112
        ],
        [
         "dbfs:/mnt/training/migration-capstone/",
         "migration-capstone/",
         0,
         1684233658112
        ],
        [
         "dbfs:/mnt/training/mini_newsgroups/",
         "mini_newsgroups/",
         0,
         1684233658112
        ],
        [
         "dbfs:/mnt/training/mnist/",
         "mnist/",
         0,
         1684233658112
        ],
        [
         "dbfs:/mnt/training/movie-reviews/",
         "movie-reviews/",
         0,
         1684233658112
        ],
        [
         "dbfs:/mnt/training/movielens/",
         "movielens/",
         0,
         1684233658112
        ],
        [
         "dbfs:/mnt/training/movies/",
         "movies/",
         0,
         1684233658112
        ],
        [
         "dbfs:/mnt/training/online_retail/",
         "online_retail/",
         0,
         1684233658112
        ],
        [
         "dbfs:/mnt/training/philadelphia-crime-data-2015-ytd.csv",
         "philadelphia-crime-data-2015-ytd.csv",
         7469462,
         1446515668000
        ],
        [
         "dbfs:/mnt/training/power-plant/",
         "power-plant/",
         0,
         1684233658112
        ],
        [
         "dbfs:/mnt/training/purchases.txt",
         "purchases.txt",
         89437,
         1447976591000
        ],
        [
         "dbfs:/mnt/training/pv/",
         "pv/",
         0,
         1684233658112
        ],
        [
         "dbfs:/mnt/training/retail-org/",
         "retail-org/",
         0,
         1684233658112
        ],
        [
         "dbfs:/mnt/training/reviews/",
         "reviews/",
         0,
         1684233658112
        ],
        [
         "dbfs:/mnt/training/sensor-data/",
         "sensor-data/",
         0,
         1684233658112
        ],
        [
         "dbfs:/mnt/training/ssn/",
         "ssn/",
         0,
         1684233658112
        ],
        [
         "dbfs:/mnt/training/stopwords",
         "stopwords",
         2237,
         1470200072000
        ],
        [
         "dbfs:/mnt/training/structured-streaming/",
         "structured-streaming/",
         0,
         1684233658112
        ],
        [
         "dbfs:/mnt/training/test.log",
         "test.log",
         3973546,
         1446637494000
        ],
        [
         "dbfs:/mnt/training/tom-sawyer/",
         "tom-sawyer/",
         0,
         1684233658112
        ],
        [
         "dbfs:/mnt/training/tweets.txt",
         "tweets.txt",
         24665,
         1448392910000
        ],
        [
         "dbfs:/mnt/training/twitter/",
         "twitter/",
         0,
         1684233658112
        ],
        [
         "dbfs:/mnt/training/wash_dc_crime_incidents_2013.csv",
         "wash_dc_crime_incidents_2013.csv",
         7978101,
         1442879884000
        ],
        [
         "dbfs:/mnt/training/wash_dc_crime_incidents_2015-10-03-to-2016-10-02.csv",
         "wash_dc_crime_incidents_2015-10-03-to-2016-10-02.csv",
         8627868,
         1475539541000
        ],
        [
         "dbfs:/mnt/training/weather/",
         "weather/",
         0,
         1684233658112
        ],
        [
         "dbfs:/mnt/training/wikipedia/",
         "wikipedia/",
         0,
         1684233658112
        ],
        [
         "dbfs:/mnt/training/wine.parquet/",
         "wine.parquet/",
         0,
         1684233658112
        ],
        [
         "dbfs:/mnt/training/word-game-dict.txt",
         "word-game-dict.txt",
         1923517,
         1447812561000
        ],
        [
         "dbfs:/mnt/training/zip3state.csv",
         "zip3state.csv",
         1030,
         1447869161000
        ],
        [
         "dbfs:/mnt/training/zips.json",
         "zips.json",
         3182409,
         1447976592000
        ]
       ],
       "datasetInfos": [],
       "dbfsResultPath": null,
       "isJsonSchema": true,
       "metadata": {
        "isDbfsCommandResult": false
       },
       "overflow": false,
       "plotOptions": {
        "customPlotOptions": {},
        "displayType": "table",
        "pivotAggregation": null,
        "pivotColumns": null,
        "xColumns": null,
        "yColumns": null
       },
       "removedWidgets": [],
       "schema": [
        {
         "metadata": "{}",
         "name": "path",
         "type": "\"string\""
        },
        {
         "metadata": "{}",
         "name": "name",
         "type": "\"string\""
        },
        {
         "metadata": "{}",
         "name": "size",
         "type": "\"long\""
        },
        {
         "metadata": "{}",
         "name": "modificationTime",
         "type": "\"long\""
        }
       ],
       "type": "table"
      }
     },
     "output_type": "display_data"
    }
   ],
   "source": [
    "%fs ls /mnt/training"
   ]
  },
  {
   "cell_type": "markdown",
   "metadata": {
    "application/vnd.databricks.v1+cell": {
     "cellMetadata": {
      "byteLimit": 2048000,
      "rowLimit": 10000
     },
     "inputWidgets": {},
     "nuid": "4132d3b6-03d7-497b-9874-239406ae3e98",
     "showTitle": false,
     "title": ""
    }
   },
   "source": [
    "##![Spark Logo Tiny](https://files.training.databricks.com/images/wiki-book/general/logo_spark_tiny.png) Learning More\n",
    "\n",
    "We like to encourage you to explore the documentation to learn more about the various features of the Databricks platform and notebooks.\n",
    "* <a href=\"https://docs.azuredatabricks.net/user-guide/index.html\" target=\"_blank\">User Guide</a>\n",
    "* <a href=\"https://docs.databricks.com/user-guide/getting-started.html\" target=\"_blank\">Getting Started with Databricks</a>\n",
    "* <a href=\"https://docs.azuredatabricks.net/user-guide/notebooks/index.html\" target=\"_blank\">User Guide / Notebooks</a>\n",
    "* <a href=\"https://docs.databricks.com/user-guide/notebooks/index.html#importing-notebooks\" target=\"_blank\">Importing notebooks - Supported Formats</a>\n",
    "* <a href=\"https://docs.azuredatabricks.net/administration-guide/index.html\" target=\"_blank\">Administration Guide</a>\n",
    "* <a href=\"https://docs.databricks.com/user-guide/clusters/index.html\" target=\"_blank\">Cluster Configuration</a>\n",
    "* <a href=\"https://docs.azuredatabricks.net/api/index.html\" target=\"_blank\">REST API</a>\n",
    "* <a href=\"https://docs.azuredatabricks.net/release-notes/index.html\" target=\"_blank\">Release Notes</a>\n",
    "* <a href=\"https://docs.azuredatabricks.net\" target=\"_blank\">And much more!</a>"
   ]
  }
 ],
 "metadata": {
  "application/vnd.databricks.v1+notebook": {
   "dashboards": [],
   "language": "python",
   "notebookMetadata": {
    "mostRecentlyExecutedCommandWithImplicitDF": {
     "commandId": 545192420101660,
     "dataframes": [
      "_sqldf"
     ]
    },
    "pythonIndentUnit": 4
   },
   "notebookName": "01-The-Databricks-Environment",
   "widgets": {}
  }
 },
 "nbformat": 4,
 "nbformat_minor": 0
}

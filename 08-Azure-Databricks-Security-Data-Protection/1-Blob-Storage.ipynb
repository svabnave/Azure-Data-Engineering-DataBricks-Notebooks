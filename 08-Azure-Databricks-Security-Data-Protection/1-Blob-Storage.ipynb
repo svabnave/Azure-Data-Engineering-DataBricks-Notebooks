{
 "cells": [
  {
   "cell_type": "markdown",
   "metadata": {
    "application/vnd.databricks.v1+cell": {
     "cellMetadata": {
      "byteLimit": 2048000,
      "rowLimit": 10000
     },
     "inputWidgets": {},
     "nuid": "e32d5d1a-5daf-454f-a473-625deb2abf0b",
     "showTitle": false,
     "title": ""
    }
   },
   "source": [
    "#![Spark Logo Tiny](https://files.training.databricks.com/images/105/logo_spark_tiny.png) Key Vault-Backed Secret Scopes\n",
    "\n",
    "## Learning Objectives\n",
    "By the end of these lessons, you should be able to:\n",
    "* Configure Databricks to access Key Vault secrets\n",
    "* Read and write data directly from Blob Storage using secrets stored in Key Vault\n",
    "* Set different levels of access permission using SAS at the Storage service level\n",
    "* Mount Blob Storage into DBFS\n",
    "* Describe how mounting impacts secure access to data\n",
    "\n",
    "The overall goal of these three notebooks is to read and write data directly from Blob Storage using secrets stored in a Key Vault, accessed securely through the Databricks Secrets utility. \n",
    "\n",
    "This goal has been broken into 3 notebooks to make each step more digestible:\n",
    "1. `1 - Blob Storage` - In the first notebook, we will add a file to a Blob on a Storage Account and generate SAS tokens with different permissions levels\n",
    "1. `2 - Key Vault` - In the second notebook, we will configure an Azure Key Vault Access Policy and add text-based credentials as secrets\n",
    "1. `3 - Key Vault` Backed Secret Scopes - In the third notebook, we will define a Secret Scope in Databircks by linking to the Key Vault and use the previously stored credentials to read and write from the Storage Container"
   ]
  },
  {
   "cell_type": "markdown",
   "metadata": {
    "application/vnd.databricks.v1+cell": {
     "cellMetadata": {
      "byteLimit": 2048000,
      "rowLimit": 10000
     },
     "inputWidgets": {},
     "nuid": "c93c8058-10c6-4b8b-9c39-4d75eb78d6c9",
     "showTitle": false,
     "title": ""
    }
   },
   "source": [
    "##![Spark Logo Tiny](https://files.training.databricks.com/images/105/logo_spark_tiny.png) 1 - Blob Storage\n",
    "\n",
    "This notebook is focused on configuring the blob storage required for the ADB Core partner training, but should provide general enough instructions to be useful in other settings.\n",
    " \n",
    " \n",
    " ### Learning Objectives\n",
    " By the end of this lesson, you should be able to:\n",
    " \n",
    " - Create blob storage containers\n",
    " - Load data into a container\n",
    " - Create a read/list SAS token\n",
    " - Create a SAS token with full privileges"
   ]
  },
  {
   "cell_type": "markdown",
   "metadata": {
    "application/vnd.databricks.v1+cell": {
     "cellMetadata": {
      "byteLimit": 2048000,
      "rowLimit": 10000
     },
     "inputWidgets": {},
     "nuid": "b32cb62d-53a4-4c25-80a7-9444184768c5",
     "showTitle": false,
     "title": ""
    }
   },
   "source": [
    "## Create container and upload a file\n",
    "\n",
    "Follow the screenshots below to create a container and upload a file. \n",
    "\n",
    "You will be using the Azure Portal for these operations.\n",
    "\n",
    "The Azure Portal can be accessed from your workspace by clicking on the **PORTAL** link, top right next to your name."
   ]
  },
  {
   "cell_type": "markdown",
   "metadata": {
    "application/vnd.databricks.v1+cell": {
     "cellMetadata": {
      "byteLimit": 2048000,
      "rowLimit": 10000
     },
     "inputWidgets": {},
     "nuid": "bb5217db-b9a5-48cd-94ae-519c4cd2755f",
     "showTitle": false,
     "title": ""
    }
   },
   "source": [
    "## Access your Storage Account in the Azure Portal\n",
    "\n",
    "\n",
    "A storage account has been provided for you, but you can follow instruction here to [create a new Storage Account in your Resource Group](https://docs.microsoft.com/en-us/azure/storage/common/storage-quickstart-create-account?tabs=azure-portal).\n",
    "\n",
    "1. Click on \"All resources\"\n",
    "2. Click on the storage account starting with `g1`\n",
    "\n",
    "\n",
    "<img src=\"https://files.training.databricks.com/images/adbcore/config-blob/resources.png\" width=800px />"
   ]
  },
  {
   "cell_type": "markdown",
   "metadata": {
    "application/vnd.databricks.v1+cell": {
     "cellMetadata": {
      "byteLimit": 2048000,
      "rowLimit": 10000
     },
     "inputWidgets": {},
     "nuid": "23af21a1-5fb7-45d5-ad1c-103f3e334d64",
     "showTitle": false,
     "title": ""
    }
   },
   "source": [
    "## View the Blobs, if any stored with this storage account\n",
    "\n",
    "A storage account can have multiple containers. \n",
    "\n",
    "We will upload our file as a blob into a Container for this storage account. \n",
    "\n",
    "First, see what containers -- if any -- exist in this storage account.\n",
    "\n",
    "<img src=\"https://files.training.databricks.com/images/adbcore/config-blob/storage1.png\" width=800px />"
   ]
  },
  {
   "cell_type": "markdown",
   "metadata": {
    "application/vnd.databricks.v1+cell": {
     "cellMetadata": {
      "byteLimit": 2048000,
      "rowLimit": 10000
     },
     "inputWidgets": {},
     "nuid": "ab0bcb97-17ba-4ddd-8278-8439b8c404d6",
     "showTitle": false,
     "title": ""
    }
   },
   "source": [
    "## Add a Container to hold Blobs\n",
    "\n",
    "Currently, we have no containers defined in our blob. Click the indicated button to add a container.\n",
    "\n",
    "<img src=\"https://files.training.databricks.com/images/adbcore/config-blob/blobs-empty.png\" width=800px />"
   ]
  },
  {
   "cell_type": "markdown",
   "metadata": {
    "application/vnd.databricks.v1+cell": {
     "cellMetadata": {
      "byteLimit": 2048000,
      "rowLimit": 10000
     },
     "inputWidgets": {},
     "nuid": "77ba115c-9642-4563-a2a9-dffe18d131a0",
     "showTitle": false,
     "title": ""
    }
   },
   "source": [
    "## Name the container\n",
    "\n",
    "We'll name our first container `commonfiles`.\n",
    "\n",
    "Note that the container name is hardcoded in the following notebooks, if you use a name besides `commonfiles` you will have to edit the following notebooks to reflect the name you chose in place of `commonfiles`\n",
    "\n",
    "Click \"OK\" to continue.\n",
    "\n",
    "<img src=\"https://files.training.databricks.com/images/adbcore/config-blob/new-blob.png\" width=800px />"
   ]
  },
  {
   "cell_type": "markdown",
   "metadata": {
    "application/vnd.databricks.v1+cell": {
     "cellMetadata": {
      "byteLimit": 2048000,
      "rowLimit": 10000
     },
     "inputWidgets": {},
     "nuid": "412b3d1d-e105-4786-8523-8c38bad95806",
     "showTitle": false,
     "title": ""
    }
   },
   "source": [
    "## Download a file to your computer\n",
    "\n",
    "Now that we have created a container named `commonfiles`, let's upload a file to the container. \n",
    "\n",
    "Click the following link to download a csv to your computer:\n",
    "### Download [this file](https://files.training.databricks.com/courses/adbcore/commonfiles/sales.csv) to your local machine."
   ]
  },
  {
   "cell_type": "markdown",
   "metadata": {
    "application/vnd.databricks.v1+cell": {
     "cellMetadata": {
      "byteLimit": 2048000,
      "rowLimit": 10000
     },
     "inputWidgets": {},
     "nuid": "c4a25e81-0eae-40e4-9c9a-fea047471c97",
     "showTitle": false,
     "title": ""
    }
   },
   "source": [
    "## Select the container and upload some data\n",
    "\n",
    "We will upload the sales.csv file we just downloaded.\n",
    "\n",
    "#### Select the container commonfiles\n",
    "\n",
    "<img src=\"https://files.training.databricks.com/images/adbcore/config-blob/blobs-1.png\" width=800px />\n",
    "\n",
    "#### Select Upload to prepare to upload Data\n",
    "\n",
    "<img src=\"https://files.training.databricks.com/images/adbcore/config-blob/blob-empty.png\" width=800px />\n",
    "\n",
    "#### Upload the file into the container\n",
    "\n",
    "1. Select the downloaded file \"sales.csv\" from the file picker.\n",
    "2. Click \"Upload\"\n",
    "\n",
    "<img src=\"https://files.training.databricks.com/images/adbcore/config-blob/file-upload.png\"/>"
   ]
  },
  {
   "cell_type": "markdown",
   "metadata": {
    "application/vnd.databricks.v1+cell": {
     "cellMetadata": {
      "byteLimit": 2048000,
      "rowLimit": 10000
     },
     "inputWidgets": {},
     "nuid": "47fce020-4339-44fb-afb4-9a793f3989a1",
     "showTitle": false,
     "title": ""
    }
   },
   "source": [
    "## Congratulations! You have uploaded a file into Azure Blob Storage\n",
    "\n",
    "Once you have content in Azure Blob Storage you can access that content in an Azure Databricks Notebook. \n",
    "\n",
    "For further reading you can see the [Documentation](https://docs.databricks.com/data/data-sources/azure/azure-storage.html)\n",
    "\n",
    "One way to access the content in a container is to generate an SAS Token\n",
    "\n",
    "**In the next steps you will generate an SAS Token for this container**"
   ]
  },
  {
   "cell_type": "markdown",
   "metadata": {
    "application/vnd.databricks.v1+cell": {
     "cellMetadata": {
      "byteLimit": 2048000,
      "rowLimit": 10000
     },
     "inputWidgets": {},
     "nuid": "302d1456-378e-4e96-a8ed-74bd768ad87b",
     "showTitle": false,
     "title": ""
    }
   },
   "source": [
    "# Copy Down Variables to Be Used in Next Lesson\n",
    "\n",
    "You'll need a few values that we'll be loading into a Key Vault in the next lesson. We'll copy them into cells below."
   ]
  },
  {
   "cell_type": "markdown",
   "metadata": {
    "application/vnd.databricks.v1+cell": {
     "cellMetadata": {
      "byteLimit": 2048000,
      "rowLimit": 10000
     },
     "inputWidgets": {},
     "nuid": "cf6119b9-05a2-4fb5-8b90-18ed69c8f662",
     "showTitle": false,
     "title": ""
    }
   },
   "source": [
    "## Record Storage Account Name\n",
    "\n",
    "Copy/paste the name of your storage account below.\n",
    "\n",
    "<img src=\"https://files.training.databricks.com/images/adbcore/config-blob/account-name.png\"/>"
   ]
  },
  {
   "cell_type": "code",
   "execution_count": 0,
   "metadata": {
    "application/vnd.databricks.v1+cell": {
     "cellMetadata": {
      "byteLimit": 2048000,
      "rowLimit": 10000
     },
     "inputWidgets": {},
     "nuid": "1d1a091e-7885-48c0-bd52-d0abc6f67434",
     "showTitle": false,
     "title": ""
    }
   },
   "outputs": [],
   "source": [
    "## mystorageadb ####\n",
    "## NOTE WE DO NOT RUN ANY CODE HERE, THIS IS JUST SAVED FOR USE IN THE FOLLOWING NOTEBOOK"
   ]
  },
  {
   "cell_type": "markdown",
   "metadata": {
    "application/vnd.databricks.v1+cell": {
     "cellMetadata": {
      "byteLimit": 2048000,
      "rowLimit": 10000
     },
     "inputWidgets": {},
     "nuid": "3f4bca7d-87c3-4c36-8bea-e198c4c1ab1b",
     "showTitle": false,
     "title": ""
    }
   },
   "source": [
    "## Generate a SAS token with all privileges\n",
    "\n",
    "In the Storage Container View in the Azure Portal\n",
    "\n",
    "1. Click \"Shared access signature\"\n",
    "2. Select all the permissions\n",
    "3. Click \"Generate SAS and connection string\" to generate the SAS Token.\n",
    "\n",
    "<img src=\"https://files.training.databricks.com/images/adbcore/config-blob/sas-write.png\"/>"
   ]
  },
  {
   "cell_type": "markdown",
   "metadata": {
    "application/vnd.databricks.v1+cell": {
     "cellMetadata": {
      "byteLimit": 2048000,
      "rowLimit": 10000
     },
     "inputWidgets": {},
     "nuid": "6dac549d-619b-4dfb-8c8d-f94480e533df",
     "showTitle": false,
     "title": ""
    }
   },
   "source": [
    "## Retrieve the SAS Token generated\n",
    "\n",
    "You will use the SAS token in a later notebook.\n",
    "\n",
    "For now copy and paste the SAS token into the cell below. \n",
    "\n",
    "<img src=\"https://files.training.databricks.com/images/adbcore/config-blob/sas-write-secrets.png\" />"
   ]
  },
  {
   "cell_type": "code",
   "execution_count": 0,
   "metadata": {
    "application/vnd.databricks.v1+cell": {
     "cellMetadata": {
      "byteLimit": 2048000,
      "rowLimit": 10000
     },
     "inputWidgets": {},
     "nuid": "e041e594-051e-477c-b5c2-213a3be2e40f",
     "showTitle": false,
     "title": ""
    }
   },
   "outputs": [],
   "source": [
    "## ?sv=2020-08-04&ss=bfqt&srt=sco&sp=rwdlacupitfx&se=2021-08-14T05:13:59Z&st=2021-08-13T21:13:59Z&spr=https&sig=uWWvsGwUU%2FgGwxR%2FCoYM1GlfDaVnwVBLJSINctV5a5w%3D ####\n",
    "## NOTE WE DO NOT RUN ANY CODE HERE, THIS IS JUST SAVED FOR USE IN THE FOLLOWING NOTEBOOK"
   ]
  },
  {
   "cell_type": "markdown",
   "metadata": {
    "application/vnd.databricks.v1+cell": {
     "cellMetadata": {
      "byteLimit": 2048000,
      "rowLimit": 10000
     },
     "inputWidgets": {},
     "nuid": "9546f6e7-0bed-4ea1-a71c-b45c855c00ab",
     "showTitle": false,
     "title": ""
    }
   },
   "source": [
    "## Generate a SAS token with only Read and List privileges\n",
    "\n",
    "An SAS token is one way to gain access to data in your container. \n",
    "\n",
    "You will create an SAS token with read and list permissions for the container.\n",
    "\n",
    "In the Storage Container View in the Azure Portal\n",
    "\n",
    "1. Click \"Shared access signature\"\n",
    "2. Deselect the appropriate permissions to create a \"Read-Only\" Token.\n",
    "3. Make sure you retained the list permission, the list permission is useful to view the contents of the container\n",
    "3. Click \"Generate SAS and connection string\" to generate the SAS Token.\n",
    "\n",
    "#### **Warning a common mistake is to fail to select the list privilege, please verify you have selected read and list checkbox**\n",
    "\n",
    "<img src=\"https://files.training.databricks.com/images/adbcore/config-blob/sas-read.png\" width=800px />"
   ]
  },
  {
   "cell_type": "markdown",
   "metadata": {
    "application/vnd.databricks.v1+cell": {
     "cellMetadata": {
      "byteLimit": 2048000,
      "rowLimit": 10000
     },
     "inputWidgets": {},
     "nuid": "c2659287-3dd4-47e3-91d1-feb43ec94d14",
     "showTitle": false,
     "title": ""
    }
   },
   "source": [
    "## Retrieve the SAS Token generated\n",
    "\n",
    "You will use the SAS token in a later notebook.\n",
    "\n",
    "For now copy and paste the SAS token into the cell below. \n",
    "\n",
    "<img src=\"https://files.training.databricks.com/images/adbcore/config-blob/sas-write-secrets.png\" />"
   ]
  },
  {
   "cell_type": "code",
   "execution_count": 0,
   "metadata": {
    "application/vnd.databricks.v1+cell": {
     "cellMetadata": {
      "byteLimit": 2048000,
      "rowLimit": 10000
     },
     "inputWidgets": {},
     "nuid": "303e8b68-ef1b-46fd-845f-a10542465b94",
     "showTitle": false,
     "title": ""
    }
   },
   "outputs": [],
   "source": [
    "## ?sv=2020-08-04&ss=bfqt&srt=sco&sp=rltfx&se=2021-08-14T05:13:59Z&st=2021-08-13T21:13:59Z&spr=https&sig=M1wA87VE6ZB9vkJFxbVL0ixBxBsgvbvrVVZ0tjt1%2B1s%3D ####\n",
    "## NOTE WE DO NOT RUN ANY CODE HERE, THIS IS JUST SAVED FOR USE IN THE FOLLOWING NOTEBOOK"
   ]
  },
  {
   "cell_type": "markdown",
   "metadata": {
    "application/vnd.databricks.v1+cell": {
     "cellMetadata": {
      "byteLimit": 2048000,
      "rowLimit": 10000
     },
     "inputWidgets": {},
     "nuid": "281fb773-75a3-48c4-8bff-53c288a98128",
     "showTitle": false,
     "title": ""
    }
   },
   "source": [
    "# Obscuring your SAS Tokens\n",
    "\n",
    "In this series of Notebooks we use our SAS Token to access the blob store. In the cells above you store the SAS token in plain text, this is **bad practice and only done for educational purposes**. Your SAS Token in a production environment should be stored in Secrets/KeyVault to prevent it from being displayed in plain text inside a notebook.\n",
    "\n",
    "We will see how to do this in the next notebook."
   ]
  },
  {
   "cell_type": "markdown",
   "metadata": {
    "application/vnd.databricks.v1+cell": {
     "cellMetadata": {
      "byteLimit": 2048000,
      "rowLimit": 10000
     },
     "inputWidgets": {},
     "nuid": "58887276-f7cf-45c7-90ab-f2482d10bace",
     "showTitle": false,
     "title": ""
    }
   },
   "source": [
    "## Congratulations!\n",
    "\n",
    "You have:\n",
    " \n",
    " - Created a blob storage container\n",
    " - Loaded data into a container\n",
    " - Created a read/list SAS token\n",
    " - Created a SAS token with full permissions\n",
    " - Saved the SAS tokens for later use\n",
    " \n",
    "In this notebook, we uploaded a file to a blob storage container and generated SAS tokens with different access permissions to the storage account. In the next notebook we will see how to store the SAS tokens securely in the Key Vault."
   ]
  },
  {
   "cell_type": "markdown",
   "metadata": {
    "application/vnd.databricks.v1+cell": {
     "cellMetadata": {
      "byteLimit": 2048000,
      "rowLimit": 10000
     },
     "inputWidgets": {},
     "nuid": "9445fdb9-802b-4609-adeb-376b3df9f9dd",
     "showTitle": false,
     "title": ""
    }
   },
   "source": [
    "## Next steps\n",
    "\n",
    "Start the next lesson, [2-Key-Vault]($./2-Key-Vault)"
   ]
  }
 ],
 "metadata": {
  "application/vnd.databricks.v1+notebook": {
   "dashboards": [],
   "language": "python",
   "notebookMetadata": {
    "pythonIndentUnit": 4
   },
   "notebookName": "1-Blob-Storage",
   "widgets": {}
  }
 },
 "nbformat": 4,
 "nbformat_minor": 0
}

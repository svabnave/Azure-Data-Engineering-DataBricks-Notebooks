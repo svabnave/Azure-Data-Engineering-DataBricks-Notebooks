{
 "cells": [
  {
   "cell_type": "markdown",
   "metadata": {
    "application/vnd.databricks.v1+cell": {
     "cellMetadata": {
      "byteLimit": 2048000,
      "rowLimit": 10000
     },
     "inputWidgets": {},
     "nuid": "bdb8e095-cb1a-4b75-974a-b3cc86efc5e9",
     "showTitle": false,
     "title": ""
    }
   },
   "source": [
    "#![Spark Logo Tiny](https://files.training.databricks.com/images/105/logo_spark_tiny.png) Key Vault-Backed Secret Scopes\n",
    "\n",
    "## Learning Objectives\n",
    "By the end of these lessons, you should be able to:\n",
    "* Configure Databricks to access Key Vault secrets\n",
    "* Read and write data directly from Blob Storage using secrets stored in Key Vault\n",
    "* Set different levels of access permission using SAS at the Storage service level\n",
    "* Mount Blob Storage into DBFS\n",
    "* Describe how mounting impacts secure access to data\n",
    "\n",
    "The overall goal of these three notebooks is to read and write data directly from Blob Storage using secrets stored in a Key Vault, accessed securely through the Databricks Secrets utility. \n",
    "\n",
    "This goal has been broken into 3 notebooks to make each step more digestible:\n",
    "1. `1 - Blob Storage` - In the first notebook, we will add a file to a Blob on a Storage Account and generate SAS tokens with different permissions levels\n",
    "1. `2 - Key Vault` - In the second notebook, we will configure an Azure Key Vault Access Policy and add text-based credentials as secrets\n",
    "1. `3 - Key Vault` Backed Secret Scopes - In the third notebook, we will define a Secret Scope in Databircks by linking to the Key Vault and use the previously stored credentials to read and write from the Storage Container"
   ]
  },
  {
   "cell_type": "markdown",
   "metadata": {
    "application/vnd.databricks.v1+cell": {
     "cellMetadata": {
      "byteLimit": 2048000,
      "rowLimit": 10000
     },
     "inputWidgets": {},
     "nuid": "2ac02ea9-c427-48f4-8d7d-387bcca1c146",
     "showTitle": false,
     "title": ""
    }
   },
   "source": [
    "##![Spark Logo Tiny](https://files.training.databricks.com/images/105/logo_spark_tiny.png) 2 - Key Vault\n",
    "\n",
    "[Azure Key Vault](https://docs.microsoft.com/en-us/azure/key-vault/key-vault-whatis) provides us with a number of options for storing and sharing secrets and keys between Azure applications, and has direct integration with Azure Databricks. In this notebook, we'll focus on configuring an access policy and creating Secrets. These instructions are based around configurations and settings for the ADB Core partner training, but should be adaptable to production requirements.\n",
    "\n",
    "**This is something that will generally be handled by the workspace adminstrator.** Only individuals with proper permissions in the Azure Active Directory will be able to link a Key Vault to the Databricks workspace. (Each Key Vault will map to a \"scope\" in Databricks, so enterprise solutions may have many different Key Vaults for different teams/personas who need different permissions.)\n",
    "\n",
    "### Learning Objectives\n",
    "By the end of this lesson, you should be able to:\n",
    "- Configure Key Vault Access Policies\n",
    "- Create Secrets that store SAS Tokens in a Key Vault"
   ]
  },
  {
   "cell_type": "markdown",
   "metadata": {
    "application/vnd.databricks.v1+cell": {
     "cellMetadata": {
      "byteLimit": 2048000,
      "rowLimit": 10000
     },
     "inputWidgets": {},
     "nuid": "05dc1cc1-57cc-4ead-9361-107663fa0160",
     "showTitle": false,
     "title": ""
    }
   },
   "source": [
    "-sandbox\n",
    "\n",
    "<img alt=\"Caution\" title=\"Caution\" style=\"vertical-align: text-bottom; position: relative; height:1.3em; top:0.0em\" src=\"https://files.training.databricks.com/static/images/icon-warning.svg\"/> **PLEASE** open a new browser tab and navigate to <https://portal.azure.com>."
   ]
  },
  {
   "cell_type": "markdown",
   "metadata": {
    "application/vnd.databricks.v1+cell": {
     "cellMetadata": {
      "byteLimit": 2048000,
      "rowLimit": 10000
     },
     "inputWidgets": {},
     "nuid": "830038b9-3d54-40ea-8124-07a8ad889454",
     "showTitle": false,
     "title": ""
    }
   },
   "source": [
    "## Configure Key Vault Access Policies\n",
    "\n",
    "1. Go to \"All resources\"\n",
    "2. Click on the Key Vault resource\n",
    "\n",
    "<img src=\"https://files.training.databricks.com/images/adbcore/config-keyvault/resources-kv.png\" width=800px />"
   ]
  },
  {
   "cell_type": "markdown",
   "metadata": {
    "application/vnd.databricks.v1+cell": {
     "cellMetadata": {
      "byteLimit": 2048000,
      "rowLimit": 10000
     },
     "inputWidgets": {},
     "nuid": "aeadcbde-b7a8-449c-980f-358ef06e0eff",
     "showTitle": false,
     "title": ""
    }
   },
   "source": [
    "## Navigate to Access Policies\n",
    "\n",
    "First, click on `Access policies` in the left-side plane.\n",
    "\n",
    "<img src=\"https://files.training.databricks.com/images/adbcore/config-keyvault/keyvault-home.png\" width=800px />"
   ]
  },
  {
   "cell_type": "markdown",
   "metadata": {
    "application/vnd.databricks.v1+cell": {
     "cellMetadata": {
      "byteLimit": 2048000,
      "rowLimit": 10000
     },
     "inputWidgets": {},
     "nuid": "de026e88-1bbf-4f40-89d5-2b997975918c",
     "showTitle": false,
     "title": ""
    }
   },
   "source": [
    "## Add Access Policy to Key Vault\n",
    "\n",
    "While our user is a \"Contributor\" on this resource, we must add an access policy to add/list/use secrets.\n",
    "\n",
    "Click \"Add access policy\"\n",
    "\n",
    "\n",
    "<img src=\"https://files.training.databricks.com/images/adbcore/config-keyvault/access-none.png\" width=800px />"
   ]
  },
  {
   "cell_type": "markdown",
   "metadata": {
    "application/vnd.databricks.v1+cell": {
     "cellMetadata": {
      "byteLimit": 2048000,
      "rowLimit": 10000
     },
     "inputWidgets": {},
     "nuid": "02ca2af2-a0dd-4479-9bc0-d4b91c780160",
     "showTitle": false,
     "title": ""
    }
   },
   "source": [
    "1. Select \"Key, Secret, & Certificate Mangement\" from the dropdown\n",
    "2. Click to select a principal\n",
    "\n",
    "<img src=\"https://files.training.databricks.com/images/adbcore/config-keyvault/access-template.png\" />"
   ]
  },
  {
   "cell_type": "markdown",
   "metadata": {
    "application/vnd.databricks.v1+cell": {
     "cellMetadata": {
      "byteLimit": 2048000,
      "rowLimit": 10000
     },
     "inputWidgets": {},
     "nuid": "6aa393f3-633d-41db-ad83-5843905ff447",
     "showTitle": false,
     "title": ""
    }
   },
   "source": [
    "1. Search for your user ID\n",
    "2. Click on the matching result to select\n",
    "3. Click \"Select\"\n",
    "\n",
    "<img src=\"https://files.training.databricks.com/images/adbcore/config-keyvault/access-principal.png\" />"
   ]
  },
  {
   "cell_type": "markdown",
   "metadata": {
    "application/vnd.databricks.v1+cell": {
     "cellMetadata": {
      "byteLimit": 2048000,
      "rowLimit": 10000
     },
     "inputWidgets": {},
     "nuid": "807a5898-1f45-4f57-9b97-757bc7216c73",
     "showTitle": false,
     "title": ""
    }
   },
   "source": [
    "Now you'll need to click \"Add\" and then...\n",
    "\n",
    "<img src=\"https://files.training.databricks.com/images/adbcore/config-keyvault/access-not-added.png\" />"
   ]
  },
  {
   "cell_type": "markdown",
   "metadata": {
    "application/vnd.databricks.v1+cell": {
     "cellMetadata": {
      "byteLimit": 2048000,
      "rowLimit": 10000
     },
     "inputWidgets": {},
     "nuid": "2d6bf713-53f2-474d-bf8a-7526954db8c6",
     "showTitle": false,
     "title": ""
    }
   },
   "source": [
    "## Save Configuration Changes\n",
    "\n",
    "... you'll click \"Save\" to finalize the configurations.\n",
    "\n",
    "<img src=\"https://files.training.databricks.com/images/adbcore/config-keyvault/access-not-saved.png\" />"
   ]
  },
  {
   "cell_type": "markdown",
   "metadata": {
    "application/vnd.databricks.v1+cell": {
     "cellMetadata": {
      "byteLimit": 2048000,
      "rowLimit": 10000
     },
     "inputWidgets": {},
     "nuid": "46df833d-c994-4dc0-9bd8-ba25438f12d3",
     "showTitle": false,
     "title": ""
    }
   },
   "source": [
    "## Congratulations!\n",
    "\n",
    "**At this point you have**\n",
    "* Modified Access Policies in the Azure Key Vault\n",
    "\n",
    "### Next Steps\n",
    "\n",
    "**Your next steps are to:** \n",
    "* Create Secrets in the Key Vault"
   ]
  },
  {
   "cell_type": "markdown",
   "metadata": {
    "application/vnd.databricks.v1+cell": {
     "cellMetadata": {
      "byteLimit": 2048000,
      "rowLimit": 10000
     },
     "inputWidgets": {},
     "nuid": "f525308c-7e1f-46f1-a620-9a9fedbc7d29",
     "showTitle": false,
     "title": ""
    }
   },
   "source": [
    "## Create secrets in Key Vault\n",
    "\n",
    "To create secrets in Key Vault that can be accessed from your new secret scope in Databricks, you need to either use the Azure portal or the Key Vault CLI. For simplicity's sake, we will use the Azure portal:\n",
    "\n",
    "1. Select **Secrets** in the left-hand menu.\n",
    "2. Select **+ Generate/Import** in the Secrets toolbar.\n",
    "\n",
    "<img src=\"https://files.training.databricks.com/images/adbcore/config-keyvault/secrets-none.png\" width=800px />"
   ]
  },
  {
   "cell_type": "markdown",
   "metadata": {
    "application/vnd.databricks.v1+cell": {
     "cellMetadata": {
      "byteLimit": 2048000,
      "rowLimit": 10000
     },
     "inputWidgets": {},
     "nuid": "433031c9-e8d5-48e2-ba64-4501009ac2de",
     "showTitle": false,
     "title": ""
    }
   },
   "source": [
    "## Create a storageread Secret\n",
    "\n",
    "In the next blade:\n",
    "\n",
    "* Enter the name of the secret\n",
    "  * For the `Name` field, enter **storageread**\n",
    "  * This will be the key to access the secret value; this will be visible in plain text\n",
    "* Paste/enter the value for the secret \n",
    "   * For the `Value` field, enter the **read-only SAS token** from the previous notebook.\n",
    "   * This will be the value that is stored as a secret; this will be `[REDACTED]`.\n",
    "* Click \"Create\"\n",
    "\n",
    "<img src=\"https://files.training.databricks.com/images/adbcore/config-keyvault/storageread.png\" />"
   ]
  },
  {
   "cell_type": "markdown",
   "metadata": {
    "application/vnd.databricks.v1+cell": {
     "cellMetadata": {
      "byteLimit": 2048000,
      "rowLimit": 10000
     },
     "inputWidgets": {},
     "nuid": "bc1ea3e3-0dbe-445f-bbeb-a43be3be0543",
     "showTitle": false,
     "title": ""
    }
   },
   "source": [
    "## Create a storagewrite Secret\n",
    "\n",
    "You should see one secret now in your vault.\n",
    "\n",
    "<img src=\"https://files.training.databricks.com/images/adbcore/config-keyvault/secrets-1.png\" width=800px />\n",
    "\n",
    "You want to \"Generate/Import\" another secret.\n",
    "\n",
    "* Enter the name of the secret\n",
    "  * For the `Name` field, enter **storagewrite**\n",
    "  * This will be the key to access the secret value; this will be visible in plain text\n",
    "* Paste/enter the value for the secret \n",
    "   * For the `Value` field, enter the **full permissions SAS token** from the previous notebook.\n",
    "   * This will be the value that is stored as a secret; this will be `[REDACTED]`.\n",
    "* Click \"Create\""
   ]
  },
  {
   "cell_type": "markdown",
   "metadata": {
    "application/vnd.databricks.v1+cell": {
     "cellMetadata": {
      "byteLimit": 2048000,
      "rowLimit": 10000
     },
     "inputWidgets": {},
     "nuid": "b7b845bc-0239-4664-8052-9fc3ea0f8dca",
     "showTitle": false,
     "title": ""
    }
   },
   "source": [
    "## Create a storageaccount Secret\n",
    "\n",
    "Finally, you'll create one more secret.\n",
    "\n",
    "1. Name: `storageaccount`\n",
    "2. Value: copy/paste the name of your storage account\n",
    "\n",
    "<img src=\"https://files.training.databricks.com/images/adbcore/config-blob/account-name.png\"/>"
   ]
  },
  {
   "cell_type": "markdown",
   "metadata": {
    "application/vnd.databricks.v1+cell": {
     "cellMetadata": {
      "byteLimit": 2048000,
      "rowLimit": 10000
     },
     "inputWidgets": {},
     "nuid": "8423d545-e886-4d5f-b05e-adc936664186",
     "showTitle": false,
     "title": ""
    }
   },
   "source": [
    "## Return to the list view in the Azure Portal\n",
    "\n",
    "When you're done, you should see the following keys:\n",
    "\n",
    "<img src=\"https://files.training.databricks.com/images/adbcore/config-keyvault/secrets-all.png\" width=800px/>"
   ]
  },
  {
   "cell_type": "markdown",
   "metadata": {
    "application/vnd.databricks.v1+cell": {
     "cellMetadata": {
      "byteLimit": 2048000,
      "rowLimit": 10000
     },
     "inputWidgets": {},
     "nuid": "4ba64322-089d-437a-85f0-4879f7ef179b",
     "showTitle": false,
     "title": ""
    }
   },
   "source": [
    "## Congratulations!\n",
    "\n",
    "You have:\n",
    "* Modified Access Policies in the Azure Key Vault\n",
    "* Create Secrets in the Key Vault that use SAS tokens\n",
    "\n",
    "In this notebook, we stored the SAS tokens from the first notebook as Secrets in the Key Vault. In the next notebook, we will see how to connect Databricks to the Key Vault and access the SAS tokens to read and write from Blob Storage."
   ]
  }
 ],
 "metadata": {
  "application/vnd.databricks.v1+notebook": {
   "dashboards": [],
   "language": "python",
   "notebookMetadata": {
    "pythonIndentUnit": 4
   },
   "notebookName": "2-Key-Vault",
   "widgets": {}
  }
 },
 "nbformat": 4,
 "nbformat_minor": 0
}

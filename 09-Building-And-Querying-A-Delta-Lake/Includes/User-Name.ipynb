{
 "cells": [
  {
   "cell_type": "code",
   "execution_count": 0,
   "metadata": {
    "application/vnd.databricks.v1+cell": {
     "cellMetadata": {
      "byteLimit": 2048000,
      "rowLimit": 10000
     },
     "inputWidgets": {},
     "nuid": "b72f0712-1436-4296-9f4a-e7b42bef0084",
     "showTitle": false,
     "title": ""
    }
   },
   "outputs": [
    {
     "output_type": "display_data",
     "data": {
      "text/html": [
       "<style scoped>\n",
       "  .ansiout {\n",
       "    display: block;\n",
       "    unicode-bidi: embed;\n",
       "    white-space: pre-wrap;\n",
       "    word-wrap: break-word;\n",
       "    word-break: break-all;\n",
       "    font-family: \"Source Code Pro\", \"Menlo\", monospace;;\n",
       "    font-size: 13px;\n",
       "    color: #555;\n",
       "    margin-left: 4px;\n",
       "    line-height: 19px;\n",
       "  }\n",
       "</style>\n",
       "<div class=\"ansiout\">Success!\n",
       "username: String = vishal.abnave@borregaard.com\n",
       "userhome: String = dbfs:/user/vishal.abnave@borregaard.com\n",
       "</div>"
      ]
     },
     "metadata": {
      "application/vnd.databricks.v1+output": {
       "addedWidgets": {},
       "arguments": {},
       "data": "<div class=\"ansiout\">Success!\nusername: String = vishal.abnave@borregaard.com\nuserhome: String = dbfs:/user/vishal.abnave@borregaard.com\n</div>",
       "datasetInfos": [],
       "metadata": {
        "isDbfsCommandResult": false
       },
       "removedWidgets": [],
       "type": "html"
      }
     },
     "output_type": "display_data"
    }
   ],
   "source": [
    "%scala\n",
    "{val tags = com.databricks.logging.AttributionContext.current.tags\n",
    "\n",
    "//*******************************************\n",
    "// GET USERNAME AND USERHOME\n",
    "//*******************************************\n",
    "\n",
    "// Get the user's name\n",
    "val username = tags.getOrElse(com.databricks.logging.BaseTagDefinitions.TAG_USER, java.util.UUID.randomUUID.toString.replace(\"-\", \"\"))\n",
    "val userhome = s\"dbfs:/user/$username\"\n",
    "\n",
    "// Set the user's name and home directory\n",
    "spark.conf.set(\"com.databricks.training.username\", username)\n",
    "spark.conf.set(\"com.databricks.training.userhome\", userhome)}\n",
    "\n",
    "print(\"Success!\\n\")\n",
    "\n",
    "val username = spark.conf.get(\"com.databricks.training.username\")\n",
    "val userhome = spark.conf.get(\"com.databricks.training.userhome\")"
   ]
  },
  {
   "cell_type": "code",
   "execution_count": 0,
   "metadata": {
    "application/vnd.databricks.v1+cell": {
     "cellMetadata": {
      "byteLimit": 2048000,
      "rowLimit": 10000
     },
     "inputWidgets": {},
     "nuid": "765620d2-f143-4d3a-b7ea-5db58d5e05b3",
     "showTitle": false,
     "title": ""
    }
   },
   "outputs": [],
   "source": [
    "%python\n",
    "username = spark.conf.get(\"com.databricks.training.username\")\n",
    "userhome = spark.conf.get(\"com.databricks.training.userhome\")\n",
    "\n",
    "None # suppress output"
   ]
  }
 ],
 "metadata": {
  "application/vnd.databricks.v1+notebook": {
   "dashboards": [],
   "language": "python",
   "notebookMetadata": {
    "pythonIndentUnit": 4
   },
   "notebookName": "User-Name",
   "widgets": {}
  }
 },
 "nbformat": 4,
 "nbformat_minor": 0
}

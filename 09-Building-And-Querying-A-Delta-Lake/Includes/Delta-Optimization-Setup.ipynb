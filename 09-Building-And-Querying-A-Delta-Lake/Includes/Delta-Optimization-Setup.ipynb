{
 "cells": [
  {
   "cell_type": "code",
   "execution_count": 0,
   "metadata": {
    "application/vnd.databricks.v1+cell": {
     "cellMetadata": {
      "byteLimit": 2048000,
      "rowLimit": 10000
     },
     "inputWidgets": {},
     "nuid": "04162c52-2d53-41a1-b6cd-de905ac801e6",
     "showTitle": false,
     "title": ""
    }
   },
   "outputs": [],
   "source": [
    "%python\n",
    "from pyspark.sql.functions import expr, col, from_unixtime, to_date\n",
    "\n",
    "dbutils.fs.rm(userhome + \"/delta/iot-events/\", True)\n",
    "\n",
    "streamingEventPath = \"/mnt/training/structured-streaming/events/\"\n",
    "\n",
    "(spark\n",
    "  .read\n",
    "  .option(\"inferSchema\", \"true\")\n",
    "  .json(streamingEventPath)\n",
    "  .withColumn(\"date\", to_date(from_unixtime(col(\"time\").cast(\"Long\"),\"yyyy-MM-dd\")))\n",
    "  .withColumn(\"deviceId\", expr(\"cast(rand(5) * 100 as int)\"))\n",
    "  .repartition(200)\n",
    "  .write\n",
    "  .mode(\"overwrite\")\n",
    "  .format(\"delta\")\n",
    "  .partitionBy(\"date\")\n",
    "  .save(userhome + \"/delta/iot-events/\"))"
   ]
  }
 ],
 "metadata": {
  "application/vnd.databricks.v1+notebook": {
   "dashboards": [],
   "language": "python",
   "notebookMetadata": {
    "pythonIndentUnit": 4
   },
   "notebookName": "Delta-Optimization-Setup",
   "widgets": {}
  }
 },
 "nbformat": 4,
 "nbformat_minor": 0
}

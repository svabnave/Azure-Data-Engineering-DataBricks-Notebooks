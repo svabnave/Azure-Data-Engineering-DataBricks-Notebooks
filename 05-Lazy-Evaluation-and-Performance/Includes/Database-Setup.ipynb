{
 "cells": [
  {
   "cell_type": "code",
   "execution_count": 0,
   "metadata": {
    "application/vnd.databricks.v1+cell": {
     "cellMetadata": {
      "byteLimit": 2048000,
      "rowLimit": 10000
     },
     "inputWidgets": {},
     "nuid": "8289f079-f3e5-493a-877c-1a53b807b3e2",
     "showTitle": false,
     "title": ""
    }
   },
   "outputs": [
    {
     "output_type": "display_data",
     "data": {
      "text/html": [
       "<style scoped>\n",
       "  .ansiout {\n",
       "    display: block;\n",
       "    unicode-bidi: embed;\n",
       "    white-space: pre-wrap;\n",
       "    word-wrap: break-word;\n",
       "    word-break: break-all;\n",
       "    font-family: \"Source Code Pro\", \"Menlo\", monospace;;\n",
       "    font-size: 13px;\n",
       "    color: #555;\n",
       "    margin-left: 4px;\n",
       "    line-height: 19px;\n",
       "  }\n",
       "</style>\n",
       "<div class=\"ansiout\">\n",
       "\n",
       "Note: You can ignore the message 'Warning: classes defined within packages cannot be redefined without a cluster restart.'\n",
       "</div>"
      ]
     },
     "metadata": {
      "application/vnd.databricks.v1+output": {
       "addedWidgets": {},
       "arguments": {},
       "data": "<div class=\"ansiout\">\n\nNote: You can ignore the message 'Warning: classes defined within packages cannot be redefined without a cluster restart.'\n</div>",
       "datasetInfos": [],
       "metadata": {
        "isDbfsCommandResult": false
       },
       "removedWidgets": [],
       "type": "html"
      }
     },
     "output_type": "display_data"
    }
   ],
   "source": [
    "%scala\n",
    "println()\n",
    "println()\n",
    "println(\"Note: You can ignore the message 'Warning: classes defined within packages cannot be redefined without a cluster restart.'\")"
   ]
  },
  {
   "cell_type": "code",
   "execution_count": 0,
   "metadata": {
    "application/vnd.databricks.v1+cell": {
     "cellMetadata": {
      "byteLimit": 2048000,
      "rowLimit": 10000
     },
     "inputWidgets": {},
     "nuid": "980f8a66-b82f-4162-bcd8-0371c3aab31f",
     "showTitle": false,
     "title": ""
    }
   },
   "outputs": [
    {
     "output_type": "display_data",
     "data": {
      "text/html": [
       "<style scoped>\n",
       "  .ansiout {\n",
       "    display: block;\n",
       "    unicode-bidi: embed;\n",
       "    white-space: pre-wrap;\n",
       "    word-wrap: break-word;\n",
       "    word-break: break-all;\n",
       "    font-family: \"Source Code Pro\", \"Menlo\", monospace;;\n",
       "    font-size: 13px;\n",
       "    color: #555;\n",
       "    margin-left: 4px;\n",
       "    line-height: 19px;\n",
       "  }\n",
       "</style>\n",
       "<div class=\"ansiout\">Warning: classes defined within packages cannot be redefined without a cluster restart.\n",
       "Compilation successful.\n",
       "</div>"
      ]
     },
     "metadata": {
      "application/vnd.databricks.v1+output": {
       "addedWidgets": {},
       "arguments": {},
       "data": "<div class=\"ansiout\">Warning: classes defined within packages cannot be redefined without a cluster restart.\nCompilation successful.\n</div>",
       "datasetInfos": [],
       "metadata": {
        "isDbfsCommandResult": false
       },
       "removedWidgets": [],
       "type": "html"
      }
     },
     "output_type": "display_data"
    }
   ],
   "source": [
    "%scala\n",
    "package com.databricks.training\n",
    "object ClassroomHelper {\n",
    "  def test_connection(url : String) : Unit = {\n",
    "    val conn = java.sql.DriverManager.getConnection(url)\n",
    "    try {\n",
    "      val ps = conn.prepareStatement(\"SELECT 1\")\n",
    "      val rs = ps.executeQuery()\n",
    "    } finally {\n",
    "      conn.close()\n",
    "    }\n",
    "  }\n",
    "\n",
    "  def sql_query(spark: org.apache.spark.sql.SparkSession, url : String, sql : String) : org.apache.spark.sql.DataFrame = {\n",
    "    return spark.read.jdbc(url, s\"($sql) query\", new java.util.Properties)\n",
    "  }\n",
    "\n",
    "  def sql_update(url : String, sql : String, args : Any*) : Unit = {\n",
    "    val conn = java.sql.DriverManager.getConnection(url)\n",
    "    try {\n",
    "      val ps = conn.prepareStatement(sql)\n",
    "      args.zipWithIndex.foreach {case (arg, i) => {\n",
    "        ps.setObject(i+1, arg)\n",
    "      }}\n",
    "      ps.executeUpdate()\n",
    "    } finally {\n",
    "      conn.close()\n",
    "    }\n",
    "  }\n",
    "\n",
    "  def sql_update(url : String, sql : String, args : java.util.ArrayList[Object]) : Unit = {\n",
    "    import scala.collection.JavaConverters._\n",
    "    return sql_update(url, sql, args.asScala:_*)\n",
    "  }\n",
    "\n",
    "  def sql(url : String, sql : String) : Unit = {\n",
    "    val conn = java.sql.DriverManager.getConnection(url)\n",
    "    val stmt = conn.createStatement()\n",
    "    val cmds = sql.split(\";\")\n",
    "    var count = 0;\n",
    "    try {\n",
    "      for (cmd <- cmds) {\n",
    "        if (!cmd.trim().isEmpty()) {\n",
    "          stmt.addBatch(cmd)\n",
    "          count += 1\n",
    "        }\n",
    "      }\n",
    "      stmt.executeBatch()\n",
    "    } finally {\n",
    "      conn.close()\n",
    "    }\n",
    "  }\n",
    "}"
   ]
  },
  {
   "cell_type": "code",
   "execution_count": 0,
   "metadata": {
    "application/vnd.databricks.v1+cell": {
     "cellMetadata": {
      "byteLimit": 2048000,
      "rowLimit": 10000
     },
     "inputWidgets": {},
     "nuid": "fd605047-3754-4535-bf62-aa21ee718e48",
     "showTitle": false,
     "title": ""
    }
   },
   "outputs": [
    {
     "output_type": "display_data",
     "data": {
      "text/html": [
       ""
      ]
     },
     "metadata": {
      "application/vnd.databricks.v1+output": {
       "addedWidgets": {},
       "arguments": {},
       "data": "",
       "datasetInfos": [],
       "metadata": {
        "isDbfsCommandResult": false
       },
       "removedWidgets": [],
       "textData": null,
       "type": "htmlSandbox"
      }
     },
     "output_type": "display_data"
    }
   ],
   "source": [
    "%scala\n",
    "import com.databricks.training.ClassroomHelper\n",
    "spark.conf.set(\n",
    "  \"fs.azure.account.key.spearfishtrainingstorage.blob.core.windows.net\",\n",
    "  \"cJoNObBZt8C8xz2GwQmaHx25DmyRXAyd8TEp7/HDlT6jgt4+LeOjwYEhQ5SsCCrO0HRy6xlL8WZEM6xEwE9+9Q==\")\n",
    "val blobStoreBaseURL = \"wasbs://training-container-clean@spearfishtrainingstorage.blob.core.windows.net/\"\n",
    "val username = com.databricks.logging.AttributionContext.current.tags(com.databricks.logging.BaseTagDefinitions.TAG_USER);\n",
    "val userhome = s\"dbfs:/user/$username/\"\n",
    "spark.conf.set(\"spark.databricks.delta.preview.enabled\", true)\n",
    "spark.conf.set(\"com.databricks.training.username\", username)\n",
    "spark.conf.set(\"com.databricks.training.userhome\", userhome)\n",
    "displayHTML(\"\") //Supress Output"
   ]
  },
  {
   "cell_type": "code",
   "execution_count": 0,
   "metadata": {
    "application/vnd.databricks.v1+cell": {
     "cellMetadata": {
      "byteLimit": 2048000,
      "rowLimit": 10000
     },
     "inputWidgets": {},
     "nuid": "2428df99-b6fd-4daa-9614-c954c82db24c",
     "showTitle": false,
     "title": ""
    }
   },
   "outputs": [],
   "source": [
    "%python\n",
    "class ClassroomHelper(object):\n",
    "  scalaHelper=spark._jvm.__getattr__(\"com.databricks.training.ClassroomHelper$\").__getattr__(\"MODULE$\")\n",
    "  @classmethod\n",
    "  def test_connection(cls, url):\n",
    "    cls.scalaHelper.test_connection(url)\n",
    "  @classmethod\n",
    "  def sql_query(cls, spark, url, sql):\n",
    "    return spark.read.jdbc(url, \"({}) query\".format(sql))\n",
    "  @classmethod\n",
    "  def sql_update(cls, url, sql, *args):\n",
    "    cls.scalaHelper.sql_update(url, sql, args)\n",
    "  @classmethod\n",
    "  def sql(cls, url, sql):\n",
    "    cls.scalaHelper.sql(url, sql)\n",
    "\n",
    "blobStoreBaseURL = \"wasbs://training-container-clean@spearfishtrainingstorage.blob.core.windows.net/\"\n",
    "username = spark.conf.get(\"com.databricks.training.username\")\n",
    "userhome = spark.conf.get(\"com.databricks.training.userhome\")\n",
    "None #Suppress output"
   ]
  },
  {
   "cell_type": "code",
   "execution_count": 0,
   "metadata": {
    "application/vnd.databricks.v1+cell": {
     "cellMetadata": {
      "byteLimit": 2048000,
      "rowLimit": 10000
     },
     "inputWidgets": {},
     "nuid": "57447815-f84a-49c0-a8e1-419c1372c749",
     "showTitle": false,
     "title": ""
    }
   },
   "outputs": [
    {
     "output_type": "display_data",
     "data": {
      "text/html": [
       "<style scoped>\n",
       "  .ansiout {\n",
       "    display: block;\n",
       "    unicode-bidi: embed;\n",
       "    white-space: pre-wrap;\n",
       "    word-wrap: break-word;\n",
       "    word-break: break-all;\n",
       "    font-family: \"Source Code Pro\", \"Menlo\", monospace;;\n",
       "    font-size: 13px;\n",
       "    color: #555;\n",
       "    margin-left: 4px;\n",
       "    line-height: 19px;\n",
       "  }\n",
       "</style>\n",
       "<div class=\"ansiout\">Database-Setup successful.\n",
       "</div>"
      ]
     },
     "metadata": {
      "application/vnd.databricks.v1+output": {
       "addedWidgets": {},
       "arguments": {},
       "data": "<div class=\"ansiout\">Database-Setup successful.\n</div>",
       "datasetInfos": [],
       "metadata": {
        "isDbfsCommandResult": false
       },
       "removedWidgets": [],
       "type": "html"
      }
     },
     "output_type": "display_data"
    }
   ],
   "source": [
    "%scala\n",
    "println(\"Database-Setup successful.\")"
   ]
  }
 ],
 "metadata": {
  "application/vnd.databricks.v1+notebook": {
   "dashboards": [],
   "language": "python",
   "notebookMetadata": {
    "mostRecentlyExecutedCommandWithImplicitDF": {
     "commandId": 545192420101889,
     "dataframes": [
      "_sqldf"
     ]
    },
    "pythonIndentUnit": 4
   },
   "notebookName": "Database-Setup",
   "widgets": {}
  }
 },
 "nbformat": 4,
 "nbformat_minor": 0
}

{
 "cells": [
  {
   "cell_type": "markdown",
   "metadata": {
    "application/vnd.databricks.v1+cell": {
     "cellMetadata": {
      "byteLimit": 2048000,
      "rowLimit": 10000
     },
     "inputWidgets": {},
     "nuid": "df4134c3-0761-4a05-bede-2cfa77de7403",
     "showTitle": false,
     "title": ""
    }
   },
   "source": [
    "#DataFrame Column Expressions\n",
    "\n",
    "** Data Source **\n",
    "* One hour of Pagecounts from the English Wikimedia projects captured August 5, 2016, at 12:00 PM UTC.\n",
    "* Size on Disk: ~23 MB\n",
    "* Type: Compressed Parquet File\n",
    "* More Info: <a href=\"https://dumps.wikimedia.org/other/pagecounts-raw\" target=\"_blank\">Page view statistics for Wikimedia projects</a>\n",
    "\n",
    "**Technical Accomplishments:**\n",
    "* Continue exploring the `DataFrame` set of APIs.\n",
    "* Continue to work with the `Column` class and introduce the `Row` class\n",
    "* Introduce the transformations...\n",
    "  * `orderBy(..)`\n",
    "  * `sort(..)`\n",
    "  * `filter(..)`\n",
    "  * `where(..)`\n",
    "* Introduce the actions...\n",
    "  * `collect()`\n",
    "  * `take(n)`\n",
    "  * `first()`\n",
    "  * `head()`"
   ]
  },
  {
   "cell_type": "markdown",
   "metadata": {
    "application/vnd.databricks.v1+cell": {
     "cellMetadata": {
      "byteLimit": 2048000,
      "rowLimit": 10000
     },
     "inputWidgets": {},
     "nuid": "4b0631f0-55c0-4587-8699-1c63c3b953e9",
     "showTitle": false,
     "title": ""
    }
   },
   "source": [
    "##![Spark Logo Tiny](https://files.training.databricks.com/images/105/logo_spark_tiny.png) Getting Started\n",
    "\n",
    "Run the following cell to configure our \"classroom.\""
   ]
  },
  {
   "cell_type": "code",
   "execution_count": 0,
   "metadata": {
    "application/vnd.databricks.v1+cell": {
     "cellMetadata": {
      "byteLimit": 2048000,
      "rowLimit": 10000
     },
     "inputWidgets": {},
     "nuid": "ed2854f9-bcdc-4e31-978f-ac3a1339540b",
     "showTitle": false,
     "title": ""
    }
   },
   "outputs": [
    {
     "output_type": "display_data",
     "data": {
      "text/html": [
       "Initialized classroom variables & functions..."
      ]
     },
     "metadata": {
      "application/vnd.databricks.v1+output": {
       "addedWidgets": {},
       "arguments": {},
       "data": "Initialized classroom variables & functions...",
       "datasetInfos": [],
       "metadata": {
        "isDbfsCommandResult": false
       },
       "removedWidgets": [],
       "textData": null,
       "type": "htmlSandbox"
      }
     },
     "output_type": "display_data"
    },
    {
     "output_type": "display_data",
     "data": {
      "text/html": [
       "Mounted datasets to <b>/mnt/training</b> from <b>wasbs://training@dbtrainwesteurope.blob.core.windows.net/<b>"
      ]
     },
     "metadata": {
      "application/vnd.databricks.v1+output": {
       "addedWidgets": {},
       "arguments": {},
       "data": "Mounted datasets to <b>/mnt/training</b> from <b>wasbs://training@dbtrainwesteurope.blob.core.windows.net/<b>",
       "datasetInfos": [],
       "metadata": {
        "isDbfsCommandResult": false
       },
       "removedWidgets": [],
       "textData": null,
       "type": "htmlSandbox"
      }
     },
     "output_type": "display_data"
    }
   ],
   "source": [
    "%run \"./Includes/Classroom-Setup\""
   ]
  },
  {
   "cell_type": "code",
   "execution_count": 0,
   "metadata": {
    "application/vnd.databricks.v1+cell": {
     "cellMetadata": {
      "byteLimit": 2048000,
      "rowLimit": 10000
     },
     "inputWidgets": {},
     "nuid": "d3fe6f58-c521-4356-ac68-b816927ceb17",
     "showTitle": false,
     "title": ""
    }
   },
   "outputs": [
    {
     "output_type": "stream",
     "name": "stdout",
     "output_type": "stream",
     "text": [
      "/mnt/training/ has been unmounted.\n"
     ]
    },
    {
     "output_type": "display_data",
     "data": {
      "text/html": [
       "Created user-specific database"
      ]
     },
     "metadata": {
      "application/vnd.databricks.v1+output": {
       "addedWidgets": {},
       "arguments": {},
       "data": "Created user-specific database",
       "datasetInfos": [],
       "metadata": {
        "isDbfsCommandResult": false
       },
       "removedWidgets": [],
       "textData": null,
       "type": "htmlSandbox"
      }
     },
     "output_type": "display_data"
    },
    {
     "output_type": "display_data",
     "data": {
      "text/html": [
       "Using the database <b style=\"color:green\">vishal_abnave_borregaard_com_db</b>."
      ]
     },
     "metadata": {
      "application/vnd.databricks.v1+output": {
       "addedWidgets": {},
       "arguments": {},
       "data": "Using the database <b style=\"color:green\">vishal_abnave_borregaard_com_db</b>.",
       "datasetInfos": [],
       "metadata": {
        "isDbfsCommandResult": false
       },
       "removedWidgets": [],
       "textData": null,
       "type": "htmlSandbox"
      }
     },
     "output_type": "display_data"
    }
   ],
   "source": [
    "# Mount \"/mnt/training\" again using \"%run \"./Includes/Dataset-Mounts-New\"\" if it is failed in \"./Includes/Classroom-Setup\"\n",
    "try:\n",
    "    files = dbutils.fs.ls(\"/mnt/training\")\n",
    "except:\n",
    "    dbutils.fs.unmount('/mnt/training/')"
   ]
  },
  {
   "cell_type": "code",
   "execution_count": 0,
   "metadata": {
    "application/vnd.databricks.v1+cell": {
     "cellMetadata": {
      "byteLimit": 2048000,
      "rowLimit": 10000
     },
     "inputWidgets": {},
     "nuid": "debb1337-aeff-4710-b3a7-ccd96af49bf1",
     "showTitle": false,
     "title": ""
    }
   },
   "outputs": [
    {
     "output_type": "display_data",
     "data": {
      "text/html": [
       "All done!"
      ]
     },
     "metadata": {},
     "output_type": "display_data"
    }
   ],
   "source": [
    "%run \"./Includes/Dataset-Mounts-New\""
   ]
  },
  {
   "cell_type": "markdown",
   "metadata": {
    "application/vnd.databricks.v1+cell": {
     "cellMetadata": {
      "byteLimit": 2048000,
      "rowLimit": 10000
     },
     "inputWidgets": {},
     "nuid": "b93f108c-2b88-4a37-8af1-9ba2512d39b6",
     "showTitle": false,
     "title": ""
    }
   },
   "source": [
    "##![Spark Logo Tiny](https://files.training.databricks.com/images/105/logo_spark_tiny.png) **The Data Source**\n",
    "\n",
    "We will be using the same data source as our previous notebook.\n",
    "\n",
    "As such, we can go ahead and start by creating our initial `DataFrame`."
   ]
  },
  {
   "cell_type": "code",
   "execution_count": 0,
   "metadata": {
    "application/vnd.databricks.v1+cell": {
     "cellMetadata": {
      "byteLimit": 2048000,
      "rowLimit": 10000
     },
     "inputWidgets": {},
     "nuid": "f4e0c80d-16d2-48ef-890b-a1af195a087a",
     "showTitle": false,
     "title": ""
    }
   },
   "outputs": [],
   "source": [
    "(source, sasEntity, sasToken) = getAzureDataSource()\n",
    "spark.conf.set(sasEntity, sasToken)\n",
    "\n",
    "\n",
    "source = '/mnt/training'\n",
    "parquetFile = source + \"/wikipedia/pagecounts/staging_parquet_en_only_clean/\""
   ]
  },
  {
   "cell_type": "code",
   "execution_count": 0,
   "metadata": {
    "application/vnd.databricks.v1+cell": {
     "cellMetadata": {
      "byteLimit": 2048000,
      "rowLimit": 10000
     },
     "inputWidgets": {},
     "nuid": "1e9ff445-8ec3-4d12-bb13-0e4eb0e72f45",
     "showTitle": false,
     "title": ""
    }
   },
   "outputs": [
    {
     "output_type": "stream",
     "name": "stdout",
     "output_type": "stream",
     "text": [
      "DataFrame[project: string, article: string, requests: int, bytes_served: bigint]\n"
     ]
    }
   ],
   "source": [
    "pagecountsEnAllDF = (spark  # Our SparkSession & Entry Point\n",
    "  .read                     # Our DataFrameReader\n",
    "  .parquet(parquetFile)     # Returns an instance of DataFrame\n",
    "  .cache()                  # cache the data\n",
    ")\n",
    "print(pagecountsEnAllDF)"
   ]
  },
  {
   "cell_type": "markdown",
   "metadata": {
    "application/vnd.databricks.v1+cell": {
     "cellMetadata": {
      "byteLimit": 2048000,
      "rowLimit": 10000
     },
     "inputWidgets": {},
     "nuid": "04db5ad3-3414-436d-8050-ef83d2524a4c",
     "showTitle": false,
     "title": ""
    }
   },
   "source": [
    "Let's look at the data once more..."
   ]
  },
  {
   "cell_type": "code",
   "execution_count": 0,
   "metadata": {
    "application/vnd.databricks.v1+cell": {
     "cellMetadata": {
      "byteLimit": 2048000,
      "rowLimit": 10000
     },
     "inputWidgets": {},
     "nuid": "1aecbd19-c9ca-4b9b-8abb-bfeb591df91f",
     "showTitle": false,
     "title": ""
    }
   },
   "outputs": [
    {
     "output_type": "stream",
     "name": "stdout",
     "output_type": "stream",
     "text": [
      "+-------+---------------------------+--------+------------+\n|project|article                    |requests|bytes_served|\n+-------+---------------------------+--------+------------+\n|en     |Main_Page                  |865692  |0           |\n|en.m   |Main_Page                  |176949  |0           |\n|en     |Special:Search             |76231   |0           |\n|en.m   |Donald_Trump               |59847   |0           |\n|en     |Midas                      |55210   |0           |\n|en     |Donald_Trump               |44640   |0           |\n|en.m   |-                          |44130   |0           |\n|en     |-                          |35663   |0           |\n|en.m   |Melania_Trump              |24183   |0           |\n|en     |Special:RecentChangesLinked|23419   |0           |\n+-------+---------------------------+--------+------------+\nonly showing top 10 rows\n\n"
     ]
    }
   ],
   "source": [
    "from pyspark.sql.functions import *\n",
    "\n",
    "sortedDescDF = (pagecountsEnAllDF\n",
    "  .orderBy( col(\"requests\").desc() )\n",
    ")  \n",
    "sortedDescDF.show(10, False)"
   ]
  },
  {
   "cell_type": "markdown",
   "metadata": {
    "application/vnd.databricks.v1+cell": {
     "cellMetadata": {
      "byteLimit": 2048000,
      "rowLimit": 10000
     },
     "inputWidgets": {},
     "nuid": "1a0c6e3f-d8a9-4770-834e-c92d345172e8",
     "showTitle": false,
     "title": ""
    }
   },
   "source": [
    "In looking at the data, we can see multiple Wikipedia projects.\n",
    "\n",
    "What if we want to look at only the main Wikipedia project, **en**?\n",
    "\n",
    "For that, we will need to filter out some records."
   ]
  },
  {
   "cell_type": "markdown",
   "metadata": {
    "application/vnd.databricks.v1+cell": {
     "cellMetadata": {
      "byteLimit": 2048000,
      "rowLimit": 10000
     },
     "inputWidgets": {},
     "nuid": "1f368cd6-8e62-45d3-a6c0-2a0fa5056810",
     "showTitle": false,
     "title": ""
    }
   },
   "source": [
    "##![Spark Logo Tiny](https://files.training.databricks.com/images/105/logo_spark_tiny.png) filter(..) & where(..)"
   ]
  },
  {
   "cell_type": "markdown",
   "metadata": {
    "application/vnd.databricks.v1+cell": {
     "cellMetadata": {
      "byteLimit": 2048000,
      "rowLimit": 10000
     },
     "inputWidgets": {},
     "nuid": "b90b46da-a17f-4ca4-85a1-93d0937c3c6d",
     "showTitle": false,
     "title": ""
    }
   },
   "source": [
    "If you look at the API docs, `filter(..)` and `where(..)` are described like this:\n",
    "> Filters rows using the given condition.\n",
    "\n",
    "Both `filter(..)` and `where(..)` return a new dataset containing only those records for which the specified condition is true.\n",
    "* Like `distinct()` and `dropDuplicates()`, `filter(..)` and `where(..)` are aliases for each other.\n",
    "  * `filter(..)` appealing to functional programmers.\n",
    "  * `where(..)` appealing to developers with an SQL background.\n",
    "* Like `orderBy(..)` there are two variants of these two methods:\n",
    "  * `filter(Column)`\n",
    "  * `filter(String)`\n",
    "  * `where(Column)`\n",
    "  * `where(String)`\n",
    "* Unlike `orderBy(String)` which requires a column name, `filter(String)` and `where(String)` both expect an SQL expression.\n",
    "\n",
    "Let's start by looking at the variant using an SQL expression:"
   ]
  },
  {
   "cell_type": "markdown",
   "metadata": {
    "application/vnd.databricks.v1+cell": {
     "cellMetadata": {
      "byteLimit": 2048000,
      "rowLimit": 10000
     },
     "inputWidgets": {},
     "nuid": "b1afc576-e78a-4875-baf2-2b99c33e9cf2",
     "showTitle": false,
     "title": ""
    }
   },
   "source": [
    "### filter(..) & where(..) w/SQL Expression"
   ]
  },
  {
   "cell_type": "code",
   "execution_count": 0,
   "metadata": {
    "application/vnd.databricks.v1+cell": {
     "cellMetadata": {
      "byteLimit": 2048000,
      "rowLimit": 10000
     },
     "inputWidgets": {},
     "nuid": "f8831ba1-fa6f-4b01-bb23-546035f92a42",
     "showTitle": false,
     "title": ""
    }
   },
   "outputs": [
    {
     "output_type": "stream",
     "name": "stdout",
     "output_type": "stream",
     "text": [
      "+-------+-----------------------------------------+--------+------------+\n|project|article                                  |requests|bytes_served|\n+-------+-----------------------------------------+--------+------------+\n|en     |Main_Page                                |865692  |0           |\n|en     |Special:Search                           |76231   |0           |\n|en     |Midas                                    |55210   |0           |\n|en     |Donald_Trump                             |44640   |0           |\n|en     |-                                        |35663   |0           |\n|en     |Special:RecentChangesLinked              |23419   |0           |\n|en     |404.php                                  |20363   |0           |\n|en     |United_States_presidential_election,_2016|19401   |0           |\n|en     |Melania_Trump                            |15220   |0           |\n|en     |Special:CreateAccount                    |11958   |0           |\n+-------+-----------------------------------------+--------+------------+\nonly showing top 10 rows\n\n"
     ]
    }
   ],
   "source": [
    "whereDF = (sortedDescDF\n",
    "  .where( \"project = 'en'\" )\n",
    ")\n",
    "whereDF.show(10, False)"
   ]
  },
  {
   "cell_type": "markdown",
   "metadata": {
    "application/vnd.databricks.v1+cell": {
     "cellMetadata": {
      "byteLimit": 2048000,
      "rowLimit": 10000
     },
     "inputWidgets": {},
     "nuid": "7ab8280f-db11-4e8b-96d3-148511794c0f",
     "showTitle": false,
     "title": ""
    }
   },
   "source": [
    "Now that we are only looking at the main Wikipedia articles, we get a better picture of the most popular articles on Wikipedia.\n",
    "\n",
    "Next, let's take a look at the second variant that takes a `Column` object as its first parameter:"
   ]
  },
  {
   "cell_type": "markdown",
   "metadata": {
    "application/vnd.databricks.v1+cell": {
     "cellMetadata": {
      "byteLimit": 2048000,
      "rowLimit": 10000
     },
     "inputWidgets": {},
     "nuid": "df438f9e-f101-4065-aa8c-e46b7066e80c",
     "showTitle": false,
     "title": ""
    }
   },
   "source": [
    "### filter(..) & where(..) w/Column"
   ]
  },
  {
   "cell_type": "code",
   "execution_count": 0,
   "metadata": {
    "application/vnd.databricks.v1+cell": {
     "cellMetadata": {
      "byteLimit": 2048000,
      "rowLimit": 10000
     },
     "inputWidgets": {},
     "nuid": "49d2330a-52c3-415e-b839-61c4a7c15fe5",
     "showTitle": false,
     "title": ""
    }
   },
   "outputs": [
    {
     "output_type": "stream",
     "name": "stdout",
     "output_type": "stream",
     "text": [
      "+-------+-----------------------------------------+--------+------------+\n|project|article                                  |requests|bytes_served|\n+-------+-----------------------------------------+--------+------------+\n|en     |Main_Page                                |865692  |0           |\n|en     |Special:Search                           |76231   |0           |\n|en     |Midas                                    |55210   |0           |\n|en     |Donald_Trump                             |44640   |0           |\n|en     |-                                        |35663   |0           |\n|en     |Special:RecentChangesLinked              |23419   |0           |\n|en     |404.php                                  |20363   |0           |\n|en     |United_States_presidential_election,_2016|19401   |0           |\n|en     |Melania_Trump                            |15220   |0           |\n|en     |Special:CreateAccount                    |11958   |0           |\n+-------+-----------------------------------------+--------+------------+\nonly showing top 10 rows\n\n"
     ]
    }
   ],
   "source": [
    "filteredDF = (sortedDescDF\n",
    "  .filter( col(\"project\") == \"en\")\n",
    ")\n",
    "filteredDF.show(10, False)"
   ]
  },
  {
   "cell_type": "markdown",
   "metadata": {
    "application/vnd.databricks.v1+cell": {
     "cellMetadata": {
      "byteLimit": 2048000,
      "rowLimit": 10000
     },
     "inputWidgets": {},
     "nuid": "71c7b46e-aaaa-47dd-9d4c-2cccb25734fd",
     "showTitle": false,
     "title": ""
    }
   },
   "source": [
    "### A Scala Issue..."
   ]
  },
  {
   "cell_type": "markdown",
   "metadata": {
    "application/vnd.databricks.v1+cell": {
     "cellMetadata": {
      "byteLimit": 2048000,
      "rowLimit": 10000
     },
     "inputWidgets": {},
     "nuid": "b27d7dbe-7061-4701-8119-4fed16f3206f",
     "showTitle": false,
     "title": ""
    }
   },
   "source": [
    "With Python, this is pretty straight forward.\n",
    "\n",
    "But in Scala... notice anything unusual in that last command?\n",
    "\n",
    "**Question:** In most every programming language, what is a single equals sign (=) used for?\n",
    "\n",
    "**Question:** What are two equal signs (==) used for?\n",
    "\n",
    "**Question:** \n",
    "* Considering that transformations are lazy...\n",
    "* And the == operator executes now...\n",
    "* And `filter(..)` and `where(..)` require us to pass a `Column` object...\n",
    "* What would be wrong with `$\"project\" == \"en\"`?\n",
    "\n",
    "Try it..."
   ]
  },
  {
   "cell_type": "code",
   "execution_count": 0,
   "metadata": {
    "application/vnd.databricks.v1+cell": {
     "cellMetadata": {
      "byteLimit": 2048000,
      "rowLimit": 10000
     },
     "inputWidgets": {},
     "nuid": "e1d9a913-c088-4a4c-9606-5a289cb52129",
     "showTitle": false,
     "title": ""
    }
   },
   "outputs": [
    {
     "output_type": "display_data",
     "data": {
      "text/html": [
       "<style scoped>\n",
       "  .ansiout {\n",
       "    display: block;\n",
       "    unicode-bidi: embed;\n",
       "    white-space: pre-wrap;\n",
       "    word-wrap: break-word;\n",
       "    word-break: break-all;\n",
       "    font-family: \"Source Code Pro\", \"Menlo\", monospace;;\n",
       "    font-size: 13px;\n",
       "    color: #555;\n",
       "    margin-left: 4px;\n",
       "    line-height: 19px;\n",
       "  }\n",
       "</style>\n",
       "<div class=\"ansiout\">res4: Boolean = false\n",
       "</div>"
      ]
     },
     "metadata": {
      "application/vnd.databricks.v1+output": {
       "addedWidgets": {},
       "arguments": {},
       "data": "<div class=\"ansiout\">res4: Boolean = false\n</div>",
       "datasetInfos": [],
       "metadata": {
        "isDbfsCommandResult": false
       },
       "removedWidgets": [],
       "type": "html"
      }
     },
     "output_type": "display_data"
    }
   ],
   "source": [
    "%scala\n",
    "\n",
    "$\"project\" == \"en\""
   ]
  },
  {
   "cell_type": "markdown",
   "metadata": {
    "application/vnd.databricks.v1+cell": {
     "cellMetadata": {
      "byteLimit": 2048000,
      "rowLimit": 10000
     },
     "inputWidgets": {},
     "nuid": "05a7984b-9377-4012-a64b-f0f53b7f0f81",
     "showTitle": false,
     "title": ""
    }
   },
   "source": [
    "Compare that to the following call..."
   ]
  },
  {
   "cell_type": "code",
   "execution_count": 0,
   "metadata": {
    "application/vnd.databricks.v1+cell": {
     "cellMetadata": {
      "byteLimit": 2048000,
      "rowLimit": 10000
     },
     "inputWidgets": {},
     "nuid": "0df6b486-749f-4292-8818-d5b11357f1de",
     "showTitle": false,
     "title": ""
    }
   },
   "outputs": [
    {
     "output_type": "display_data",
     "data": {
      "text/html": [
       "<style scoped>\n",
       "  .ansiout {\n",
       "    display: block;\n",
       "    unicode-bidi: embed;\n",
       "    white-space: pre-wrap;\n",
       "    word-wrap: break-word;\n",
       "    word-break: break-all;\n",
       "    font-family: \"Source Code Pro\", \"Menlo\", monospace;;\n",
       "    font-size: 13px;\n",
       "    color: #555;\n",
       "    margin-left: 4px;\n",
       "    line-height: 19px;\n",
       "  }\n",
       "</style>\n",
       "<div class=\"ansiout\">res5: org.apache.spark.sql.Column = (project = en)\n",
       "</div>"
      ]
     },
     "metadata": {
      "application/vnd.databricks.v1+output": {
       "addedWidgets": {},
       "arguments": {},
       "data": "<div class=\"ansiout\">res5: org.apache.spark.sql.Column = (project = en)\n</div>",
       "datasetInfos": [],
       "metadata": {
        "isDbfsCommandResult": false
       },
       "removedWidgets": [],
       "type": "html"
      }
     },
     "output_type": "display_data"
    }
   ],
   "source": [
    "%scala\n",
    "\n",
    "$\"project\" === \"en\""
   ]
  },
  {
   "cell_type": "markdown",
   "metadata": {
    "application/vnd.databricks.v1+cell": {
     "cellMetadata": {
      "byteLimit": 2048000,
      "rowLimit": 10000
     },
     "inputWidgets": {},
     "nuid": "f570a264-97ff-4a06-a8ac-b77197e05f7c",
     "showTitle": false,
     "title": ""
    }
   },
   "source": [
    "Let's take a look at the Scala Doc for the `Column` object. </br>\n",
    "\n",
    "| \"Operator\" | Function |\n",
    "|:----------:| -------- |\n",
    "| === | Equality test |\n",
    "| !== | Deprecated inequality test |\n",
    "| =!= | Inequality test |\n",
    "| <=> | Null safe equality test |"
   ]
  },
  {
   "cell_type": "markdown",
   "metadata": {
    "application/vnd.databricks.v1+cell": {
     "cellMetadata": {
      "byteLimit": 2048000,
      "rowLimit": 10000
     },
     "inputWidgets": {},
     "nuid": "0fb7e505-9675-41ce-af8b-75a108705fb1",
     "showTitle": false,
     "title": ""
    }
   },
   "source": [
    "### The Solution..."
   ]
  },
  {
   "cell_type": "markdown",
   "metadata": {
    "application/vnd.databricks.v1+cell": {
     "cellMetadata": {
      "byteLimit": 2048000,
      "rowLimit": 10000
     },
     "inputWidgets": {},
     "nuid": "17e4ff3b-0f31-492d-9b81-161a0e219081",
     "showTitle": false,
     "title": ""
    }
   },
   "source": [
    "With that behind us, we can clearly **see** the top ten most requested articles.\n",
    "\n",
    "But what if we need to **programmatically** extract the value of the most requested article's name and its number of requests?\n",
    "\n",
    "That is to say, how do we get the first record, and from there...\n",
    "* the value of the second column, **article**, as a string...\n",
    "* the value of the third column, **requests**, as an integer...\n",
    "\n",
    "Before we proceed, let's apply another filter to get rid of **Main_Page** and anything starting with **Special:** - they're just noise to us."
   ]
  },
  {
   "cell_type": "code",
   "execution_count": 0,
   "metadata": {
    "application/vnd.databricks.v1+cell": {
     "cellMetadata": {
      "byteLimit": 2048000,
      "rowLimit": 10000
     },
     "inputWidgets": {},
     "nuid": "c201fc8f-8f33-41cf-8a5b-8176e32ebe35",
     "showTitle": false,
     "title": ""
    }
   },
   "outputs": [
    {
     "output_type": "stream",
     "name": "stdout",
     "output_type": "stream",
     "text": [
      "+-------+-----------------------------------------+--------+\n|project|article                                  |requests|\n+-------+-----------------------------------------+--------+\n|en     |Midas                                    |55210   |\n|en     |Donald_Trump                             |44640   |\n|en     |404.php                                  |20363   |\n|en     |United_States_presidential_election,_2016|19401   |\n|en     |Melania_Trump                            |15220   |\n|en     |Electoral_College_(United_States)        |11788   |\n|en     |United_States_presidential_election,_2012|11267   |\n|en     |AMGTV                                    |10775   |\n|en     |Proyecto_40                              |9723    |\n|en     |United_States_presidential_election,_2008|7481    |\n+-------+-----------------------------------------+--------+\nonly showing top 10 rows\n\n"
     ]
    }
   ],
   "source": [
    "articlesDF = (filteredDF\n",
    "  .drop(\"bytes_served\")\n",
    "  .filter( col(\"article\") != \"Main_Page\")\n",
    "  .filter( col(\"article\") != \"-\")\n",
    "  .filter( col(\"article\").startswith(\"Special:\") == False)\n",
    ")\n",
    "articlesDF.show(10, False)"
   ]
  },
  {
   "cell_type": "markdown",
   "metadata": {
    "application/vnd.databricks.v1+cell": {
     "cellMetadata": {
      "byteLimit": 2048000,
      "rowLimit": 10000
     },
     "inputWidgets": {},
     "nuid": "7bd89d26-7fa9-44f4-af2b-80e283bab56d",
     "showTitle": false,
     "title": ""
    }
   },
   "source": [
    "##![Spark Logo Tiny](https://files.training.databricks.com/images/105/logo_spark_tiny.png) first() & head()\n",
    "\n",
    "If you look at the API docs, both `first(..)` and `head(..)` are described like this:\n",
    "> Returns the first row.\n",
    "\n",
    "Just like `distinct()` & `dropDuplicates()` are aliases for each other, so are `first(..)` and `head(..)`.\n",
    "\n",
    "However, unlike `distinct()` & `dropDuplicates()` which are **transformations** `first(..)` and `head(..)` are **actions**.\n",
    "\n",
    "Once all processing is done, these methods return the object backing the first record.\n",
    "\n",
    "In the case of `DataFrames` (both Scala and Python) that object is a `Row`.\n",
    "\n",
    "In the case of `Datasets` (the strongly typed version of `DataFrames` in Scala and Java), the object may be a `Row`, a `String`, a `Customer`, a `PendingApplication` or any number of custom objects.\n",
    "\n",
    "Focusing strictly on the `DataFrame` API for now, let's take a look at a call with `head()`:"
   ]
  },
  {
   "cell_type": "code",
   "execution_count": 0,
   "metadata": {
    "application/vnd.databricks.v1+cell": {
     "cellMetadata": {
      "byteLimit": 2048000,
      "rowLimit": 10000
     },
     "inputWidgets": {},
     "nuid": "9c634b5b-d8bc-430c-940c-3b50630f110d",
     "showTitle": false,
     "title": ""
    }
   },
   "outputs": [
    {
     "output_type": "stream",
     "name": "stdout",
     "output_type": "stream",
     "text": [
      "Row(project='en', article='Midas', requests=55210)\n"
     ]
    }
   ],
   "source": [
    "firstRow = articlesDF.first()\n",
    "\n",
    "print(firstRow)"
   ]
  },
  {
   "cell_type": "markdown",
   "metadata": {
    "application/vnd.databricks.v1+cell": {
     "cellMetadata": {
      "byteLimit": 2048000,
      "rowLimit": 10000
     },
     "inputWidgets": {},
     "nuid": "1eb1640d-0dbd-4c4d-8eb3-f9affb4aa1c8",
     "showTitle": false,
     "title": ""
    }
   },
   "source": [
    "##![Spark Logo Tiny](https://files.training.databricks.com/images/105/logo_spark_tiny.png) The Row Class\n",
    "\n",
    "Now that we have a reference to the object backing the first row (or any row), we can use it to extract the data for each column.\n",
    "\n",
    "Before we do, let's take a look at the API docs for the `Row` class.\n",
    "\n",
    "At the heart of it, we are simply going to ask for the value of the object in column N via `Row.get(i)`.\n",
    "\n",
    "Python being a loosely typed language, the return value is of no real consequence.\n",
    "\n",
    "However, Scala is going to return an object of type `Any`. In Java, this would be an object of type `Object`.\n",
    "\n",
    "What we need (at least for Scala), especially if the data type matters in cases of performing mathematical operations on the value, we need to call one of the other methods:\n",
    "* `getAs[T](i):T`\n",
    "* `getDate(i):Date`\n",
    "* `getString(i):String`\n",
    "* `getInt(i):Int`\n",
    "* `getLong(i):Long`\n",
    "\n",
    "We can now put it all together to get the number of requests for the most requested project:"
   ]
  },
  {
   "cell_type": "code",
   "execution_count": 0,
   "metadata": {
    "application/vnd.databricks.v1+cell": {
     "cellMetadata": {
      "byteLimit": 2048000,
      "rowLimit": 10000
     },
     "inputWidgets": {},
     "nuid": "37cdf9b9-dac7-4063-a699-4f91644be0d3",
     "showTitle": false,
     "title": ""
    }
   },
   "outputs": [
    {
     "output_type": "stream",
     "name": "stdout",
     "output_type": "stream",
     "text": [
      "Most Requested Article: \"Midas\" with 55,210 requests\n"
     ]
    }
   ],
   "source": [
    "article = firstRow['article']\n",
    "total = firstRow['requests']\n",
    "\n",
    "print(\"Most Requested Article: \\\"{0}\\\" with {1:,} requests\".format( article, total ))"
   ]
  },
  {
   "cell_type": "code",
   "execution_count": 0,
   "metadata": {
    "application/vnd.databricks.v1+cell": {
     "cellMetadata": {
      "byteLimit": 2048000,
      "rowLimit": 10000
     },
     "inputWidgets": {},
     "nuid": "05df9f2f-d570-4b1c-82cf-053c00a233f9",
     "showTitle": false,
     "title": ""
    }
   },
   "outputs": [],
   "source": [
    "# This doesn't work\n",
    "# article = firstRow.get(0)\n",
    "# total = firstRow.getInt(1)\n",
    "\n",
    "# print(\"Most Requested Article: \\\"{0}\\\" with {1:,} requests\".format( article, total ))"
   ]
  },
  {
   "cell_type": "markdown",
   "metadata": {
    "application/vnd.databricks.v1+cell": {
     "cellMetadata": {
      "byteLimit": 2048000,
      "rowLimit": 10000
     },
     "inputWidgets": {},
     "nuid": "b17d6a29-c6cf-4387-896e-7cfcf3b82e58",
     "showTitle": false,
     "title": ""
    }
   },
   "source": [
    "##![Spark Logo Tiny](https://files.training.databricks.com/images/105/logo_spark_tiny.png) collect()\n",
    "\n",
    "If you look at the API docs, `collect(..)` is described like this:\n",
    "> Returns an array that contains all of Rows in this Dataset.\n",
    "\n",
    "`collect()` returns a collection of the specific type backing each record of the `DataFrame`.\n",
    "* In the case of Python, this is always the `Row` object.\n",
    "* In the case of Scala, this is also a `Row` object.\n",
    "* If the `DataFrame` was converted to a `Dataset` the backing object would be the user-specified object.\n",
    "\n",
    "Building on our last example, let's take the top 10 records and print them out."
   ]
  },
  {
   "cell_type": "code",
   "execution_count": 0,
   "metadata": {
    "application/vnd.databricks.v1+cell": {
     "cellMetadata": {
      "byteLimit": 2048000,
      "rowLimit": 10000
     },
     "inputWidgets": {},
     "nuid": "4ff55e1f-cdfc-4abc-9cd7-372020a73bdb",
     "showTitle": false,
     "title": ""
    }
   },
   "outputs": [
    {
     "output_type": "stream",
     "name": "stdout",
     "output_type": "stream",
     "text": [
      "\n<body>\n  <h1>Top 10 Articles</h1>\n  <ol>\n    <li><b>Midas</b> 55,210 requests</li>\n    <li><b>Donald_Trump</b> 44,640 requests</li>\n    <li><b>404.php</b> 20,363 requests</li>\n    <li><b>United_States_presidential_election,_2016</b> 19,401 requests</li>\n    <li><b>Melania_Trump</b> 15,220 requests</li>\n    <li><b>Electoral_College_(United_States)</b> 11,788 requests</li>\n    <li><b>United_States_presidential_election,_2012</b> 11,267 requests</li>\n    <li><b>AMGTV</b> 10,775 requests</li>\n    <li><b>Proyecto_40</b> 9,723 requests</li>\n    <li><b>United_States_presidential_election,_2008</b> 7,481 requests</li>\n  </ol>\n</body>\n\n"
     ]
    }
   ],
   "source": [
    "rows = (articlesDF\n",
    "  .limit(10)           # We only want the first 10 records.\n",
    "  .collect()           # The action returning all records in the DataFrame\n",
    ")\n",
    "\n",
    "# rows is an Array. Now in the driver, \n",
    "# we can just loop over the array and print 'em out.\n",
    "\n",
    "listItems = \"\"\n",
    "for row in rows:\n",
    "  project = row['article']\n",
    "  total = row['requests']\n",
    "  listItems += \"    <li><b>{}</b> {:0,d} requests</li>\\n\".format(project, total)\n",
    "  \n",
    "html = \"\"\"\n",
    "<body>\n",
    "  <h1>Top 10 Articles</h1>\n",
    "  <ol>\n",
    "    %s\n",
    "  </ol>\n",
    "</body>\n",
    "\"\"\" % (listItems.strip())\n",
    "\n",
    "print(html)\n",
    "\n",
    "# UNCOMMENT FOR A PRETTIER PRESENTATION\n",
    "# displayHTML(html)"
   ]
  },
  {
   "cell_type": "markdown",
   "metadata": {
    "application/vnd.databricks.v1+cell": {
     "cellMetadata": {
      "byteLimit": 2048000,
      "rowLimit": 10000
     },
     "inputWidgets": {},
     "nuid": "630a020f-08c1-4fa6-93d4-be4acfe387b5",
     "showTitle": false,
     "title": ""
    }
   },
   "source": [
    "##![Spark Logo Tiny](https://files.training.databricks.com/images/105/logo_spark_tiny.png) take(n)\n",
    "\n",
    "If you look at the API docs, `take(n)` is described like this:\n",
    "> Returns the first n rows in the Dataset.\n",
    "\n",
    "`take(n)` returns a collection of the first N records of the specific type backing each record of the `DataFrame`.\n",
    "* In the case of Python, this is always the `Row` object.\n",
    "* In the case of Scala, this is also a `Row` object.\n",
    "* If the `DataFrame` was converted to a `Dataset` the backing object would be the user-specified object.\n",
    "\n",
    "In short, it's the same basic function as `collect()` except you specify as the first parameter the number of records to return."
   ]
  },
  {
   "cell_type": "code",
   "execution_count": 0,
   "metadata": {
    "application/vnd.databricks.v1+cell": {
     "cellMetadata": {
      "byteLimit": 2048000,
      "rowLimit": 10000
     },
     "inputWidgets": {},
     "nuid": "6b3244b2-d0a9-4ad6-be89-0038789e14b7",
     "showTitle": false,
     "title": ""
    }
   },
   "outputs": [
    {
     "output_type": "stream",
     "name": "stdout",
     "output_type": "stream",
     "text": [
      "\n<body>\n  <h1>Top 10 Articles</h1>\n  <ol>\n    <li><b>Midas</b> 55,210 requests</li>\n    <li><b>Donald_Trump</b> 44,640 requests</li>\n    <li><b>404.php</b> 20,363 requests</li>\n    <li><b>United_States_presidential_election,_2016</b> 19,401 requests</li>\n    <li><b>Melania_Trump</b> 15,220 requests</li>\n    <li><b>Electoral_College_(United_States)</b> 11,788 requests</li>\n    <li><b>United_States_presidential_election,_2012</b> 11,267 requests</li>\n    <li><b>AMGTV</b> 10,775 requests</li>\n    <li><b>Proyecto_40</b> 9,723 requests</li>\n    <li><b>United_States_presidential_election,_2008</b> 7,481 requests</li>\n  </ol>\n</body>\n\n"
     ]
    }
   ],
   "source": [
    "rows = articlesDF.take(10)\n",
    "\n",
    "# rows is an Array. Now in the driver, \n",
    "# we can just loop over the array and print 'em out.\n",
    "\n",
    "listItems = \"\"\n",
    "for row in rows:\n",
    "  project = row['article']\n",
    "  total = row['requests']\n",
    "  listItems += \"    <li><b>{}</b> {:0,d} requests</li>\\n\".format(project, total)\n",
    "  \n",
    "html = \"\"\"\n",
    "<body>\n",
    "  <h1>Top 10 Articles</h1>\n",
    "  <ol>\n",
    "    %s\n",
    "  </ol>\n",
    "</body>\n",
    "\"\"\" % (listItems.strip())\n",
    "\n",
    "print(html)\n",
    "\n",
    "# UNCOMMENT FOR A PRETTIER PRESENTATION\n",
    "# displayHTML(html)"
   ]
  },
  {
   "cell_type": "markdown",
   "metadata": {
    "application/vnd.databricks.v1+cell": {
     "cellMetadata": {
      "byteLimit": 2048000,
      "rowLimit": 10000
     },
     "inputWidgets": {},
     "nuid": "c07c5dc0-509c-402a-988c-2479777166f8",
     "showTitle": false,
     "title": ""
    }
   },
   "source": [
    "##![Spark Logo Tiny](https://files.training.databricks.com/images/105/logo_spark_tiny.png) DataFrame vs Dataset\n",
    "\n",
    "We've been alluding to `Datasets` off and on. \n",
    "\n",
    "The following example demonstrates how to convert a `DataFrame` to a `Dataset`.\n",
    "\n",
    "And when compared to the previous example, helps to illustrate the difference/relationship between the two.\n",
    "\n",
    "** *Note:* ** *As a reminder, `Datasets` are a Java and Scala concept and brings to those languages the type safety that *<br/>\n",
    "*is lost with `DataFrame`, or rather, `Dataset[Row]`. Python and R have no such concept because they are loosely typed.*"
   ]
  },
  {
   "cell_type": "markdown",
   "metadata": {
    "application/vnd.databricks.v1+cell": {
     "cellMetadata": {
      "byteLimit": 2048000,
      "rowLimit": 10000
     },
     "inputWidgets": {},
     "nuid": "219231f8-9a15-4a98-ac33-0a3ef5436526",
     "showTitle": false,
     "title": ""
    }
   },
   "source": [
    "Before we demonstrate this, let's review all our transformations:"
   ]
  },
  {
   "cell_type": "code",
   "execution_count": 0,
   "metadata": {
    "application/vnd.databricks.v1+cell": {
     "cellMetadata": {
      "byteLimit": 2048000,
      "rowLimit": 10000
     },
     "inputWidgets": {},
     "nuid": "8fa07b64-9a78-4698-b2e4-6a90e6ca68a9",
     "showTitle": false,
     "title": ""
    }
   },
   "outputs": [
    {
     "output_type": "display_data",
     "data": {
      "text/html": [
       "<style scoped>\n",
       "  .ansiout {\n",
       "    display: block;\n",
       "    unicode-bidi: embed;\n",
       "    white-space: pre-wrap;\n",
       "    word-wrap: break-word;\n",
       "    word-break: break-all;\n",
       "    font-family: \"Source Code Pro\", \"Menlo\", monospace;;\n",
       "    font-size: 13px;\n",
       "    color: #555;\n",
       "    margin-left: 4px;\n",
       "    line-height: 19px;\n",
       "  }\n",
       "</style>\n",
       "<div class=\"ansiout\">source: String = /mnt/training\n",
       "parquetFile: String = /mnt/training/wikipedia/pagecounts/staging_parquet_en_only_clean/\n",
       "</div>"
      ]
     },
     "metadata": {
      "application/vnd.databricks.v1+output": {
       "addedWidgets": {},
       "arguments": {},
       "data": "<div class=\"ansiout\">source: String = /mnt/training\nparquetFile: String = /mnt/training/wikipedia/pagecounts/staging_parquet_en_only_clean/\n</div>",
       "datasetInfos": [],
       "metadata": {
        "isDbfsCommandResult": false
       },
       "removedWidgets": [],
       "type": "html"
      }
     },
     "output_type": "display_data"
    }
   ],
   "source": [
    "%scala\n",
    "// val (source, sasEntity, sasToken) = getAzureDataSource()\n",
    "// spark.conf.set(sasEntity, sasToken)\n",
    "\n",
    "val source = \"/mnt/training\"\n",
    "val parquetFile = source + \"/wikipedia/pagecounts/staging_parquet_en_only_clean/\""
   ]
  },
  {
   "cell_type": "code",
   "execution_count": 0,
   "metadata": {
    "application/vnd.databricks.v1+cell": {
     "cellMetadata": {
      "byteLimit": 2048000,
      "rowLimit": 10000
     },
     "inputWidgets": {},
     "nuid": "3dc614a5-465b-47e4-ab72-0634564f1192",
     "showTitle": false,
     "title": ""
    }
   },
   "outputs": [
    {
     "output_type": "display_data",
     "data": {
      "text/html": [
       "<style scoped>\n",
       "  .ansiout {\n",
       "    display: block;\n",
       "    unicode-bidi: embed;\n",
       "    white-space: pre-wrap;\n",
       "    word-wrap: break-word;\n",
       "    word-break: break-all;\n",
       "    font-family: \"Source Code Pro\", \"Menlo\", monospace;;\n",
       "    font-size: 13px;\n",
       "    color: #555;\n",
       "    margin-left: 4px;\n",
       "    line-height: 19px;\n",
       "  }\n",
       "</style>\n",
       "<div class=\"ansiout\">articlesDF: org.apache.spark.sql.Dataset[org.apache.spark.sql.Row] = [project: string, article: string ... 1 more field]\n",
       "</div>"
      ]
     },
     "metadata": {
      "application/vnd.databricks.v1+output": {
       "addedWidgets": {},
       "arguments": {},
       "data": "<div class=\"ansiout\">articlesDF: org.apache.spark.sql.Dataset[org.apache.spark.sql.Row] = [project: string, article: string ... 1 more field]\n</div>",
       "datasetInfos": [
        {
         "name": "articlesDF",
         "schema": {
          "fields": [
           {
            "metadata": {},
            "name": "project",
            "nullable": true,
            "type": "string"
           },
           {
            "metadata": {},
            "name": "article",
            "nullable": true,
            "type": "string"
           },
           {
            "metadata": {},
            "name": "requests",
            "nullable": true,
            "type": "integer"
           }
          ],
          "type": "struct"
         },
         "tableIdentifier": null,
         "typeStr": "org.apache.spark.sql.Dataset[org.apache.spark.sql.Row]"
        }
       ],
       "metadata": {
        "isDbfsCommandResult": false
       },
       "removedWidgets": [],
       "type": "html"
      }
     },
     "output_type": "display_data"
    }
   ],
   "source": [
    "%scala\n",
    "\n",
    "val articlesDF = spark                          // Our SparkSession & Entry Point\n",
    "  .read                                         // Our DataFrameReader\n",
    "  .parquet(parquetFile)                         // Creates a DataFrame from a parquet file\n",
    "  .filter( $\"project\" === \"en\")                 // Include only the \"en\" project\n",
    "  .filter($\"article\" =!= \"Main_Page\")           // Exclude the Wikipedia Main Page\n",
    "  .filter($\"article\" =!= \"-\")                   // Exclude some \"weird\" article\n",
    "  .filter( ! $\"article\".startsWith(\"Special:\")) // Exclude all the \"special\" articles\n",
    "  .drop(\"bytes_served\")                         // We just don't need this column\n",
    "  .orderBy( $\"requests\".desc )                  // Sort by requests descending"
   ]
  },
  {
   "cell_type": "markdown",
   "metadata": {
    "application/vnd.databricks.v1+cell": {
     "cellMetadata": {
      "byteLimit": 2048000,
      "rowLimit": 10000
     },
     "inputWidgets": {},
     "nuid": "98130208-5d87-47be-9885-3de9c15e778f",
     "showTitle": false,
     "title": ""
    }
   },
   "source": [
    "Notice above that `articlesDF` is a `Dataset` of type `Row`.\n",
    "\n",
    "Next, create the case class `WikiReq`. \n",
    "\n",
    "A little later we can convert this `DataFrame` to a `Dataset` of type `WikiReq`:"
   ]
  },
  {
   "cell_type": "code",
   "execution_count": 0,
   "metadata": {
    "application/vnd.databricks.v1+cell": {
     "cellMetadata": {
      "byteLimit": 2048000,
      "rowLimit": 10000
     },
     "inputWidgets": {},
     "nuid": "66790479-1d7d-4e82-a234-86d42c98db49",
     "showTitle": false,
     "title": ""
    }
   },
   "outputs": [
    {
     "output_type": "display_data",
     "data": {
      "text/html": [
       "<style scoped>\n",
       "  .ansiout {\n",
       "    display: block;\n",
       "    unicode-bidi: embed;\n",
       "    white-space: pre-wrap;\n",
       "    word-wrap: break-word;\n",
       "    word-break: break-all;\n",
       "    font-family: \"Source Code Pro\", \"Menlo\", monospace;;\n",
       "    font-size: 13px;\n",
       "    color: #555;\n",
       "    margin-left: 4px;\n",
       "    line-height: 19px;\n",
       "  }\n",
       "</style>\n",
       "<div class=\"ansiout\">root\n",
       "-- project: string (nullable = true)\n",
       "-- article: string (nullable = true)\n",
       "-- requests: integer (nullable = true)\n",
       "\n",
       "defined class WikiReq\n",
       "</div>"
      ]
     },
     "metadata": {
      "application/vnd.databricks.v1+output": {
       "addedWidgets": {},
       "arguments": {},
       "data": "<div class=\"ansiout\">root\n |-- project: string (nullable = true)\n |-- article: string (nullable = true)\n |-- requests: integer (nullable = true)\n\ndefined class WikiReq\n</div>",
       "datasetInfos": [],
       "metadata": {
        "isDbfsCommandResult": false
       },
       "removedWidgets": [],
       "type": "html"
      }
     },
     "output_type": "display_data"
    }
   ],
   "source": [
    "%scala\n",
    "\n",
    "// the name and data type of the case class must match the schema they will be converted from.\n",
    "case class WikiReq (project:String, article:String, requests:Int)\n",
    "\n",
    "articlesDF.printSchema"
   ]
  },
  {
   "cell_type": "markdown",
   "metadata": {
    "application/vnd.databricks.v1+cell": {
     "cellMetadata": {
      "byteLimit": 2048000,
      "rowLimit": 10000
     },
     "inputWidgets": {},
     "nuid": "38f150ef-d21c-4aa6-8781-f7ff8504f85f",
     "showTitle": false,
     "title": ""
    }
   },
   "source": [
    "Instead of the `Row` object, we can now back each record with our new `WikiReq` class.\n",
    "\n",
    "And we can see the conversion from `DataFrames` to `Datasets` here:"
   ]
  },
  {
   "cell_type": "code",
   "execution_count": 0,
   "metadata": {
    "application/vnd.databricks.v1+cell": {
     "cellMetadata": {
      "byteLimit": 2048000,
      "rowLimit": 10000
     },
     "inputWidgets": {},
     "nuid": "76c6bbb6-3b60-4741-a663-084973764748",
     "showTitle": false,
     "title": ""
    }
   },
   "outputs": [
    {
     "output_type": "display_data",
     "data": {
      "text/html": [
       "<style scoped>\n",
       "  .ansiout {\n",
       "    display: block;\n",
       "    unicode-bidi: embed;\n",
       "    white-space: pre-wrap;\n",
       "    word-wrap: break-word;\n",
       "    word-break: break-all;\n",
       "    font-family: \"Source Code Pro\", \"Menlo\", monospace;;\n",
       "    font-size: 13px;\n",
       "    color: #555;\n",
       "    margin-left: 4px;\n",
       "    line-height: 19px;\n",
       "  }\n",
       "</style>\n",
       "<div class=\"ansiout\">articlesDS: org.apache.spark.sql.Dataset[WikiReq] = [project: string, article: string ... 1 more field]\n",
       "</div>"
      ]
     },
     "metadata": {
      "application/vnd.databricks.v1+output": {
       "addedWidgets": {},
       "arguments": {},
       "data": "<div class=\"ansiout\">articlesDS: org.apache.spark.sql.Dataset[WikiReq] = [project: string, article: string ... 1 more field]\n</div>",
       "datasetInfos": [
        {
         "name": "articlesDS",
         "schema": {
          "fields": [
           {
            "metadata": {},
            "name": "project",
            "nullable": true,
            "type": "string"
           },
           {
            "metadata": {},
            "name": "article",
            "nullable": true,
            "type": "string"
           },
           {
            "metadata": {},
            "name": "requests",
            "nullable": true,
            "type": "integer"
           }
          ],
          "type": "struct"
         },
         "tableIdentifier": null,
         "typeStr": "org.apache.spark.sql.Dataset[WikiReq]"
        }
       ],
       "metadata": {
        "isDbfsCommandResult": false
       },
       "removedWidgets": [],
       "type": "html"
      }
     },
     "output_type": "display_data"
    }
   ],
   "source": [
    "%scala\n",
    "\n",
    "val articlesDS = articlesDF.as[WikiReq]"
   ]
  },
  {
   "cell_type": "markdown",
   "metadata": {
    "application/vnd.databricks.v1+cell": {
     "cellMetadata": {
      "byteLimit": 2048000,
      "rowLimit": 10000
     },
     "inputWidgets": {},
     "nuid": "290425e9-7566-4a82-9627-0ea27a057e33",
     "showTitle": false,
     "title": ""
    }
   },
   "source": [
    "Make note of the data type: **org.apache.spark.sql.Dataset[WikiReq]**\n",
    "\n",
    "Compare that to a `DataFrame`: **org.apache.spark.sql.Dataset[Row]**\n",
    "\n",
    "Now when we ask for the first 10, we won't get an array of `Row` objects but instead an array of `WikiReq` objects:"
   ]
  },
  {
   "cell_type": "code",
   "execution_count": 0,
   "metadata": {
    "application/vnd.databricks.v1+cell": {
     "cellMetadata": {
      "byteLimit": 2048000,
      "rowLimit": 10000
     },
     "inputWidgets": {},
     "nuid": "f13e83cf-e819-45fc-bb21-e12c5827777b",
     "showTitle": false,
     "title": ""
    }
   },
   "outputs": [
    {
     "output_type": "display_data",
     "data": {
      "text/html": [
       "<style scoped>\n",
       "  .ansiout {\n",
       "    display: block;\n",
       "    unicode-bidi: embed;\n",
       "    white-space: pre-wrap;\n",
       "    word-wrap: break-word;\n",
       "    word-break: break-all;\n",
       "    font-family: \"Source Code Pro\", \"Menlo\", monospace;;\n",
       "    font-size: 13px;\n",
       "    color: #555;\n",
       "    margin-left: 4px;\n",
       "    line-height: 19px;\n",
       "  }\n",
       "</style>\n",
       "<div class=\"ansiout\">\n",
       "&lt;body&gt;\n",
       "  &lt;h1&gt;Top 10 Articles&lt;/h1&gt;\n",
       "  &lt;ol&gt;\n",
       "    &lt;li&gt;&lt;b&gt;Midas&lt;/b&gt; 55,210 requests&lt;/li&gt;\n",
       "    &lt;li&gt;&lt;b&gt;Donald_Trump&lt;/b&gt; 44,640 requests&lt;/li&gt;\n",
       "    &lt;li&gt;&lt;b&gt;404.php&lt;/b&gt; 20,363 requests&lt;/li&gt;\n",
       "    &lt;li&gt;&lt;b&gt;United_States_presidential_election,_2016&lt;/b&gt; 19,401 requests&lt;/li&gt;\n",
       "    &lt;li&gt;&lt;b&gt;Melania_Trump&lt;/b&gt; 15,220 requests&lt;/li&gt;\n",
       "    &lt;li&gt;&lt;b&gt;Electoral_College_(United_States)&lt;/b&gt; 11,788 requests&lt;/li&gt;\n",
       "    &lt;li&gt;&lt;b&gt;United_States_presidential_election,_2012&lt;/b&gt; 11,267 requests&lt;/li&gt;\n",
       "    &lt;li&gt;&lt;b&gt;AMGTV&lt;/b&gt; 10,775 requests&lt;/li&gt;\n",
       "    &lt;li&gt;&lt;b&gt;Proyecto_40&lt;/b&gt; 9,723 requests&lt;/li&gt;\n",
       "    &lt;li&gt;&lt;b&gt;United_States_presidential_election,_2008&lt;/b&gt; 7,481 requests&lt;/li&gt;\n",
       "  &lt;/ol&gt;\n",
       "&lt;/body&gt;\n",
       "\n",
       "--------------------------------------------------------------------------------\n",
       "wikiReqs: Array[WikiReq] = Array(WikiReq(en,Midas,55210), WikiReq(en,Donald_Trump,44640), WikiReq(en,404.php,20363), WikiReq(en,United_States_presidential_election,_2016,19401), WikiReq(en,Melania_Trump,15220), WikiReq(en,Electoral_College_(United_States),11788), WikiReq(en,United_States_presidential_election,_2012,11267), WikiReq(en,AMGTV,10775), WikiReq(en,Proyecto_40,9723), WikiReq(en,United_States_presidential_election,_2008,7481))\n",
       "listItems: String =\n",
       "&quot;    &lt;li&gt;&lt;b&gt;Midas&lt;/b&gt; 55,210 requests&lt;/li&gt;\n",
       "    &lt;li&gt;&lt;b&gt;Donald_Trump&lt;/b&gt; 44,640 requests&lt;/li&gt;\n",
       "    &lt;li&gt;&lt;b&gt;404.php&lt;/b&gt; 20,363 requests&lt;/li&gt;\n",
       "    &lt;li&gt;&lt;b&gt;United_States_presidential_election,_2016&lt;/b&gt; 19,401 requests&lt;/li&gt;\n",
       "    &lt;li&gt;&lt;b&gt;Melania_Trump&lt;/b&gt; 15,220 requests&lt;/li&gt;\n",
       "    &lt;li&gt;&lt;b&gt;Electoral_College_(United_States)&lt;/b&gt; 11,788 requests&lt;/li&gt;\n",
       "    &lt;li&gt;&lt;b&gt;United_States_presidential_election,_2012&lt;/b&gt; 11,267 requests&lt;/li&gt;\n",
       "    &lt;li&gt;&lt;b&gt;AMGTV&lt;/b&gt; 10,775 requests&lt;/li&gt;\n",
       "    &lt;li&gt;&lt;b&gt;Proyecto_40&lt;/b&gt; 9,723 requests&lt;/li&gt;\n",
       "    &lt;li&gt;&lt;b&gt;United_States_presidential_election,_2008&lt;/b&gt; 7,481 requests&lt;/li&gt;\n",
       "&quot;\n",
       "html: String =\n",
       "&quot;\n",
       "&lt;body&gt;\n",
       "  &lt;h1&gt;Top 10 Articles&lt;/h1&gt;\n",
       "  &lt;ol&gt;\n",
       "    &lt;li&gt;&lt;b&gt;Midas&lt;/b&gt; 55,210 requests&lt;/li&gt;\n",
       "    &lt;li&gt;&lt;b&gt;Donald_Trump&lt;/b&gt; 44,640 requests&lt;/li&gt;\n",
       "    &lt;li&gt;&lt;b&gt;404.php&lt;/b&gt; 20,363 requests&lt;/li&gt;\n",
       "    &lt;li&gt;&lt;b&gt;United_States_presidential_election,_2016&lt;/b&gt; 19,401 requests&lt;/li&gt;\n",
       "    &lt;li&gt;&lt;b&gt;Melania_Trump&lt;/b&gt; 15,220 requests&lt;/li&gt;\n",
       "    &lt;li&gt;&lt;b&gt;Electoral_College_(United_States)&lt;/b&gt; 11,788 requests&lt;/li&gt;\n",
       "    &lt;li&gt;&lt;b&gt;United_States_presidential_election,_2012&lt;/b&gt; 11,267 requests&lt;/li&gt;\n",
       "    &lt;li&gt;&lt;b&gt;AMGTV&lt;/b&gt; 10,775 requests&lt;/li&gt;\n",
       "    &lt;li&gt;&lt;b&gt;Proyecto_40&lt;/b&gt; 9,723 requests&lt;/li&gt;\n",
       "    &lt;li&gt;&lt;b&gt;United_States_presidential_election,_2008&lt;/b&gt; 7,481 requests&lt;/li&gt;\n",
       "  &lt;/ol&gt;\n",
       "&lt;/body&gt;\n",
       "&quot;\n",
       "</div>"
      ]
     },
     "metadata": {
      "application/vnd.databricks.v1+output": {
       "addedWidgets": {},
       "arguments": {},
       "data": "<div class=\"ansiout\">\n&lt;body&gt;\n  &lt;h1&gt;Top 10 Articles&lt;/h1&gt;\n  &lt;ol&gt;\n    &lt;li&gt;&lt;b&gt;Midas&lt;/b&gt; 55,210 requests&lt;/li&gt;\n    &lt;li&gt;&lt;b&gt;Donald_Trump&lt;/b&gt; 44,640 requests&lt;/li&gt;\n    &lt;li&gt;&lt;b&gt;404.php&lt;/b&gt; 20,363 requests&lt;/li&gt;\n    &lt;li&gt;&lt;b&gt;United_States_presidential_election,_2016&lt;/b&gt; 19,401 requests&lt;/li&gt;\n    &lt;li&gt;&lt;b&gt;Melania_Trump&lt;/b&gt; 15,220 requests&lt;/li&gt;\n    &lt;li&gt;&lt;b&gt;Electoral_College_(United_States)&lt;/b&gt; 11,788 requests&lt;/li&gt;\n    &lt;li&gt;&lt;b&gt;United_States_presidential_election,_2012&lt;/b&gt; 11,267 requests&lt;/li&gt;\n    &lt;li&gt;&lt;b&gt;AMGTV&lt;/b&gt; 10,775 requests&lt;/li&gt;\n    &lt;li&gt;&lt;b&gt;Proyecto_40&lt;/b&gt; 9,723 requests&lt;/li&gt;\n    &lt;li&gt;&lt;b&gt;United_States_presidential_election,_2008&lt;/b&gt; 7,481 requests&lt;/li&gt;\n  &lt;/ol&gt;\n&lt;/body&gt;\n\n--------------------------------------------------------------------------------\nwikiReqs: Array[WikiReq] = Array(WikiReq(en,Midas,55210), WikiReq(en,Donald_Trump,44640), WikiReq(en,404.php,20363), WikiReq(en,United_States_presidential_election,_2016,19401), WikiReq(en,Melania_Trump,15220), WikiReq(en,Electoral_College_(United_States),11788), WikiReq(en,United_States_presidential_election,_2012,11267), WikiReq(en,AMGTV,10775), WikiReq(en,Proyecto_40,9723), WikiReq(en,United_States_presidential_election,_2008,7481))\nlistItems: String =\n&quot;    &lt;li&gt;&lt;b&gt;Midas&lt;/b&gt; 55,210 requests&lt;/li&gt;\n    &lt;li&gt;&lt;b&gt;Donald_Trump&lt;/b&gt; 44,640 requests&lt;/li&gt;\n    &lt;li&gt;&lt;b&gt;404.php&lt;/b&gt; 20,363 requests&lt;/li&gt;\n    &lt;li&gt;&lt;b&gt;United_States_presidential_election,_2016&lt;/b&gt; 19,401 requests&lt;/li&gt;\n    &lt;li&gt;&lt;b&gt;Melania_Trump&lt;/b&gt; 15,220 requests&lt;/li&gt;\n    &lt;li&gt;&lt;b&gt;Electoral_College_(United_States)&lt;/b&gt; 11,788 requests&lt;/li&gt;\n    &lt;li&gt;&lt;b&gt;United_States_presidential_election,_2012&lt;/b&gt; 11,267 requests&lt;/li&gt;\n    &lt;li&gt;&lt;b&gt;AMGTV&lt;/b&gt; 10,775 requests&lt;/li&gt;\n    &lt;li&gt;&lt;b&gt;Proyecto_40&lt;/b&gt; 9,723 requests&lt;/li&gt;\n    &lt;li&gt;&lt;b&gt;United_States_presidential_election,_2008&lt;/b&gt; 7,481 requests&lt;/li&gt;\n&quot;\nhtml: String =\n&quot;\n&lt;body&gt;\n  &lt;h1&gt;Top 10 Articles&lt;/h1&gt;\n  &lt;ol&gt;\n    &lt;li&gt;&lt;b&gt;Midas&lt;/b&gt; 55,210 requests&lt;/li&gt;\n    &lt;li&gt;&lt;b&gt;Donald_Trump&lt;/b&gt; 44,640 requests&lt;/li&gt;\n    &lt;li&gt;&lt;b&gt;404.php&lt;/b&gt; 20,363 requests&lt;/li&gt;\n    &lt;li&gt;&lt;b&gt;United_States_presidential_election,_2016&lt;/b&gt; 19,401 requests&lt;/li&gt;\n    &lt;li&gt;&lt;b&gt;Melania_Trump&lt;/b&gt; 15,220 requests&lt;/li&gt;\n    &lt;li&gt;&lt;b&gt;Electoral_College_(United_States)&lt;/b&gt; 11,788 requests&lt;/li&gt;\n    &lt;li&gt;&lt;b&gt;United_States_presidential_election,_2012&lt;/b&gt; 11,267 requests&lt;/li&gt;\n    &lt;li&gt;&lt;b&gt;AMGTV&lt;/b&gt; 10,775 requests&lt;/li&gt;\n    &lt;li&gt;&lt;b&gt;Proyecto_40&lt;/b&gt; 9,723 requests&lt;/li&gt;\n    &lt;li&gt;&lt;b&gt;United_States_presidential_election,_2008&lt;/b&gt; 7,481 requests&lt;/li&gt;\n  &lt;/ol&gt;\n&lt;/body&gt;\n&quot;\n</div>",
       "datasetInfos": [],
       "metadata": {
        "isDbfsCommandResult": false
       },
       "removedWidgets": [],
       "type": "html"
      }
     },
     "output_type": "display_data"
    }
   ],
   "source": [
    "%scala\n",
    "val wikiReqs = articlesDS.take(10)\n",
    "\n",
    "// wikiReqs is an Array of WikiReqs. Now in the driver, \n",
    "// we can just loop over the array and print 'em out.\n",
    "\n",
    "var listItems = \"\"\n",
    "for (wikiReq <- wikiReqs) {\n",
    "  // Notice how we don't relaly need temp variables?\n",
    "  // Or more specifically, we don't need to cast.\n",
    "  listItems += \"    <li><b>%s</b> %,d requests</li>%n\".format(wikiReq.article, wikiReq.requests)\n",
    "}\n",
    "\n",
    "var html = s\"\"\"\n",
    "<body>\n",
    "  <h1>Top 10 Articles</h1>\n",
    "  <ol>\n",
    "    ${listItems.trim()}\n",
    "  </ol>\n",
    "</body>\n",
    "\"\"\"\n",
    "\n",
    "println(html)\n",
    "println(\"-\"*80)"
   ]
  },
  {
   "cell_type": "code",
   "execution_count": 0,
   "metadata": {
    "application/vnd.databricks.v1+cell": {
     "cellMetadata": {
      "byteLimit": 2048000,
      "rowLimit": 10000
     },
     "inputWidgets": {},
     "nuid": "d6500e31-0368-4baf-b73c-c67830efa723",
     "showTitle": false,
     "title": ""
    }
   },
   "outputs": [
    {
     "output_type": "display_data",
     "data": {
      "text/html": [
       "\n",
       "<body>\n",
       "  <h1>Top 10 Articles</h1>\n",
       "  <ol>\n",
       "    <li><b>Midas</b> 55,210 requests</li>\n",
       "    <li><b>Donald_Trump</b> 44,640 requests</li>\n",
       "    <li><b>404.php</b> 20,363 requests</li>\n",
       "    <li><b>United_States_presidential_election,_2016</b> 19,401 requests</li>\n",
       "    <li><b>Melania_Trump</b> 15,220 requests</li>\n",
       "    <li><b>Electoral_College_(United_States)</b> 11,788 requests</li>\n",
       "    <li><b>United_States_presidential_election,_2012</b> 11,267 requests</li>\n",
       "    <li><b>AMGTV</b> 10,775 requests</li>\n",
       "    <li><b>Proyecto_40</b> 9,723 requests</li>\n",
       "    <li><b>United_States_presidential_election,_2008</b> 7,481 requests</li>\n",
       "  </ol>\n",
       "</body>\n"
      ]
     },
     "metadata": {
      "application/vnd.databricks.v1+output": {
       "addedWidgets": {},
       "arguments": {},
       "data": "\n<body>\n  <h1>Top 10 Articles</h1>\n  <ol>\n    <li><b>Midas</b> 55,210 requests</li>\n    <li><b>Donald_Trump</b> 44,640 requests</li>\n    <li><b>404.php</b> 20,363 requests</li>\n    <li><b>United_States_presidential_election,_2016</b> 19,401 requests</li>\n    <li><b>Melania_Trump</b> 15,220 requests</li>\n    <li><b>Electoral_College_(United_States)</b> 11,788 requests</li>\n    <li><b>United_States_presidential_election,_2012</b> 11,267 requests</li>\n    <li><b>AMGTV</b> 10,775 requests</li>\n    <li><b>Proyecto_40</b> 9,723 requests</li>\n    <li><b>United_States_presidential_election,_2008</b> 7,481 requests</li>\n  </ol>\n</body>\n",
       "datasetInfos": [],
       "metadata": {
        "isDbfsCommandResult": false
       },
       "removedWidgets": [],
       "textData": null,
       "type": "htmlSandbox"
      }
     },
     "output_type": "display_data"
    }
   ],
   "source": [
    "%scala\n",
    "// UNCOMMENT FOR A PRETTIER PRESENTATION\n",
    "displayHTML(html)"
   ]
  }
 ],
 "metadata": {
  "application/vnd.databricks.v1+notebook": {
   "dashboards": [],
   "language": "python",
   "notebookMetadata": {
    "pythonIndentUnit": 4
   },
   "notebookName": "2.DataFrame-Column-Expressions",
   "widgets": {}
  }
 },
 "nbformat": 4,
 "nbformat_minor": 0
}

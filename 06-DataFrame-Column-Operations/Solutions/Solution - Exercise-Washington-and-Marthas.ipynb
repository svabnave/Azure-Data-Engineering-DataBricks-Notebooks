{
 "cells": [
  {
   "cell_type": "markdown",
   "metadata": {
    "application/vnd.databricks.v1+cell": {
     "cellMetadata": {
      "byteLimit": 2048000,
      "rowLimit": 10000
     },
     "inputWidgets": {},
     "nuid": "187625b7-b7b3-497a-b44e-b70114a0d9da",
     "showTitle": false,
     "title": ""
    }
   },
   "source": [
    "# Lab Exercise Solution:\n",
    "## Washingtons and Marthas"
   ]
  },
  {
   "cell_type": "markdown",
   "metadata": {
    "application/vnd.databricks.v1+cell": {
     "cellMetadata": {
      "byteLimit": 2048000,
      "rowLimit": 10000
     },
     "inputWidgets": {},
     "nuid": "f954145c-7455-42b5-b9ea-d6aeecc862eb",
     "showTitle": false,
     "title": ""
    }
   },
   "source": [
    "-sandbox\n",
    "##![Spark Logo Tiny](https://files.training.databricks.com/images/wiki-book/general/logo_spark_tiny.png) Instructions\n",
    "\n",
    "This data was captured in the August before the 2016 US presidential election.\n",
    "\n",
    "As a result, articles about the candidates were very popular.\n",
    "\n",
    "For this exercise, you will...\n",
    "0. Filter the result to the **en** Wikipedia project.\n",
    "0. Find all the articles where the name of the article **ends** with **_Washington** (presumably \"George Washington\", \"Martha Washington\", etc)\n",
    "0. Return all records as an array to the Driver.\n",
    "0. Assign your array of Washingtons (the return value of your action) to the variable `washingtons`.\n",
    "0. Calculate the sum of requests for the Washingtons and assign it to the variable `totalWashingtons`. <br/>\n",
    "<img alt=\"Hint\" title=\"Hint\" style=\"vertical-align: text-bottom; position: relative; height:1.75em; top:0.3em\" src=\"https://files.training.databricks.com/static/images/icon-light-bulb.svg\"/>&nbsp;**Hint:** We've not yet covered `DataFrame` aggregation techniques, so for this exercise use the array of records you have just obtained.\n",
    "\n",
    "** Bonus **\n",
    "\n",
    "Repeat the exercise for the Marthas\n",
    "0. Filter the result to the **en** Wikipedia project.\n",
    "0. Find all the articles where the name of the article **starts** with **Martha_** (presumably \"Martha Washington\", \"Martha Graham\", etc)\n",
    "0. Return all records as an array to the Driver.\n",
    "0. Assign your array of Marthas (the return value of your action) to the variable `marthas`.\n",
    "0. Calculate the sum of requests for the Marthas and assign it to the variable `totalMarthas`.<br/>\n",
    "<img alt=\"Hint\" title=\"Hint\" style=\"vertical-align: text-bottom; position: relative; height:1.75em; top:0.3em\" src=\"https://files.training.databricks.com/static/images/icon-light-bulb.svg\"/>&nbsp;**Hint:** We've not yet covered `DataFrame` aggregation techniques, so for this exercise use the array of records you have just obtained.\n",
    "0. But you cannot do it the same way twice:\n",
    "   * In the filter, don't use the same conditional method as the one used for the Washingtons.\n",
    "   * Don't use the same action as used for the Washingtons.\n",
    "\n",
    "**Testing**\n",
    "\n",
    "Run the last cell to verify that your results are correct.\n",
    "\n",
    "**Hints**\n",
    "* <img alt=\"Caution\" title=\"Caution\" style=\"vertical-align: text-bottom; position: relative; height:1.3em; top:0.0em\" src=\"https://files.training.databricks.com/static/images/icon-warning.svg\"/> Make sure to include the underscore in the condition.\n",
    "* The actions we've explored for extracting data include:\n",
    "  * `first()`\n",
    "  * `collect()`\n",
    "  * `head()`\n",
    "  * `take(n)`\n",
    "* The conditional methods used with a `filter(..)` include:\n",
    "  * equals\n",
    "  * not-equals\n",
    "  * starts-with\n",
    "  * and there are others - remember, the `DataFrames` API is built upon an SQL engine.\n",
    "* There shouldn't be more than 1000 records for either the Washingtons or the Marthas"
   ]
  },
  {
   "cell_type": "markdown",
   "metadata": {
    "application/vnd.databricks.v1+cell": {
     "cellMetadata": {
      "byteLimit": 2048000,
      "rowLimit": 10000
     },
     "inputWidgets": {},
     "nuid": "312fd9f9-bcdd-42d1-8134-c7b4fa0a623c",
     "showTitle": false,
     "title": ""
    }
   },
   "source": [
    "##![Spark Logo Tiny](https://files.training.databricks.com/images/105/logo_spark_tiny.png) Getting Started\n",
    "\n",
    "Run the following cell to configure our \"classroom.\""
   ]
  },
  {
   "cell_type": "code",
   "execution_count": 0,
   "metadata": {
    "application/vnd.databricks.v1+cell": {
     "cellMetadata": {
      "byteLimit": 2048000,
      "rowLimit": 10000
     },
     "inputWidgets": {},
     "nuid": "6c753f95-4061-471a-9463-62d1a87f79ab",
     "showTitle": false,
     "title": ""
    }
   },
   "outputs": [
    {
     "output_type": "display_data",
     "data": {
      "text/html": [
       "Initialized classroom variables & functions..."
      ]
     },
     "metadata": {
      "application/vnd.databricks.v1+output": {
       "addedWidgets": {},
       "arguments": {},
       "data": "Initialized classroom variables & functions...",
       "datasetInfos": [],
       "metadata": {
        "isDbfsCommandResult": false
       },
       "removedWidgets": [],
       "textData": null,
       "type": "htmlSandbox"
      }
     },
     "output_type": "display_data"
    }
   ],
   "source": [
    "%run \"../Includes/Classroom-Setup\""
   ]
  },
  {
   "cell_type": "code",
   "execution_count": 0,
   "metadata": {
    "application/vnd.databricks.v1+cell": {
     "cellMetadata": {
      "byteLimit": 2048000,
      "rowLimit": 10000
     },
     "inputWidgets": {},
     "nuid": "03cbe226-4fb8-4f19-9ce3-b5c47bb5dbd8",
     "showTitle": false,
     "title": ""
    }
   },
   "outputs": [
    {
     "output_type": "stream",
     "name": "stdout",
     "output_type": "stream",
     "text": [
      "/mnt/training/ has been unmounted.\n"
     ]
    },
    {
     "output_type": "display_data",
     "data": {
      "text/html": [
       "Mounted datasets to <b>/mnt/training</b> from <b>wasbs://training@dbtrainwesteurope.blob.core.windows.net/<b>"
      ]
     },
     "metadata": {
      "application/vnd.databricks.v1+output": {
       "addedWidgets": {},
       "arguments": {},
       "data": "Mounted datasets to <b>/mnt/training</b> from <b>wasbs://training@dbtrainwesteurope.blob.core.windows.net/<b>",
       "datasetInfos": [],
       "metadata": {
        "isDbfsCommandResult": false
       },
       "removedWidgets": [],
       "textData": null,
       "type": "htmlSandbox"
      }
     },
     "output_type": "display_data"
    }
   ],
   "source": [
    "# Mount \"/mnt/training\" again using \"%run \"./Includes/Dataset-Mounts-New\"\" if it is failed in \"./Includes/Classroom-Setup\"\n",
    "try:\n",
    "    files = dbutils.fs.ls(\"/mnt/training\")\n",
    "except:\n",
    "    dbutils.fs.unmount('/mnt/training/')\n"
   ]
  },
  {
   "cell_type": "code",
   "execution_count": 0,
   "metadata": {
    "application/vnd.databricks.v1+cell": {
     "cellMetadata": {
      "byteLimit": 2048000,
      "rowLimit": 10000
     },
     "inputWidgets": {},
     "nuid": "3da75c27-224c-4578-8c7e-2e97e76b54bf",
     "showTitle": false,
     "title": ""
    }
   },
   "outputs": [
    {
     "output_type": "display_data",
     "data": {
      "text/html": [
       "Created user-specific database"
      ]
     },
     "metadata": {
      "application/vnd.databricks.v1+output": {
       "addedWidgets": {},
       "arguments": {},
       "data": "Created user-specific database",
       "datasetInfos": [],
       "metadata": {
        "isDbfsCommandResult": false
       },
       "removedWidgets": [],
       "textData": null,
       "type": "htmlSandbox"
      }
     },
     "output_type": "display_data"
    },
    {
     "output_type": "display_data",
     "data": {
      "text/html": [
       "Using the database <b style=\"color:green\">vishal_abnave_borregaard_com_db</b>."
      ]
     },
     "metadata": {
      "application/vnd.databricks.v1+output": {
       "addedWidgets": {},
       "arguments": {},
       "data": "Using the database <b style=\"color:green\">vishal_abnave_borregaard_com_db</b>.",
       "datasetInfos": [],
       "metadata": {
        "isDbfsCommandResult": false
       },
       "removedWidgets": [],
       "textData": null,
       "type": "htmlSandbox"
      }
     },
     "output_type": "display_data"
    },
    {
     "output_type": "display_data",
     "data": {
      "text/html": [
       "All done!"
      ]
     },
     "metadata": {},
     "output_type": "display_data"
    }
   ],
   "source": [
    "%run \"../Includes/Dataset-Mounts-New\""
   ]
  },
  {
   "cell_type": "markdown",
   "metadata": {
    "application/vnd.databricks.v1+cell": {
     "cellMetadata": {
      "byteLimit": 2048000,
      "rowLimit": 10000
     },
     "inputWidgets": {},
     "nuid": "c7915291-889f-47ca-9e6b-f9244ab2d818",
     "showTitle": false,
     "title": ""
    }
   },
   "source": [
    "##![Spark Logo Tiny](https://files.training.databricks.com/images/wiki-book/general/logo_spark_tiny.png) Show Your Work"
   ]
  },
  {
   "cell_type": "code",
   "execution_count": 0,
   "metadata": {
    "application/vnd.databricks.v1+cell": {
     "cellMetadata": {
      "byteLimit": 2048000,
      "rowLimit": 10000
     },
     "inputWidgets": {},
     "nuid": "c53d24f7-bb01-48e1-a897-476f897860c7",
     "showTitle": false,
     "title": ""
    }
   },
   "outputs": [],
   "source": [
    "(source, sasEntity, sasToken) = getAzureDataSource()\n",
    "spark.conf.set(sasEntity, sasToken)\n",
    "\n",
    "source = '/mnt/training'\n",
    "parquetDir = source + \"/wikipedia/pagecounts/staging_parquet_en_only_clean/\""
   ]
  },
  {
   "cell_type": "code",
   "execution_count": 0,
   "metadata": {
    "application/vnd.databricks.v1+cell": {
     "cellMetadata": {
      "byteLimit": 2048000,
      "rowLimit": 10000
     },
     "inputWidgets": {},
     "nuid": "5a3c2861-2019-47c3-9820-71cffe0c3e4a",
     "showTitle": false,
     "title": ""
    }
   },
   "outputs": [
    {
     "output_type": "stream",
     "name": "stdout",
     "output_type": "stream",
     "text": [
      "Total Washingtons: 466\nTotal Washington Requests: 3,266\n"
     ]
    }
   ],
   "source": [
    "# ANSWER\n",
    "\n",
    "from pyspark.sql.functions import *\n",
    "\n",
    "parquetDir = \"/mnt/training/wikipedia/pagecounts/staging_parquet_en_only_clean/\"\n",
    "\n",
    "washingtons = (spark.read\n",
    "  .parquet(parquetDir)\n",
    "  .filter( col(\"project\") == \"en\")\n",
    "  .filter( col(\"article\").endswith(\"_Washington\") )\n",
    "  #.filter( col(\"article\").like(\"%\\\\_Washington\") )\n",
    "  .collect()\n",
    "  #.take(1000)\n",
    ")\n",
    "totalWashingtons = 0\n",
    "\n",
    "for washington in washingtons:\n",
    "  totalWashingtons += washington[\"requests\"]\n",
    "\n",
    "print(\"Total Washingtons: {0:,}\".format( len(washingtons) ))\n",
    "print(\"Total Washington Requests: {0:,}\".format( totalWashingtons ))"
   ]
  },
  {
   "cell_type": "code",
   "execution_count": 0,
   "metadata": {
    "application/vnd.databricks.v1+cell": {
     "cellMetadata": {
      "byteLimit": 2048000,
      "rowLimit": 10000
     },
     "inputWidgets": {},
     "nuid": "bf426cee-a1c0-4876-94e1-dfd678cd5349",
     "showTitle": false,
     "title": ""
    }
   },
   "outputs": [
    {
     "output_type": "stream",
     "name": "stdout",
     "output_type": "stream",
     "text": [
      "Total Washingtons: 466\nTotal Washingtons Requests: 3266\n"
     ]
    }
   ],
   "source": [
    "# ANSWER\n",
    "# BEST ANSWER - this is how you would do it in production\n",
    "\n",
    "from pyspark.sql.functions import *  # sum(), count()\n",
    "\n",
    "parquetDir = \"/mnt/training/wikipedia/pagecounts/staging_parquet_en_only_clean/\"\n",
    "\n",
    "stats = (spark.read\n",
    "  .parquet(parquetDir)\n",
    "  .filter((col(\"project\") == \"en\") & col(\"article\").endswith(\"_Washington\"))\n",
    "  .select(sum(\"requests\"), count(\"*\"))\n",
    "  .first())\n",
    "\n",
    "totalWashingtons = stats[0]\n",
    "washingtonCount = stats[1]\n",
    "\n",
    "print(\"Total Washingtons: {}\".format(washingtonCount) )\n",
    "print(\"Total Washingtons Requests: {}\".format(totalWashingtons))"
   ]
  },
  {
   "cell_type": "code",
   "execution_count": 0,
   "metadata": {
    "application/vnd.databricks.v1+cell": {
     "cellMetadata": {
      "byteLimit": 2048000,
      "rowLimit": 10000
     },
     "inputWidgets": {},
     "nuid": "d7f5f8f5-754f-4727-bb47-85a191de97f3",
     "showTitle": false,
     "title": ""
    }
   },
   "outputs": [
    {
     "output_type": "stream",
     "name": "stdout",
     "output_type": "stream",
     "text": [
      "Total Marthas: 146\nTotal Marthas Requests: 708\n"
     ]
    }
   ],
   "source": [
    "# ANSWER\n",
    "\n",
    "from pyspark.sql.functions import *\n",
    "\n",
    "marthas = (spark.read\n",
    "  .parquet(parquetDir)\n",
    "  .filter( col(\"project\") == \"en\")\n",
    "  #.filter( col(\"article\").startswith(\"Martha_\") )\n",
    "  .filter( col(\"article\").like(\"Martha\\\\_%\") )\n",
    "  #.collect()\n",
    "  .take(1000)\n",
    ")\n",
    "totalMarthas = 0\n",
    "\n",
    "for martha in marthas:\n",
    "  totalMarthas += martha[\"requests\"]\n",
    "\n",
    "print(\"Total Marthas: {0:,}\".format( len(marthas) ))\n",
    "print(\"Total Marthas Requests: {0:,}\".format( totalMarthas ))"
   ]
  },
  {
   "cell_type": "markdown",
   "metadata": {
    "application/vnd.databricks.v1+cell": {
     "cellMetadata": {
      "byteLimit": 2048000,
      "rowLimit": 10000
     },
     "inputWidgets": {},
     "nuid": "8184aba7-e4a8-45d6-bb8a-cac24391726e",
     "showTitle": false,
     "title": ""
    }
   },
   "source": [
    "##![Spark Logo Tiny](https://files.training.databricks.com/images/wiki-book/general/logo_spark_tiny.png) Verify Your Work\n",
    "Run the following cell to verify that your `DataFrame` was created properly."
   ]
  },
  {
   "cell_type": "code",
   "execution_count": 0,
   "metadata": {
    "application/vnd.databricks.v1+cell": {
     "cellMetadata": {
      "byteLimit": 2048000,
      "rowLimit": 10000
     },
     "inputWidgets": {},
     "nuid": "f97304ea-cd17-4141-a352-d8b8efed0c6b",
     "showTitle": false,
     "title": ""
    }
   },
   "outputs": [
    {
     "output_type": "stream",
     "name": "stdout",
     "output_type": "stream",
     "text": [
      "Total Washingtons: 466\nTotal Washington Requests: 3,266\n"
     ]
    }
   ],
   "source": [
    "print(\"Total Washingtons: {0:,}\".format( len(washingtons) ))\n",
    "print(\"Total Washington Requests: {0:,}\".format( totalWashingtons ))\n",
    "\n",
    "expectedCount = 466\n",
    "assert len(washingtons) == expectedCount, \"Expected \" + str(expectedCount) + \" articles but found \" + str( len(washingtons) )\n",
    "\n",
    "expectedTotal = 3266\n",
    "assert totalWashingtons == expectedTotal, \"Expected \" + str(expectedTotal) + \" requests but found \" + str(totalWashingtons)"
   ]
  },
  {
   "cell_type": "code",
   "execution_count": 0,
   "metadata": {
    "application/vnd.databricks.v1+cell": {
     "cellMetadata": {
      "byteLimit": 2048000,
      "rowLimit": 10000
     },
     "inputWidgets": {},
     "nuid": "3d834e73-3c70-4cdf-a494-1d5dab79aa24",
     "showTitle": false,
     "title": ""
    }
   },
   "outputs": [
    {
     "output_type": "stream",
     "name": "stdout",
     "output_type": "stream",
     "text": [
      "Total Marthas: 146\nTotal Marthas Requests: 708\n"
     ]
    }
   ],
   "source": [
    "print(\"Total Marthas: {0:,}\".format( len(marthas) ))\n",
    "print(\"Total Marthas Requests: {0:,}\".format( totalMarthas ))\n",
    "\n",
    "expectedCount = 146\n",
    "assert len(marthas) == expectedCount, \"Expected \" + str(expectedCount) + \" articles but found \" + str( len(marthas) )\n",
    "\n",
    "expectedTotal = 708\n",
    "assert totalMarthas == expectedTotal, \"Expected \" + str(expectedTotal) + \" requests but found \" + str(totalMarthas)\n"
   ]
  }
 ],
 "metadata": {
  "application/vnd.databricks.v1+notebook": {
   "dashboards": [],
   "language": "python",
   "notebookMetadata": {
    "pythonIndentUnit": 4
   },
   "notebookName": "Solution - Exercise-Washington-and-Marthas",
   "widgets": {}
  }
 },
 "nbformat": 4,
 "nbformat_minor": 0
}

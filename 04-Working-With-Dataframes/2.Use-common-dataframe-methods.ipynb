{
 "cells": [
  {
   "cell_type": "markdown",
   "metadata": {
    "application/vnd.databricks.v1+cell": {
     "cellMetadata": {
      "byteLimit": 2048000,
      "rowLimit": 10000
     },
     "inputWidgets": {},
     "nuid": "c24bcb5d-e646-4d83-aed9-0bb70641582e",
     "showTitle": false,
     "title": ""
    }
   },
   "source": [
    "# Use common DataFrame methods\n",
    "\n",
    "In the previous notebook, you ended off by executing a count of records in a DataFrame. We will now build upon that concept by introducing common DataFrame methods."
   ]
  },
  {
   "cell_type": "markdown",
   "metadata": {
    "application/vnd.databricks.v1+cell": {
     "cellMetadata": {
      "byteLimit": 2048000,
      "rowLimit": 10000
     },
     "inputWidgets": {},
     "nuid": "5aaeb798-3ae6-4acd-ae7b-e1428eab3671",
     "showTitle": false,
     "title": ""
    }
   },
   "source": [
    "**Technical Accomplishments:**\n",
    "* Develop familiarity with the `DataFrame` APIs\n",
    "* Use common DataFrame methods for performance\n",
    "* Explore the Spark API documentation"
   ]
  },
  {
   "cell_type": "markdown",
   "metadata": {
    "application/vnd.databricks.v1+cell": {
     "cellMetadata": {
      "byteLimit": 2048000,
      "rowLimit": 10000
     },
     "inputWidgets": {},
     "nuid": "96e43284-cfc9-4b1a-a792-443126849da0",
     "showTitle": false,
     "title": ""
    }
   },
   "source": [
    "##![Spark Logo Tiny](https://files.training.databricks.com/images/105/logo_spark_tiny.png) Getting Started\n",
    "\n",
    "Run the following cell to configure our \"classroom.\""
   ]
  },
  {
   "cell_type": "code",
   "execution_count": 0,
   "metadata": {
    "application/vnd.databricks.v1+cell": {
     "cellMetadata": {
      "byteLimit": 2048000,
      "rowLimit": 10000
     },
     "inputWidgets": {},
     "nuid": "67c0befc-40e6-404a-aa5a-6fd51a7c901b",
     "showTitle": false,
     "title": ""
    }
   },
   "outputs": [
    {
     "output_type": "display_data",
     "data": {
      "text/html": [
       "Initialized classroom variables & functions..."
      ]
     },
     "metadata": {
      "application/vnd.databricks.v1+output": {
       "addedWidgets": {},
       "arguments": {},
       "data": "Initialized classroom variables & functions...",
       "datasetInfos": [],
       "metadata": {
        "isDbfsCommandResult": false
       },
       "removedWidgets": [],
       "textData": null,
       "type": "htmlSandbox"
      }
     },
     "output_type": "display_data"
    }
   ],
   "source": [
    "%run \"./Includes/Classroom-Setup\""
   ]
  },
  {
   "cell_type": "code",
   "execution_count": 0,
   "metadata": {
    "application/vnd.databricks.v1+cell": {
     "cellMetadata": {
      "byteLimit": 2048000,
      "rowLimit": 10000
     },
     "inputWidgets": {},
     "nuid": "78be546c-f2b4-40a7-8ff6-a8f71dbce069",
     "showTitle": false,
     "title": ""
    }
   },
   "outputs": [
    {
     "output_type": "stream",
     "name": "stdout",
     "output_type": "stream",
     "text": [
      "/mnt/training/ has been unmounted.\n"
     ]
    },
    {
     "output_type": "display_data",
     "data": {
      "text/html": [
       "Mounted datasets to <b>/mnt/training</b> from <b>wasbs://training@dbtrainwesteurope.blob.core.windows.net/<b>"
      ]
     },
     "metadata": {
      "application/vnd.databricks.v1+output": {
       "addedWidgets": {},
       "arguments": {},
       "data": "Mounted datasets to <b>/mnt/training</b> from <b>wasbs://training@dbtrainwesteurope.blob.core.windows.net/<b>",
       "datasetInfos": [],
       "metadata": {
        "isDbfsCommandResult": false
       },
       "removedWidgets": [],
       "textData": null,
       "type": "htmlSandbox"
      }
     },
     "output_type": "display_data"
    }
   ],
   "source": [
    "# Mount \"/mnt/training\" again using \"%run \"./Includes/Dataset-Mounts-New\"\" if it is failed in \"./Includes/Classroom-Setup\"\n",
    "try:\n",
    "    files = dbutils.fs.ls(\"/mnt/training\")\n",
    "except:\n",
    "    dbutils.fs.unmount('/mnt/training/')\n"
   ]
  },
  {
   "cell_type": "code",
   "execution_count": 0,
   "metadata": {
    "application/vnd.databricks.v1+cell": {
     "cellMetadata": {
      "byteLimit": 2048000,
      "rowLimit": 10000
     },
     "inputWidgets": {},
     "nuid": "9babbdf7-cd0c-4197-bbd7-46a1528bb6b4",
     "showTitle": false,
     "title": ""
    }
   },
   "outputs": [
    {
     "output_type": "display_data",
     "data": {
      "text/html": [
       "Created user-specific database"
      ]
     },
     "metadata": {
      "application/vnd.databricks.v1+output": {
       "addedWidgets": {},
       "arguments": {},
       "data": "Created user-specific database",
       "datasetInfos": [],
       "metadata": {
        "isDbfsCommandResult": false
       },
       "removedWidgets": [],
       "textData": null,
       "type": "htmlSandbox"
      }
     },
     "output_type": "display_data"
    },
    {
     "output_type": "display_data",
     "data": {
      "text/html": [
       "Using the database <b style=\"color:green\">vishal_abnave_borregaard_com_db</b>."
      ]
     },
     "metadata": {
      "application/vnd.databricks.v1+output": {
       "addedWidgets": {},
       "arguments": {},
       "data": "Using the database <b style=\"color:green\">vishal_abnave_borregaard_com_db</b>.",
       "datasetInfos": [],
       "metadata": {
        "isDbfsCommandResult": false
       },
       "removedWidgets": [],
       "textData": null,
       "type": "htmlSandbox"
      }
     },
     "output_type": "display_data"
    },
    {
     "output_type": "display_data",
     "data": {
      "text/html": [
       "All done!"
      ]
     },
     "metadata": {
      "application/vnd.databricks.v1+output": {
       "addedWidgets": {},
       "arguments": {},
       "data": "All done!",
       "datasetInfos": [],
       "metadata": {},
       "removedWidgets": [],
       "textData": null,
       "type": "htmlSandbox"
      }
     },
     "output_type": "display_data"
    }
   ],
   "source": [
    "%run \"./Includes/Dataset-Mounts-New\""
   ]
  },
  {
   "cell_type": "markdown",
   "metadata": {
    "application/vnd.databricks.v1+cell": {
     "cellMetadata": {
      "byteLimit": 2048000,
      "rowLimit": 10000
     },
     "inputWidgets": {},
     "nuid": "7da60e26-61bb-4553-a0f6-f5345b755bff",
     "showTitle": false,
     "title": ""
    }
   },
   "source": [
    "Prepare the data source."
   ]
  },
  {
   "cell_type": "code",
   "execution_count": 0,
   "metadata": {
    "application/vnd.databricks.v1+cell": {
     "cellMetadata": {
      "byteLimit": 2048000,
      "rowLimit": 10000
     },
     "inputWidgets": {},
     "nuid": "b0312eda-7567-4085-a998-f0ea73bc1885",
     "showTitle": false,
     "title": ""
    }
   },
   "outputs": [],
   "source": [
    "(source, sasEntity, sasToken) = getAzureDataSource()\n",
    "\n",
    "spark.conf.set(sasEntity, sasToken)"
   ]
  },
  {
   "cell_type": "markdown",
   "metadata": {
    "application/vnd.databricks.v1+cell": {
     "cellMetadata": {
      "byteLimit": 2048000,
      "rowLimit": 10000
     },
     "inputWidgets": {},
     "nuid": "673b38bf-c9ba-4538-841c-a7c3bb6bf15b",
     "showTitle": false,
     "title": ""
    }
   },
   "source": [
    "Create the DataFrame. This is the same one we created in the previous notebook."
   ]
  },
  {
   "cell_type": "code",
   "execution_count": 0,
   "metadata": {
    "application/vnd.databricks.v1+cell": {
     "cellMetadata": {
      "byteLimit": 2048000,
      "rowLimit": 10000
     },
     "inputWidgets": {},
     "nuid": "a99f026e-01aa-46df-aefe-6608c93ad8b4",
     "showTitle": false,
     "title": ""
    }
   },
   "outputs": [],
   "source": [
    "source = '/mnt/training'\n",
    "parquetDir = source + \"/wikipedia/pagecounts/staging_parquet_en_only_clean/\""
   ]
  },
  {
   "cell_type": "code",
   "execution_count": 0,
   "metadata": {
    "application/vnd.databricks.v1+cell": {
     "cellMetadata": {
      "byteLimit": 2048000,
      "rowLimit": 10000
     },
     "inputWidgets": {},
     "nuid": "01d8a62d-5bac-4678-aee6-65d98b0f9362",
     "showTitle": false,
     "title": ""
    }
   },
   "outputs": [
    {
     "output_type": "stream",
     "name": "stdout",
     "output_type": "stream",
     "text": [
      "DataFrame[project: string, article: string, requests: int, bytes_served: bigint]\n"
     ]
    }
   ],
   "source": [
    "pagecountsEnAllDF = (spark  # Our SparkSession & Entry Point\n",
    "  .read                     # Our DataFrameReader\n",
    "  .parquet(parquetDir)      # Returns an instance of DataFrame\n",
    ")\n",
    "print(pagecountsEnAllDF)    # Python hack to see the data type"
   ]
  },
  {
   "cell_type": "markdown",
   "metadata": {
    "application/vnd.databricks.v1+cell": {
     "cellMetadata": {
      "byteLimit": 2048000,
      "rowLimit": 10000
     },
     "inputWidgets": {},
     "nuid": "71141900-e250-40e8-b499-9598086703aa",
     "showTitle": false,
     "title": ""
    }
   },
   "source": [
    "Execute a count on the DataFrame as we did at the end of the previous notebook."
   ]
  },
  {
   "cell_type": "code",
   "execution_count": 0,
   "metadata": {
    "application/vnd.databricks.v1+cell": {
     "cellMetadata": {
      "byteLimit": 2048000,
      "rowLimit": 10000
     },
     "inputWidgets": {},
     "nuid": "b9e13dfc-e9ba-4de0-835b-ce174d82371e",
     "showTitle": false,
     "title": ""
    }
   },
   "outputs": [
    {
     "output_type": "stream",
     "name": "stdout",
     "output_type": "stream",
     "text": [
      "Record Count: 2,345,943\n"
     ]
    }
   ],
   "source": [
    "total = pagecountsEnAllDF.count()\n",
    "\n",
    "print(\"Record Count: {0:,}\".format( total ))"
   ]
  },
  {
   "cell_type": "markdown",
   "metadata": {
    "application/vnd.databricks.v1+cell": {
     "cellMetadata": {
      "byteLimit": 2048000,
      "rowLimit": 10000
     },
     "inputWidgets": {},
     "nuid": "bb0c3583-fabc-4085-9d3b-fad090eb125e",
     "showTitle": false,
     "title": ""
    }
   },
   "source": [
    "That tells us that there are around 2 million rows in the `DataFrame`. \n",
    "\n",
    "Before we take a closer look at the contents of the `DataFrame`, let us introduce a technique that speeds up processing."
   ]
  },
  {
   "cell_type": "markdown",
   "metadata": {
    "application/vnd.databricks.v1+cell": {
     "cellMetadata": {
      "byteLimit": 2048000,
      "rowLimit": 10000
     },
     "inputWidgets": {},
     "nuid": "ed07409d-97d8-434a-a1a5-67c9710e998f",
     "showTitle": false,
     "title": ""
    }
   },
   "source": [
    "##![Spark Logo Tiny](https://files.training.databricks.com/images/105/logo_spark_tiny.png) cache() & persist()\n",
    "\n",
    "The ability to cache data is one technique for achieving better performance with Apache Spark. \n",
    "\n",
    "This is because every action requires Spark to read the data from its source (Azure Blob, Amazon S3, HDFS, etc.) but caching moves that data into the memory of the local executor for \"instant\" access.\n",
    "\n",
    "`cache()` is just an alias for `persist()`."
   ]
  },
  {
   "cell_type": "code",
   "execution_count": 0,
   "metadata": {
    "application/vnd.databricks.v1+cell": {
     "cellMetadata": {
      "byteLimit": 2048000,
      "rowLimit": 10000
     },
     "inputWidgets": {},
     "nuid": "38b88e4e-4296-4e8c-a969-379c60f01579",
     "showTitle": false,
     "title": ""
    }
   },
   "outputs": [
    {
     "output_type": "stream",
     "name": "stdout",
     "output_type": "stream",
     "text": [
      "Out[12]: 2345943"
     ]
    }
   ],
   "source": [
    "(pagecountsEnAllDF\n",
    "  .cache()         # Mark the DataFrame as cached\n",
    "  .count()         # Materialize the cache\n",
    ") "
   ]
  },
  {
   "cell_type": "markdown",
   "metadata": {
    "application/vnd.databricks.v1+cell": {
     "cellMetadata": {
      "byteLimit": 2048000,
      "rowLimit": 10000
     },
     "inputWidgets": {},
     "nuid": "2fa4a939-5c84-41aa-947d-0f2c6835a065",
     "showTitle": false,
     "title": ""
    }
   },
   "source": [
    "If you re-run that command, it should take significantly less time."
   ]
  },
  {
   "cell_type": "code",
   "execution_count": 0,
   "metadata": {
    "application/vnd.databricks.v1+cell": {
     "cellMetadata": {
      "byteLimit": 2048000,
      "rowLimit": 10000
     },
     "inputWidgets": {},
     "nuid": "55929d0b-1bbc-4e25-b7a7-4a74a32512ab",
     "showTitle": false,
     "title": ""
    }
   },
   "outputs": [
    {
     "output_type": "stream",
     "name": "stdout",
     "output_type": "stream",
     "text": [
      "Out[13]: 2345943"
     ]
    }
   ],
   "source": [
    "pagecountsEnAllDF.count()"
   ]
  },
  {
   "cell_type": "markdown",
   "metadata": {
    "application/vnd.databricks.v1+cell": {
     "cellMetadata": {
      "byteLimit": 2048000,
      "rowLimit": 10000
     },
     "inputWidgets": {},
     "nuid": "e0f2d1c0-6e1c-481b-923b-79ab1ff1bf95",
     "showTitle": false,
     "title": ""
    }
   },
   "source": [
    "## Performance considerations of Caching Data\n",
    "\n",
    "When Caching Data you are placing it on the workers of the cluster. \n",
    "\n",
    "Caching takes resources, before moving a notebook into production please check and verify that you are appropriately using cache."
   ]
  },
  {
   "cell_type": "markdown",
   "metadata": {
    "application/vnd.databricks.v1+cell": {
     "cellMetadata": {
      "byteLimit": 2048000,
      "rowLimit": 10000
     },
     "inputWidgets": {},
     "nuid": "7a1c64e7-a736-4061-aaad-99c66c5f7f32",
     "showTitle": false,
     "title": ""
    }
   },
   "source": [
    "And as a quick side note, you can remove a cache by calling the `DataFrame`'s `unpersist()` method but, it is not necessary."
   ]
  },
  {
   "cell_type": "markdown",
   "metadata": {
    "application/vnd.databricks.v1+cell": {
     "cellMetadata": {
      "byteLimit": 2048000,
      "rowLimit": 10000
     },
     "inputWidgets": {},
     "nuid": "9ec608e4-2e30-4d08-8881-56358d59975f",
     "showTitle": false,
     "title": ""
    }
   },
   "source": [
    "##![Spark Logo Tiny](https://files.training.databricks.com/images/105/logo_spark_tiny.png) Our Data\n",
    "\n",
    "Let's continue by taking a look at the type of data we have. \n",
    "\n",
    "We can do this with the `printSchema()` command:"
   ]
  },
  {
   "cell_type": "code",
   "execution_count": 0,
   "metadata": {
    "application/vnd.databricks.v1+cell": {
     "cellMetadata": {
      "byteLimit": 2048000,
      "rowLimit": 10000
     },
     "inputWidgets": {},
     "nuid": "cb6585cf-4efa-403e-8f42-0b823475a43f",
     "showTitle": false,
     "title": ""
    }
   },
   "outputs": [
    {
     "output_type": "stream",
     "name": "stdout",
     "output_type": "stream",
     "text": [
      "root\n |-- project: string (nullable = true)\n |-- article: string (nullable = true)\n |-- requests: integer (nullable = true)\n |-- bytes_served: long (nullable = true)\n\n"
     ]
    }
   ],
   "source": [
    "pagecountsEnAllDF.printSchema()"
   ]
  },
  {
   "cell_type": "markdown",
   "metadata": {
    "application/vnd.databricks.v1+cell": {
     "cellMetadata": {
      "byteLimit": 2048000,
      "rowLimit": 10000
     },
     "inputWidgets": {},
     "nuid": "1e78141e-6562-4109-b79a-56845e90a5ce",
     "showTitle": false,
     "title": ""
    }
   },
   "source": [
    "We should now be able to see that we have four columns of data:\n",
    "* **project** (*string*): The name of the Wikipedia project. This will include values such as:\n",
    "  * **en**: The English version of Wikipedia.\n",
    "  * **fr**: The French version of Wikipedia.\n",
    "  * **en.d**: The English version of Wiktionary.\n",
    "  * **fr.b**: The French version of Wikibooks.\n",
    "  * **de.n**: The German version of Wikinews.\n",
    "* **article** (*string*): The name of the article in the corresponding project. This will include values such as:\n",
    "  * <a href=\"https://en.wikipedia.org/wiki/Apache_Spark\" target=\"_blank\">Apache_Spark</a>\n",
    "  * <a href=\"https://en.wikipedia.org/wiki/Matei_Zaharia\" target=\"_blank\">Matei_Zaharia</a>\n",
    "  * <a href=\"https://en.wikipedia.org/wiki/Kevin_Bacon\" target=\"_blank\">Kevin_Bacon</a>\n",
    "* **requests** (*integer*): The number of requests (clicks) the article has received in the hour this data represents.\n",
    "* **bytes_served** (*long*): The total number of bytes delivered for the requested article.\n",
    "  * **Note:** In our copy of the data, this value is zero for all records and consequently is of no value to us."
   ]
  },
  {
   "cell_type": "markdown",
   "metadata": {
    "application/vnd.databricks.v1+cell": {
     "cellMetadata": {
      "byteLimit": 2048000,
      "rowLimit": 10000
     },
     "inputWidgets": {},
     "nuid": "0c8dc9e3-cf49-4d46-98fd-d06a05f78e19",
     "showTitle": false,
     "title": ""
    }
   },
   "source": [
    "##![Spark Logo Tiny](https://files.training.databricks.com/images/105/logo_spark_tiny.png) Spark API\n",
    "\n",
    "You have already seen one command available to the `DataFrame` class, namely `DataFrame.printSchema()`\n",
    "  \n",
    "Let's take a look at the API to see what other operations we have available."
   ]
  },
  {
   "cell_type": "markdown",
   "metadata": {
    "application/vnd.databricks.v1+cell": {
     "cellMetadata": {
      "byteLimit": 2048000,
      "rowLimit": 10000
     },
     "inputWidgets": {},
     "nuid": "a758c6b0-ea1a-4176-8c1b-edc6db6b9eef",
     "showTitle": false,
     "title": ""
    }
   },
   "source": [
    "### **Spark API Home Page**\n",
    "0. Open a new browser tab\n",
    "0. Google for **Spark API Latest** or **Spark API _x.x.x_** for a specific version.\n",
    "0. Select **Spark API Documentation - Spark _x.x.x_ Documentation - Apache Spark** \n",
    "\n",
    "Other Documentation:\n",
    "* Programming Guides for DataFrames, SQL, Graphs, Machine Learning, Streaming...\n",
    "* Deployment Guides for Spark Standalone, Mesos, Yarn...\n",
    "* Configuration, Monitoring, Tuning, Security...\n",
    "\n",
    "Here are some shortcuts\n",
    "  * <a href=\"https://spark.apache.org/docs/latest/\" target=\"_blank\">Spark API Documentation - Latest</a>\n",
    "  * <a href=\"https://spark.apache.org/docs/2.1.1/api.html\" target=\"_blank\">Spark API Documentation - 2.1.1</a>\n",
    "  * <a href=\"https://spark.apache.org/docs/2.1.0/api.html\" target=\"_blank\">Spark API Documentation - 2.1.0</a>\n",
    "  * <a href=\"https://spark.apache.org/docs/2.0.2/api.html\" target=\"_blank\">Spark API Documentation - 2.0.2</a>\n",
    "  * <a href=\"https://spark.apache.org/docs/1.6.3/api.html\" target=\"_blank\">Spark API Documentation - 1.6.3</a>"
   ]
  },
  {
   "cell_type": "markdown",
   "metadata": {
    "application/vnd.databricks.v1+cell": {
     "cellMetadata": {
      "byteLimit": 2048000,
      "rowLimit": 10000
     },
     "inputWidgets": {},
     "nuid": "d22cfb67-d344-405a-bbcf-6389955c3630",
     "showTitle": false,
     "title": ""
    }
   },
   "source": [
    "Naturally, which set of documentation you will use depends on which language you will use."
   ]
  },
  {
   "cell_type": "markdown",
   "metadata": {
    "application/vnd.databricks.v1+cell": {
     "cellMetadata": {
      "byteLimit": 2048000,
      "rowLimit": 10000
     },
     "inputWidgets": {},
     "nuid": "642810dd-cf86-4287-b709-6ce62d64a942",
     "showTitle": false,
     "title": ""
    }
   },
   "source": [
    "### Spark API (Python)\n",
    "\n",
    "0. Select **Spark Python API (Sphinx)**.\n",
    "0. Look up the documentation for `pyspark.sql.DataFrame`.\n",
    "  0. In the lower-left-hand-corner type **DataFrame** into the search field.\n",
    "  0. Hit **[Enter]**.\n",
    "  0. The search results should appear in the right-hand pane.\n",
    "  0. Click on **pyspark.sql.DataFrame (Python class, in pyspark.sql module)**\n",
    "  0. The documentation should open in the right-hand pane."
   ]
  },
  {
   "cell_type": "markdown",
   "metadata": {
    "application/vnd.databricks.v1+cell": {
     "cellMetadata": {
      "byteLimit": 2048000,
      "rowLimit": 10000
     },
     "inputWidgets": {},
     "nuid": "22b1eaee-de2c-4367-b16a-1dba9c0fad2e",
     "showTitle": false,
     "title": ""
    }
   },
   "source": [
    "### Spark API (Scala)\n",
    "\n",
    "0. Select **Spark Scala API (Scaladoc)**.\n",
    "0. Look up the documentation for `org.apache.spark.sql.DataFrame`.\n",
    "  0. In the upper-left-hand-corner type **DataFrame** into the search field.\n",
    "  0. The search will execute automatically.\n",
    "  0. In the class/package list, click on **DataFrame**.\n",
    "  0. The documentation should open in the right-hand pane.\n",
    "  \n",
    "This isn't going to work, but why?"
   ]
  },
  {
   "cell_type": "markdown",
   "metadata": {
    "application/vnd.databricks.v1+cell": {
     "cellMetadata": {
      "byteLimit": 2048000,
      "rowLimit": 10000
     },
     "inputWidgets": {},
     "nuid": "baa23cb9-5684-40b0-aa61-ddd176797659",
     "showTitle": false,
     "title": ""
    }
   },
   "source": [
    "### Spark API (Scala), Try #2\n",
    "\n",
    "Look up the documentation for `org.apache.spark.sql.Dataset`.\n",
    "  0. In the upper-left-hand-corner type **Dataset** into the search field.\n",
    "  0. The search will execute automatically.\n",
    "  0. In the class/package list, click on **Dataset**.\n",
    "  0. The documentation should open in the right-hand pane."
   ]
  },
  {
   "cell_type": "markdown",
   "metadata": {
    "application/vnd.databricks.v1+cell": {
     "cellMetadata": {
      "byteLimit": 2048000,
      "rowLimit": 10000
     },
     "inputWidgets": {},
     "nuid": "c2892b85-b6cc-491f-bedb-315105e5e25a",
     "showTitle": false,
     "title": ""
    }
   },
   "source": [
    "Now that we have found the proper documentation, we can take a quick peek at the function `printSchema()`.\n",
    "\n",
    "Nothing special here.\n",
    "\n",
    "If you look at the API docs, `printSchema(..)` is described like this:\n",
    "> Prints the schema to the console in a nice tree format."
   ]
  },
  {
   "cell_type": "markdown",
   "metadata": {
    "application/vnd.databricks.v1+cell": {
     "cellMetadata": {
      "byteLimit": 2048000,
      "rowLimit": 10000
     },
     "inputWidgets": {},
     "nuid": "128b726a-07e0-4e11-9a33-c2b48813f05a",
     "showTitle": false,
     "title": ""
    }
   },
   "source": [
    "## Next steps\n",
    "\n",
    "Start the next lesson, [Use the Display function]($./3.Display-function)"
   ]
  }
 ],
 "metadata": {
  "application/vnd.databricks.v1+notebook": {
   "dashboards": [],
   "language": "python",
   "notebookMetadata": {
    "pythonIndentUnit": 4
   },
   "notebookName": "2.Use-common-dataframe-methods",
   "widgets": {}
  }
 },
 "nbformat": 4,
 "nbformat_minor": 0
}
